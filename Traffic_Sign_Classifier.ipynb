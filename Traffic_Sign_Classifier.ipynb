{
 "cells": [
  {
   "cell_type": "markdown",
   "metadata": {},
   "source": [
    "# Self-Driving Car Engineer Nanodegree\n",
    "\n",
    "## Deep Learning\n",
    "\n",
    "## Project: Build a Traffic Sign Recognition Classifier\n",
    "\n",
    "In this notebook, a template is provided for you to implement your functionality in stages, which is required to successfully complete this project. If additional code is required that cannot be included in the notebook, be sure that the Python code is successfully imported and included in your submission if necessary. \n",
    "\n",
    "> **Note**: Once you have completed all of the code implementations, you need to finalize your work by exporting the iPython Notebook as an HTML document. Before exporting the notebook to html, all of the code cells need to have been run so that reviewers can see the final implementation and output. You can then export the notebook by using the menu above and navigating to  \\n\",\n",
    "    \"**File -> Download as -> HTML (.html)**. Include the finished document along with this notebook as your submission. \n",
    "\n",
    "In addition to implementing code, there is a writeup to complete. The writeup should be completed in a separate file, which can be either a markdown file or a pdf document. There is a [write up template](https://github.com/udacity/CarND-Traffic-Sign-Classifier-Project/blob/master/writeup_template.md) that can be used to guide the writing process. Completing the code template and writeup template will cover all of the [rubric points](https://review.udacity.com/#!/rubrics/481/view) for this project.\n",
    "\n",
    "The [rubric](https://review.udacity.com/#!/rubrics/481/view) contains \"Stand Out Suggestions\" for enhancing the project beyond the minimum requirements. The stand out suggestions are optional. If you decide to pursue the \"stand out suggestions\", you can include the code in this Ipython notebook and also discuss the results in the writeup file.\n",
    "\n",
    "\n",
    ">**Note:** Code and Markdown cells can be executed using the **Shift + Enter** keyboard shortcut. In addition, Markdown cells can be edited by typically double-clicking the cell to enter edit mode."
   ]
  },
  {
   "cell_type": "markdown",
   "metadata": {},
   "source": [
    "---\n",
    "## Step 0: Load The Data"
   ]
  },
  {
   "cell_type": "code",
   "execution_count": 1,
   "metadata": {},
   "outputs": [],
   "source": [
    "# Load pickled data\n",
    "import pickle\n",
    "\n",
    "# TODO: Fill this in based on where you saved the training and testing data\n",
    "\n",
    "training_file = 'data/train.p'\n",
    "validation_file= 'data/valid.p'\n",
    "testing_file = 'data/test.p'\n",
    "\n",
    "with open(training_file, mode='rb') as f:\n",
    "    train = pickle.load(f)\n",
    "with open(validation_file, mode='rb') as f:\n",
    "    valid = pickle.load(f)\n",
    "with open(testing_file, mode='rb') as f:\n",
    "    test = pickle.load(f)\n",
    "    \n",
    "X_train, y_train = train['features'], train['labels']\n",
    "X_valid, y_valid = valid['features'], valid['labels']\n",
    "X_test, y_test = test['features'], test['labels']"
   ]
  },
  {
   "cell_type": "markdown",
   "metadata": {},
   "source": [
    "---\n",
    "\n",
    "## Step 1: Dataset Summary & Exploration\n",
    "\n",
    "The pickled data is a dictionary with 4 key/value pairs:\n",
    "\n",
    "- `'features'` is a 4D array containing raw pixel data of the traffic sign images, (num examples, width, height, channels).\n",
    "- `'labels'` is a 1D array containing the label/class id of the traffic sign. The file `signnames.csv` contains id -> name mappings for each id.\n",
    "- `'sizes'` is a list containing tuples, (width, height) representing the original width and height the image.\n",
    "- `'coords'` is a list containing tuples, (x1, y1, x2, y2) representing coordinates of a bounding box around the sign in the image. **THESE COORDINATES ASSUME THE ORIGINAL IMAGE. THE PICKLED DATA CONTAINS RESIZED VERSIONS (32 by 32) OF THESE IMAGES**\n",
    "\n",
    "Complete the basic data summary below. Use python, numpy and/or pandas methods to calculate the data summary rather than hard coding the results. For example, the [pandas shape method](http://pandas.pydata.org/pandas-docs/stable/generated/pandas.DataFrame.shape.html) might be useful for calculating some of the summary results. "
   ]
  },
  {
   "cell_type": "markdown",
   "metadata": {},
   "source": [
    "### Provide a Basic Summary of the Data Set Using Python, Numpy and/or Pandas"
   ]
  },
  {
   "cell_type": "code",
   "execution_count": 2,
   "metadata": {},
   "outputs": [],
   "source": [
    "import numpy as np"
   ]
  },
  {
   "cell_type": "code",
   "execution_count": 3,
   "metadata": {},
   "outputs": [
    {
     "output_type": "stream",
     "name": "stdout",
     "text": [
      "Number of training examples = 34799\nNumber of testing examples = 12630\nImage data shape = (32, 32, 3)\nNumber of classes = 43\n"
     ]
    }
   ],
   "source": [
    "### Replace each question mark with the appropriate value. \n",
    "### Use python, pandas or numpy methods rather than hard coding the results\n",
    "\n",
    "# Number of training examples\n",
    "n_train = len(X_train)\n",
    "\n",
    "# Number of validation examples\n",
    "n_validation = len(X_valid)\n",
    "\n",
    "# Number of testing examples.\n",
    "n_test = len(X_test)\n",
    "\n",
    "# What's the shape of an traffic sign image?\n",
    "image_shape = X_train[0].shape\n",
    "\n",
    "# How many unique classes/labels there are in the dataset.\n",
    "# Using all datasets since they are random (though it may be unnecessary)\n",
    "n_classes = len(np.unique(np.concatenate((y_train, y_valid, y_test), axis=0)))\n",
    "\n",
    "print(\"Number of training examples =\", n_train)\n",
    "print(\"Number of testing examples =\", n_test)\n",
    "print(\"Image data shape =\", image_shape)\n",
    "print(\"Number of classes =\", n_classes)"
   ]
  },
  {
   "cell_type": "markdown",
   "metadata": {},
   "source": [
    "### Include an exploratory visualization of the dataset"
   ]
  },
  {
   "cell_type": "markdown",
   "metadata": {},
   "source": [
    "Visualize the German Traffic Signs Dataset using the pickled file(s). This is open ended, suggestions include: plotting traffic sign images, plotting the count of each sign, etc. \n",
    "\n",
    "The [Matplotlib](http://matplotlib.org/) [examples](http://matplotlib.org/examples/index.html) and [gallery](http://matplotlib.org/gallery.html) pages are a great resource for doing visualizations in Python.\n",
    "\n",
    "**NOTE:** It's recommended you start with something simple first. If you wish to do more, come back to it after you've completed the rest of the sections. It can be interesting to look at the distribution of classes in the training, validation and test set. Is the distribution the same? Are there more examples of some classes than others?"
   ]
  },
  {
   "cell_type": "code",
   "execution_count": 4,
   "metadata": {},
   "outputs": [],
   "source": [
    "import matplotlib.pyplot as plt\n",
    "%matplotlib inline"
   ]
  },
  {
   "cell_type": "code",
   "execution_count": 5,
   "metadata": {},
   "outputs": [
    {
     "output_type": "stream",
     "name": "stdout",
     "text": [
      "19\n"
     ]
    },
    {
     "output_type": "display_data",
     "data": {
      "text/plain": "<Figure size 72x72 with 1 Axes>",
      "image/svg+xml": "<?xml version=\"1.0\" encoding=\"utf-8\" standalone=\"no\"?>\r\n<!DOCTYPE svg PUBLIC \"-//W3C//DTD SVG 1.1//EN\"\r\n  \"http://www.w3.org/Graphics/SVG/1.1/DTD/svg11.dtd\">\r\n<!-- Created with matplotlib (https://matplotlib.org/) -->\r\n<svg height=\"88.387969pt\" version=\"1.1\" viewBox=\"0 0 88.485 88.387969\" width=\"88.485pt\" xmlns=\"http://www.w3.org/2000/svg\" xmlns:xlink=\"http://www.w3.org/1999/xlink\">\r\n <metadata>\r\n  <rdf:RDF xmlns:cc=\"http://creativecommons.org/ns#\" xmlns:dc=\"http://purl.org/dc/elements/1.1/\" xmlns:rdf=\"http://www.w3.org/1999/02/22-rdf-syntax-ns#\">\r\n   <cc:Work>\r\n    <dc:type rdf:resource=\"http://purl.org/dc/dcmitype/StillImage\"/>\r\n    <dc:date>2020-12-29T17:47:06.033421</dc:date>\r\n    <dc:format>image/svg+xml</dc:format>\r\n    <dc:creator>\r\n     <cc:Agent>\r\n      <dc:title>Matplotlib v3.3.2, https://matplotlib.org/</dc:title>\r\n     </cc:Agent>\r\n    </dc:creator>\r\n   </cc:Work>\r\n  </rdf:RDF>\r\n </metadata>\r\n <defs>\r\n  <style type=\"text/css\">*{stroke-linecap:butt;stroke-linejoin:round;}</style>\r\n </defs>\r\n <g id=\"figure_1\">\r\n  <g id=\"patch_1\">\r\n   <path d=\"M 0 88.387969 \r\nL 88.485 88.387969 \r\nL 88.485 0 \r\nL 0 0 \r\nz\r\n\" style=\"fill:none;\"/>\r\n  </g>\r\n  <g id=\"axes_1\">\r\n   <g id=\"patch_2\">\r\n    <path d=\"M 26.925 64.509844 \r\nL 81.285 64.509844 \r\nL 81.285 10.149844 \r\nL 26.925 10.149844 \r\nz\r\n\" style=\"fill:#ffffff;\"/>\r\n   </g>\r\n   <g clip-path=\"url(#p8ba204606f)\">\r\n    <image height=\"55\" id=\"imaged25b9be4a8\" transform=\"scale(1 -1)translate(0 -55)\" width=\"55\" x=\"26.925\" xlink:href=\"data:image/png;base64,\r\niVBORw0KGgoAAAANSUhEUgAAADcAAAA3CAYAAACo29JGAAAWFklEQVR4nF2aWZckSW6dP8DMPSK3qppeZjiaGS4aUdIP0Iv0rlf9dOlZIg9JcTTsrq6uyi0i3G0BoAezyGoyz/FTnZ4d4W5mwMW9F5D/8d//W0gEGkE3sABNCVFBAANqBHttmDkAqEJOrOvKYV35z9/9ivfh3P/zPyCXHTnt3Hz4wOHdO/7qv/xX7r79Fe9++x1mnW6N/fmZtl04f/pIPV/Ynl7Y9kZtnafWuXjwU8BzLTyWnVMzLIJ1WQh3rHXcHQgQUBVSygBEAKIgSs5ZwQNvDQ/BA1QAgfkPSZScFAHCx80gIBy3TulGUeHd/QNCIqoR7vi+s336iag72I5H4OHU0yu9FOrLmVYKvRnmgSF0Ubo6boFF0N2J8TQiYl7MKxCFCGEcxXxhESDId7cHWu1cSsFc6CGksXCYC1NRFMHVcTc8AsOJXuhWedpvieOR3/7+r5DnZ3qAnS7U88bH//U/yevK4eEOWTK6ZLw1wp3WOiaCaWIXpYqwp0QJoUZnD2frnR5CILgZEeBAD8fdyaJIXANKEVHAISCX2rFuuCgWRrMg+4KoklPCI+jhqIAkGTvmTm9tnATw+csXtsOBOxXerwvf/fXv0S+v6KVAqZgI+16Q3pGWxumKYmmlC1QVNhF2EU7W2cI4t0KxhoUDGREhYGysjzD1mU7EOOWIIEm8HV6urc9QS1gY3TruQYSQNWPRsR6oCqCYgRC4Gd2cbs5TbWyHldu7O/TDPb/9/jskH5HXjfj8Be+d3jvijpijSwJVYkl0gSLBLsImcPFgC+fSG9WNIBCRGUpB4Hg4Fo4DGiP1zAMkkAjSjNAc80izJo5pIYVizVCUm4db8prIaxo5EVC7080opVJbpbYOASrKXoNPp4qmM9/c3HF7/467X3+PmMNeR+4ESMoggicdrxuOeyesE6+vhCaSwc1yZDk67goIWYLaKic/YYwIup5mNxv5mAJRRVUYEDN/VIQkis/dEFWWlLlZF9xHErcM5k5L61hcb4SDIKSUSCitO/2gWF7wVVF3NGXCRwiFKIgQM/ElDDVQYMkLHnCzOJ7Gws0GAKxJKTkT4WgtlN5GAk5w8fniSWLknCi4Oa077iOHlISgeAQ5ggeHY1pYNJE0T7gccW4xPheA+AghFdDS8dq5JCWJcCOKw8wV+wps7izuHNzQCA7rDZGPtHwzFkYAiqhyvL2lEZy88+OXH3l8eeT5dac3w3vgMtFGBA0h6zVRfYCJdQcNJCViYD5ijuxncCdi3BtFBZSYv4+bMkoPIUFI0ACbOWAxQihiZI/M/7bwN4AYcBgkMwZGBiIJTYkUAUm5ycpDXvCbW2rplIDaOxFX0BnvkEeyCj6huXZD01gcmpAQtBn+9IjtG1baXIe+hXMw4Um+3nCuNckggn0CwIic8TeuCS9yja65T+Nvo8aCakJTRvZGPq7c3h35kFfy3QPbXtCAtvevn58/2S1w81lgA3PHooM2znvh/vaG5fae9PrCKJUJXVaW+w9zQTLC4e2LA/F4A49wm/lgA+3Gsf0iRyDk6wt5OOGGlx2rhV4KaB5AsTYsgurGFsYWTquOOWPxEzM0KSJCdveR6BNoAcwNtU6plX5zg+QFSRkVBQlSXjncvx/3cyLkCtLjxSXGd35lFD4LsBMTmYLAJ5u7AguMzXDrmL5QI+i1zlB1cMd7pxE0nBaOmeMOogmdm62iiArZ6jg1EFLOLKLQDQ/j6fTMzbrwxT/w7e0Da8q0T59JN7d8+Kv/wMPv/sD9r/8CXQb6tfCxGPe5kCBsLs6NXss4Das4gUpCUiLnZeQ3EL1jZWP/9GdOnz5y+vgD++mEmWHrgqnSUqJ7xyywyV7WJSEiowyIjCLuPtHOr7RMRsEWofdOaZVzKbxLicN6hCQEgVkjrSuH9x9Y72+RpLSZK9cwHIv7GpZtv9D2jdfzE24N15V1PbDe3qOaB3XqBdvO0M+0slHOr3TrRK30lAjVccXXHB8ILYiM+naN8mzdRgmYBFUE1kMmAmprnLcLPz0/8v7DrzgeD5AT3QovP/0L7/7yb8jHW+5+++9Ix+OE7QkoMwyxBjG+fzu9sJ2e+fH/fuZUNyKEh+WOm2++5Xhzx7quaDnTLq94e6G3nVo2mnd833AbyBtJCDoekHScnM5DUdGxsRHkYEA2jHAyAkXHBwDrnW27cH54xyEvPNzeIhaUpy9cfv6J108fufn1t6TDiqSJoBFIDLYOOkJ1vpQrlL1wennl6fyFh9MFTwe+/xbuRchlp28X6ulE2y5Y2em908xpKF2gM4DPzVBVEiCi18Ce0ePkmLks8JYvJpNxSMLd2PeNS+/cHOD9zS2yFerzE5cvP3P69JFvyh9Z/A5Z0tykqZs8hvaL8YBQIQRKqZxPZ3748WdOeyXdPHA83rIuB6Ls9P1CPZ9o20avhdYazYyeE8Yg8t0NM59ppHytQ1+BMQOkJByWldUNd6d0H4VQFY0grPN6PiERfHNzw4LA8yPbl488/sP/5rs//pGUE8fvvxu0aj5KRfD5UEGmqFREE4jSe1CqcdoqZS+0fcdfHmnPj+wvL5TTibZvVDdqBI2guLN5ZauNrTZsLkjla64hg0Hp9ZekQk6JJSfSpFDXuhRmlFrY6k7ThKWEJB2o9vSZenqhnS+TO46FXGsgfBW914fL/G0wo8DMsd7xXun7Rt83rBSsVax3zINO0MJpbrTe6WazDIz6/G8LeAB5COqgiZMWJeeF5Eb0oNSKiOKivJ5eaL3y+PCBB8386t07WjnTfrjw+E//iIdw+5u/QNcMKtd1DRLLKA3iTpjNUErjkuEExH7BTo4/f6E9P1JfXymXC1utbOHsAc9lp1jnUndKm5JrHo6mAS5Z5a2WZp+V1N0xBHGhu2N+lfNBiI+kbpVLb6ya4OaWsBNRd7anzyz3D7RtI8cBPWTMGm6GWx11z5z9cmG7bLQ2/BjVCV3WsLLRkuPbKBetFVrvVHN6QAe6G92MZoPKxTUU5WueTQI00NJsALi5420WOwRi8r3BoaA3UHitheV4Qzy8g7ITp8rpx/8HKuzPz6x+x6I31HKmt0KvdWxcd16fn3h9eWLbCq3ZPDmgF/p2otiGv77QzifqvrHXymZGU6UDzYxqRrUYrCbpzKv4VyE5AZN85ZO1fSWegYxqn9IgrrMshAeX7cxBhcvDO9b1QD7esD9/RlR5+vM/s354x/rhgcfHT5wvr7w8PtJaG+J23yn7zufnZ0ptpJxGKHmH7YwXxsIuF2qtNHdMhBpO8ZFvTqBpUj4RJHwqccf6ENQyCXmOWWDNfaoNeZP2OaUBNjLdpQhqK5S2sk+6th5W+nZmT5nzl5/p0TENnr78zPPzFz7++COl7Gzbjk8QKN1xBD3ekVTQMKI2HMP2nV52mtmQQip0swn/gypelQyzZF1VhNugfFeWkrnyMdVBQGMkqKigaZwgOhywJEqvO+eU+Hh64TeaOL7/gH/8SD898/KPf8/t9jv0eM/T5yd++vwT/+fv/o7T6cLz62mQ77zw7lffcnNzy/c3t9zlxK2C1p1WN/bTC2Xf2HqnCkRWzJzmjb0PUwrRqfRg0YlcPorOVFQgU89d+WQEiFxdwilK5Su0OmN3eu9s+045HujLcMoIp748sr57D904Hm64u3/P4eaeYpCboWlB88rx9p6b21vubo7cCqw4Yp1old4arRstgs4QuH0aQiPavhbrX8jHr/cmz3xbXFLFVQd7j8EwwgP3kW0mQ2cpQnJHauXp5Ym79A23N7e8Px5JrbH9+CeOt/cs3fnr3/8tv1sSsd7zfHrly8sLIgnRxMP9Pcd14dsVllZYzq8DfC4XaimU2thDKOHsbuy90XonpTSlFRMFpoUSIDLYkUiQU7qG5VVY69Ri1498Lb3Tb8EkMA/EDG2FSy281sL94cCiip832umJ7dMPvHt3z+39O/72P/4ntrLz9Po6bIAQ1qRkjMP2THij90pvFW+VbtNyEKGac/HG1oxqI09FlWXJpKnfhh51vMmQWeFv55qvQeiDLyGT7F7DUhhMu0+t5tPilla51MJzKfx6XSEl4vGR9vrE+dO/8M3f/Hve3d/z8Otf0dw4Xc70HpgFlAtRduqPhbKfOLVC1IrVirnRI3CBFs7WGtskzpoSiyp5XTjkhaxK70aYYchU/Ub3wANybcP4NA9UhCUrx7QMIAmZdp+gMT4gNuqeA+d9w0V4/f57JGeOx5VeN17+9I+c/vJvWO8feLj7A+vxwCHnQZfM2B83Wqm0ywtxfsXPJ6zsWGuYKJ4AGULXsaFaNJAUiA60XNeV47piteK9U2baKInw4dtk86vkHzsjIiz5euTjDHXWvrcknoK0985eKwWhpsTNuuJu1Nfneb1MBziR1hXvHRPoGOaNqDtedrxVvLehtgGfvozLdJF1RJCoTGo3cCKnhOaEE3QVFCVJTF7s5EFeGTa5DLGqEiQduTG4p0PoBJtR8xTBrVPLxnM3JC98eP8NcT5THj/x/Kd/QjTz7vd/4PAe8k3Gw/C2018fqU+f2Z4eKa8v1MuFvRS23tgD9nAuXukRSE4kht0noiRVUhoyR0VZ14WusF2uplSw5kTWTFZJiA4eqTqMFZl1Dpk+pOhk/ILN8iBTp0kMxbCnhB8OSG0gQjk9c/n8E/X0Sloz+fhAWMdroW8bfbvQy06vZfBWDyp8RcjWaGG8teFiKIhIoJK+nlz4SB0dCrybUwi6C3lJeXi6mlBlFO65SOAtJMIHE+geb3JGCcSd8+WEErT3vyO3jiyZy5dP9N45//wRzcrhwwNWK307jZB9fqKdTtTLRimV3Z0dOIdxsc7rVnAZCD0MTzALXAfs57SwpIXwjqaRSqUapXdqH0mU7w5HLJxmbSTuICSoQsqjsJvFUNEhI6GvTGA2X7ZyQSR4qoU7Ee7v77FaqM+fef3hz6gK999/g28X7HyinU6083nQrFYpZpgKIZlulR4D+mWGX8RwpyWCMKeWRjt0LPdRjy1GCZnarraGuZPXnEcPTEZryK+eg4JmwW04Y8OOkGsn6W1xiNBaoahy7o0swrubI23b8FLYvvzM4fYW3/dh8uzbG3+0Vum9D+hXIVSwySF7BClGbv+iOBHh9G5YHzyVGOXFriZXBLUPWZSdjggcl0R36Ff2bcpNyoRC0mCvo5OZJheVpKTRZsOa02vl8fRCOt7w4d07OJ+Q3nj+p7/Hy8bDd9/g9TLC8vRKvWzU3ug4tiwUb2zRKVbp3mavZah0ncU7ub0Zrx2nhiGt01unlEJpldLaSB0g2/zA9UoibxTMLL4aAvPe3L/ZoBic1ObfSi2UdaGnRF6GG13PL5SnI5dPPyHRCa+jbWx9oNvUZR7MZqbNXpsT0zl7Y///1q9gul5vACijR8HwpnLplSTCcclkgSUJvQ9kupwbSce96E44tBjkdFFIpNkvB7xzOj1zWDKvqry/f2DVRPn8Ed9e+DELx/t7Dnd39O2M90qowJJgyfTTTu2N81aGtgxmDyJI09EeyDfYpaqQNXFYFZsOdFwuFOuYdQzI1YxFFYsYhXKKU4ugNRsFVaHWkbB23SWmKJyNFAB6p/TGuVfu13WUlscveKucf/oB2z8MxCxlaK+URp5HvFl2wyAeqCwSqI8oUZXxvJge6zSVuo48TCqs68Kt3+BstG7kZk4gLD7y55cnX7uPuZSA1sc4hc9SERFgyhiwGKfpvVFa5bUWvru9R29u0JyJsnP++MN0tBosOp3jRDiY9zcv0gPMR4hKgMpohw5bEDRGF8nNsN5paaSNJuWwDNrYraMCGR9GaXdHQifkT8vNr+JCpw8/cu7KUMJjnjiICocUeBT2/ZF6e0Nfb1g/vMfPmfr4gtVGuVyw44IlpSRlj07pheqNHkZKQkqCNRvoPBuKqoLGyE2Rr82W3ofXuu/70JvhLElR8mj4XxfjGrjLW08weKufI2mv/16v2Rl966oqEEbvOy2MJnA4HpFuiJ6GqjCjmb6NaFRzamvDh4yRS1eb4Kqqrz36N8dz2pHujmCY2WgdyxVOBtvKEY7ZoD6ahTFlJG8n5O4UN7LohOEgJWE9ZNTnWFWfDJsgvONt52V7RRBu3n8gr0eWUtH1gKwHmsLuxpfzxrnsPJ9fONdCsU5KmcNBCRF6H716JiKmfGBJmeOScetcdmPBZyGfhq3bkLMR5DS7kDDcpBiUeMgHEVx09LeZ/ezZNDSzyemEyNeRizEy0Wrjsm8kWSjv7uBwIN3fEyJzYgh6CMU6e6uc98reG9Vs8lhICP6LdtrVOpA3iiiIBK32mUIjPK9uXkSQD8f1jWKho/+lk6im0KuFSZ+dzetlbuSblbysjIGkoFmfTUcDeWFvznfvf0McV959/2vqfqGWnSZC8+DSC69l5/F8oU7bPM/mYZZRZtKcmBkHYCAJycqSBrI/1TNmo2PgjHAtfbhl+ZCXUZQTpDWRckJdxzEXQ2IU9kg6m4jy1qgvzTArrIeMzCYHAa055/NGrc6fb3/k/fGWfPdAS5kqwxspbtQ2PH8QIq4ejkzt6Nepi/njlD7HooDDklmS4j4Kf+s2Cf3kokAeO8WA2TWhS0ItsC5oHcAR8wRhkujZrO/daHRkEbIqWXVM2xmYFWo1Pj0/0s345v49XYQG1NnQ6DZO6/rlk/eM5wzXZz5/hJmFzcGEa37nUXvdqbVNWpi4okYutZFEOCRhlcS6KHJUujmp7JOt+Iz9oYo1Rtg0h+7C6byjCne3B1QSkIbeE3h8fORyulDOG8ecOKREiA3CbOOlVZWUlBAn5zyQLuu/6q8PuaWzMGX2vbHHTusd86Ei8Hgb9AHIzPaPXcc0zMnLGPMbSetXQ3eWArgaazpbXc2utoON6aHZvhUB60aNysv5RFsX2rKQdNSjay7JbNAP7LjaCGnyy9GqCIY7cDWsBoAMEPMZv+NAv3LRnHR4gbt3yrajrfJBb8eLJwFjhoXOkQodWm+i6+B8CxHO+dRQ7ah2DjdH8rpw1AwBr+dXTpfx8jeHhZwTy5pZwkk6GqDXro0iYxrvSttlXIuMhWXNeCjmmX4+D1TNGWYRv3Za83VodFS+sUN7qSOlZ3z77PSIC3kZuXVMOue+EruMXcwpvRV1MyMqrMsk16KTR/pEXiFPSM9Lpoe/hdSV/l3JxBXiRYSQGPajXOfMvhIKGHYD8tYr+IWk0PHhy7aPkIk0vni0UVCFRY+sOXGz5rfGusQEBhHMnW6d2jutdY6akZRJmoeFGEOI4k6IInkQgmoGHm+i9EpPBhr6L8JYcYK0pNnLUFTmNJKO+Wy/dnnGyQzSuuY8drEbYYG1wG2qBKZZI5CScndYZyvCwYJmTjFYlpV8c0NpnWZGKY0qnZwzkmYex2T8y2g/qwjNxviU2MhV1SH3E0KfQwQdH7xSwG2cYMQbN0M1kfNQGoxRDd7GmMb/MI7aGF9w7TJEMEc6BpDkNHZMGBZgRFAdclIOyzogXZRa6lujIkuavHECvs7xRRIpK6kr+JX4DZvxqlGJMX4ljA4wAeqj3TbS8+raKTrH9v4/M6HRnKDyDKEAAAAASUVORK5CYII=\" y=\"-9.509844\"/>\r\n   </g>\r\n   <g id=\"matplotlib.axis_1\">\r\n    <g id=\"xtick_1\">\r\n     <g id=\"line2d_1\">\r\n      <defs>\r\n       <path d=\"M 0 0 \r\nL 0 3.5 \r\n\" id=\"m5f7b8882f3\" style=\"stroke:#000000;stroke-width:0.8;\"/>\r\n      </defs>\r\n      <g>\r\n       <use style=\"stroke:#000000;stroke-width:0.8;\" x=\"27.774375\" xlink:href=\"#m5f7b8882f3\" y=\"64.509844\"/>\r\n      </g>\r\n     </g>\r\n     <g id=\"text_1\">\r\n      <!-- 0 -->\r\n      <g transform=\"translate(24.593125 79.108281)scale(0.1 -0.1)\">\r\n       <defs>\r\n        <path d=\"M 31.78125 66.40625 \r\nQ 24.171875 66.40625 20.328125 58.90625 \r\nQ 16.5 51.421875 16.5 36.375 \r\nQ 16.5 21.390625 20.328125 13.890625 \r\nQ 24.171875 6.390625 31.78125 6.390625 \r\nQ 39.453125 6.390625 43.28125 13.890625 \r\nQ 47.125 21.390625 47.125 36.375 \r\nQ 47.125 51.421875 43.28125 58.90625 \r\nQ 39.453125 66.40625 31.78125 66.40625 \r\nz\r\nM 31.78125 74.21875 \r\nQ 44.046875 74.21875 50.515625 64.515625 \r\nQ 56.984375 54.828125 56.984375 36.375 \r\nQ 56.984375 17.96875 50.515625 8.265625 \r\nQ 44.046875 -1.421875 31.78125 -1.421875 \r\nQ 19.53125 -1.421875 13.0625 8.265625 \r\nQ 6.59375 17.96875 6.59375 36.375 \r\nQ 6.59375 54.828125 13.0625 64.515625 \r\nQ 19.53125 74.21875 31.78125 74.21875 \r\nz\r\n\" id=\"DejaVuSans-48\"/>\r\n       </defs>\r\n       <use xlink:href=\"#DejaVuSans-48\"/>\r\n      </g>\r\n     </g>\r\n    </g>\r\n    <g id=\"xtick_2\">\r\n     <g id=\"line2d_2\">\r\n      <g>\r\n       <use style=\"stroke:#000000;stroke-width:0.8;\" x=\"70.243125\" xlink:href=\"#m5f7b8882f3\" y=\"64.509844\"/>\r\n      </g>\r\n     </g>\r\n     <g id=\"text_2\">\r\n      <!-- 25 -->\r\n      <g transform=\"translate(63.880625 79.108281)scale(0.1 -0.1)\">\r\n       <defs>\r\n        <path d=\"M 19.1875 8.296875 \r\nL 53.609375 8.296875 \r\nL 53.609375 0 \r\nL 7.328125 0 \r\nL 7.328125 8.296875 \r\nQ 12.9375 14.109375 22.625 23.890625 \r\nQ 32.328125 33.6875 34.8125 36.53125 \r\nQ 39.546875 41.84375 41.421875 45.53125 \r\nQ 43.3125 49.21875 43.3125 52.78125 \r\nQ 43.3125 58.59375 39.234375 62.25 \r\nQ 35.15625 65.921875 28.609375 65.921875 \r\nQ 23.96875 65.921875 18.8125 64.3125 \r\nQ 13.671875 62.703125 7.8125 59.421875 \r\nL 7.8125 69.390625 \r\nQ 13.765625 71.78125 18.9375 73 \r\nQ 24.125 74.21875 28.421875 74.21875 \r\nQ 39.75 74.21875 46.484375 68.546875 \r\nQ 53.21875 62.890625 53.21875 53.421875 \r\nQ 53.21875 48.921875 51.53125 44.890625 \r\nQ 49.859375 40.875 45.40625 35.40625 \r\nQ 44.1875 33.984375 37.640625 27.21875 \r\nQ 31.109375 20.453125 19.1875 8.296875 \r\nz\r\n\" id=\"DejaVuSans-50\"/>\r\n        <path d=\"M 10.796875 72.90625 \r\nL 49.515625 72.90625 \r\nL 49.515625 64.59375 \r\nL 19.828125 64.59375 \r\nL 19.828125 46.734375 \r\nQ 21.96875 47.46875 24.109375 47.828125 \r\nQ 26.265625 48.1875 28.421875 48.1875 \r\nQ 40.625 48.1875 47.75 41.5 \r\nQ 54.890625 34.8125 54.890625 23.390625 \r\nQ 54.890625 11.625 47.5625 5.09375 \r\nQ 40.234375 -1.421875 26.90625 -1.421875 \r\nQ 22.3125 -1.421875 17.546875 -0.640625 \r\nQ 12.796875 0.140625 7.71875 1.703125 \r\nL 7.71875 11.625 \r\nQ 12.109375 9.234375 16.796875 8.0625 \r\nQ 21.484375 6.890625 26.703125 6.890625 \r\nQ 35.15625 6.890625 40.078125 11.328125 \r\nQ 45.015625 15.765625 45.015625 23.390625 \r\nQ 45.015625 31 40.078125 35.4375 \r\nQ 35.15625 39.890625 26.703125 39.890625 \r\nQ 22.75 39.890625 18.8125 39.015625 \r\nQ 14.890625 38.140625 10.796875 36.28125 \r\nz\r\n\" id=\"DejaVuSans-53\"/>\r\n       </defs>\r\n       <use xlink:href=\"#DejaVuSans-50\"/>\r\n       <use x=\"63.623047\" xlink:href=\"#DejaVuSans-53\"/>\r\n      </g>\r\n     </g>\r\n    </g>\r\n   </g>\r\n   <g id=\"matplotlib.axis_2\">\r\n    <g id=\"ytick_1\">\r\n     <g id=\"line2d_3\">\r\n      <defs>\r\n       <path d=\"M 0 0 \r\nL -3.5 0 \r\n\" id=\"m3ca56dc16b\" style=\"stroke:#000000;stroke-width:0.8;\"/>\r\n      </defs>\r\n      <g>\r\n       <use style=\"stroke:#000000;stroke-width:0.8;\" x=\"26.925\" xlink:href=\"#m3ca56dc16b\" y=\"10.999219\"/>\r\n      </g>\r\n     </g>\r\n     <g id=\"text_3\">\r\n      <!-- 0 -->\r\n      <g transform=\"translate(13.5625 14.798437)scale(0.1 -0.1)\">\r\n       <use xlink:href=\"#DejaVuSans-48\"/>\r\n      </g>\r\n     </g>\r\n    </g>\r\n    <g id=\"ytick_2\">\r\n     <g id=\"line2d_4\">\r\n      <g>\r\n       <use style=\"stroke:#000000;stroke-width:0.8;\" x=\"26.925\" xlink:href=\"#m3ca56dc16b\" y=\"44.974219\"/>\r\n      </g>\r\n     </g>\r\n     <g id=\"text_4\">\r\n      <!-- 20 -->\r\n      <g transform=\"translate(7.2 48.773438)scale(0.1 -0.1)\">\r\n       <use xlink:href=\"#DejaVuSans-50\"/>\r\n       <use x=\"63.623047\" xlink:href=\"#DejaVuSans-48\"/>\r\n      </g>\r\n     </g>\r\n    </g>\r\n   </g>\r\n   <g id=\"patch_3\">\r\n    <path d=\"M 26.925 64.509844 \r\nL 26.925 10.149844 \r\n\" style=\"fill:none;stroke:#000000;stroke-linecap:square;stroke-linejoin:miter;stroke-width:0.8;\"/>\r\n   </g>\r\n   <g id=\"patch_4\">\r\n    <path d=\"M 81.285 64.509844 \r\nL 81.285 10.149844 \r\n\" style=\"fill:none;stroke:#000000;stroke-linecap:square;stroke-linejoin:miter;stroke-width:0.8;\"/>\r\n   </g>\r\n   <g id=\"patch_5\">\r\n    <path d=\"M 26.925 64.509844 \r\nL 81.285 64.509844 \r\n\" style=\"fill:none;stroke:#000000;stroke-linecap:square;stroke-linejoin:miter;stroke-width:0.8;\"/>\r\n   </g>\r\n   <g id=\"patch_6\">\r\n    <path d=\"M 26.925 10.149844 \r\nL 81.285 10.149844 \r\n\" style=\"fill:none;stroke:#000000;stroke-linecap:square;stroke-linejoin:miter;stroke-width:0.8;\"/>\r\n   </g>\r\n  </g>\r\n </g>\r\n <defs>\r\n  <clipPath id=\"p8ba204606f\">\r\n   <rect height=\"54.36\" width=\"54.36\" x=\"26.925\" y=\"10.149844\"/>\r\n  </clipPath>\r\n </defs>\r\n</svg>\r\n",
      "image/png": "[encoded data removed]"
     },
     "metadata": {
      "needs_background": "light"
     }
    }
   ],
   "source": [
    "### Data exploration visualization code goes here.\n",
    "### Feel free to use as many code cells as needed.\n",
    "# TODO: Check traffic sign distribution\n",
    "index = np.random.randint(0, len(X_train))\n",
    "image = X_train[index].squeeze()\n",
    "\n",
    "plt.figure(figsize=(1,1))\n",
    "plt.imshow(image, cmap=\"gray\")\n",
    "print(y_train[index])"
   ]
  },
  {
   "source": [
    "#### Training Set Distribution"
   ],
   "cell_type": "markdown",
   "metadata": {}
  },
  {
   "cell_type": "code",
   "execution_count": 77,
   "metadata": {},
   "outputs": [
    {
     "output_type": "display_data",
     "data": {
      "text/plain": "<Figure size 432x288 with 1 Axes>",
      "image/svg+xml": "<?xml version=\"1.0\" encoding=\"utf-8\" standalone=\"no\"?>\r\n<!DOCTYPE svg PUBLIC \"-//W3C//DTD SVG 1.1//EN\"\r\n  \"http://www.w3.org/Graphics/SVG/1.1/DTD/svg11.dtd\">\r\n<!-- Created with matplotlib (https://matplotlib.org/) -->\r\n<svg height=\"263.63625pt\" version=\"1.1\" viewBox=\"0 0 381.65 263.63625\" width=\"381.65pt\" xmlns=\"http://www.w3.org/2000/svg\" xmlns:xlink=\"http://www.w3.org/1999/xlink\">\r\n <metadata>\r\n  <rdf:RDF xmlns:cc=\"http://creativecommons.org/ns#\" xmlns:dc=\"http://purl.org/dc/elements/1.1/\" xmlns:rdf=\"http://www.w3.org/1999/02/22-rdf-syntax-ns#\">\r\n   <cc:Work>\r\n    <dc:type rdf:resource=\"http://purl.org/dc/dcmitype/StillImage\"/>\r\n    <dc:date>2020-12-29T18:12:59.579883</dc:date>\r\n    <dc:format>image/svg+xml</dc:format>\r\n    <dc:creator>\r\n     <cc:Agent>\r\n      <dc:title>Matplotlib v3.3.2, https://matplotlib.org/</dc:title>\r\n     </cc:Agent>\r\n    </dc:creator>\r\n   </cc:Work>\r\n  </rdf:RDF>\r\n </metadata>\r\n <defs>\r\n  <style type=\"text/css\">*{stroke-linecap:butt;stroke-linejoin:round;}</style>\r\n </defs>\r\n <g id=\"figure_1\">\r\n  <g id=\"patch_1\">\r\n   <path d=\"M -0 263.63625 \r\nL 381.65 263.63625 \r\nL 381.65 0 \r\nL -0 0 \r\nz\r\n\" style=\"fill:none;\"/>\r\n  </g>\r\n  <g id=\"axes_1\">\r\n   <g id=\"patch_2\">\r\n    <path d=\"M 39.65 239.758125 \r\nL 374.45 239.758125 \r\nL 374.45 22.318125 \r\nL 39.65 22.318125 \r\nz\r\n\" style=\"fill:#ffffff;\"/>\r\n   </g>\r\n   <g id=\"patch_3\">\r\n    <path clip-path=\"url(#pacea594e51)\" d=\"M 54.868182 239.758125 \r\nL 62.114935 239.758125 \r\nL 62.114935 221.213136 \r\nL 54.868182 221.213136 \r\nz\r\n\" style=\"fill:#1f77b4;\"/>\r\n   </g>\r\n   <g id=\"patch_4\">\r\n    <path clip-path=\"url(#pacea594e51)\" d=\"M 62.114935 239.758125 \r\nL 69.361688 239.758125 \r\nL 69.361688 35.763242 \r\nL 62.114935 35.763242 \r\nz\r\n\" style=\"fill:#1f77b4;\"/>\r\n   </g>\r\n   <g id=\"patch_5\">\r\n    <path clip-path=\"url(#pacea594e51)\" d=\"M 69.361688 239.758125 \r\nL 76.608442 239.758125 \r\nL 76.608442 32.672411 \r\nL 69.361688 32.672411 \r\nz\r\n\" style=\"fill:#1f77b4;\"/>\r\n   </g>\r\n   <g id=\"patch_6\">\r\n    <path clip-path=\"url(#pacea594e51)\" d=\"M 76.608442 239.758125 \r\nL 83.855195 239.758125 \r\nL 83.855195 109.9432 \r\nL 76.608442 109.9432 \r\nz\r\n\" style=\"fill:#1f77b4;\"/>\r\n   </g>\r\n   <g id=\"patch_7\">\r\n    <path clip-path=\"url(#pacea594e51)\" d=\"M 83.855195 239.758125 \r\nL 91.101948 239.758125 \r\nL 91.101948 57.399063 \r\nL 83.855195 57.399063 \r\nz\r\n\" style=\"fill:#1f77b4;\"/>\r\n   </g>\r\n   <g id=\"patch_8\">\r\n    <path clip-path=\"url(#pacea594e51)\" d=\"M 91.101948 239.758125 \r\nL 98.348701 239.758125 \r\nL 98.348701 69.762389 \r\nL 91.101948 69.762389 \r\nz\r\n\" style=\"fill:#1f77b4;\"/>\r\n   </g>\r\n   <g id=\"patch_9\">\r\n    <path clip-path=\"url(#pacea594e51)\" d=\"M 98.348701 239.758125 \r\nL 105.595455 239.758125 \r\nL 105.595455 202.668146 \r\nL 98.348701 202.668146 \r\nz\r\n\" style=\"fill:#1f77b4;\"/>\r\n   </g>\r\n   <g id=\"patch_10\">\r\n    <path clip-path=\"url(#pacea594e51)\" d=\"M 105.595455 239.758125 \r\nL 112.842208 239.758125 \r\nL 112.842208 106.852368 \r\nL 105.595455 106.852368 \r\nz\r\n\" style=\"fill:#1f77b4;\"/>\r\n   </g>\r\n   <g id=\"patch_11\">\r\n    <path clip-path=\"url(#pacea594e51)\" d=\"M 112.842208 239.758125 \r\nL 120.088961 239.758125 \r\nL 120.088961 109.9432 \r\nL 112.842208 109.9432 \r\nz\r\n\" style=\"fill:#1f77b4;\"/>\r\n   </g>\r\n   <g id=\"patch_12\">\r\n    <path clip-path=\"url(#pacea594e51)\" d=\"M 120.088961 239.758125 \r\nL 127.335714 239.758125 \r\nL 127.335714 103.761537 \r\nL 120.088961 103.761537 \r\nz\r\n\" style=\"fill:#1f77b4;\"/>\r\n   </g>\r\n   <g id=\"patch_13\">\r\n    <path clip-path=\"url(#pacea594e51)\" d=\"M 127.335714 239.758125 \r\nL 134.582468 239.758125 \r\nL 134.582468 54.308232 \r\nL 127.335714 54.308232 \r\nz\r\n\" style=\"fill:#1f77b4;\"/>\r\n   </g>\r\n   <g id=\"patch_14\">\r\n    <path clip-path=\"url(#pacea594e51)\" d=\"M 134.582468 239.758125 \r\nL 141.829221 239.758125 \r\nL 141.829221 119.215694 \r\nL 134.582468 119.215694 \r\nz\r\n\" style=\"fill:#1f77b4;\"/>\r\n   </g>\r\n   <g id=\"patch_15\">\r\n    <path clip-path=\"url(#pacea594e51)\" d=\"M 141.829221 239.758125 \r\nL 149.075974 239.758125 \r\nL 149.075974 45.035737 \r\nL 141.829221 45.035737 \r\nz\r\n\" style=\"fill:#1f77b4;\"/>\r\n   </g>\r\n   <g id=\"patch_16\">\r\n    <path clip-path=\"url(#pacea594e51)\" d=\"M 149.075974 239.758125 \r\nL 156.322727 239.758125 \r\nL 156.322727 41.944905 \r\nL 149.075974 41.944905 \r\nz\r\n\" style=\"fill:#1f77b4;\"/>\r\n   </g>\r\n   <g id=\"patch_17\">\r\n    <path clip-path=\"url(#pacea594e51)\" d=\"M 156.322727 239.758125 \r\nL 163.569481 239.758125 \r\nL 163.569481 168.668999 \r\nL 156.322727 168.668999 \r\nz\r\n\" style=\"fill:#1f77b4;\"/>\r\n   </g>\r\n   <g id=\"patch_18\">\r\n    <path clip-path=\"url(#pacea594e51)\" d=\"M 163.569481 239.758125 \r\nL 170.816234 239.758125 \r\nL 170.816234 184.123157 \r\nL 163.569481 184.123157 \r\nz\r\n\" style=\"fill:#1f77b4;\"/>\r\n   </g>\r\n   <g id=\"patch_19\">\r\n    <path clip-path=\"url(#pacea594e51)\" d=\"M 170.816234 239.758125 \r\nL 178.062987 239.758125 \r\nL 178.062987 202.668146 \r\nL 170.816234 202.668146 \r\nz\r\n\" style=\"fill:#1f77b4;\"/>\r\n   </g>\r\n   <g id=\"patch_20\">\r\n    <path clip-path=\"url(#pacea594e51)\" d=\"M 178.062987 239.758125 \r\nL 185.30974 239.758125 \r\nL 185.30974 137.760684 \r\nL 178.062987 137.760684 \r\nz\r\n\" style=\"fill:#1f77b4;\"/>\r\n   </g>\r\n   <g id=\"patch_21\">\r\n    <path clip-path=\"url(#pacea594e51)\" d=\"M 185.30974 239.758125 \r\nL 192.556494 239.758125 \r\nL 192.556494 128.488189 \r\nL 185.30974 128.488189 \r\nz\r\n\" style=\"fill:#1f77b4;\"/>\r\n   </g>\r\n   <g id=\"patch_22\">\r\n    <path clip-path=\"url(#pacea594e51)\" d=\"M 192.556494 239.758125 \r\nL 199.803247 239.758125 \r\nL 199.803247 221.213136 \r\nL 192.556494 221.213136 \r\nz\r\n\" style=\"fill:#1f77b4;\"/>\r\n   </g>\r\n   <g id=\"patch_23\">\r\n    <path clip-path=\"url(#pacea594e51)\" d=\"M 199.803247 239.758125 \r\nL 207.05 239.758125 \r\nL 207.05 208.849809 \r\nL 199.803247 208.849809 \r\nz\r\n\" style=\"fill:#1f77b4;\"/>\r\n   </g>\r\n   <g id=\"patch_24\">\r\n    <path clip-path=\"url(#pacea594e51)\" d=\"M 207.05 239.758125 \r\nL 214.296753 239.758125 \r\nL 214.296753 211.940641 \r\nL 207.05 211.940641 \r\nz\r\n\" style=\"fill:#1f77b4;\"/>\r\n   </g>\r\n   <g id=\"patch_25\">\r\n    <path clip-path=\"url(#pacea594e51)\" d=\"M 214.296753 239.758125 \r\nL 221.543506 239.758125 \r\nL 221.543506 205.758978 \r\nL 214.296753 205.758978 \r\nz\r\n\" style=\"fill:#1f77b4;\"/>\r\n   </g>\r\n   <g id=\"patch_26\">\r\n    <path clip-path=\"url(#pacea594e51)\" d=\"M 221.543506 239.758125 \r\nL 228.79026 239.758125 \r\nL 228.79026 193.395652 \r\nL 221.543506 193.395652 \r\nz\r\n\" style=\"fill:#1f77b4;\"/>\r\n   </g>\r\n   <g id=\"patch_27\">\r\n    <path clip-path=\"url(#pacea594e51)\" d=\"M 228.79026 239.758125 \r\nL 236.037013 239.758125 \r\nL 236.037013 215.031473 \r\nL 228.79026 215.031473 \r\nz\r\n\" style=\"fill:#1f77b4;\"/>\r\n   </g>\r\n   <g id=\"patch_28\">\r\n    <path clip-path=\"url(#pacea594e51)\" d=\"M 236.037013 239.758125 \r\nL 243.283766 239.758125 \r\nL 243.283766 100.670705 \r\nL 236.037013 100.670705 \r\nz\r\n\" style=\"fill:#1f77b4;\"/>\r\n   </g>\r\n   <g id=\"patch_29\">\r\n    <path clip-path=\"url(#pacea594e51)\" d=\"M 243.283766 239.758125 \r\nL 250.530519 239.758125 \r\nL 250.530519 184.123157 \r\nL 243.283766 184.123157 \r\nz\r\n\" style=\"fill:#1f77b4;\"/>\r\n   </g>\r\n   <g id=\"patch_30\">\r\n    <path clip-path=\"url(#pacea594e51)\" d=\"M 250.530519 239.758125 \r\nL 257.777273 239.758125 \r\nL 257.777273 218.122304 \r\nL 250.530519 218.122304 \r\nz\r\n\" style=\"fill:#1f77b4;\"/>\r\n   </g>\r\n   <g id=\"patch_31\">\r\n    <path clip-path=\"url(#pacea594e51)\" d=\"M 257.777273 239.758125 \r\nL 265.024026 239.758125 \r\nL 265.024026 190.30482 \r\nL 257.777273 190.30482 \r\nz\r\n\" style=\"fill:#1f77b4;\"/>\r\n   </g>\r\n   <g id=\"patch_32\">\r\n    <path clip-path=\"url(#pacea594e51)\" d=\"M 265.024026 239.758125 \r\nL 272.270779 239.758125 \r\nL 272.270779 215.031473 \r\nL 265.024026 215.031473 \r\nz\r\n\" style=\"fill:#1f77b4;\"/>\r\n   </g>\r\n   <g id=\"patch_33\">\r\n    <path clip-path=\"url(#pacea594e51)\" d=\"M 272.270779 239.758125 \r\nL 279.517532 239.758125 \r\nL 279.517532 199.577315 \r\nL 272.270779 199.577315 \r\nz\r\n\" style=\"fill:#1f77b4;\"/>\r\n   </g>\r\n   <g id=\"patch_34\">\r\n    <path clip-path=\"url(#pacea594e51)\" d=\"M 279.517532 239.758125 \r\nL 286.764286 239.758125 \r\nL 286.764286 168.668999 \r\nL 279.517532 168.668999 \r\nz\r\n\" style=\"fill:#1f77b4;\"/>\r\n   </g>\r\n   <g id=\"patch_35\">\r\n    <path clip-path=\"url(#pacea594e51)\" d=\"M 286.764286 239.758125 \r\nL 294.011039 239.758125 \r\nL 294.011039 218.122304 \r\nL 286.764286 218.122304 \r\nz\r\n\" style=\"fill:#1f77b4;\"/>\r\n   </g>\r\n   <g id=\"patch_36\">\r\n    <path clip-path=\"url(#pacea594e51)\" d=\"M 294.011039 239.758125 \r\nL 301.257792 239.758125 \r\nL 301.257792 178.044522 \r\nL 294.011039 178.044522 \r\nz\r\n\" style=\"fill:#1f77b4;\"/>\r\n   </g>\r\n   <g id=\"patch_37\">\r\n    <path clip-path=\"url(#pacea594e51)\" d=\"M 301.257792 239.758125 \r\nL 308.504545 239.758125 \r\nL 308.504545 202.668146 \r\nL 301.257792 202.668146 \r\nz\r\n\" style=\"fill:#1f77b4;\"/>\r\n   </g>\r\n   <g id=\"patch_38\">\r\n    <path clip-path=\"url(#pacea594e51)\" d=\"M 308.504545 239.758125 \r\nL 315.751299 239.758125 \r\nL 315.751299 128.488189 \r\nL 308.504545 128.488189 \r\nz\r\n\" style=\"fill:#1f77b4;\"/>\r\n   </g>\r\n   <g id=\"patch_39\">\r\n    <path clip-path=\"url(#pacea594e51)\" d=\"M 315.751299 239.758125 \r\nL 322.998052 239.758125 \r\nL 322.998052 205.758978 \r\nL 315.751299 205.758978 \r\nz\r\n\" style=\"fill:#1f77b4;\"/>\r\n   </g>\r\n   <g id=\"patch_40\">\r\n    <path clip-path=\"url(#pacea594e51)\" d=\"M 322.998052 239.758125 \r\nL 330.244805 239.758125 \r\nL 330.244805 221.213136 \r\nL 322.998052 221.213136 \r\nz\r\n\" style=\"fill:#1f77b4;\"/>\r\n   </g>\r\n   <g id=\"patch_41\">\r\n    <path clip-path=\"url(#pacea594e51)\" d=\"M 330.244805 239.758125 \r\nL 337.491558 239.758125 \r\nL 337.491558 48.126568 \r\nL 330.244805 48.126568 \r\nz\r\n\" style=\"fill:#1f77b4;\"/>\r\n   </g>\r\n   <g id=\"patch_42\">\r\n    <path clip-path=\"url(#pacea594e51)\" d=\"M 337.491558 239.758125 \r\nL 344.738312 239.758125 \r\nL 344.738312 211.940641 \r\nL 337.491558 211.940641 \r\nz\r\n\" style=\"fill:#1f77b4;\"/>\r\n   </g>\r\n   <g id=\"patch_43\">\r\n    <path clip-path=\"url(#pacea594e51)\" d=\"M 344.738312 239.758125 \r\nL 351.985065 239.758125 \r\nL 351.985065 208.849809 \r\nL 344.738312 208.849809 \r\nz\r\n\" style=\"fill:#1f77b4;\"/>\r\n   </g>\r\n   <g id=\"patch_44\">\r\n    <path clip-path=\"url(#pacea594e51)\" d=\"M 351.985065 239.758125 \r\nL 359.231818 239.758125 \r\nL 359.231818 196.486483 \r\nL 351.985065 196.486483 \r\nz\r\n\" style=\"fill:#1f77b4;\"/>\r\n   </g>\r\n   <g id=\"matplotlib.axis_1\">\r\n    <g id=\"xtick_1\">\r\n     <g id=\"line2d_1\">\r\n      <defs>\r\n       <path d=\"M 0 0 \r\nL 0 3.5 \r\n\" id=\"m4f2592f1fb\" style=\"stroke:#000000;stroke-width:0.8;\"/>\r\n      </defs>\r\n      <g>\r\n       <use style=\"stroke:#000000;stroke-width:0.8;\" x=\"54.868182\" xlink:href=\"#m4f2592f1fb\" y=\"239.758125\"/>\r\n      </g>\r\n     </g>\r\n     <g id=\"text_1\">\r\n      <!-- 0 -->\r\n      <g transform=\"translate(51.686932 254.356563)scale(0.1 -0.1)\">\r\n       <defs>\r\n        <path d=\"M 31.78125 66.40625 \r\nQ 24.171875 66.40625 20.328125 58.90625 \r\nQ 16.5 51.421875 16.5 36.375 \r\nQ 16.5 21.390625 20.328125 13.890625 \r\nQ 24.171875 6.390625 31.78125 6.390625 \r\nQ 39.453125 6.390625 43.28125 13.890625 \r\nQ 47.125 21.390625 47.125 36.375 \r\nQ 47.125 51.421875 43.28125 58.90625 \r\nQ 39.453125 66.40625 31.78125 66.40625 \r\nz\r\nM 31.78125 74.21875 \r\nQ 44.046875 74.21875 50.515625 64.515625 \r\nQ 56.984375 54.828125 56.984375 36.375 \r\nQ 56.984375 17.96875 50.515625 8.265625 \r\nQ 44.046875 -1.421875 31.78125 -1.421875 \r\nQ 19.53125 -1.421875 13.0625 8.265625 \r\nQ 6.59375 17.96875 6.59375 36.375 \r\nQ 6.59375 54.828125 13.0625 64.515625 \r\nQ 19.53125 74.21875 31.78125 74.21875 \r\nz\r\n\" id=\"DejaVuSans-48\"/>\r\n       </defs>\r\n       <use xlink:href=\"#DejaVuSans-48\"/>\r\n      </g>\r\n     </g>\r\n    </g>\r\n    <g id=\"xtick_2\">\r\n     <g id=\"line2d_2\">\r\n      <g>\r\n       <use style=\"stroke:#000000;stroke-width:0.8;\" x=\"127.335714\" xlink:href=\"#m4f2592f1fb\" y=\"239.758125\"/>\r\n      </g>\r\n     </g>\r\n     <g id=\"text_2\">\r\n      <!-- 10 -->\r\n      <g transform=\"translate(120.973214 254.356563)scale(0.1 -0.1)\">\r\n       <defs>\r\n        <path d=\"M 12.40625 8.296875 \r\nL 28.515625 8.296875 \r\nL 28.515625 63.921875 \r\nL 10.984375 60.40625 \r\nL 10.984375 69.390625 \r\nL 28.421875 72.90625 \r\nL 38.28125 72.90625 \r\nL 38.28125 8.296875 \r\nL 54.390625 8.296875 \r\nL 54.390625 0 \r\nL 12.40625 0 \r\nz\r\n\" id=\"DejaVuSans-49\"/>\r\n       </defs>\r\n       <use xlink:href=\"#DejaVuSans-49\"/>\r\n       <use x=\"63.623047\" xlink:href=\"#DejaVuSans-48\"/>\r\n      </g>\r\n     </g>\r\n    </g>\r\n    <g id=\"xtick_3\">\r\n     <g id=\"line2d_3\">\r\n      <g>\r\n       <use style=\"stroke:#000000;stroke-width:0.8;\" x=\"199.803247\" xlink:href=\"#m4f2592f1fb\" y=\"239.758125\"/>\r\n      </g>\r\n     </g>\r\n     <g id=\"text_3\">\r\n      <!-- 20 -->\r\n      <g transform=\"translate(193.440747 254.356563)scale(0.1 -0.1)\">\r\n       <defs>\r\n        <path d=\"M 19.1875 8.296875 \r\nL 53.609375 8.296875 \r\nL 53.609375 0 \r\nL 7.328125 0 \r\nL 7.328125 8.296875 \r\nQ 12.9375 14.109375 22.625 23.890625 \r\nQ 32.328125 33.6875 34.8125 36.53125 \r\nQ 39.546875 41.84375 41.421875 45.53125 \r\nQ 43.3125 49.21875 43.3125 52.78125 \r\nQ 43.3125 58.59375 39.234375 62.25 \r\nQ 35.15625 65.921875 28.609375 65.921875 \r\nQ 23.96875 65.921875 18.8125 64.3125 \r\nQ 13.671875 62.703125 7.8125 59.421875 \r\nL 7.8125 69.390625 \r\nQ 13.765625 71.78125 18.9375 73 \r\nQ 24.125 74.21875 28.421875 74.21875 \r\nQ 39.75 74.21875 46.484375 68.546875 \r\nQ 53.21875 62.890625 53.21875 53.421875 \r\nQ 53.21875 48.921875 51.53125 44.890625 \r\nQ 49.859375 40.875 45.40625 35.40625 \r\nQ 44.1875 33.984375 37.640625 27.21875 \r\nQ 31.109375 20.453125 19.1875 8.296875 \r\nz\r\n\" id=\"DejaVuSans-50\"/>\r\n       </defs>\r\n       <use xlink:href=\"#DejaVuSans-50\"/>\r\n       <use x=\"63.623047\" xlink:href=\"#DejaVuSans-48\"/>\r\n      </g>\r\n     </g>\r\n    </g>\r\n    <g id=\"xtick_4\">\r\n     <g id=\"line2d_4\">\r\n      <g>\r\n       <use style=\"stroke:#000000;stroke-width:0.8;\" x=\"272.270779\" xlink:href=\"#m4f2592f1fb\" y=\"239.758125\"/>\r\n      </g>\r\n     </g>\r\n     <g id=\"text_4\">\r\n      <!-- 30 -->\r\n      <g transform=\"translate(265.908279 254.356563)scale(0.1 -0.1)\">\r\n       <defs>\r\n        <path d=\"M 40.578125 39.3125 \r\nQ 47.65625 37.796875 51.625 33 \r\nQ 55.609375 28.21875 55.609375 21.1875 \r\nQ 55.609375 10.40625 48.1875 4.484375 \r\nQ 40.765625 -1.421875 27.09375 -1.421875 \r\nQ 22.515625 -1.421875 17.65625 -0.515625 \r\nQ 12.796875 0.390625 7.625 2.203125 \r\nL 7.625 11.71875 \r\nQ 11.71875 9.328125 16.59375 8.109375 \r\nQ 21.484375 6.890625 26.8125 6.890625 \r\nQ 36.078125 6.890625 40.9375 10.546875 \r\nQ 45.796875 14.203125 45.796875 21.1875 \r\nQ 45.796875 27.640625 41.28125 31.265625 \r\nQ 36.765625 34.90625 28.71875 34.90625 \r\nL 20.21875 34.90625 \r\nL 20.21875 43.015625 \r\nL 29.109375 43.015625 \r\nQ 36.375 43.015625 40.234375 45.921875 \r\nQ 44.09375 48.828125 44.09375 54.296875 \r\nQ 44.09375 59.90625 40.109375 62.90625 \r\nQ 36.140625 65.921875 28.71875 65.921875 \r\nQ 24.65625 65.921875 20.015625 65.03125 \r\nQ 15.375 64.15625 9.8125 62.3125 \r\nL 9.8125 71.09375 \r\nQ 15.4375 72.65625 20.34375 73.4375 \r\nQ 25.25 74.21875 29.59375 74.21875 \r\nQ 40.828125 74.21875 47.359375 69.109375 \r\nQ 53.90625 64.015625 53.90625 55.328125 \r\nQ 53.90625 49.265625 50.4375 45.09375 \r\nQ 46.96875 40.921875 40.578125 39.3125 \r\nz\r\n\" id=\"DejaVuSans-51\"/>\r\n       </defs>\r\n       <use xlink:href=\"#DejaVuSans-51\"/>\r\n       <use x=\"63.623047\" xlink:href=\"#DejaVuSans-48\"/>\r\n      </g>\r\n     </g>\r\n    </g>\r\n    <g id=\"xtick_5\">\r\n     <g id=\"line2d_5\">\r\n      <g>\r\n       <use style=\"stroke:#000000;stroke-width:0.8;\" x=\"344.738312\" xlink:href=\"#m4f2592f1fb\" y=\"239.758125\"/>\r\n      </g>\r\n     </g>\r\n     <g id=\"text_5\">\r\n      <!-- 40 -->\r\n      <g transform=\"translate(338.375812 254.356563)scale(0.1 -0.1)\">\r\n       <defs>\r\n        <path d=\"M 37.796875 64.3125 \r\nL 12.890625 25.390625 \r\nL 37.796875 25.390625 \r\nz\r\nM 35.203125 72.90625 \r\nL 47.609375 72.90625 \r\nL 47.609375 25.390625 \r\nL 58.015625 25.390625 \r\nL 58.015625 17.1875 \r\nL 47.609375 17.1875 \r\nL 47.609375 0 \r\nL 37.796875 0 \r\nL 37.796875 17.1875 \r\nL 4.890625 17.1875 \r\nL 4.890625 26.703125 \r\nz\r\n\" id=\"DejaVuSans-52\"/>\r\n       </defs>\r\n       <use xlink:href=\"#DejaVuSans-52\"/>\r\n       <use x=\"63.623047\" xlink:href=\"#DejaVuSans-48\"/>\r\n      </g>\r\n     </g>\r\n    </g>\r\n   </g>\r\n   <g id=\"matplotlib.axis_2\">\r\n    <g id=\"ytick_1\">\r\n     <g id=\"line2d_6\">\r\n      <defs>\r\n       <path d=\"M 0 0 \r\nL -3.5 0 \r\n\" id=\"m8f0599060b\" style=\"stroke:#000000;stroke-width:0.8;\"/>\r\n      </defs>\r\n      <g>\r\n       <use style=\"stroke:#000000;stroke-width:0.8;\" x=\"39.65\" xlink:href=\"#m8f0599060b\" y=\"239.758125\"/>\r\n      </g>\r\n     </g>\r\n     <g id=\"text_6\">\r\n      <!-- 0 -->\r\n      <g transform=\"translate(26.2875 243.557344)scale(0.1 -0.1)\">\r\n       <use xlink:href=\"#DejaVuSans-48\"/>\r\n      </g>\r\n     </g>\r\n    </g>\r\n    <g id=\"ytick_2\">\r\n     <g id=\"line2d_7\">\r\n      <g>\r\n       <use style=\"stroke:#000000;stroke-width:0.8;\" x=\"39.65\" xlink:href=\"#m8f0599060b\" y=\"214.001195\"/>\r\n      </g>\r\n     </g>\r\n     <g id=\"text_7\">\r\n      <!-- 250 -->\r\n      <g transform=\"translate(13.5625 217.800414)scale(0.1 -0.1)\">\r\n       <defs>\r\n        <path d=\"M 10.796875 72.90625 \r\nL 49.515625 72.90625 \r\nL 49.515625 64.59375 \r\nL 19.828125 64.59375 \r\nL 19.828125 46.734375 \r\nQ 21.96875 47.46875 24.109375 47.828125 \r\nQ 26.265625 48.1875 28.421875 48.1875 \r\nQ 40.625 48.1875 47.75 41.5 \r\nQ 54.890625 34.8125 54.890625 23.390625 \r\nQ 54.890625 11.625 47.5625 5.09375 \r\nQ 40.234375 -1.421875 26.90625 -1.421875 \r\nQ 22.3125 -1.421875 17.546875 -0.640625 \r\nQ 12.796875 0.140625 7.71875 1.703125 \r\nL 7.71875 11.625 \r\nQ 12.109375 9.234375 16.796875 8.0625 \r\nQ 21.484375 6.890625 26.703125 6.890625 \r\nQ 35.15625 6.890625 40.078125 11.328125 \r\nQ 45.015625 15.765625 45.015625 23.390625 \r\nQ 45.015625 31 40.078125 35.4375 \r\nQ 35.15625 39.890625 26.703125 39.890625 \r\nQ 22.75 39.890625 18.8125 39.015625 \r\nQ 14.890625 38.140625 10.796875 36.28125 \r\nz\r\n\" id=\"DejaVuSans-53\"/>\r\n       </defs>\r\n       <use xlink:href=\"#DejaVuSans-50\"/>\r\n       <use x=\"63.623047\" xlink:href=\"#DejaVuSans-53\"/>\r\n       <use x=\"127.246094\" xlink:href=\"#DejaVuSans-48\"/>\r\n      </g>\r\n     </g>\r\n    </g>\r\n    <g id=\"ytick_3\">\r\n     <g id=\"line2d_8\">\r\n      <g>\r\n       <use style=\"stroke:#000000;stroke-width:0.8;\" x=\"39.65\" xlink:href=\"#m8f0599060b\" y=\"188.244266\"/>\r\n      </g>\r\n     </g>\r\n     <g id=\"text_8\">\r\n      <!-- 500 -->\r\n      <g transform=\"translate(13.5625 192.043484)scale(0.1 -0.1)\">\r\n       <use xlink:href=\"#DejaVuSans-53\"/>\r\n       <use x=\"63.623047\" xlink:href=\"#DejaVuSans-48\"/>\r\n       <use x=\"127.246094\" xlink:href=\"#DejaVuSans-48\"/>\r\n      </g>\r\n     </g>\r\n    </g>\r\n    <g id=\"ytick_4\">\r\n     <g id=\"line2d_9\">\r\n      <g>\r\n       <use style=\"stroke:#000000;stroke-width:0.8;\" x=\"39.65\" xlink:href=\"#m8f0599060b\" y=\"162.487336\"/>\r\n      </g>\r\n     </g>\r\n     <g id=\"text_9\">\r\n      <!-- 750 -->\r\n      <g transform=\"translate(13.5625 166.286555)scale(0.1 -0.1)\">\r\n       <defs>\r\n        <path d=\"M 8.203125 72.90625 \r\nL 55.078125 72.90625 \r\nL 55.078125 68.703125 \r\nL 28.609375 0 \r\nL 18.3125 0 \r\nL 43.21875 64.59375 \r\nL 8.203125 64.59375 \r\nz\r\n\" id=\"DejaVuSans-55\"/>\r\n       </defs>\r\n       <use xlink:href=\"#DejaVuSans-55\"/>\r\n       <use x=\"63.623047\" xlink:href=\"#DejaVuSans-53\"/>\r\n       <use x=\"127.246094\" xlink:href=\"#DejaVuSans-48\"/>\r\n      </g>\r\n     </g>\r\n    </g>\r\n    <g id=\"ytick_5\">\r\n     <g id=\"line2d_10\">\r\n      <g>\r\n       <use style=\"stroke:#000000;stroke-width:0.8;\" x=\"39.65\" xlink:href=\"#m8f0599060b\" y=\"136.730406\"/>\r\n      </g>\r\n     </g>\r\n     <g id=\"text_10\">\r\n      <!-- 1000 -->\r\n      <g transform=\"translate(7.2 140.529625)scale(0.1 -0.1)\">\r\n       <use xlink:href=\"#DejaVuSans-49\"/>\r\n       <use x=\"63.623047\" xlink:href=\"#DejaVuSans-48\"/>\r\n       <use x=\"127.246094\" xlink:href=\"#DejaVuSans-48\"/>\r\n       <use x=\"190.869141\" xlink:href=\"#DejaVuSans-48\"/>\r\n      </g>\r\n     </g>\r\n    </g>\r\n    <g id=\"ytick_6\">\r\n     <g id=\"line2d_11\">\r\n      <g>\r\n       <use style=\"stroke:#000000;stroke-width:0.8;\" x=\"39.65\" xlink:href=\"#m8f0599060b\" y=\"110.973477\"/>\r\n      </g>\r\n     </g>\r\n     <g id=\"text_11\">\r\n      <!-- 1250 -->\r\n      <g transform=\"translate(7.2 114.772696)scale(0.1 -0.1)\">\r\n       <use xlink:href=\"#DejaVuSans-49\"/>\r\n       <use x=\"63.623047\" xlink:href=\"#DejaVuSans-50\"/>\r\n       <use x=\"127.246094\" xlink:href=\"#DejaVuSans-53\"/>\r\n       <use x=\"190.869141\" xlink:href=\"#DejaVuSans-48\"/>\r\n      </g>\r\n     </g>\r\n    </g>\r\n    <g id=\"ytick_7\">\r\n     <g id=\"line2d_12\">\r\n      <g>\r\n       <use style=\"stroke:#000000;stroke-width:0.8;\" x=\"39.65\" xlink:href=\"#m8f0599060b\" y=\"85.216547\"/>\r\n      </g>\r\n     </g>\r\n     <g id=\"text_12\">\r\n      <!-- 1500 -->\r\n      <g transform=\"translate(7.2 89.015766)scale(0.1 -0.1)\">\r\n       <use xlink:href=\"#DejaVuSans-49\"/>\r\n       <use x=\"63.623047\" xlink:href=\"#DejaVuSans-53\"/>\r\n       <use x=\"127.246094\" xlink:href=\"#DejaVuSans-48\"/>\r\n       <use x=\"190.869141\" xlink:href=\"#DejaVuSans-48\"/>\r\n      </g>\r\n     </g>\r\n    </g>\r\n    <g id=\"ytick_8\">\r\n     <g id=\"line2d_13\">\r\n      <g>\r\n       <use style=\"stroke:#000000;stroke-width:0.8;\" x=\"39.65\" xlink:href=\"#m8f0599060b\" y=\"59.459618\"/>\r\n      </g>\r\n     </g>\r\n     <g id=\"text_13\">\r\n      <!-- 1750 -->\r\n      <g transform=\"translate(7.2 63.258836)scale(0.1 -0.1)\">\r\n       <use xlink:href=\"#DejaVuSans-49\"/>\r\n       <use x=\"63.623047\" xlink:href=\"#DejaVuSans-55\"/>\r\n       <use x=\"127.246094\" xlink:href=\"#DejaVuSans-53\"/>\r\n       <use x=\"190.869141\" xlink:href=\"#DejaVuSans-48\"/>\r\n      </g>\r\n     </g>\r\n    </g>\r\n    <g id=\"ytick_9\">\r\n     <g id=\"line2d_14\">\r\n      <g>\r\n       <use style=\"stroke:#000000;stroke-width:0.8;\" x=\"39.65\" xlink:href=\"#m8f0599060b\" y=\"33.702688\"/>\r\n      </g>\r\n     </g>\r\n     <g id=\"text_14\">\r\n      <!-- 2000 -->\r\n      <g transform=\"translate(7.2 37.501907)scale(0.1 -0.1)\">\r\n       <use xlink:href=\"#DejaVuSans-50\"/>\r\n       <use x=\"63.623047\" xlink:href=\"#DejaVuSans-48\"/>\r\n       <use x=\"127.246094\" xlink:href=\"#DejaVuSans-48\"/>\r\n       <use x=\"190.869141\" xlink:href=\"#DejaVuSans-48\"/>\r\n      </g>\r\n     </g>\r\n    </g>\r\n   </g>\r\n   <g id=\"patch_45\">\r\n    <path d=\"M 39.65 239.758125 \r\nL 39.65 22.318125 \r\n\" style=\"fill:none;stroke:#000000;stroke-linecap:square;stroke-linejoin:miter;stroke-width:0.8;\"/>\r\n   </g>\r\n   <g id=\"patch_46\">\r\n    <path d=\"M 374.45 239.758125 \r\nL 374.45 22.318125 \r\n\" style=\"fill:none;stroke:#000000;stroke-linecap:square;stroke-linejoin:miter;stroke-width:0.8;\"/>\r\n   </g>\r\n   <g id=\"patch_47\">\r\n    <path d=\"M 39.65 239.758125 \r\nL 374.45 239.758125 \r\n\" style=\"fill:none;stroke:#000000;stroke-linecap:square;stroke-linejoin:miter;stroke-width:0.8;\"/>\r\n   </g>\r\n   <g id=\"patch_48\">\r\n    <path d=\"M 39.65 22.318125 \r\nL 374.45 22.318125 \r\n\" style=\"fill:none;stroke:#000000;stroke-linecap:square;stroke-linejoin:miter;stroke-width:0.8;\"/>\r\n   </g>\r\n   <g id=\"text_15\">\r\n    <!-- Distribution of Traffic Sign Types in Training Dataset -->\r\n    <g transform=\"translate(52.174063 16.318125)scale(0.12 -0.12)\">\r\n     <defs>\r\n      <path d=\"M 19.671875 64.796875 \r\nL 19.671875 8.109375 \r\nL 31.59375 8.109375 \r\nQ 46.6875 8.109375 53.6875 14.9375 \r\nQ 60.6875 21.78125 60.6875 36.53125 \r\nQ 60.6875 51.171875 53.6875 57.984375 \r\nQ 46.6875 64.796875 31.59375 64.796875 \r\nz\r\nM 9.8125 72.90625 \r\nL 30.078125 72.90625 \r\nQ 51.265625 72.90625 61.171875 64.09375 \r\nQ 71.09375 55.28125 71.09375 36.53125 \r\nQ 71.09375 17.671875 61.125 8.828125 \r\nQ 51.171875 0 30.078125 0 \r\nL 9.8125 0 \r\nz\r\n\" id=\"DejaVuSans-68\"/>\r\n      <path d=\"M 9.421875 54.6875 \r\nL 18.40625 54.6875 \r\nL 18.40625 0 \r\nL 9.421875 0 \r\nz\r\nM 9.421875 75.984375 \r\nL 18.40625 75.984375 \r\nL 18.40625 64.59375 \r\nL 9.421875 64.59375 \r\nz\r\n\" id=\"DejaVuSans-105\"/>\r\n      <path d=\"M 44.28125 53.078125 \r\nL 44.28125 44.578125 \r\nQ 40.484375 46.53125 36.375 47.5 \r\nQ 32.28125 48.484375 27.875 48.484375 \r\nQ 21.1875 48.484375 17.84375 46.4375 \r\nQ 14.5 44.390625 14.5 40.28125 \r\nQ 14.5 37.15625 16.890625 35.375 \r\nQ 19.28125 33.59375 26.515625 31.984375 \r\nL 29.59375 31.296875 \r\nQ 39.15625 29.25 43.1875 25.515625 \r\nQ 47.21875 21.78125 47.21875 15.09375 \r\nQ 47.21875 7.46875 41.1875 3.015625 \r\nQ 35.15625 -1.421875 24.609375 -1.421875 \r\nQ 20.21875 -1.421875 15.453125 -0.5625 \r\nQ 10.6875 0.296875 5.421875 2 \r\nL 5.421875 11.28125 \r\nQ 10.40625 8.6875 15.234375 7.390625 \r\nQ 20.0625 6.109375 24.8125 6.109375 \r\nQ 31.15625 6.109375 34.5625 8.28125 \r\nQ 37.984375 10.453125 37.984375 14.40625 \r\nQ 37.984375 18.0625 35.515625 20.015625 \r\nQ 33.0625 21.96875 24.703125 23.78125 \r\nL 21.578125 24.515625 \r\nQ 13.234375 26.265625 9.515625 29.90625 \r\nQ 5.8125 33.546875 5.8125 39.890625 \r\nQ 5.8125 47.609375 11.28125 51.796875 \r\nQ 16.75 56 26.8125 56 \r\nQ 31.78125 56 36.171875 55.265625 \r\nQ 40.578125 54.546875 44.28125 53.078125 \r\nz\r\n\" id=\"DejaVuSans-115\"/>\r\n      <path d=\"M 18.3125 70.21875 \r\nL 18.3125 54.6875 \r\nL 36.8125 54.6875 \r\nL 36.8125 47.703125 \r\nL 18.3125 47.703125 \r\nL 18.3125 18.015625 \r\nQ 18.3125 11.328125 20.140625 9.421875 \r\nQ 21.96875 7.515625 27.59375 7.515625 \r\nL 36.8125 7.515625 \r\nL 36.8125 0 \r\nL 27.59375 0 \r\nQ 17.1875 0 13.234375 3.875 \r\nQ 9.28125 7.765625 9.28125 18.015625 \r\nL 9.28125 47.703125 \r\nL 2.6875 47.703125 \r\nL 2.6875 54.6875 \r\nL 9.28125 54.6875 \r\nL 9.28125 70.21875 \r\nz\r\n\" id=\"DejaVuSans-116\"/>\r\n      <path d=\"M 41.109375 46.296875 \r\nQ 39.59375 47.171875 37.8125 47.578125 \r\nQ 36.03125 48 33.890625 48 \r\nQ 26.265625 48 22.1875 43.046875 \r\nQ 18.109375 38.09375 18.109375 28.8125 \r\nL 18.109375 0 \r\nL 9.078125 0 \r\nL 9.078125 54.6875 \r\nL 18.109375 54.6875 \r\nL 18.109375 46.1875 \r\nQ 20.953125 51.171875 25.484375 53.578125 \r\nQ 30.03125 56 36.53125 56 \r\nQ 37.453125 56 38.578125 55.875 \r\nQ 39.703125 55.765625 41.0625 55.515625 \r\nz\r\n\" id=\"DejaVuSans-114\"/>\r\n      <path d=\"M 48.6875 27.296875 \r\nQ 48.6875 37.203125 44.609375 42.84375 \r\nQ 40.53125 48.484375 33.40625 48.484375 \r\nQ 26.265625 48.484375 22.1875 42.84375 \r\nQ 18.109375 37.203125 18.109375 27.296875 \r\nQ 18.109375 17.390625 22.1875 11.75 \r\nQ 26.265625 6.109375 33.40625 6.109375 \r\nQ 40.53125 6.109375 44.609375 11.75 \r\nQ 48.6875 17.390625 48.6875 27.296875 \r\nz\r\nM 18.109375 46.390625 \r\nQ 20.953125 51.265625 25.265625 53.625 \r\nQ 29.59375 56 35.59375 56 \r\nQ 45.5625 56 51.78125 48.09375 \r\nQ 58.015625 40.1875 58.015625 27.296875 \r\nQ 58.015625 14.40625 51.78125 6.484375 \r\nQ 45.5625 -1.421875 35.59375 -1.421875 \r\nQ 29.59375 -1.421875 25.265625 0.953125 \r\nQ 20.953125 3.328125 18.109375 8.203125 \r\nL 18.109375 0 \r\nL 9.078125 0 \r\nL 9.078125 75.984375 \r\nL 18.109375 75.984375 \r\nz\r\n\" id=\"DejaVuSans-98\"/>\r\n      <path d=\"M 8.5 21.578125 \r\nL 8.5 54.6875 \r\nL 17.484375 54.6875 \r\nL 17.484375 21.921875 \r\nQ 17.484375 14.15625 20.5 10.265625 \r\nQ 23.53125 6.390625 29.59375 6.390625 \r\nQ 36.859375 6.390625 41.078125 11.03125 \r\nQ 45.3125 15.671875 45.3125 23.6875 \r\nL 45.3125 54.6875 \r\nL 54.296875 54.6875 \r\nL 54.296875 0 \r\nL 45.3125 0 \r\nL 45.3125 8.40625 \r\nQ 42.046875 3.421875 37.71875 1 \r\nQ 33.40625 -1.421875 27.6875 -1.421875 \r\nQ 18.265625 -1.421875 13.375 4.4375 \r\nQ 8.5 10.296875 8.5 21.578125 \r\nz\r\nM 31.109375 56 \r\nz\r\n\" id=\"DejaVuSans-117\"/>\r\n      <path d=\"M 30.609375 48.390625 \r\nQ 23.390625 48.390625 19.1875 42.75 \r\nQ 14.984375 37.109375 14.984375 27.296875 \r\nQ 14.984375 17.484375 19.15625 11.84375 \r\nQ 23.34375 6.203125 30.609375 6.203125 \r\nQ 37.796875 6.203125 41.984375 11.859375 \r\nQ 46.1875 17.53125 46.1875 27.296875 \r\nQ 46.1875 37.015625 41.984375 42.703125 \r\nQ 37.796875 48.390625 30.609375 48.390625 \r\nz\r\nM 30.609375 56 \r\nQ 42.328125 56 49.015625 48.375 \r\nQ 55.71875 40.765625 55.71875 27.296875 \r\nQ 55.71875 13.875 49.015625 6.21875 \r\nQ 42.328125 -1.421875 30.609375 -1.421875 \r\nQ 18.84375 -1.421875 12.171875 6.21875 \r\nQ 5.515625 13.875 5.515625 27.296875 \r\nQ 5.515625 40.765625 12.171875 48.375 \r\nQ 18.84375 56 30.609375 56 \r\nz\r\n\" id=\"DejaVuSans-111\"/>\r\n      <path d=\"M 54.890625 33.015625 \r\nL 54.890625 0 \r\nL 45.90625 0 \r\nL 45.90625 32.71875 \r\nQ 45.90625 40.484375 42.875 44.328125 \r\nQ 39.84375 48.1875 33.796875 48.1875 \r\nQ 26.515625 48.1875 22.3125 43.546875 \r\nQ 18.109375 38.921875 18.109375 30.90625 \r\nL 18.109375 0 \r\nL 9.078125 0 \r\nL 9.078125 54.6875 \r\nL 18.109375 54.6875 \r\nL 18.109375 46.1875 \r\nQ 21.34375 51.125 25.703125 53.5625 \r\nQ 30.078125 56 35.796875 56 \r\nQ 45.21875 56 50.046875 50.171875 \r\nQ 54.890625 44.34375 54.890625 33.015625 \r\nz\r\n\" id=\"DejaVuSans-110\"/>\r\n      <path id=\"DejaVuSans-32\"/>\r\n      <path d=\"M 37.109375 75.984375 \r\nL 37.109375 68.5 \r\nL 28.515625 68.5 \r\nQ 23.6875 68.5 21.796875 66.546875 \r\nQ 19.921875 64.59375 19.921875 59.515625 \r\nL 19.921875 54.6875 \r\nL 34.71875 54.6875 \r\nL 34.71875 47.703125 \r\nL 19.921875 47.703125 \r\nL 19.921875 0 \r\nL 10.890625 0 \r\nL 10.890625 47.703125 \r\nL 2.296875 47.703125 \r\nL 2.296875 54.6875 \r\nL 10.890625 54.6875 \r\nL 10.890625 58.5 \r\nQ 10.890625 67.625 15.140625 71.796875 \r\nQ 19.390625 75.984375 28.609375 75.984375 \r\nz\r\n\" id=\"DejaVuSans-102\"/>\r\n      <path d=\"M -0.296875 72.90625 \r\nL 61.375 72.90625 \r\nL 61.375 64.59375 \r\nL 35.5 64.59375 \r\nL 35.5 0 \r\nL 25.59375 0 \r\nL 25.59375 64.59375 \r\nL -0.296875 64.59375 \r\nz\r\n\" id=\"DejaVuSans-84\"/>\r\n      <path d=\"M 34.28125 27.484375 \r\nQ 23.390625 27.484375 19.1875 25 \r\nQ 14.984375 22.515625 14.984375 16.5 \r\nQ 14.984375 11.71875 18.140625 8.90625 \r\nQ 21.296875 6.109375 26.703125 6.109375 \r\nQ 34.1875 6.109375 38.703125 11.40625 \r\nQ 43.21875 16.703125 43.21875 25.484375 \r\nL 43.21875 27.484375 \r\nz\r\nM 52.203125 31.203125 \r\nL 52.203125 0 \r\nL 43.21875 0 \r\nL 43.21875 8.296875 \r\nQ 40.140625 3.328125 35.546875 0.953125 \r\nQ 30.953125 -1.421875 24.3125 -1.421875 \r\nQ 15.921875 -1.421875 10.953125 3.296875 \r\nQ 6 8.015625 6 15.921875 \r\nQ 6 25.140625 12.171875 29.828125 \r\nQ 18.359375 34.515625 30.609375 34.515625 \r\nL 43.21875 34.515625 \r\nL 43.21875 35.40625 \r\nQ 43.21875 41.609375 39.140625 45 \r\nQ 35.0625 48.390625 27.6875 48.390625 \r\nQ 23 48.390625 18.546875 47.265625 \r\nQ 14.109375 46.140625 10.015625 43.890625 \r\nL 10.015625 52.203125 \r\nQ 14.9375 54.109375 19.578125 55.046875 \r\nQ 24.21875 56 28.609375 56 \r\nQ 40.484375 56 46.34375 49.84375 \r\nQ 52.203125 43.703125 52.203125 31.203125 \r\nz\r\n\" id=\"DejaVuSans-97\"/>\r\n      <path d=\"M 48.78125 52.59375 \r\nL 48.78125 44.1875 \r\nQ 44.96875 46.296875 41.140625 47.34375 \r\nQ 37.3125 48.390625 33.40625 48.390625 \r\nQ 24.65625 48.390625 19.8125 42.84375 \r\nQ 14.984375 37.3125 14.984375 27.296875 \r\nQ 14.984375 17.28125 19.8125 11.734375 \r\nQ 24.65625 6.203125 33.40625 6.203125 \r\nQ 37.3125 6.203125 41.140625 7.25 \r\nQ 44.96875 8.296875 48.78125 10.40625 \r\nL 48.78125 2.09375 \r\nQ 45.015625 0.34375 40.984375 -0.53125 \r\nQ 36.96875 -1.421875 32.421875 -1.421875 \r\nQ 20.0625 -1.421875 12.78125 6.34375 \r\nQ 5.515625 14.109375 5.515625 27.296875 \r\nQ 5.515625 40.671875 12.859375 48.328125 \r\nQ 20.21875 56 33.015625 56 \r\nQ 37.15625 56 41.109375 55.140625 \r\nQ 45.0625 54.296875 48.78125 52.59375 \r\nz\r\n\" id=\"DejaVuSans-99\"/>\r\n      <path d=\"M 53.515625 70.515625 \r\nL 53.515625 60.890625 \r\nQ 47.90625 63.578125 42.921875 64.890625 \r\nQ 37.9375 66.21875 33.296875 66.21875 \r\nQ 25.25 66.21875 20.875 63.09375 \r\nQ 16.5 59.96875 16.5 54.203125 \r\nQ 16.5 49.359375 19.40625 46.890625 \r\nQ 22.3125 44.4375 30.421875 42.921875 \r\nL 36.375 41.703125 \r\nQ 47.40625 39.59375 52.65625 34.296875 \r\nQ 57.90625 29 57.90625 20.125 \r\nQ 57.90625 9.515625 50.796875 4.046875 \r\nQ 43.703125 -1.421875 29.984375 -1.421875 \r\nQ 24.8125 -1.421875 18.96875 -0.25 \r\nQ 13.140625 0.921875 6.890625 3.21875 \r\nL 6.890625 13.375 \r\nQ 12.890625 10.015625 18.65625 8.296875 \r\nQ 24.421875 6.59375 29.984375 6.59375 \r\nQ 38.421875 6.59375 43.015625 9.90625 \r\nQ 47.609375 13.234375 47.609375 19.390625 \r\nQ 47.609375 24.75 44.3125 27.78125 \r\nQ 41.015625 30.8125 33.5 32.328125 \r\nL 27.484375 33.5 \r\nQ 16.453125 35.6875 11.515625 40.375 \r\nQ 6.59375 45.0625 6.59375 53.421875 \r\nQ 6.59375 63.09375 13.40625 68.65625 \r\nQ 20.21875 74.21875 32.171875 74.21875 \r\nQ 37.3125 74.21875 42.625 73.28125 \r\nQ 47.953125 72.359375 53.515625 70.515625 \r\nz\r\n\" id=\"DejaVuSans-83\"/>\r\n      <path d=\"M 45.40625 27.984375 \r\nQ 45.40625 37.75 41.375 43.109375 \r\nQ 37.359375 48.484375 30.078125 48.484375 \r\nQ 22.859375 48.484375 18.828125 43.109375 \r\nQ 14.796875 37.75 14.796875 27.984375 \r\nQ 14.796875 18.265625 18.828125 12.890625 \r\nQ 22.859375 7.515625 30.078125 7.515625 \r\nQ 37.359375 7.515625 41.375 12.890625 \r\nQ 45.40625 18.265625 45.40625 27.984375 \r\nz\r\nM 54.390625 6.78125 \r\nQ 54.390625 -7.171875 48.1875 -13.984375 \r\nQ 42 -20.796875 29.203125 -20.796875 \r\nQ 24.46875 -20.796875 20.265625 -20.09375 \r\nQ 16.0625 -19.390625 12.109375 -17.921875 \r\nL 12.109375 -9.1875 \r\nQ 16.0625 -11.328125 19.921875 -12.34375 \r\nQ 23.78125 -13.375 27.78125 -13.375 \r\nQ 36.625 -13.375 41.015625 -8.765625 \r\nQ 45.40625 -4.15625 45.40625 5.171875 \r\nL 45.40625 9.625 \r\nQ 42.625 4.78125 38.28125 2.390625 \r\nQ 33.9375 0 27.875 0 \r\nQ 17.828125 0 11.671875 7.65625 \r\nQ 5.515625 15.328125 5.515625 27.984375 \r\nQ 5.515625 40.671875 11.671875 48.328125 \r\nQ 17.828125 56 27.875 56 \r\nQ 33.9375 56 38.28125 53.609375 \r\nQ 42.625 51.21875 45.40625 46.390625 \r\nL 45.40625 54.6875 \r\nL 54.390625 54.6875 \r\nz\r\n\" id=\"DejaVuSans-103\"/>\r\n      <path d=\"M 32.171875 -5.078125 \r\nQ 28.375 -14.84375 24.75 -17.8125 \r\nQ 21.140625 -20.796875 15.09375 -20.796875 \r\nL 7.90625 -20.796875 \r\nL 7.90625 -13.28125 \r\nL 13.1875 -13.28125 \r\nQ 16.890625 -13.28125 18.9375 -11.515625 \r\nQ 21 -9.765625 23.484375 -3.21875 \r\nL 25.09375 0.875 \r\nL 2.984375 54.6875 \r\nL 12.5 54.6875 \r\nL 29.59375 11.921875 \r\nL 46.6875 54.6875 \r\nL 56.203125 54.6875 \r\nz\r\n\" id=\"DejaVuSans-121\"/>\r\n      <path d=\"M 18.109375 8.203125 \r\nL 18.109375 -20.796875 \r\nL 9.078125 -20.796875 \r\nL 9.078125 54.6875 \r\nL 18.109375 54.6875 \r\nL 18.109375 46.390625 \r\nQ 20.953125 51.265625 25.265625 53.625 \r\nQ 29.59375 56 35.59375 56 \r\nQ 45.5625 56 51.78125 48.09375 \r\nQ 58.015625 40.1875 58.015625 27.296875 \r\nQ 58.015625 14.40625 51.78125 6.484375 \r\nQ 45.5625 -1.421875 35.59375 -1.421875 \r\nQ 29.59375 -1.421875 25.265625 0.953125 \r\nQ 20.953125 3.328125 18.109375 8.203125 \r\nz\r\nM 48.6875 27.296875 \r\nQ 48.6875 37.203125 44.609375 42.84375 \r\nQ 40.53125 48.484375 33.40625 48.484375 \r\nQ 26.265625 48.484375 22.1875 42.84375 \r\nQ 18.109375 37.203125 18.109375 27.296875 \r\nQ 18.109375 17.390625 22.1875 11.75 \r\nQ 26.265625 6.109375 33.40625 6.109375 \r\nQ 40.53125 6.109375 44.609375 11.75 \r\nQ 48.6875 17.390625 48.6875 27.296875 \r\nz\r\n\" id=\"DejaVuSans-112\"/>\r\n      <path d=\"M 56.203125 29.59375 \r\nL 56.203125 25.203125 \r\nL 14.890625 25.203125 \r\nQ 15.484375 15.921875 20.484375 11.0625 \r\nQ 25.484375 6.203125 34.421875 6.203125 \r\nQ 39.59375 6.203125 44.453125 7.46875 \r\nQ 49.3125 8.734375 54.109375 11.28125 \r\nL 54.109375 2.78125 \r\nQ 49.265625 0.734375 44.1875 -0.34375 \r\nQ 39.109375 -1.421875 33.890625 -1.421875 \r\nQ 20.796875 -1.421875 13.15625 6.1875 \r\nQ 5.515625 13.8125 5.515625 26.8125 \r\nQ 5.515625 40.234375 12.765625 48.109375 \r\nQ 20.015625 56 32.328125 56 \r\nQ 43.359375 56 49.78125 48.890625 \r\nQ 56.203125 41.796875 56.203125 29.59375 \r\nz\r\nM 47.21875 32.234375 \r\nQ 47.125 39.59375 43.09375 43.984375 \r\nQ 39.0625 48.390625 32.421875 48.390625 \r\nQ 24.90625 48.390625 20.390625 44.140625 \r\nQ 15.875 39.890625 15.1875 32.171875 \r\nz\r\n\" id=\"DejaVuSans-101\"/>\r\n     </defs>\r\n     <use xlink:href=\"#DejaVuSans-68\"/>\r\n     <use x=\"77.001953\" xlink:href=\"#DejaVuSans-105\"/>\r\n     <use x=\"104.785156\" xlink:href=\"#DejaVuSans-115\"/>\r\n     <use x=\"156.884766\" xlink:href=\"#DejaVuSans-116\"/>\r\n     <use x=\"196.09375\" xlink:href=\"#DejaVuSans-114\"/>\r\n     <use x=\"237.207031\" xlink:href=\"#DejaVuSans-105\"/>\r\n     <use x=\"264.990234\" xlink:href=\"#DejaVuSans-98\"/>\r\n     <use x=\"328.466797\" xlink:href=\"#DejaVuSans-117\"/>\r\n     <use x=\"391.845703\" xlink:href=\"#DejaVuSans-116\"/>\r\n     <use x=\"431.054688\" xlink:href=\"#DejaVuSans-105\"/>\r\n     <use x=\"458.837891\" xlink:href=\"#DejaVuSans-111\"/>\r\n     <use x=\"520.019531\" xlink:href=\"#DejaVuSans-110\"/>\r\n     <use x=\"583.398438\" xlink:href=\"#DejaVuSans-32\"/>\r\n     <use x=\"615.185547\" xlink:href=\"#DejaVuSans-111\"/>\r\n     <use x=\"676.367188\" xlink:href=\"#DejaVuSans-102\"/>\r\n     <use x=\"711.572266\" xlink:href=\"#DejaVuSans-32\"/>\r\n     <use x=\"743.359375\" xlink:href=\"#DejaVuSans-84\"/>\r\n     <use x=\"789.693359\" xlink:href=\"#DejaVuSans-114\"/>\r\n     <use x=\"830.806641\" xlink:href=\"#DejaVuSans-97\"/>\r\n     <use x=\"892.085938\" xlink:href=\"#DejaVuSans-102\"/>\r\n     <use x=\"927.291016\" xlink:href=\"#DejaVuSans-102\"/>\r\n     <use x=\"962.496094\" xlink:href=\"#DejaVuSans-105\"/>\r\n     <use x=\"990.279297\" xlink:href=\"#DejaVuSans-99\"/>\r\n     <use x=\"1045.259766\" xlink:href=\"#DejaVuSans-32\"/>\r\n     <use x=\"1077.046875\" xlink:href=\"#DejaVuSans-83\"/>\r\n     <use x=\"1140.523438\" xlink:href=\"#DejaVuSans-105\"/>\r\n     <use x=\"1168.306641\" xlink:href=\"#DejaVuSans-103\"/>\r\n     <use x=\"1231.783203\" xlink:href=\"#DejaVuSans-110\"/>\r\n     <use x=\"1295.162109\" xlink:href=\"#DejaVuSans-32\"/>\r\n     <use x=\"1326.949219\" xlink:href=\"#DejaVuSans-84\"/>\r\n     <use x=\"1372.408203\" xlink:href=\"#DejaVuSans-121\"/>\r\n     <use x=\"1431.587891\" xlink:href=\"#DejaVuSans-112\"/>\r\n     <use x=\"1495.064453\" xlink:href=\"#DejaVuSans-101\"/>\r\n     <use x=\"1556.587891\" xlink:href=\"#DejaVuSans-115\"/>\r\n     <use x=\"1608.6875\" xlink:href=\"#DejaVuSans-32\"/>\r\n     <use x=\"1640.474609\" xlink:href=\"#DejaVuSans-105\"/>\r\n     <use x=\"1668.257812\" xlink:href=\"#DejaVuSans-110\"/>\r\n     <use x=\"1731.636719\" xlink:href=\"#DejaVuSans-32\"/>\r\n     <use x=\"1763.423828\" xlink:href=\"#DejaVuSans-84\"/>\r\n     <use x=\"1809.757812\" xlink:href=\"#DejaVuSans-114\"/>\r\n     <use x=\"1850.871094\" xlink:href=\"#DejaVuSans-97\"/>\r\n     <use x=\"1912.150391\" xlink:href=\"#DejaVuSans-105\"/>\r\n     <use x=\"1939.933594\" xlink:href=\"#DejaVuSans-110\"/>\r\n     <use x=\"2003.3125\" xlink:href=\"#DejaVuSans-105\"/>\r\n     <use x=\"2031.095703\" xlink:href=\"#DejaVuSans-110\"/>\r\n     <use x=\"2094.474609\" xlink:href=\"#DejaVuSans-103\"/>\r\n     <use x=\"2157.951172\" xlink:href=\"#DejaVuSans-32\"/>\r\n     <use x=\"2189.738281\" xlink:href=\"#DejaVuSans-68\"/>\r\n     <use x=\"2266.740234\" xlink:href=\"#DejaVuSans-97\"/>\r\n     <use x=\"2328.019531\" xlink:href=\"#DejaVuSans-116\"/>\r\n     <use x=\"2367.228516\" xlink:href=\"#DejaVuSans-97\"/>\r\n     <use x=\"2428.507812\" xlink:href=\"#DejaVuSans-115\"/>\r\n     <use x=\"2480.607422\" xlink:href=\"#DejaVuSans-101\"/>\r\n     <use x=\"2542.130859\" xlink:href=\"#DejaVuSans-116\"/>\r\n    </g>\r\n   </g>\r\n  </g>\r\n </g>\r\n <defs>\r\n  <clipPath id=\"pacea594e51\">\r\n   <rect height=\"217.44\" width=\"334.8\" x=\"39.65\" y=\"22.318125\"/>\r\n  </clipPath>\r\n </defs>\r\n</svg>\r\n",
      "image/png": "[encoded data removed]"
     },
     "metadata": {
      "needs_background": "light"
     }
    }
   ],
   "source": [
    "plt.hist(y_train, bins=np.arange(0, n_classes))\n",
    "plt.title('Distribution of Traffic Sign Types in Training Dataset');"
   ]
  },
  {
   "cell_type": "markdown",
   "metadata": {},
   "source": [
    "**_Note:_** There is an inequitable distribution of traffic sign types in the training dataset, which may cause the resulting model to perform better in areas where there is more data, than where there isn't. If the model's performance is low, then obtaining more data in relatively low categories may help."
   ]
  },
  {
   "cell_type": "markdown",
   "metadata": {},
   "source": [
    "----\n",
    "\n",
    "## Step 2: Design and Test a Model Architecture\n",
    "\n",
    "Design and implement a deep learning model that learns to recognize traffic signs. Train and test your model on the [German Traffic Sign Dataset](http://benchmark.ini.rub.de/?section=gtsrb&subsection=dataset).\n",
    "\n",
    "The LeNet-5 implementation shown in the [classroom](https://classroom.udacity.com/nanodegrees/nd013/parts/fbf77062-5703-404e-b60c-95b78b2f3f9e/modules/6df7ae49-c61c-4bb2-a23e-6527e69209ec/lessons/601ae704-1035-4287-8b11-e2c2716217ad/concepts/d4aca031-508f-4e0b-b493-e7b706120f81) at the end of the CNN lesson is a solid starting point. You'll have to change the number of classes and possibly the preprocessing, but aside from that it's plug and play! \n",
    "\n",
    "With the LeNet-5 solution from the lecture, you should expect a validation set accuracy of about 0.89. To meet specifications, the validation set accuracy will need to be at least 0.93. It is possible to get an even higher accuracy, but 0.93 is the minimum for a successful project submission. \n",
    "\n",
    "There are various aspects to consider when thinking about this problem:\n",
    "\n",
    "- Neural network architecture (is the network over or underfitting?)\n",
    "- Play around preprocessing techniques (normalization, rgb to grayscale, etc)\n",
    "- Number of examples per label (some have more than others).\n",
    "- Generate fake data.\n",
    "\n",
    "Here is an example of a [published baseline model on this problem](http://yann.lecun.com/exdb/publis/pdf/sermanet-ijcnn-11.pdf). It's not required to be familiar with the approach used in the paper but, it's good practice to try to read papers like these."
   ]
  },
  {
   "cell_type": "markdown",
   "metadata": {},
   "source": [
    "### Pre-process the Data Set (normalization, grayscale, etc.)"
   ]
  },
  {
   "cell_type": "markdown",
   "metadata": {},
   "source": [
    "Minimally, the image data should be normalized so that the data has mean zero and equal variance. For image data, `(pixel - 128)/ 128` is a quick way to approximately normalize the data and can be used in this project. \n",
    "\n",
    "Other pre-processing steps are optional. You can try different techniques to see if it improves performance. \n",
    "\n",
    "Use the code cell (or multiple code cells, if necessary) to implement the first step of your project."
   ]
  },
  {
   "cell_type": "markdown",
   "metadata": {},
   "source": [
    "#### Normalizing the Images\n",
    "*Note:* All datasets must be normalized, i.e. training, validation and testing. This is done since if the model is trained on normalized data, then it would expect normalizd data in application. Normalizing the data is done to help the optimizer converge."
   ]
  },
  {
   "cell_type": "code",
   "execution_count": 7,
   "metadata": {},
   "outputs": [],
   "source": [
    "import cv2\n",
    "import imgaug.augmenters as iaa"
   ]
  },
  {
   "cell_type": "code",
   "execution_count": 8,
   "metadata": {},
   "outputs": [],
   "source": [
    "def augment_images(images, p):\n",
    "    \"\"\"\n",
    "    Performs a set of augmentations on images.\n",
    "    :param image: 3-channel image\n",
    "    :param p: augment probability\n",
    "    \"\"\"\n",
    "    augs =  iaa.SomeOf((2, 4),\n",
    "          [\n",
    "              iaa.Crop(px=(0, 4)), # crop images from each side by 0 to 4px (randomly chosen)\n",
    "              iaa.Affine(scale={\"x\": (0.8, 1.2), \"y\": (0.8, 1.2)}),\n",
    "              iaa.Affine(translate_percent={\"x\": (-0.2, 0.2), \"y\": (-0.2, 0.2)}),\n",
    "              iaa.Affine(rotate=(-45, 45)), # rotate by -45 to +45 degrees)\n",
    "              iaa.Affine(shear=(-10, 10)) # shear by -10 to +10 degrees\n",
    "          ])\n",
    "    \n",
    "    seq = iaa.Sequential([iaa.Sometimes(p, augs)])\n",
    "    \n",
    "    return seq.augment_images(images)"
   ]
  },
  {
   "cell_type": "code",
   "execution_count": 9,
   "metadata": {},
   "outputs": [],
   "source": [
    "def normalize_image(image):\n",
    "    '''\n",
    "    Normalize the histogram for an RGB image.\n",
    "    :param image: 3-channel image\n",
    "    '''\n",
    "    clahe = cv2.createCLAHE(clipLimit=2.0, tileGridSize=(8,8))\n",
    "    normalized = image.copy()\n",
    "\n",
    "    normalized[:,:,0] = clahe.apply(normalized[:,:,0])\n",
    "    normalized[:,:,1] = clahe.apply(normalized[:,:,1])\n",
    "    normalized[:,:,2] = clahe.apply(normalized[:,:,2])\n",
    "\n",
    "    return normalized"
   ]
  },
  {
   "cell_type": "code",
   "execution_count": 10,
   "metadata": {},
   "outputs": [],
   "source": [
    "def preprocess_images(images):\n",
    "    '''\n",
    "    Applies image histogram equalization, grayscaling and normalization to an array of images.\n",
    "    :param images: array of 3-channel images\n",
    "    '''\n",
    "    # Histogram equalization and grayscaling\n",
    "    processed = np.array([cv2.cvtColor(normalize_image(img), cv2.COLOR_RGB2GRAY) for img in images])\n",
    "    # Image normalization\n",
    "    processed = (processed - np.mean(images))/np.std(images)\n",
    "    # Expand the array to maintain dimensions since grayscaling removes one dimension\n",
    "    return np.expand_dims(processed, axis=3)"
   ]
  },
  {
   "cell_type": "code",
   "execution_count": 11,
   "metadata": {},
   "outputs": [],
   "source": [
    "X_train_modified = X_train.copy()\n",
    "X_valid_modified = X_valid.copy()\n",
    "X_test_modified = X_test.copy()"
   ]
  },
  {
   "cell_type": "markdown",
   "metadata": {},
   "source": [
    "### Extending the Dataset with Augmented Images"
   ]
  },
  {
   "cell_type": "code",
   "execution_count": 12,
   "metadata": {},
   "outputs": [],
   "source": [
    "augment_indices = np.random.randint(0, X_train_modified.shape[0], 10000)\n",
    "X_train_extended = np.append(X_train_modified, augment_images(X_train_modified[augment_indices], 0.5), axis=0)\n",
    "y_train_extended = np.append(y_train, y_train[augment_indices], axis=0)"
   ]
  },
  {
   "cell_type": "code",
   "execution_count": 13,
   "metadata": {},
   "outputs": [],
   "source": [
    "X_train_modified = preprocess_images(X_train_modified)\n",
    "X_train_extended = preprocess_images(X_train_extended)\n",
    "X_valid_modified = preprocess_images(X_valid_modified)\n",
    "X_test_modified = preprocess_images(X_test_modified)"
   ]
  },
  {
   "cell_type": "markdown",
   "metadata": {},
   "source": [
    "#### Shuffling the Data\n",
    "The training data is shuffled to ensure training is randomized, in the case there is a structural relation in the data. An example is if the data is initially grouped by traffic sign, shuffling will randomize this by interspersing different signs."
   ]
  },
  {
   "cell_type": "code",
   "execution_count": 14,
   "metadata": {},
   "outputs": [],
   "source": [
    "from sklearn.utils import shuffle"
   ]
  },
  {
   "cell_type": "code",
   "execution_count": 15,
   "metadata": {
    "collapsed": true
   },
   "outputs": [],
   "source": [
    "### Preprocess the data here. It is required to normalize the data. Other preprocessing steps could include \n",
    "### converting to grayscale, etc.\n",
    "### Feel free to use as many code cells as needed.\n",
    "# X_train, y_train = shuffle(X_train, y_train)\n",
    "X_train_modified, y_train_modified = shuffle(X_train_modified, y_train)\n",
    "X_train_extended, y_train_extended = shuffle(X_train_extended, y_train_extended)"
   ]
  },
  {
   "cell_type": "markdown",
   "metadata": {},
   "source": [
    "## Model Architecture"
   ]
  },
  {
   "cell_type": "markdown",
   "metadata": {},
   "source": [
    "## Implement LeNet-5\n",
    "Implement the [LeNet-5](http://yann.lecun.com/exdb/lenet/) neural network architecture.\n",
    "\n",
    "This is the only cell you need to edit.\n",
    "### Input\n",
    "The LeNet architecture accepts a 32x32xC image as input, where C is the number of color channels. Since MNIST images are grayscale, C is 1 in this case.\n",
    "\n",
    "### Architecture\n",
    "**Layer 1: Convolutional.** The output shape should be 28x28x6.\n",
    "\n",
    "**Activation.** Your choice of activation function.\n",
    "\n",
    "**Pooling.** The output shape should be 14x14x6.\n",
    "\n",
    "**Layer 2: Convolutional.** The output shape should be 10x10x16.\n",
    "\n",
    "**Activation.** Your choice of activation function.\n",
    "\n",
    "**Pooling.** The output shape should be 5x5x16.\n",
    "\n",
    "**Flatten.** Flatten the output shape of the final pooling layer such that it's 1D instead of 3D. The easiest way to do is by using `tf.contrib.layers.flatten`, which is already imported for you.\n",
    "\n",
    "**Layer 3: Fully Connected.** This should have 120 outputs.\n",
    "\n",
    "**Activation.** Your choice of activation function.\n",
    "\n",
    "**Layer 4: Fully Connected.** This should have 84 outputs.\n",
    "\n",
    "**Activation.** Your choice of activation function.\n",
    "\n",
    "**Layer 5: Fully Connected (Logits).** This should have 10 outputs.\n",
    "\n",
    "### Output\n",
    "Return the result of the 2nd fully connected layer."
   ]
  },
  {
   "cell_type": "code",
   "execution_count": 16,
   "metadata": {},
   "outputs": [],
   "source": [
    "import tensorflow as tf"
   ]
  },
  {
   "cell_type": "code",
   "execution_count": 17,
   "metadata": {},
   "outputs": [],
   "source": [
    "from tensorflow.contrib.layers import flatten\n",
    "class Model():\n",
    "    '''\n",
    "    A class to define a CNN model.\n",
    "    :param conv_kernel: convolution filter size\n",
    "    :param pool_kernel: maxpooling kernel size\n",
    "    '''\n",
    "    def __init__(self, conv_kernel=3, pool_kernel=2, name='Modified LeNet-5 CNN'):\n",
    "        self.conv_kernel = conv_kernel\n",
    "        self.pool_kernel = pool_kernel\n",
    "        # Default dropout rates (useful in testing)\n",
    "        # self.p_conv = \n",
    "        # self.p_fc = \n",
    "        self.name = name\n",
    "\n",
    "\n",
    "    def architecture(self, x, p_conv, p_fc):\n",
    "        '''\n",
    "        A LeNet-5-based CNN.\n",
    "        '''    \n",
    "        # Arguments used for tf.truncated_normal, randomly defines variables for the weights and biases for each layer\n",
    "        mu = 0\n",
    "        sigma = 0.1\n",
    "        \n",
    "        # TODO: Layer 1: Convolutional. Input = 32x32x1. Output = 28x28x6.\n",
    "        wc1 = tf.Variable(tf.truncated_normal([self.conv_kernel,self.conv_kernel,1,32], mu, sigma), name='wc1')\n",
    "        bc1 = tf.Variable(tf.zeros([32]), name='bc1')\n",
    "        strides = [1,1,1,1]\n",
    "        padding = 'VALID'\n",
    "        \n",
    "        conv1 = tf.nn.conv2d(x, wc1, strides, padding) + bc1\n",
    "\n",
    "        # TODO: Activation.\n",
    "        conv1 = tf.nn.relu(conv1)\n",
    "\n",
    "        # TODO: Pooling. Input = 28x28x6. Output = 14x14x6.\n",
    "        # k_size (batch_size, height, width, depth) -> depth is 1 since it will create 6/1 output layers    \n",
    "        k_size = [1,self.pool_kernel,self.pool_kernel,1]\n",
    "        strides = [1,2,2,1]\n",
    "        \n",
    "        conv1 = tf.nn.max_pool(conv1, k_size, strides, padding)\n",
    "\n",
    "        # TODO: Layer 2: Convolutional. Output = 10x10x16.\n",
    "        wc2 = tf.Variable(tf.truncated_normal([self.conv_kernel,self.conv_kernel,32,64], mu, sigma), name='wc2')\n",
    "        bc2 = tf.Variable(tf.zeros([64]), name='bc2')\n",
    "        strides = [1,1,1,1]\n",
    "        \n",
    "        conv2 = tf.nn.conv2d(conv1, wc2, strides, padding) + bc2\n",
    "        \n",
    "        # TODO: Activation.\n",
    "        conv2 = tf.nn.relu(conv2)\n",
    "\n",
    "        # TODO: Pooling. Input = 10x10x16. Output = 5x5x16.\n",
    "        k_size = [1,self.pool_kernel,self.pool_kernel,1]\n",
    "        strides = [1,2,2,1]\n",
    "        \n",
    "        conv2 = tf.nn.max_pool(conv2, k_size, strides, padding)\n",
    "\n",
    "        # TODO: Layer 3: Convolutional. Output = 4x4x128.\n",
    "        wc3 = tf.Variable(tf.truncated_normal([3,3,64,128], mu, sigma), name='wc3')\n",
    "        bc3 = tf.Variable(tf.zeros([128]), name='bc3')\n",
    "        strides = [1,1,1,1]\n",
    "        \n",
    "        conv3 = tf.nn.conv2d(conv2, wc3, strides, padding) + bc3\n",
    "        \n",
    "        # TODO: Activation.\n",
    "        conv3 = tf.nn.relu(conv3)\n",
    "\n",
    "        # TODO: Pooling. Input = 10x10x16. Output = 5x5x16.\n",
    "        k_size = [1,self.pool_kernel,self.pool_kernel,1]\n",
    "        strides = [1,2,2,1]\n",
    "        \n",
    "        conv3 = tf.nn.max_pool(conv3, k_size, strides, padding)\n",
    "\n",
    "        # TODO: Flatten. Input = 5x5x16. Output = 400.\n",
    "        conv3 = flatten(conv3)\n",
    "\n",
    "        # Convolution dropout\n",
    "        conv3 = tf.nn.dropout(conv3, rate=p_conv)\n",
    "        \n",
    "        # TODO: Layer 3: Fully Connected. Input = 400. Output = 120.\n",
    "        wfc1 = tf.Variable(tf.truncated_normal([conv3.get_shape().as_list()[1],120], mu, sigma), name='wfc1')\n",
    "        bfc1 = tf.Variable(tf.zeros([120]), name='bfc1')\n",
    "        \n",
    "        fc1 = tf.add(tf.matmul(conv3, wfc1), bfc1)\n",
    "        \n",
    "        # TODO: Activation.\n",
    "        fc1 = tf.nn.relu(fc1)\n",
    "\n",
    "        # TODO: Layer 4: Fully Connected. Input = 120. Output = 84.\n",
    "        wfc2 = tf.Variable(tf.truncated_normal([120,84], mu, sigma), name='wfc2')\n",
    "        bfc2 = tf.Variable(tf.zeros([84]), name='bfc2')\n",
    "        \n",
    "        fc2 = tf.add(tf.matmul(fc1, wfc2), bfc2)\n",
    "        \n",
    "        # TODO: Activation.\n",
    "        fc2 = tf.nn.relu(fc2)\n",
    "\n",
    "        # Fully Connected Layer Dropout\n",
    "        fc2 = tf.nn.dropout(fc2, rate=p_fc)\n",
    "\n",
    "        # TODO: Layer 5: Fully Connected. Input = 84. Output = 43.\n",
    "        wfc3 = tf.Variable(tf.truncated_normal([84,43], mu, sigma), name='wfc3')\n",
    "        bfc3 = tf.Variable(tf.zeros([43]), name='bfc3')\n",
    "\n",
    "        \n",
    "        logits = tf.add(tf.matmul(fc2, wfc3), bfc3, name='logits')\n",
    "        \n",
    "        return logits    \n",
    "    \n",
    "    def init_model(self):\n",
    "        '''\n",
    "        Initialize model parameters for training.\n",
    "        :param x : batch of input images\n",
    "        :param y : output labels\n",
    "        '''\n",
    "        # Defining model execution parameters\n",
    "        x = tf.placeholder(tf.float32, (None, 32, 32, 1), name='x')\n",
    "        y = tf.placeholder(tf.int32, (None), name='y')\n",
    "        one_hot_y = tf.one_hot(y, 43)\n",
    "\n",
    "        p_conv = tf.placeholder_with_default(0.0, shape=(), name='p_conv')\n",
    "        p_fc = tf.placeholder_with_default(0.0, shape=(), name='p_fc')\n",
    "\n",
    "        self.logits = self.architecture(x, p_conv, p_fc)\n",
    "        return x, y, p_conv, p_fc, one_hot_y, self.logits\n",
    "\n"
   ]
  },
  {
   "cell_type": "code",
   "execution_count": 55,
   "metadata": {},
   "outputs": [],
   "source": [
    "class ModelExecutor():\n",
    "    '''\n",
    "    A class to execute model initialization, training and validation accuracy logging.\n",
    "    '''\n",
    "    def __init__(self, model=Model(), logging=True, save_model=True, model_dir='./', epochs=100, batch_size=512, rate=0.001):\n",
    "        self.model = model\n",
    "        self.logging = logging\n",
    "        # Model Saving Parameters\n",
    "        self.save_model = save_model\n",
    "        self.model_dir = model_dir\n",
    "        # Model Tuning Parameters\n",
    "        self.epochs = epochs\n",
    "        self.batch_size = batch_size\n",
    "        self.rate = rate\n",
    "        # Model Input Layer\n",
    "        self.x = None\n",
    "        # Model Output Layer\n",
    "        self.y = None\n",
    "        # Dropout Parameters\n",
    "        self.p_conv = None\n",
    "        self.p_fc = None\n",
    "        # Tensorflow Graph Instance\n",
    "        self.graph = tf.Graph()\n",
    "        # Moel Execution Parameters\n",
    "        self.loss_operation = None\n",
    "        self.training_operation = None\n",
    "        self.accuracy_operation = None\n",
    "        # Plotting Parameters\n",
    "        self.log_batch_step = 1\n",
    "        self.batches = []\n",
    "        self.train_loss_batch = []\n",
    "        self.valid_loss_batch = []\n",
    "        self.train_acc_batch = []\n",
    "        self.valid_acc_batch = []\n",
    "\n",
    "\n",
    "    def init_optimization_params(self):\n",
    "        '''\n",
    "        Define optimization parameters for training.\n",
    "        '''\n",
    "        # Creating a graph instance with scope corresponding to this class\n",
    "        with self.graph.as_default() as g:\n",
    "            with g.name_scope(self.model.name) as scope:\n",
    "                # Initialize model parameters\n",
    "                self.x, self.y, self.p_conv, self.p_fc, one_hot_y, logits = self.model.init_model()\n",
    "                cross_entropy = tf.nn.softmax_cross_entropy_with_logits(labels=one_hot_y, logits=logits)\n",
    "                self.loss_operation = tf.reduce_mean(cross_entropy, name='loss_operation')\n",
    "                optimizer = tf.train.AdamOptimizer(learning_rate = self.rate)\n",
    "                \n",
    "                # Training Operation  \n",
    "                self.training_operation = optimizer.minimize(self.loss_operation, name='training_operation')\n",
    "\n",
    "                # Accuracy Operation\n",
    "                correct_prediction = tf.equal(tf.argmax(logits, 1), tf.argmax(one_hot_y, 1))\n",
    "                self.accuracy_operation = tf.reduce_mean(tf.cast(correct_prediction, tf.float32), name='accuracy_operation')\n",
    "\n",
    "\n",
    "    def evaluate(self, X_data, y_data):\n",
    "        '''\n",
    "        Evaluate the model loss and accuracy by computing the average of the parameters for each batch.\n",
    "        '''\n",
    "        num_examples = len(X_data)\n",
    "        total_loss = 0\n",
    "        total_accuracy = 0\n",
    "        sess = tf.get_default_session()\n",
    "        for offset in range(0, num_examples, self.batch_size):\n",
    "            batch_x, batch_y = X_data[offset:offset+self.batch_size], y_data[offset:offset+self.batch_size]\n",
    "            loss, accuracy = sess.run([self.loss_operation,self.accuracy_operation], feed_dict={self.x: batch_x, self.y: batch_y})\n",
    "            total_loss += (loss * len(batch_x))\n",
    "            total_accuracy += (accuracy * len(batch_x))\n",
    "        return (total_loss / num_examples), (total_accuracy / num_examples)\n",
    "\n",
    "    \n",
    "    def log(self, batch, training_loss, validation_loss, training_accuracy, validation_accuracy):\n",
    "        '''\n",
    "        Model accuracy logging for the training and validation set.\n",
    "        '''\n",
    "        if self.logging and not (batch % self.log_batch_step):\n",
    "            # Log batches\n",
    "            previous_batch = self.batches[-1] if self.batches else 0\n",
    "            self.batches.append(self.log_batch_step + previous_batch)\n",
    "            # Loss\n",
    "            self.train_loss_batch.append(training_loss)\n",
    "            self.valid_loss_batch.append(validation_loss)\n",
    "            # Accuracy\n",
    "            self.train_acc_batch.append(training_accuracy)\n",
    "            self.valid_acc_batch.append(validation_accuracy)\n",
    "\n",
    "\n",
    "    def train(self, X_train, y_train, X_valid, y_valid, p_conv=0.25, p_fc=0.5):\n",
    "        '''\n",
    "        Trains a LeNet5-style CNN on the provided training data.\n",
    "        :param X_train: 32x32 1-channel training image data\n",
    "        :param y_train: training image labels\n",
    "        :param X_valid: 32x32 1-channel validation image data\n",
    "        :param y_valid: validation image labels\n",
    "        :param p_conv: convolution layer remove probability\n",
    "        :param p_fc: fully-connected layer remove probability\n",
    "        '''\n",
    "\n",
    "        self.init_optimization_params()\n",
    "\n",
    "        with tf.Session(graph=self.graph) as sess:\n",
    "            saver = tf.train.Saver()\n",
    "            sess.run(tf.global_variables_initializer())\n",
    "            num_examples = len(X_train)\n",
    "            \n",
    "            print(\"Training...\")\n",
    "            print()\n",
    "            for i in range(self.epochs):\n",
    "                X_train, y_train = shuffle(X_train, y_train)\n",
    "                for offset in range(0, num_examples, self.batch_size):\n",
    "                    end = offset + self.batch_size\n",
    "                    batch_x, batch_y = X_train[offset:end], y_train[offset:end]\n",
    "                    sess.run(self.training_operation, feed_dict={\n",
    "                        self.x: batch_x, \n",
    "                        self.y: batch_y,\n",
    "                        self.p_conv: p_conv,\n",
    "                        self.p_fc: p_fc})\n",
    "\n",
    "                # Calculate Training and Validation Accuracies\n",
    "                training_loss, training_accuracy = self.evaluate(X_train, y_train)    \n",
    "                validation_loss, validation_accuracy = self.evaluate(X_valid, y_valid)\n",
    "\n",
    "                # Accuracy Logging\n",
    "                self.log(i, training_loss, validation_loss, training_accuracy, validation_accuracy)\n",
    "                \n",
    "                # Progress Logging\n",
    "                print(\"EPOCH {} ...\".format(i+1))\n",
    "                print(\"Validation Accuracy = {:.3f}\".format(validation_accuracy))\n",
    "                print()\n",
    "            # Save Model\n",
    "            if self.save_model:    \n",
    "                saver.save(sess, self.model_dir+'/lenet'+self.model.name.replace(\" \", \"_\"))\n",
    "                print(\"Model saved\")\n",
    "\n",
    "\n",
    "    def run_eval(self, inputs, labels):\n",
    "        '''\n",
    "        Runs the trained network on given inputs and labels, and returns the loss and accuracy.\n",
    "        Returns:\n",
    "        :param loss: model loss\n",
    "        :param accuracy: model accuracy\n",
    "        '''\n",
    "        tf.reset_default_graph()\n",
    "        saver = tf.train.import_meta_graph(self.model_dir +'/lenet'+self.model.name.replace(\" \", \"_\")+'.meta')\n",
    "        with tf.Session() as sess:\n",
    "            saver.restore(sess, self.model_dir +'/lenet'+self.model.name.replace(\" \", \"_\"))\n",
    "            graph = tf.get_default_graph()\n",
    "            with graph.name_scope(self.model.name) as scope:\n",
    "                # Getting graph parameters\n",
    "                x = graph.get_tensor_by_name(scope+'x:0')\n",
    "                y = graph.get_tensor_by_name(scope+'y:0')\n",
    "                loss_op = graph.get_tensor_by_name(scope+'loss_operation:0')\n",
    "                acc_op = graph.get_tensor_by_name(scope+'accuracy_operation:0')\n",
    "                # Run in batches if provided inputs are large\n",
    "                num_examples = len(inputs)\n",
    "                total_loss = 0\n",
    "                total_accuracy = 0\n",
    "                for offset in range(0, num_examples, self.batch_size):\n",
    "                    batch_x, batch_y = inputs[offset:offset+self.batch_size], labels[offset:offset+self.batch_size]\n",
    "                    loss, accuracy = sess.run([loss_op, acc_op], feed_dict={x:batch_x, y:batch_y})\n",
    "                    total_loss += (loss*len(batch_x))\n",
    "                    total_accuracy += (accuracy*len(batch_x))\n",
    "                return (total_loss/num_examples), (total_accuracy/num_examples)\n",
    "\n",
    "    def run(self, inputs):\n",
    "        '''\n",
    "        Runs the trained network on given inputs, and returns the logits.\n",
    "        '''\n",
    "        tf.reset_default_graph()\n",
    "        saver = tf.train.import_meta_graph(self.model_dir+'/lenet'+self.model.name.replace(\" \", \"_\")+'.meta')\n",
    "        with tf.Session() as sess:\n",
    "            saver.restore(sess, self.model_dir +'/lenet'+self.model.name.replace(\" \", \"_\"))\n",
    "            graph = tf.get_default_graph()\n",
    "            with graph.name_scope(self.model.name) as scope:\n",
    "                # Getting graph parameters\n",
    "                x = graph.get_tensor_by_name(scope+'x:0')\n",
    "                op = graph.get_tensor_by_name(scope+'logits:0')\n",
    "                # Run in batches if provided inputs are large\n",
    "                num_examples = len(inputs)\n",
    "                logits = []\n",
    "                for offset in range(0, num_examples, self.batch_size):\n",
    "                    batch_x = inputs[offset:offset+self.batch_size]\n",
    "                    logits.append(sess.run(op, feed_dict={x: batch_x}))\n",
    "                return np.array(logits)\n",
    "\n",
    "    def plot_performance(self):\n",
    "        '''\n",
    "        Plots the model's performance during training on the training and validation sets.\n",
    "        '''\n",
    "        loss_plot = plt.subplot(212)\n",
    "        loss_plot.set_title('Loss')\n",
    "        loss_plot.plot(self.batches, self.train_loss_batch, 'g', label='Training Loss')\n",
    "        loss_plot.plot(self.batches, self.valid_loss_batch, 'x', label='Validation Loss')\n",
    "        loss_plot.set_xlim([self.batches[0], self.batches[-1]])\n",
    "        loss_plot.legend(loc=4)\n",
    "        plt.tight_layout()\n",
    "        plt.show()\n",
    "\n",
    "        acc_plot = plt.subplot(212)\n",
    "        acc_plot.set_title('Accuracy')\n",
    "        acc_plot.plot(self.batches, self.train_acc_batch, 'r', label='Training Accuracy')\n",
    "        acc_plot.plot(self.batches, self.valid_acc_batch, 'x', label='Validation Accuracy')\n",
    "        acc_plot.set_ylim([0, 1.0])\n",
    "        acc_plot.set_xlim([self.batches[0], self.batches[-1]])\n",
    "        acc_plot.legend(loc=4)\n",
    "        plt.tight_layout()\n",
    "        plt.show()\n",
    "\n",
    "    def plot_values(self):\n",
    "        '''\n",
    "        Returns logged training and validation accuracy scores, and coresponding epoch values.\n",
    "        '''\n",
    "        return self.batches, self.train_loss_batch, self.valid_loss_batch, self.train_acc_batch, self.valid_acc_batch\n"
   ]
  },
  {
   "cell_type": "markdown",
   "metadata": {},
   "source": [
    "## Train the Model\n",
    "The LeNet-5-style model is trained using different parameters for the convolution and pooling kernels, and dropout probabilities. This is done for four (4) models, and is tested against a validation set to determine overfitting.\n",
    "\n",
    "Run the training data through the training pipeline to train the model.\n",
    "\n",
    "Before each epoch, shuffle the training set.\n",
    "\n",
    "After each epoch, measure the loss and accuracy of the validation set.\n",
    "\n",
    "Save the model after training.\n",
    "\n",
    "A validation set can be used to assess how well the model is performing. A low accuracy on the training and validation\n",
    "sets imply underfitting. A high accuracy on the training set but low accuracy on the validation set implies overfitting."
   ]
  },
  {
   "cell_type": "markdown",
   "metadata": {},
   "source": [
    "#### Model A\n",
    "This model uses a 5x5 convolution kernel for the first 2 convolution layers, and a 3x3 for the third convolution layer, with 2x2 maxpool filters, and does not include dropout."
   ]
  },
  {
   "cell_type": "code",
   "execution_count": 24,
   "metadata": {},
   "outputs": [],
   "source": [
    "model_5x5 = Model(name='5x5_nodropout', conv_kernel=5, pool_kernel=2)\n",
    "model_a = ModelExecutor(model_5x5, model_dir='./models', epochs=5)"
   ]
  },
  {
   "cell_type": "code",
   "execution_count": 25,
   "metadata": {},
   "outputs": [
    {
     "output_type": "stream",
     "name": "stdout",
     "text": [
      "WARNING:tensorflow:From C:\\Users\\rezar\\anaconda3\\envs\\dl2\\lib\\site-packages\\tensorflow_core\\contrib\\layers\\python\\layers\\layers.py:1634: flatten (from tensorflow.python.layers.core) is deprecated and will be removed in a future version.\n",
      "Instructions for updating:\n",
      "Use keras.layers.flatten instead.\n",
      "WARNING:tensorflow:From C:\\Users\\rezar\\anaconda3\\envs\\dl2\\lib\\site-packages\\tensorflow_core\\python\\layers\\core.py:332: Layer.apply (from tensorflow.python.keras.engine.base_layer) is deprecated and will be removed in a future version.\n",
      "Instructions for updating:\n",
      "Please use `layer.__call__` method instead.\n",
      "WARNING:tensorflow:From <ipython-input-18-aa8e0cb17228>:46: softmax_cross_entropy_with_logits (from tensorflow.python.ops.nn_ops) is deprecated and will be removed in a future version.\n",
      "Instructions for updating:\n",
      "\n",
      "Future major versions of TensorFlow will allow gradients to flow\n",
      "into the labels input on backprop by default.\n",
      "\n",
      "See `tf.nn.softmax_cross_entropy_with_logits_v2`.\n",
      "\n",
      "Training...\n",
      "\n",
      "EPOCH 1 ...\n",
      "Validation Accuracy = 0.715\n",
      "\n",
      "EPOCH 2 ...\n",
      "Validation Accuracy = 0.867\n",
      "\n"
     ]
    },
    {
     "output_type": "error",
     "ename": "KeyboardInterrupt",
     "evalue": "",
     "traceback": [
      "\u001b[1;31m---------------------------------------------------------------------------\u001b[0m",
      "\u001b[1;31mKeyboardInterrupt\u001b[0m                         Traceback (most recent call last)",
      "\u001b[1;32m<ipython-input-25-3a521a5b6f69>\u001b[0m in \u001b[0;36m<module>\u001b[1;34m\u001b[0m\n\u001b[1;32m----> 1\u001b[1;33m \u001b[0mmodel_a\u001b[0m\u001b[1;33m.\u001b[0m\u001b[0mtrain\u001b[0m\u001b[1;33m(\u001b[0m\u001b[0mX_train_modified\u001b[0m\u001b[1;33m,\u001b[0m \u001b[0my_train_modified\u001b[0m\u001b[1;33m,\u001b[0m \u001b[0mX_valid_modified\u001b[0m\u001b[1;33m,\u001b[0m \u001b[0my_valid\u001b[0m\u001b[1;33m,\u001b[0m \u001b[0mp_conv\u001b[0m\u001b[1;33m=\u001b[0m\u001b[1;36m0\u001b[0m\u001b[1;33m,\u001b[0m \u001b[0mp_fc\u001b[0m\u001b[1;33m=\u001b[0m\u001b[1;36m0\u001b[0m\u001b[1;33m)\u001b[0m\u001b[1;33m\u001b[0m\u001b[0m\n\u001b[0m",
      "\u001b[1;32m<ipython-input-18-aa8e0cb17228>\u001b[0m in \u001b[0;36mtrain\u001b[1;34m(self, X_train, y_train, X_valid, y_valid, p_conv, p_fc)\u001b[0m\n\u001b[0;32m    117\u001b[0m                         \u001b[0mself\u001b[0m\u001b[1;33m.\u001b[0m\u001b[0my\u001b[0m\u001b[1;33m:\u001b[0m \u001b[0mbatch_y\u001b[0m\u001b[1;33m,\u001b[0m\u001b[1;33m\u001b[0m\u001b[0m\n\u001b[0;32m    118\u001b[0m                         \u001b[0mself\u001b[0m\u001b[1;33m.\u001b[0m\u001b[0mp_conv\u001b[0m\u001b[1;33m:\u001b[0m \u001b[0mp_conv\u001b[0m\u001b[1;33m,\u001b[0m\u001b[1;33m\u001b[0m\u001b[0m\n\u001b[1;32m--> 119\u001b[1;33m                         self.p_fc: p_fc})\n\u001b[0m\u001b[0;32m    120\u001b[0m \u001b[1;33m\u001b[0m\u001b[0m\n\u001b[0;32m    121\u001b[0m                 \u001b[1;31m# Calculate Training and Validation Accuracies\u001b[0m\u001b[1;33m\u001b[0m\u001b[1;33m\u001b[0m\u001b[0m\n",
      "\u001b[1;32m~\\anaconda3\\envs\\dl2\\lib\\site-packages\\tensorflow_core\\python\\client\\session.py\u001b[0m in \u001b[0;36mrun\u001b[1;34m(self, fetches, feed_dict, options, run_metadata)\u001b[0m\n\u001b[0;32m    954\u001b[0m     \u001b[1;32mtry\u001b[0m\u001b[1;33m:\u001b[0m\u001b[1;33m\u001b[0m\u001b[0m\n\u001b[0;32m    955\u001b[0m       result = self._run(None, fetches, feed_dict, options_ptr,\n\u001b[1;32m--> 956\u001b[1;33m                          run_metadata_ptr)\n\u001b[0m\u001b[0;32m    957\u001b[0m       \u001b[1;32mif\u001b[0m \u001b[0mrun_metadata\u001b[0m\u001b[1;33m:\u001b[0m\u001b[1;33m\u001b[0m\u001b[0m\n\u001b[0;32m    958\u001b[0m         \u001b[0mproto_data\u001b[0m \u001b[1;33m=\u001b[0m \u001b[0mtf_session\u001b[0m\u001b[1;33m.\u001b[0m\u001b[0mTF_GetBuffer\u001b[0m\u001b[1;33m(\u001b[0m\u001b[0mrun_metadata_ptr\u001b[0m\u001b[1;33m)\u001b[0m\u001b[1;33m\u001b[0m\u001b[0m\n",
      "\u001b[1;32m~\\anaconda3\\envs\\dl2\\lib\\site-packages\\tensorflow_core\\python\\client\\session.py\u001b[0m in \u001b[0;36m_run\u001b[1;34m(self, handle, fetches, feed_dict, options, run_metadata)\u001b[0m\n\u001b[0;32m   1178\u001b[0m     \u001b[1;32mif\u001b[0m \u001b[0mfinal_fetches\u001b[0m \u001b[1;32mor\u001b[0m \u001b[0mfinal_targets\u001b[0m \u001b[1;32mor\u001b[0m \u001b[1;33m(\u001b[0m\u001b[0mhandle\u001b[0m \u001b[1;32mand\u001b[0m \u001b[0mfeed_dict_tensor\u001b[0m\u001b[1;33m)\u001b[0m\u001b[1;33m:\u001b[0m\u001b[1;33m\u001b[0m\u001b[0m\n\u001b[0;32m   1179\u001b[0m       results = self._do_run(handle, final_targets, final_fetches,\n\u001b[1;32m-> 1180\u001b[1;33m                              feed_dict_tensor, options, run_metadata)\n\u001b[0m\u001b[0;32m   1181\u001b[0m     \u001b[1;32melse\u001b[0m\u001b[1;33m:\u001b[0m\u001b[1;33m\u001b[0m\u001b[0m\n\u001b[0;32m   1182\u001b[0m       \u001b[0mresults\u001b[0m \u001b[1;33m=\u001b[0m \u001b[1;33m[\u001b[0m\u001b[1;33m]\u001b[0m\u001b[1;33m\u001b[0m\u001b[0m\n",
      "\u001b[1;32m~\\anaconda3\\envs\\dl2\\lib\\site-packages\\tensorflow_core\\python\\client\\session.py\u001b[0m in \u001b[0;36m_do_run\u001b[1;34m(self, handle, target_list, fetch_list, feed_dict, options, run_metadata)\u001b[0m\n\u001b[0;32m   1357\u001b[0m     \u001b[1;32mif\u001b[0m \u001b[0mhandle\u001b[0m \u001b[1;32mis\u001b[0m \u001b[1;32mNone\u001b[0m\u001b[1;33m:\u001b[0m\u001b[1;33m\u001b[0m\u001b[0m\n\u001b[0;32m   1358\u001b[0m       return self._do_call(_run_fn, feeds, fetches, targets, options,\n\u001b[1;32m-> 1359\u001b[1;33m                            run_metadata)\n\u001b[0m\u001b[0;32m   1360\u001b[0m     \u001b[1;32melse\u001b[0m\u001b[1;33m:\u001b[0m\u001b[1;33m\u001b[0m\u001b[0m\n\u001b[0;32m   1361\u001b[0m       \u001b[1;32mreturn\u001b[0m \u001b[0mself\u001b[0m\u001b[1;33m.\u001b[0m\u001b[0m_do_call\u001b[0m\u001b[1;33m(\u001b[0m\u001b[0m_prun_fn\u001b[0m\u001b[1;33m,\u001b[0m \u001b[0mhandle\u001b[0m\u001b[1;33m,\u001b[0m \u001b[0mfeeds\u001b[0m\u001b[1;33m,\u001b[0m \u001b[0mfetches\u001b[0m\u001b[1;33m)\u001b[0m\u001b[1;33m\u001b[0m\u001b[0m\n",
      "\u001b[1;32m~\\anaconda3\\envs\\dl2\\lib\\site-packages\\tensorflow_core\\python\\client\\session.py\u001b[0m in \u001b[0;36m_do_call\u001b[1;34m(self, fn, *args)\u001b[0m\n\u001b[0;32m   1363\u001b[0m   \u001b[1;32mdef\u001b[0m \u001b[0m_do_call\u001b[0m\u001b[1;33m(\u001b[0m\u001b[0mself\u001b[0m\u001b[1;33m,\u001b[0m \u001b[0mfn\u001b[0m\u001b[1;33m,\u001b[0m \u001b[1;33m*\u001b[0m\u001b[0margs\u001b[0m\u001b[1;33m)\u001b[0m\u001b[1;33m:\u001b[0m\u001b[1;33m\u001b[0m\u001b[0m\n\u001b[0;32m   1364\u001b[0m     \u001b[1;32mtry\u001b[0m\u001b[1;33m:\u001b[0m\u001b[1;33m\u001b[0m\u001b[0m\n\u001b[1;32m-> 1365\u001b[1;33m       \u001b[1;32mreturn\u001b[0m \u001b[0mfn\u001b[0m\u001b[1;33m(\u001b[0m\u001b[1;33m*\u001b[0m\u001b[0margs\u001b[0m\u001b[1;33m)\u001b[0m\u001b[1;33m\u001b[0m\u001b[0m\n\u001b[0m\u001b[0;32m   1366\u001b[0m     \u001b[1;32mexcept\u001b[0m \u001b[0merrors\u001b[0m\u001b[1;33m.\u001b[0m\u001b[0mOpError\u001b[0m \u001b[1;32mas\u001b[0m \u001b[0me\u001b[0m\u001b[1;33m:\u001b[0m\u001b[1;33m\u001b[0m\u001b[0m\n\u001b[0;32m   1367\u001b[0m       \u001b[0mmessage\u001b[0m \u001b[1;33m=\u001b[0m \u001b[0mcompat\u001b[0m\u001b[1;33m.\u001b[0m\u001b[0mas_text\u001b[0m\u001b[1;33m(\u001b[0m\u001b[0me\u001b[0m\u001b[1;33m.\u001b[0m\u001b[0mmessage\u001b[0m\u001b[1;33m)\u001b[0m\u001b[1;33m\u001b[0m\u001b[0m\n",
      "\u001b[1;32m~\\anaconda3\\envs\\dl2\\lib\\site-packages\\tensorflow_core\\python\\client\\session.py\u001b[0m in \u001b[0;36m_run_fn\u001b[1;34m(feed_dict, fetch_list, target_list, options, run_metadata)\u001b[0m\n\u001b[0;32m   1348\u001b[0m       \u001b[0mself\u001b[0m\u001b[1;33m.\u001b[0m\u001b[0m_extend_graph\u001b[0m\u001b[1;33m(\u001b[0m\u001b[1;33m)\u001b[0m\u001b[1;33m\u001b[0m\u001b[0m\n\u001b[0;32m   1349\u001b[0m       return self._call_tf_sessionrun(options, feed_dict, fetch_list,\n\u001b[1;32m-> 1350\u001b[1;33m                                       target_list, run_metadata)\n\u001b[0m\u001b[0;32m   1351\u001b[0m \u001b[1;33m\u001b[0m\u001b[0m\n\u001b[0;32m   1352\u001b[0m     \u001b[1;32mdef\u001b[0m \u001b[0m_prun_fn\u001b[0m\u001b[1;33m(\u001b[0m\u001b[0mhandle\u001b[0m\u001b[1;33m,\u001b[0m \u001b[0mfeed_dict\u001b[0m\u001b[1;33m,\u001b[0m \u001b[0mfetch_list\u001b[0m\u001b[1;33m)\u001b[0m\u001b[1;33m:\u001b[0m\u001b[1;33m\u001b[0m\u001b[0m\n",
      "\u001b[1;32m~\\anaconda3\\envs\\dl2\\lib\\site-packages\\tensorflow_core\\python\\client\\session.py\u001b[0m in \u001b[0;36m_call_tf_sessionrun\u001b[1;34m(self, options, feed_dict, fetch_list, target_list, run_metadata)\u001b[0m\n\u001b[0;32m   1441\u001b[0m     return tf_session.TF_SessionRun_wrapper(self._session, options, feed_dict,\n\u001b[0;32m   1442\u001b[0m                                             \u001b[0mfetch_list\u001b[0m\u001b[1;33m,\u001b[0m \u001b[0mtarget_list\u001b[0m\u001b[1;33m,\u001b[0m\u001b[1;33m\u001b[0m\u001b[0m\n\u001b[1;32m-> 1443\u001b[1;33m                                             run_metadata)\n\u001b[0m\u001b[0;32m   1444\u001b[0m \u001b[1;33m\u001b[0m\u001b[0m\n\u001b[0;32m   1445\u001b[0m   \u001b[1;32mdef\u001b[0m \u001b[0m_call_tf_sessionprun\u001b[0m\u001b[1;33m(\u001b[0m\u001b[0mself\u001b[0m\u001b[1;33m,\u001b[0m \u001b[0mhandle\u001b[0m\u001b[1;33m,\u001b[0m \u001b[0mfeed_dict\u001b[0m\u001b[1;33m,\u001b[0m \u001b[0mfetch_list\u001b[0m\u001b[1;33m)\u001b[0m\u001b[1;33m:\u001b[0m\u001b[1;33m\u001b[0m\u001b[0m\n",
      "\u001b[1;31mKeyboardInterrupt\u001b[0m: "
     ]
    }
   ],
   "source": [
    "model_a.train(X_train_modified, y_train_modified, X_valid_modified, y_valid, p_conv=0, p_fc=0)"
   ]
  },
  {
   "cell_type": "code",
   "execution_count": 21,
   "metadata": {},
   "outputs": [
    {
     "output_type": "display_data",
     "data": {
      "text/plain": "<Figure size 432x288 with 1 Axes>",
      "image/svg+xml": "<?xml version=\"1.0\" encoding=\"utf-8\" standalone=\"no\"?>\r\n<!DOCTYPE svg PUBLIC \"-//W3C//DTD SVG 1.1//EN\"\r\n  \"http://www.w3.org/Graphics/SVG/1.1/DTD/svg11.dtd\">\r\n<!-- Created with matplotlib (https://matplotlib.org/) -->\r\n<svg height=\"157.49625pt\" version=\"1.1\" viewBox=\"0 0 418.279687 157.49625\" width=\"418.279687pt\" xmlns=\"http://www.w3.org/2000/svg\" xmlns:xlink=\"http://www.w3.org/1999/xlink\">\r\n <metadata>\r\n  <rdf:RDF xmlns:cc=\"http://creativecommons.org/ns#\" xmlns:dc=\"http://purl.org/dc/elements/1.1/\" xmlns:rdf=\"http://www.w3.org/1999/02/22-rdf-syntax-ns#\">\r\n   <cc:Work>\r\n    <dc:type rdf:resource=\"http://purl.org/dc/dcmitype/StillImage\"/>\r\n    <dc:date>2020-12-29T17:16:29.542227</dc:date>\r\n    <dc:format>image/svg+xml</dc:format>\r\n    <dc:creator>\r\n     <cc:Agent>\r\n      <dc:title>Matplotlib v3.3.2, https://matplotlib.org/</dc:title>\r\n     </cc:Agent>\r\n    </dc:creator>\r\n   </cc:Work>\r\n  </rdf:RDF>\r\n </metadata>\r\n <defs>\r\n  <style type=\"text/css\">*{stroke-linecap:butt;stroke-linejoin:round;}</style>\r\n </defs>\r\n <g id=\"figure_1\">\r\n  <g id=\"patch_1\">\r\n   <path d=\"M 0 157.49625 \r\nL 418.279687 157.49625 \r\nL 418.279687 0 \r\nL 0 0 \r\nz\r\n\" style=\"fill:none;\"/>\r\n  </g>\r\n  <g id=\"axes_1\">\r\n   <g id=\"patch_2\">\r\n    <path d=\"M 30.103125 133.618125 \r\nL 403.128125 133.618125 \r\nL 403.128125 22.318125 \r\nL 30.103125 22.318125 \r\nz\r\n\" style=\"fill:#ffffff;\"/>\r\n   </g>\r\n   <g id=\"matplotlib.axis_1\">\r\n    <g id=\"xtick_1\">\r\n     <g id=\"line2d_1\">\r\n      <defs>\r\n       <path d=\"M 0 0 \r\nL 0 3.5 \r\n\" id=\"mafa9b012f1\" style=\"stroke:#000000;stroke-width:0.8;\"/>\r\n      </defs>\r\n      <g>\r\n       <use style=\"stroke:#000000;stroke-width:0.8;\" x=\"30.103125\" xlink:href=\"#mafa9b012f1\" y=\"133.618125\"/>\r\n      </g>\r\n     </g>\r\n     <g id=\"text_1\">\r\n      <!-- 1.0 -->\r\n      <g transform=\"translate(22.151563 148.216562)scale(0.1 -0.1)\">\r\n       <defs>\r\n        <path d=\"M 12.40625 8.296875 \r\nL 28.515625 8.296875 \r\nL 28.515625 63.921875 \r\nL 10.984375 60.40625 \r\nL 10.984375 69.390625 \r\nL 28.421875 72.90625 \r\nL 38.28125 72.90625 \r\nL 38.28125 8.296875 \r\nL 54.390625 8.296875 \r\nL 54.390625 0 \r\nL 12.40625 0 \r\nz\r\n\" id=\"DejaVuSans-49\"/>\r\n        <path d=\"M 10.6875 12.40625 \r\nL 21 12.40625 \r\nL 21 0 \r\nL 10.6875 0 \r\nz\r\n\" id=\"DejaVuSans-46\"/>\r\n        <path d=\"M 31.78125 66.40625 \r\nQ 24.171875 66.40625 20.328125 58.90625 \r\nQ 16.5 51.421875 16.5 36.375 \r\nQ 16.5 21.390625 20.328125 13.890625 \r\nQ 24.171875 6.390625 31.78125 6.390625 \r\nQ 39.453125 6.390625 43.28125 13.890625 \r\nQ 47.125 21.390625 47.125 36.375 \r\nQ 47.125 51.421875 43.28125 58.90625 \r\nQ 39.453125 66.40625 31.78125 66.40625 \r\nz\r\nM 31.78125 74.21875 \r\nQ 44.046875 74.21875 50.515625 64.515625 \r\nQ 56.984375 54.828125 56.984375 36.375 \r\nQ 56.984375 17.96875 50.515625 8.265625 \r\nQ 44.046875 -1.421875 31.78125 -1.421875 \r\nQ 19.53125 -1.421875 13.0625 8.265625 \r\nQ 6.59375 17.96875 6.59375 36.375 \r\nQ 6.59375 54.828125 13.0625 64.515625 \r\nQ 19.53125 74.21875 31.78125 74.21875 \r\nz\r\n\" id=\"DejaVuSans-48\"/>\r\n       </defs>\r\n       <use xlink:href=\"#DejaVuSans-49\"/>\r\n       <use x=\"63.623047\" xlink:href=\"#DejaVuSans-46\"/>\r\n       <use x=\"95.410156\" xlink:href=\"#DejaVuSans-48\"/>\r\n      </g>\r\n     </g>\r\n    </g>\r\n    <g id=\"xtick_2\">\r\n     <g id=\"line2d_2\">\r\n      <g>\r\n       <use style=\"stroke:#000000;stroke-width:0.8;\" x=\"76.73125\" xlink:href=\"#mafa9b012f1\" y=\"133.618125\"/>\r\n      </g>\r\n     </g>\r\n     <g id=\"text_2\">\r\n      <!-- 1.5 -->\r\n      <g transform=\"translate(68.779687 148.216562)scale(0.1 -0.1)\">\r\n       <defs>\r\n        <path d=\"M 10.796875 72.90625 \r\nL 49.515625 72.90625 \r\nL 49.515625 64.59375 \r\nL 19.828125 64.59375 \r\nL 19.828125 46.734375 \r\nQ 21.96875 47.46875 24.109375 47.828125 \r\nQ 26.265625 48.1875 28.421875 48.1875 \r\nQ 40.625 48.1875 47.75 41.5 \r\nQ 54.890625 34.8125 54.890625 23.390625 \r\nQ 54.890625 11.625 47.5625 5.09375 \r\nQ 40.234375 -1.421875 26.90625 -1.421875 \r\nQ 22.3125 -1.421875 17.546875 -0.640625 \r\nQ 12.796875 0.140625 7.71875 1.703125 \r\nL 7.71875 11.625 \r\nQ 12.109375 9.234375 16.796875 8.0625 \r\nQ 21.484375 6.890625 26.703125 6.890625 \r\nQ 35.15625 6.890625 40.078125 11.328125 \r\nQ 45.015625 15.765625 45.015625 23.390625 \r\nQ 45.015625 31 40.078125 35.4375 \r\nQ 35.15625 39.890625 26.703125 39.890625 \r\nQ 22.75 39.890625 18.8125 39.015625 \r\nQ 14.890625 38.140625 10.796875 36.28125 \r\nz\r\n\" id=\"DejaVuSans-53\"/>\r\n       </defs>\r\n       <use xlink:href=\"#DejaVuSans-49\"/>\r\n       <use x=\"63.623047\" xlink:href=\"#DejaVuSans-46\"/>\r\n       <use x=\"95.410156\" xlink:href=\"#DejaVuSans-53\"/>\r\n      </g>\r\n     </g>\r\n    </g>\r\n    <g id=\"xtick_3\">\r\n     <g id=\"line2d_3\">\r\n      <g>\r\n       <use style=\"stroke:#000000;stroke-width:0.8;\" x=\"123.359375\" xlink:href=\"#mafa9b012f1\" y=\"133.618125\"/>\r\n      </g>\r\n     </g>\r\n     <g id=\"text_3\">\r\n      <!-- 2.0 -->\r\n      <g transform=\"translate(115.407813 148.216562)scale(0.1 -0.1)\">\r\n       <defs>\r\n        <path d=\"M 19.1875 8.296875 \r\nL 53.609375 8.296875 \r\nL 53.609375 0 \r\nL 7.328125 0 \r\nL 7.328125 8.296875 \r\nQ 12.9375 14.109375 22.625 23.890625 \r\nQ 32.328125 33.6875 34.8125 36.53125 \r\nQ 39.546875 41.84375 41.421875 45.53125 \r\nQ 43.3125 49.21875 43.3125 52.78125 \r\nQ 43.3125 58.59375 39.234375 62.25 \r\nQ 35.15625 65.921875 28.609375 65.921875 \r\nQ 23.96875 65.921875 18.8125 64.3125 \r\nQ 13.671875 62.703125 7.8125 59.421875 \r\nL 7.8125 69.390625 \r\nQ 13.765625 71.78125 18.9375 73 \r\nQ 24.125 74.21875 28.421875 74.21875 \r\nQ 39.75 74.21875 46.484375 68.546875 \r\nQ 53.21875 62.890625 53.21875 53.421875 \r\nQ 53.21875 48.921875 51.53125 44.890625 \r\nQ 49.859375 40.875 45.40625 35.40625 \r\nQ 44.1875 33.984375 37.640625 27.21875 \r\nQ 31.109375 20.453125 19.1875 8.296875 \r\nz\r\n\" id=\"DejaVuSans-50\"/>\r\n       </defs>\r\n       <use xlink:href=\"#DejaVuSans-50\"/>\r\n       <use x=\"63.623047\" xlink:href=\"#DejaVuSans-46\"/>\r\n       <use x=\"95.410156\" xlink:href=\"#DejaVuSans-48\"/>\r\n      </g>\r\n     </g>\r\n    </g>\r\n    <g id=\"xtick_4\">\r\n     <g id=\"line2d_4\">\r\n      <g>\r\n       <use style=\"stroke:#000000;stroke-width:0.8;\" x=\"169.9875\" xlink:href=\"#mafa9b012f1\" y=\"133.618125\"/>\r\n      </g>\r\n     </g>\r\n     <g id=\"text_4\">\r\n      <!-- 2.5 -->\r\n      <g transform=\"translate(162.035938 148.216562)scale(0.1 -0.1)\">\r\n       <use xlink:href=\"#DejaVuSans-50\"/>\r\n       <use x=\"63.623047\" xlink:href=\"#DejaVuSans-46\"/>\r\n       <use x=\"95.410156\" xlink:href=\"#DejaVuSans-53\"/>\r\n      </g>\r\n     </g>\r\n    </g>\r\n    <g id=\"xtick_5\">\r\n     <g id=\"line2d_5\">\r\n      <g>\r\n       <use style=\"stroke:#000000;stroke-width:0.8;\" x=\"216.615625\" xlink:href=\"#mafa9b012f1\" y=\"133.618125\"/>\r\n      </g>\r\n     </g>\r\n     <g id=\"text_5\">\r\n      <!-- 3.0 -->\r\n      <g transform=\"translate(208.664062 148.216562)scale(0.1 -0.1)\">\r\n       <defs>\r\n        <path d=\"M 40.578125 39.3125 \r\nQ 47.65625 37.796875 51.625 33 \r\nQ 55.609375 28.21875 55.609375 21.1875 \r\nQ 55.609375 10.40625 48.1875 4.484375 \r\nQ 40.765625 -1.421875 27.09375 -1.421875 \r\nQ 22.515625 -1.421875 17.65625 -0.515625 \r\nQ 12.796875 0.390625 7.625 2.203125 \r\nL 7.625 11.71875 \r\nQ 11.71875 9.328125 16.59375 8.109375 \r\nQ 21.484375 6.890625 26.8125 6.890625 \r\nQ 36.078125 6.890625 40.9375 10.546875 \r\nQ 45.796875 14.203125 45.796875 21.1875 \r\nQ 45.796875 27.640625 41.28125 31.265625 \r\nQ 36.765625 34.90625 28.71875 34.90625 \r\nL 20.21875 34.90625 \r\nL 20.21875 43.015625 \r\nL 29.109375 43.015625 \r\nQ 36.375 43.015625 40.234375 45.921875 \r\nQ 44.09375 48.828125 44.09375 54.296875 \r\nQ 44.09375 59.90625 40.109375 62.90625 \r\nQ 36.140625 65.921875 28.71875 65.921875 \r\nQ 24.65625 65.921875 20.015625 65.03125 \r\nQ 15.375 64.15625 9.8125 62.3125 \r\nL 9.8125 71.09375 \r\nQ 15.4375 72.65625 20.34375 73.4375 \r\nQ 25.25 74.21875 29.59375 74.21875 \r\nQ 40.828125 74.21875 47.359375 69.109375 \r\nQ 53.90625 64.015625 53.90625 55.328125 \r\nQ 53.90625 49.265625 50.4375 45.09375 \r\nQ 46.96875 40.921875 40.578125 39.3125 \r\nz\r\n\" id=\"DejaVuSans-51\"/>\r\n       </defs>\r\n       <use xlink:href=\"#DejaVuSans-51\"/>\r\n       <use x=\"63.623047\" xlink:href=\"#DejaVuSans-46\"/>\r\n       <use x=\"95.410156\" xlink:href=\"#DejaVuSans-48\"/>\r\n      </g>\r\n     </g>\r\n    </g>\r\n    <g id=\"xtick_6\">\r\n     <g id=\"line2d_6\">\r\n      <g>\r\n       <use style=\"stroke:#000000;stroke-width:0.8;\" x=\"263.24375\" xlink:href=\"#mafa9b012f1\" y=\"133.618125\"/>\r\n      </g>\r\n     </g>\r\n     <g id=\"text_6\">\r\n      <!-- 3.5 -->\r\n      <g transform=\"translate(255.292187 148.216562)scale(0.1 -0.1)\">\r\n       <use xlink:href=\"#DejaVuSans-51\"/>\r\n       <use x=\"63.623047\" xlink:href=\"#DejaVuSans-46\"/>\r\n       <use x=\"95.410156\" xlink:href=\"#DejaVuSans-53\"/>\r\n      </g>\r\n     </g>\r\n    </g>\r\n    <g id=\"xtick_7\">\r\n     <g id=\"line2d_7\">\r\n      <g>\r\n       <use style=\"stroke:#000000;stroke-width:0.8;\" x=\"309.871875\" xlink:href=\"#mafa9b012f1\" y=\"133.618125\"/>\r\n      </g>\r\n     </g>\r\n     <g id=\"text_7\">\r\n      <!-- 4.0 -->\r\n      <g transform=\"translate(301.920312 148.216562)scale(0.1 -0.1)\">\r\n       <defs>\r\n        <path d=\"M 37.796875 64.3125 \r\nL 12.890625 25.390625 \r\nL 37.796875 25.390625 \r\nz\r\nM 35.203125 72.90625 \r\nL 47.609375 72.90625 \r\nL 47.609375 25.390625 \r\nL 58.015625 25.390625 \r\nL 58.015625 17.1875 \r\nL 47.609375 17.1875 \r\nL 47.609375 0 \r\nL 37.796875 0 \r\nL 37.796875 17.1875 \r\nL 4.890625 17.1875 \r\nL 4.890625 26.703125 \r\nz\r\n\" id=\"DejaVuSans-52\"/>\r\n       </defs>\r\n       <use xlink:href=\"#DejaVuSans-52\"/>\r\n       <use x=\"63.623047\" xlink:href=\"#DejaVuSans-46\"/>\r\n       <use x=\"95.410156\" xlink:href=\"#DejaVuSans-48\"/>\r\n      </g>\r\n     </g>\r\n    </g>\r\n    <g id=\"xtick_8\">\r\n     <g id=\"line2d_8\">\r\n      <g>\r\n       <use style=\"stroke:#000000;stroke-width:0.8;\" x=\"356.5\" xlink:href=\"#mafa9b012f1\" y=\"133.618125\"/>\r\n      </g>\r\n     </g>\r\n     <g id=\"text_8\">\r\n      <!-- 4.5 -->\r\n      <g transform=\"translate(348.548437 148.216562)scale(0.1 -0.1)\">\r\n       <use xlink:href=\"#DejaVuSans-52\"/>\r\n       <use x=\"63.623047\" xlink:href=\"#DejaVuSans-46\"/>\r\n       <use x=\"95.410156\" xlink:href=\"#DejaVuSans-53\"/>\r\n      </g>\r\n     </g>\r\n    </g>\r\n    <g id=\"xtick_9\">\r\n     <g id=\"line2d_9\">\r\n      <g>\r\n       <use style=\"stroke:#000000;stroke-width:0.8;\" x=\"403.128125\" xlink:href=\"#mafa9b012f1\" y=\"133.618125\"/>\r\n      </g>\r\n     </g>\r\n     <g id=\"text_9\">\r\n      <!-- 5.0 -->\r\n      <g transform=\"translate(395.176562 148.216562)scale(0.1 -0.1)\">\r\n       <use xlink:href=\"#DejaVuSans-53\"/>\r\n       <use x=\"63.623047\" xlink:href=\"#DejaVuSans-46\"/>\r\n       <use x=\"95.410156\" xlink:href=\"#DejaVuSans-48\"/>\r\n      </g>\r\n     </g>\r\n    </g>\r\n   </g>\r\n   <g id=\"matplotlib.axis_2\">\r\n    <g id=\"ytick_1\">\r\n     <g id=\"line2d_10\">\r\n      <defs>\r\n       <path d=\"M 0 0 \r\nL -3.5 0 \r\n\" id=\"ma762709c6b\" style=\"stroke:#000000;stroke-width:0.8;\"/>\r\n      </defs>\r\n      <g>\r\n       <use style=\"stroke:#000000;stroke-width:0.8;\" x=\"30.103125\" xlink:href=\"#ma762709c6b\" y=\"108.651686\"/>\r\n      </g>\r\n     </g>\r\n     <g id=\"text_10\">\r\n      <!-- 0.2 -->\r\n      <g transform=\"translate(7.2 112.450905)scale(0.1 -0.1)\">\r\n       <use xlink:href=\"#DejaVuSans-48\"/>\r\n       <use x=\"63.623047\" xlink:href=\"#DejaVuSans-46\"/>\r\n       <use x=\"95.410156\" xlink:href=\"#DejaVuSans-50\"/>\r\n      </g>\r\n     </g>\r\n    </g>\r\n    <g id=\"ytick_2\">\r\n     <g id=\"line2d_11\">\r\n      <g>\r\n       <use style=\"stroke:#000000;stroke-width:0.8;\" x=\"30.103125\" xlink:href=\"#ma762709c6b\" y=\"81.745301\"/>\r\n      </g>\r\n     </g>\r\n     <g id=\"text_11\">\r\n      <!-- 0.4 -->\r\n      <g transform=\"translate(7.2 85.54452)scale(0.1 -0.1)\">\r\n       <use xlink:href=\"#DejaVuSans-48\"/>\r\n       <use x=\"63.623047\" xlink:href=\"#DejaVuSans-46\"/>\r\n       <use x=\"95.410156\" xlink:href=\"#DejaVuSans-52\"/>\r\n      </g>\r\n     </g>\r\n    </g>\r\n    <g id=\"ytick_3\">\r\n     <g id=\"line2d_12\">\r\n      <g>\r\n       <use style=\"stroke:#000000;stroke-width:0.8;\" x=\"30.103125\" xlink:href=\"#ma762709c6b\" y=\"54.838915\"/>\r\n      </g>\r\n     </g>\r\n     <g id=\"text_12\">\r\n      <!-- 0.6 -->\r\n      <g transform=\"translate(7.2 58.638134)scale(0.1 -0.1)\">\r\n       <defs>\r\n        <path d=\"M 33.015625 40.375 \r\nQ 26.375 40.375 22.484375 35.828125 \r\nQ 18.609375 31.296875 18.609375 23.390625 \r\nQ 18.609375 15.53125 22.484375 10.953125 \r\nQ 26.375 6.390625 33.015625 6.390625 \r\nQ 39.65625 6.390625 43.53125 10.953125 \r\nQ 47.40625 15.53125 47.40625 23.390625 \r\nQ 47.40625 31.296875 43.53125 35.828125 \r\nQ 39.65625 40.375 33.015625 40.375 \r\nz\r\nM 52.59375 71.296875 \r\nL 52.59375 62.3125 \r\nQ 48.875 64.0625 45.09375 64.984375 \r\nQ 41.3125 65.921875 37.59375 65.921875 \r\nQ 27.828125 65.921875 22.671875 59.328125 \r\nQ 17.53125 52.734375 16.796875 39.40625 \r\nQ 19.671875 43.65625 24.015625 45.921875 \r\nQ 28.375 48.1875 33.59375 48.1875 \r\nQ 44.578125 48.1875 50.953125 41.515625 \r\nQ 57.328125 34.859375 57.328125 23.390625 \r\nQ 57.328125 12.15625 50.6875 5.359375 \r\nQ 44.046875 -1.421875 33.015625 -1.421875 \r\nQ 20.359375 -1.421875 13.671875 8.265625 \r\nQ 6.984375 17.96875 6.984375 36.375 \r\nQ 6.984375 53.65625 15.1875 63.9375 \r\nQ 23.390625 74.21875 37.203125 74.21875 \r\nQ 40.921875 74.21875 44.703125 73.484375 \r\nQ 48.484375 72.75 52.59375 71.296875 \r\nz\r\n\" id=\"DejaVuSans-54\"/>\r\n       </defs>\r\n       <use xlink:href=\"#DejaVuSans-48\"/>\r\n       <use x=\"63.623047\" xlink:href=\"#DejaVuSans-46\"/>\r\n       <use x=\"95.410156\" xlink:href=\"#DejaVuSans-54\"/>\r\n      </g>\r\n     </g>\r\n    </g>\r\n    <g id=\"ytick_4\">\r\n     <g id=\"line2d_13\">\r\n      <g>\r\n       <use style=\"stroke:#000000;stroke-width:0.8;\" x=\"30.103125\" xlink:href=\"#ma762709c6b\" y=\"27.93253\"/>\r\n      </g>\r\n     </g>\r\n     <g id=\"text_13\">\r\n      <!-- 0.8 -->\r\n      <g transform=\"translate(7.2 31.731748)scale(0.1 -0.1)\">\r\n       <defs>\r\n        <path d=\"M 31.78125 34.625 \r\nQ 24.75 34.625 20.71875 30.859375 \r\nQ 16.703125 27.09375 16.703125 20.515625 \r\nQ 16.703125 13.921875 20.71875 10.15625 \r\nQ 24.75 6.390625 31.78125 6.390625 \r\nQ 38.8125 6.390625 42.859375 10.171875 \r\nQ 46.921875 13.96875 46.921875 20.515625 \r\nQ 46.921875 27.09375 42.890625 30.859375 \r\nQ 38.875 34.625 31.78125 34.625 \r\nz\r\nM 21.921875 38.8125 \r\nQ 15.578125 40.375 12.03125 44.71875 \r\nQ 8.5 49.078125 8.5 55.328125 \r\nQ 8.5 64.0625 14.71875 69.140625 \r\nQ 20.953125 74.21875 31.78125 74.21875 \r\nQ 42.671875 74.21875 48.875 69.140625 \r\nQ 55.078125 64.0625 55.078125 55.328125 \r\nQ 55.078125 49.078125 51.53125 44.71875 \r\nQ 48 40.375 41.703125 38.8125 \r\nQ 48.828125 37.15625 52.796875 32.3125 \r\nQ 56.78125 27.484375 56.78125 20.515625 \r\nQ 56.78125 9.90625 50.3125 4.234375 \r\nQ 43.84375 -1.421875 31.78125 -1.421875 \r\nQ 19.734375 -1.421875 13.25 4.234375 \r\nQ 6.78125 9.90625 6.78125 20.515625 \r\nQ 6.78125 27.484375 10.78125 32.3125 \r\nQ 14.796875 37.15625 21.921875 38.8125 \r\nz\r\nM 18.3125 54.390625 \r\nQ 18.3125 48.734375 21.84375 45.5625 \r\nQ 25.390625 42.390625 31.78125 42.390625 \r\nQ 38.140625 42.390625 41.71875 45.5625 \r\nQ 45.3125 48.734375 45.3125 54.390625 \r\nQ 45.3125 60.0625 41.71875 63.234375 \r\nQ 38.140625 66.40625 31.78125 66.40625 \r\nQ 25.390625 66.40625 21.84375 63.234375 \r\nQ 18.3125 60.0625 18.3125 54.390625 \r\nz\r\n\" id=\"DejaVuSans-56\"/>\r\n       </defs>\r\n       <use xlink:href=\"#DejaVuSans-48\"/>\r\n       <use x=\"63.623047\" xlink:href=\"#DejaVuSans-46\"/>\r\n       <use x=\"95.410156\" xlink:href=\"#DejaVuSans-56\"/>\r\n      </g>\r\n     </g>\r\n    </g>\r\n   </g>\r\n   <g id=\"line2d_14\">\r\n    <path clip-path=\"url(#p1b14594eee)\" d=\"M 30.103125 50.949655 \r\nL 123.359375 107.323947 \r\nL 216.615625 119.136729 \r\nL 309.871875 124.700989 \r\nL 403.128125 128.559034 \r\n\" style=\"fill:none;stroke:#008000;stroke-linecap:square;stroke-width:1.5;\"/>\r\n   </g>\r\n   <g id=\"line2d_15\">\r\n    <defs>\r\n     <path d=\"M -3 3 \r\nL 3 -3 \r\nM -3 -3 \r\nL 3 3 \r\n\" id=\"mdb13e55a4d\" style=\"stroke:#1f77b4;\"/>\r\n    </defs>\r\n    <g clip-path=\"url(#p1b14594eee)\">\r\n     <use style=\"fill:#1f77b4;stroke:#1f77b4;\" x=\"30.103125\" xlink:href=\"#mdb13e55a4d\" y=\"27.377216\"/>\r\n     <use style=\"fill:#1f77b4;stroke:#1f77b4;\" x=\"123.359375\" xlink:href=\"#mdb13e55a4d\" y=\"86.530597\"/>\r\n     <use style=\"fill:#1f77b4;stroke:#1f77b4;\" x=\"216.615625\" xlink:href=\"#mdb13e55a4d\" y=\"90.182003\"/>\r\n     <use style=\"fill:#1f77b4;stroke:#1f77b4;\" x=\"309.871875\" xlink:href=\"#mdb13e55a4d\" y=\"99.472346\"/>\r\n     <use style=\"fill:#1f77b4;stroke:#1f77b4;\" x=\"403.128125\" xlink:href=\"#mdb13e55a4d\" y=\"101.11167\"/>\r\n    </g>\r\n   </g>\r\n   <g id=\"patch_3\">\r\n    <path d=\"M 30.103125 133.618125 \r\nL 30.103125 22.318125 \r\n\" style=\"fill:none;stroke:#000000;stroke-linecap:square;stroke-linejoin:miter;stroke-width:0.8;\"/>\r\n   </g>\r\n   <g id=\"patch_4\">\r\n    <path d=\"M 403.128125 133.618125 \r\nL 403.128125 22.318125 \r\n\" style=\"fill:none;stroke:#000000;stroke-linecap:square;stroke-linejoin:miter;stroke-width:0.8;\"/>\r\n   </g>\r\n   <g id=\"patch_5\">\r\n    <path d=\"M 30.103125 133.618125 \r\nL 403.128125 133.618125 \r\n\" style=\"fill:none;stroke:#000000;stroke-linecap:square;stroke-linejoin:miter;stroke-width:0.8;\"/>\r\n   </g>\r\n   <g id=\"patch_6\">\r\n    <path d=\"M 30.103125 22.318125 \r\nL 403.128125 22.318125 \r\n\" style=\"fill:none;stroke:#000000;stroke-linecap:square;stroke-linejoin:miter;stroke-width:0.8;\"/>\r\n   </g>\r\n   <g id=\"text_14\">\r\n    <!-- Loss -->\r\n    <g transform=\"translate(203.455 16.318125)scale(0.12 -0.12)\">\r\n     <defs>\r\n      <path d=\"M 9.8125 72.90625 \r\nL 19.671875 72.90625 \r\nL 19.671875 8.296875 \r\nL 55.171875 8.296875 \r\nL 55.171875 0 \r\nL 9.8125 0 \r\nz\r\n\" id=\"DejaVuSans-76\"/>\r\n      <path d=\"M 30.609375 48.390625 \r\nQ 23.390625 48.390625 19.1875 42.75 \r\nQ 14.984375 37.109375 14.984375 27.296875 \r\nQ 14.984375 17.484375 19.15625 11.84375 \r\nQ 23.34375 6.203125 30.609375 6.203125 \r\nQ 37.796875 6.203125 41.984375 11.859375 \r\nQ 46.1875 17.53125 46.1875 27.296875 \r\nQ 46.1875 37.015625 41.984375 42.703125 \r\nQ 37.796875 48.390625 30.609375 48.390625 \r\nz\r\nM 30.609375 56 \r\nQ 42.328125 56 49.015625 48.375 \r\nQ 55.71875 40.765625 55.71875 27.296875 \r\nQ 55.71875 13.875 49.015625 6.21875 \r\nQ 42.328125 -1.421875 30.609375 -1.421875 \r\nQ 18.84375 -1.421875 12.171875 6.21875 \r\nQ 5.515625 13.875 5.515625 27.296875 \r\nQ 5.515625 40.765625 12.171875 48.375 \r\nQ 18.84375 56 30.609375 56 \r\nz\r\n\" id=\"DejaVuSans-111\"/>\r\n      <path d=\"M 44.28125 53.078125 \r\nL 44.28125 44.578125 \r\nQ 40.484375 46.53125 36.375 47.5 \r\nQ 32.28125 48.484375 27.875 48.484375 \r\nQ 21.1875 48.484375 17.84375 46.4375 \r\nQ 14.5 44.390625 14.5 40.28125 \r\nQ 14.5 37.15625 16.890625 35.375 \r\nQ 19.28125 33.59375 26.515625 31.984375 \r\nL 29.59375 31.296875 \r\nQ 39.15625 29.25 43.1875 25.515625 \r\nQ 47.21875 21.78125 47.21875 15.09375 \r\nQ 47.21875 7.46875 41.1875 3.015625 \r\nQ 35.15625 -1.421875 24.609375 -1.421875 \r\nQ 20.21875 -1.421875 15.453125 -0.5625 \r\nQ 10.6875 0.296875 5.421875 2 \r\nL 5.421875 11.28125 \r\nQ 10.40625 8.6875 15.234375 7.390625 \r\nQ 20.0625 6.109375 24.8125 6.109375 \r\nQ 31.15625 6.109375 34.5625 8.28125 \r\nQ 37.984375 10.453125 37.984375 14.40625 \r\nQ 37.984375 18.0625 35.515625 20.015625 \r\nQ 33.0625 21.96875 24.703125 23.78125 \r\nL 21.578125 24.515625 \r\nQ 13.234375 26.265625 9.515625 29.90625 \r\nQ 5.8125 33.546875 5.8125 39.890625 \r\nQ 5.8125 47.609375 11.28125 51.796875 \r\nQ 16.75 56 26.8125 56 \r\nQ 31.78125 56 36.171875 55.265625 \r\nQ 40.578125 54.546875 44.28125 53.078125 \r\nz\r\n\" id=\"DejaVuSans-115\"/>\r\n     </defs>\r\n     <use xlink:href=\"#DejaVuSans-76\"/>\r\n     <use x=\"53.962891\" xlink:href=\"#DejaVuSans-111\"/>\r\n     <use x=\"115.144531\" xlink:href=\"#DejaVuSans-115\"/>\r\n     <use x=\"167.244141\" xlink:href=\"#DejaVuSans-115\"/>\r\n    </g>\r\n   </g>\r\n   <g id=\"legend_1\">\r\n    <g id=\"patch_7\">\r\n     <path d=\"M 289.634375 128.618125 \r\nL 396.128125 128.618125 \r\nQ 398.128125 128.618125 398.128125 126.618125 \r\nL 398.128125 98.261875 \r\nQ 398.128125 96.261875 396.128125 96.261875 \r\nL 289.634375 96.261875 \r\nQ 287.634375 96.261875 287.634375 98.261875 \r\nL 287.634375 126.618125 \r\nQ 287.634375 128.618125 289.634375 128.618125 \r\nz\r\n\" style=\"fill:#ffffff;opacity:0.8;stroke:#cccccc;stroke-linejoin:miter;\"/>\r\n    </g>\r\n    <g id=\"line2d_16\">\r\n     <path d=\"M 291.634375 104.360312 \r\nL 311.634375 104.360312 \r\n\" style=\"fill:none;stroke:#008000;stroke-linecap:square;stroke-width:1.5;\"/>\r\n    </g>\r\n    <g id=\"line2d_17\"/>\r\n    <g id=\"text_15\">\r\n     <!-- Training Loss -->\r\n     <g transform=\"translate(319.634375 107.860312)scale(0.1 -0.1)\">\r\n      <defs>\r\n       <path d=\"M -0.296875 72.90625 \r\nL 61.375 72.90625 \r\nL 61.375 64.59375 \r\nL 35.5 64.59375 \r\nL 35.5 0 \r\nL 25.59375 0 \r\nL 25.59375 64.59375 \r\nL -0.296875 64.59375 \r\nz\r\n\" id=\"DejaVuSans-84\"/>\r\n       <path d=\"M 41.109375 46.296875 \r\nQ 39.59375 47.171875 37.8125 47.578125 \r\nQ 36.03125 48 33.890625 48 \r\nQ 26.265625 48 22.1875 43.046875 \r\nQ 18.109375 38.09375 18.109375 28.8125 \r\nL 18.109375 0 \r\nL 9.078125 0 \r\nL 9.078125 54.6875 \r\nL 18.109375 54.6875 \r\nL 18.109375 46.1875 \r\nQ 20.953125 51.171875 25.484375 53.578125 \r\nQ 30.03125 56 36.53125 56 \r\nQ 37.453125 56 38.578125 55.875 \r\nQ 39.703125 55.765625 41.0625 55.515625 \r\nz\r\n\" id=\"DejaVuSans-114\"/>\r\n       <path d=\"M 34.28125 27.484375 \r\nQ 23.390625 27.484375 19.1875 25 \r\nQ 14.984375 22.515625 14.984375 16.5 \r\nQ 14.984375 11.71875 18.140625 8.90625 \r\nQ 21.296875 6.109375 26.703125 6.109375 \r\nQ 34.1875 6.109375 38.703125 11.40625 \r\nQ 43.21875 16.703125 43.21875 25.484375 \r\nL 43.21875 27.484375 \r\nz\r\nM 52.203125 31.203125 \r\nL 52.203125 0 \r\nL 43.21875 0 \r\nL 43.21875 8.296875 \r\nQ 40.140625 3.328125 35.546875 0.953125 \r\nQ 30.953125 -1.421875 24.3125 -1.421875 \r\nQ 15.921875 -1.421875 10.953125 3.296875 \r\nQ 6 8.015625 6 15.921875 \r\nQ 6 25.140625 12.171875 29.828125 \r\nQ 18.359375 34.515625 30.609375 34.515625 \r\nL 43.21875 34.515625 \r\nL 43.21875 35.40625 \r\nQ 43.21875 41.609375 39.140625 45 \r\nQ 35.0625 48.390625 27.6875 48.390625 \r\nQ 23 48.390625 18.546875 47.265625 \r\nQ 14.109375 46.140625 10.015625 43.890625 \r\nL 10.015625 52.203125 \r\nQ 14.9375 54.109375 19.578125 55.046875 \r\nQ 24.21875 56 28.609375 56 \r\nQ 40.484375 56 46.34375 49.84375 \r\nQ 52.203125 43.703125 52.203125 31.203125 \r\nz\r\n\" id=\"DejaVuSans-97\"/>\r\n       <path d=\"M 9.421875 54.6875 \r\nL 18.40625 54.6875 \r\nL 18.40625 0 \r\nL 9.421875 0 \r\nz\r\nM 9.421875 75.984375 \r\nL 18.40625 75.984375 \r\nL 18.40625 64.59375 \r\nL 9.421875 64.59375 \r\nz\r\n\" id=\"DejaVuSans-105\"/>\r\n       <path d=\"M 54.890625 33.015625 \r\nL 54.890625 0 \r\nL 45.90625 0 \r\nL 45.90625 32.71875 \r\nQ 45.90625 40.484375 42.875 44.328125 \r\nQ 39.84375 48.1875 33.796875 48.1875 \r\nQ 26.515625 48.1875 22.3125 43.546875 \r\nQ 18.109375 38.921875 18.109375 30.90625 \r\nL 18.109375 0 \r\nL 9.078125 0 \r\nL 9.078125 54.6875 \r\nL 18.109375 54.6875 \r\nL 18.109375 46.1875 \r\nQ 21.34375 51.125 25.703125 53.5625 \r\nQ 30.078125 56 35.796875 56 \r\nQ 45.21875 56 50.046875 50.171875 \r\nQ 54.890625 44.34375 54.890625 33.015625 \r\nz\r\n\" id=\"DejaVuSans-110\"/>\r\n       <path d=\"M 45.40625 27.984375 \r\nQ 45.40625 37.75 41.375 43.109375 \r\nQ 37.359375 48.484375 30.078125 48.484375 \r\nQ 22.859375 48.484375 18.828125 43.109375 \r\nQ 14.796875 37.75 14.796875 27.984375 \r\nQ 14.796875 18.265625 18.828125 12.890625 \r\nQ 22.859375 7.515625 30.078125 7.515625 \r\nQ 37.359375 7.515625 41.375 12.890625 \r\nQ 45.40625 18.265625 45.40625 27.984375 \r\nz\r\nM 54.390625 6.78125 \r\nQ 54.390625 -7.171875 48.1875 -13.984375 \r\nQ 42 -20.796875 29.203125 -20.796875 \r\nQ 24.46875 -20.796875 20.265625 -20.09375 \r\nQ 16.0625 -19.390625 12.109375 -17.921875 \r\nL 12.109375 -9.1875 \r\nQ 16.0625 -11.328125 19.921875 -12.34375 \r\nQ 23.78125 -13.375 27.78125 -13.375 \r\nQ 36.625 -13.375 41.015625 -8.765625 \r\nQ 45.40625 -4.15625 45.40625 5.171875 \r\nL 45.40625 9.625 \r\nQ 42.625 4.78125 38.28125 2.390625 \r\nQ 33.9375 0 27.875 0 \r\nQ 17.828125 0 11.671875 7.65625 \r\nQ 5.515625 15.328125 5.515625 27.984375 \r\nQ 5.515625 40.671875 11.671875 48.328125 \r\nQ 17.828125 56 27.875 56 \r\nQ 33.9375 56 38.28125 53.609375 \r\nQ 42.625 51.21875 45.40625 46.390625 \r\nL 45.40625 54.6875 \r\nL 54.390625 54.6875 \r\nz\r\n\" id=\"DejaVuSans-103\"/>\r\n       <path id=\"DejaVuSans-32\"/>\r\n      </defs>\r\n      <use xlink:href=\"#DejaVuSans-84\"/>\r\n      <use x=\"46.333984\" xlink:href=\"#DejaVuSans-114\"/>\r\n      <use x=\"87.447266\" xlink:href=\"#DejaVuSans-97\"/>\r\n      <use x=\"148.726562\" xlink:href=\"#DejaVuSans-105\"/>\r\n      <use x=\"176.509766\" xlink:href=\"#DejaVuSans-110\"/>\r\n      <use x=\"239.888672\" xlink:href=\"#DejaVuSans-105\"/>\r\n      <use x=\"267.671875\" xlink:href=\"#DejaVuSans-110\"/>\r\n      <use x=\"331.050781\" xlink:href=\"#DejaVuSans-103\"/>\r\n      <use x=\"394.527344\" xlink:href=\"#DejaVuSans-32\"/>\r\n      <use x=\"426.314453\" xlink:href=\"#DejaVuSans-76\"/>\r\n      <use x=\"480.277344\" xlink:href=\"#DejaVuSans-111\"/>\r\n      <use x=\"541.458984\" xlink:href=\"#DejaVuSans-115\"/>\r\n      <use x=\"593.558594\" xlink:href=\"#DejaVuSans-115\"/>\r\n     </g>\r\n    </g>\r\n    <g id=\"line2d_18\"/>\r\n    <g id=\"line2d_19\">\r\n     <g>\r\n      <use style=\"fill:#1f77b4;stroke:#1f77b4;\" x=\"301.634375\" xlink:href=\"#mdb13e55a4d\" y=\"119.038437\"/>\r\n     </g>\r\n    </g>\r\n    <g id=\"text_16\">\r\n     <!-- Validation Loss -->\r\n     <g transform=\"translate(319.634375 122.538437)scale(0.1 -0.1)\">\r\n      <defs>\r\n       <path d=\"M 28.609375 0 \r\nL 0.78125 72.90625 \r\nL 11.078125 72.90625 \r\nL 34.1875 11.53125 \r\nL 57.328125 72.90625 \r\nL 67.578125 72.90625 \r\nL 39.796875 0 \r\nz\r\n\" id=\"DejaVuSans-86\"/>\r\n       <path d=\"M 9.421875 75.984375 \r\nL 18.40625 75.984375 \r\nL 18.40625 0 \r\nL 9.421875 0 \r\nz\r\n\" id=\"DejaVuSans-108\"/>\r\n       <path d=\"M 45.40625 46.390625 \r\nL 45.40625 75.984375 \r\nL 54.390625 75.984375 \r\nL 54.390625 0 \r\nL 45.40625 0 \r\nL 45.40625 8.203125 \r\nQ 42.578125 3.328125 38.25 0.953125 \r\nQ 33.9375 -1.421875 27.875 -1.421875 \r\nQ 17.96875 -1.421875 11.734375 6.484375 \r\nQ 5.515625 14.40625 5.515625 27.296875 \r\nQ 5.515625 40.1875 11.734375 48.09375 \r\nQ 17.96875 56 27.875 56 \r\nQ 33.9375 56 38.25 53.625 \r\nQ 42.578125 51.265625 45.40625 46.390625 \r\nz\r\nM 14.796875 27.296875 \r\nQ 14.796875 17.390625 18.875 11.75 \r\nQ 22.953125 6.109375 30.078125 6.109375 \r\nQ 37.203125 6.109375 41.296875 11.75 \r\nQ 45.40625 17.390625 45.40625 27.296875 \r\nQ 45.40625 37.203125 41.296875 42.84375 \r\nQ 37.203125 48.484375 30.078125 48.484375 \r\nQ 22.953125 48.484375 18.875 42.84375 \r\nQ 14.796875 37.203125 14.796875 27.296875 \r\nz\r\n\" id=\"DejaVuSans-100\"/>\r\n       <path d=\"M 18.3125 70.21875 \r\nL 18.3125 54.6875 \r\nL 36.8125 54.6875 \r\nL 36.8125 47.703125 \r\nL 18.3125 47.703125 \r\nL 18.3125 18.015625 \r\nQ 18.3125 11.328125 20.140625 9.421875 \r\nQ 21.96875 7.515625 27.59375 7.515625 \r\nL 36.8125 7.515625 \r\nL 36.8125 0 \r\nL 27.59375 0 \r\nQ 17.1875 0 13.234375 3.875 \r\nQ 9.28125 7.765625 9.28125 18.015625 \r\nL 9.28125 47.703125 \r\nL 2.6875 47.703125 \r\nL 2.6875 54.6875 \r\nL 9.28125 54.6875 \r\nL 9.28125 70.21875 \r\nz\r\n\" id=\"DejaVuSans-116\"/>\r\n      </defs>\r\n      <use xlink:href=\"#DejaVuSans-86\"/>\r\n      <use x=\"60.658203\" xlink:href=\"#DejaVuSans-97\"/>\r\n      <use x=\"121.9375\" xlink:href=\"#DejaVuSans-108\"/>\r\n      <use x=\"149.720703\" xlink:href=\"#DejaVuSans-105\"/>\r\n      <use x=\"177.503906\" xlink:href=\"#DejaVuSans-100\"/>\r\n      <use x=\"240.980469\" xlink:href=\"#DejaVuSans-97\"/>\r\n      <use x=\"302.259766\" xlink:href=\"#DejaVuSans-116\"/>\r\n      <use x=\"341.46875\" xlink:href=\"#DejaVuSans-105\"/>\r\n      <use x=\"369.251953\" xlink:href=\"#DejaVuSans-111\"/>\r\n      <use x=\"430.433594\" xlink:href=\"#DejaVuSans-110\"/>\r\n      <use x=\"493.8125\" xlink:href=\"#DejaVuSans-32\"/>\r\n      <use x=\"525.599609\" xlink:href=\"#DejaVuSans-76\"/>\r\n      <use x=\"579.5625\" xlink:href=\"#DejaVuSans-111\"/>\r\n      <use x=\"640.744141\" xlink:href=\"#DejaVuSans-115\"/>\r\n      <use x=\"692.84375\" xlink:href=\"#DejaVuSans-115\"/>\r\n     </g>\r\n    </g>\r\n   </g>\r\n  </g>\r\n </g>\r\n <defs>\r\n  <clipPath id=\"p1b14594eee\">\r\n   <rect height=\"111.3\" width=\"373.025\" x=\"30.103125\" y=\"22.318125\"/>\r\n  </clipPath>\r\n </defs>\r\n</svg>\r\n",
      "image/png": "[encoded data removed]"
     },
     "metadata": {
      "needs_background": "light"
     }
    },
    {
     "output_type": "display_data",
     "data": {
      "text/plain": "<Figure size 432x288 with 1 Axes>",
      "image/svg+xml": "<?xml version=\"1.0\" encoding=\"utf-8\" standalone=\"no\"?>\r\n<!DOCTYPE svg PUBLIC \"-//W3C//DTD SVG 1.1//EN\"\r\n  \"http://www.w3.org/Graphics/SVG/1.1/DTD/svg11.dtd\">\r\n<!-- Created with matplotlib (https://matplotlib.org/) -->\r\n<svg height=\"157.49625pt\" version=\"1.1\" viewBox=\"0 0 418.279687 157.49625\" width=\"418.279687pt\" xmlns=\"http://www.w3.org/2000/svg\" xmlns:xlink=\"http://www.w3.org/1999/xlink\">\r\n <metadata>\r\n  <rdf:RDF xmlns:cc=\"http://creativecommons.org/ns#\" xmlns:dc=\"http://purl.org/dc/elements/1.1/\" xmlns:rdf=\"http://www.w3.org/1999/02/22-rdf-syntax-ns#\">\r\n   <cc:Work>\r\n    <dc:type rdf:resource=\"http://purl.org/dc/dcmitype/StillImage\"/>\r\n    <dc:date>2020-12-29T17:16:29.682728</dc:date>\r\n    <dc:format>image/svg+xml</dc:format>\r\n    <dc:creator>\r\n     <cc:Agent>\r\n      <dc:title>Matplotlib v3.3.2, https://matplotlib.org/</dc:title>\r\n     </cc:Agent>\r\n    </dc:creator>\r\n   </cc:Work>\r\n  </rdf:RDF>\r\n </metadata>\r\n <defs>\r\n  <style type=\"text/css\">*{stroke-linecap:butt;stroke-linejoin:round;}</style>\r\n </defs>\r\n <g id=\"figure_1\">\r\n  <g id=\"patch_1\">\r\n   <path d=\"M 0 157.49625 \r\nL 418.279687 157.49625 \r\nL 418.279687 0 \r\nL 0 0 \r\nz\r\n\" style=\"fill:none;\"/>\r\n  </g>\r\n  <g id=\"axes_1\">\r\n   <g id=\"patch_2\">\r\n    <path d=\"M 30.103125 133.618125 \r\nL 403.128125 133.618125 \r\nL 403.128125 22.318125 \r\nL 30.103125 22.318125 \r\nz\r\n\" style=\"fill:#ffffff;\"/>\r\n   </g>\r\n   <g id=\"matplotlib.axis_1\">\r\n    <g id=\"xtick_1\">\r\n     <g id=\"line2d_1\">\r\n      <defs>\r\n       <path d=\"M 0 0 \r\nL 0 3.5 \r\n\" id=\"m0030f4cfab\" style=\"stroke:#000000;stroke-width:0.8;\"/>\r\n      </defs>\r\n      <g>\r\n       <use style=\"stroke:#000000;stroke-width:0.8;\" x=\"30.103125\" xlink:href=\"#m0030f4cfab\" y=\"133.618125\"/>\r\n      </g>\r\n     </g>\r\n     <g id=\"text_1\">\r\n      <!-- 1.0 -->\r\n      <g transform=\"translate(22.151563 148.216562)scale(0.1 -0.1)\">\r\n       <defs>\r\n        <path d=\"M 12.40625 8.296875 \r\nL 28.515625 8.296875 \r\nL 28.515625 63.921875 \r\nL 10.984375 60.40625 \r\nL 10.984375 69.390625 \r\nL 28.421875 72.90625 \r\nL 38.28125 72.90625 \r\nL 38.28125 8.296875 \r\nL 54.390625 8.296875 \r\nL 54.390625 0 \r\nL 12.40625 0 \r\nz\r\n\" id=\"DejaVuSans-49\"/>\r\n        <path d=\"M 10.6875 12.40625 \r\nL 21 12.40625 \r\nL 21 0 \r\nL 10.6875 0 \r\nz\r\n\" id=\"DejaVuSans-46\"/>\r\n        <path d=\"M 31.78125 66.40625 \r\nQ 24.171875 66.40625 20.328125 58.90625 \r\nQ 16.5 51.421875 16.5 36.375 \r\nQ 16.5 21.390625 20.328125 13.890625 \r\nQ 24.171875 6.390625 31.78125 6.390625 \r\nQ 39.453125 6.390625 43.28125 13.890625 \r\nQ 47.125 21.390625 47.125 36.375 \r\nQ 47.125 51.421875 43.28125 58.90625 \r\nQ 39.453125 66.40625 31.78125 66.40625 \r\nz\r\nM 31.78125 74.21875 \r\nQ 44.046875 74.21875 50.515625 64.515625 \r\nQ 56.984375 54.828125 56.984375 36.375 \r\nQ 56.984375 17.96875 50.515625 8.265625 \r\nQ 44.046875 -1.421875 31.78125 -1.421875 \r\nQ 19.53125 -1.421875 13.0625 8.265625 \r\nQ 6.59375 17.96875 6.59375 36.375 \r\nQ 6.59375 54.828125 13.0625 64.515625 \r\nQ 19.53125 74.21875 31.78125 74.21875 \r\nz\r\n\" id=\"DejaVuSans-48\"/>\r\n       </defs>\r\n       <use xlink:href=\"#DejaVuSans-49\"/>\r\n       <use x=\"63.623047\" xlink:href=\"#DejaVuSans-46\"/>\r\n       <use x=\"95.410156\" xlink:href=\"#DejaVuSans-48\"/>\r\n      </g>\r\n     </g>\r\n    </g>\r\n    <g id=\"xtick_2\">\r\n     <g id=\"line2d_2\">\r\n      <g>\r\n       <use style=\"stroke:#000000;stroke-width:0.8;\" x=\"76.73125\" xlink:href=\"#m0030f4cfab\" y=\"133.618125\"/>\r\n      </g>\r\n     </g>\r\n     <g id=\"text_2\">\r\n      <!-- 1.5 -->\r\n      <g transform=\"translate(68.779687 148.216562)scale(0.1 -0.1)\">\r\n       <defs>\r\n        <path d=\"M 10.796875 72.90625 \r\nL 49.515625 72.90625 \r\nL 49.515625 64.59375 \r\nL 19.828125 64.59375 \r\nL 19.828125 46.734375 \r\nQ 21.96875 47.46875 24.109375 47.828125 \r\nQ 26.265625 48.1875 28.421875 48.1875 \r\nQ 40.625 48.1875 47.75 41.5 \r\nQ 54.890625 34.8125 54.890625 23.390625 \r\nQ 54.890625 11.625 47.5625 5.09375 \r\nQ 40.234375 -1.421875 26.90625 -1.421875 \r\nQ 22.3125 -1.421875 17.546875 -0.640625 \r\nQ 12.796875 0.140625 7.71875 1.703125 \r\nL 7.71875 11.625 \r\nQ 12.109375 9.234375 16.796875 8.0625 \r\nQ 21.484375 6.890625 26.703125 6.890625 \r\nQ 35.15625 6.890625 40.078125 11.328125 \r\nQ 45.015625 15.765625 45.015625 23.390625 \r\nQ 45.015625 31 40.078125 35.4375 \r\nQ 35.15625 39.890625 26.703125 39.890625 \r\nQ 22.75 39.890625 18.8125 39.015625 \r\nQ 14.890625 38.140625 10.796875 36.28125 \r\nz\r\n\" id=\"DejaVuSans-53\"/>\r\n       </defs>\r\n       <use xlink:href=\"#DejaVuSans-49\"/>\r\n       <use x=\"63.623047\" xlink:href=\"#DejaVuSans-46\"/>\r\n       <use x=\"95.410156\" xlink:href=\"#DejaVuSans-53\"/>\r\n      </g>\r\n     </g>\r\n    </g>\r\n    <g id=\"xtick_3\">\r\n     <g id=\"line2d_3\">\r\n      <g>\r\n       <use style=\"stroke:#000000;stroke-width:0.8;\" x=\"123.359375\" xlink:href=\"#m0030f4cfab\" y=\"133.618125\"/>\r\n      </g>\r\n     </g>\r\n     <g id=\"text_3\">\r\n      <!-- 2.0 -->\r\n      <g transform=\"translate(115.407813 148.216562)scale(0.1 -0.1)\">\r\n       <defs>\r\n        <path d=\"M 19.1875 8.296875 \r\nL 53.609375 8.296875 \r\nL 53.609375 0 \r\nL 7.328125 0 \r\nL 7.328125 8.296875 \r\nQ 12.9375 14.109375 22.625 23.890625 \r\nQ 32.328125 33.6875 34.8125 36.53125 \r\nQ 39.546875 41.84375 41.421875 45.53125 \r\nQ 43.3125 49.21875 43.3125 52.78125 \r\nQ 43.3125 58.59375 39.234375 62.25 \r\nQ 35.15625 65.921875 28.609375 65.921875 \r\nQ 23.96875 65.921875 18.8125 64.3125 \r\nQ 13.671875 62.703125 7.8125 59.421875 \r\nL 7.8125 69.390625 \r\nQ 13.765625 71.78125 18.9375 73 \r\nQ 24.125 74.21875 28.421875 74.21875 \r\nQ 39.75 74.21875 46.484375 68.546875 \r\nQ 53.21875 62.890625 53.21875 53.421875 \r\nQ 53.21875 48.921875 51.53125 44.890625 \r\nQ 49.859375 40.875 45.40625 35.40625 \r\nQ 44.1875 33.984375 37.640625 27.21875 \r\nQ 31.109375 20.453125 19.1875 8.296875 \r\nz\r\n\" id=\"DejaVuSans-50\"/>\r\n       </defs>\r\n       <use xlink:href=\"#DejaVuSans-50\"/>\r\n       <use x=\"63.623047\" xlink:href=\"#DejaVuSans-46\"/>\r\n       <use x=\"95.410156\" xlink:href=\"#DejaVuSans-48\"/>\r\n      </g>\r\n     </g>\r\n    </g>\r\n    <g id=\"xtick_4\">\r\n     <g id=\"line2d_4\">\r\n      <g>\r\n       <use style=\"stroke:#000000;stroke-width:0.8;\" x=\"169.9875\" xlink:href=\"#m0030f4cfab\" y=\"133.618125\"/>\r\n      </g>\r\n     </g>\r\n     <g id=\"text_4\">\r\n      <!-- 2.5 -->\r\n      <g transform=\"translate(162.035938 148.216562)scale(0.1 -0.1)\">\r\n       <use xlink:href=\"#DejaVuSans-50\"/>\r\n       <use x=\"63.623047\" xlink:href=\"#DejaVuSans-46\"/>\r\n       <use x=\"95.410156\" xlink:href=\"#DejaVuSans-53\"/>\r\n      </g>\r\n     </g>\r\n    </g>\r\n    <g id=\"xtick_5\">\r\n     <g id=\"line2d_5\">\r\n      <g>\r\n       <use style=\"stroke:#000000;stroke-width:0.8;\" x=\"216.615625\" xlink:href=\"#m0030f4cfab\" y=\"133.618125\"/>\r\n      </g>\r\n     </g>\r\n     <g id=\"text_5\">\r\n      <!-- 3.0 -->\r\n      <g transform=\"translate(208.664062 148.216562)scale(0.1 -0.1)\">\r\n       <defs>\r\n        <path d=\"M 40.578125 39.3125 \r\nQ 47.65625 37.796875 51.625 33 \r\nQ 55.609375 28.21875 55.609375 21.1875 \r\nQ 55.609375 10.40625 48.1875 4.484375 \r\nQ 40.765625 -1.421875 27.09375 -1.421875 \r\nQ 22.515625 -1.421875 17.65625 -0.515625 \r\nQ 12.796875 0.390625 7.625 2.203125 \r\nL 7.625 11.71875 \r\nQ 11.71875 9.328125 16.59375 8.109375 \r\nQ 21.484375 6.890625 26.8125 6.890625 \r\nQ 36.078125 6.890625 40.9375 10.546875 \r\nQ 45.796875 14.203125 45.796875 21.1875 \r\nQ 45.796875 27.640625 41.28125 31.265625 \r\nQ 36.765625 34.90625 28.71875 34.90625 \r\nL 20.21875 34.90625 \r\nL 20.21875 43.015625 \r\nL 29.109375 43.015625 \r\nQ 36.375 43.015625 40.234375 45.921875 \r\nQ 44.09375 48.828125 44.09375 54.296875 \r\nQ 44.09375 59.90625 40.109375 62.90625 \r\nQ 36.140625 65.921875 28.71875 65.921875 \r\nQ 24.65625 65.921875 20.015625 65.03125 \r\nQ 15.375 64.15625 9.8125 62.3125 \r\nL 9.8125 71.09375 \r\nQ 15.4375 72.65625 20.34375 73.4375 \r\nQ 25.25 74.21875 29.59375 74.21875 \r\nQ 40.828125 74.21875 47.359375 69.109375 \r\nQ 53.90625 64.015625 53.90625 55.328125 \r\nQ 53.90625 49.265625 50.4375 45.09375 \r\nQ 46.96875 40.921875 40.578125 39.3125 \r\nz\r\n\" id=\"DejaVuSans-51\"/>\r\n       </defs>\r\n       <use xlink:href=\"#DejaVuSans-51\"/>\r\n       <use x=\"63.623047\" xlink:href=\"#DejaVuSans-46\"/>\r\n       <use x=\"95.410156\" xlink:href=\"#DejaVuSans-48\"/>\r\n      </g>\r\n     </g>\r\n    </g>\r\n    <g id=\"xtick_6\">\r\n     <g id=\"line2d_6\">\r\n      <g>\r\n       <use style=\"stroke:#000000;stroke-width:0.8;\" x=\"263.24375\" xlink:href=\"#m0030f4cfab\" y=\"133.618125\"/>\r\n      </g>\r\n     </g>\r\n     <g id=\"text_6\">\r\n      <!-- 3.5 -->\r\n      <g transform=\"translate(255.292187 148.216562)scale(0.1 -0.1)\">\r\n       <use xlink:href=\"#DejaVuSans-51\"/>\r\n       <use x=\"63.623047\" xlink:href=\"#DejaVuSans-46\"/>\r\n       <use x=\"95.410156\" xlink:href=\"#DejaVuSans-53\"/>\r\n      </g>\r\n     </g>\r\n    </g>\r\n    <g id=\"xtick_7\">\r\n     <g id=\"line2d_7\">\r\n      <g>\r\n       <use style=\"stroke:#000000;stroke-width:0.8;\" x=\"309.871875\" xlink:href=\"#m0030f4cfab\" y=\"133.618125\"/>\r\n      </g>\r\n     </g>\r\n     <g id=\"text_7\">\r\n      <!-- 4.0 -->\r\n      <g transform=\"translate(301.920312 148.216562)scale(0.1 -0.1)\">\r\n       <defs>\r\n        <path d=\"M 37.796875 64.3125 \r\nL 12.890625 25.390625 \r\nL 37.796875 25.390625 \r\nz\r\nM 35.203125 72.90625 \r\nL 47.609375 72.90625 \r\nL 47.609375 25.390625 \r\nL 58.015625 25.390625 \r\nL 58.015625 17.1875 \r\nL 47.609375 17.1875 \r\nL 47.609375 0 \r\nL 37.796875 0 \r\nL 37.796875 17.1875 \r\nL 4.890625 17.1875 \r\nL 4.890625 26.703125 \r\nz\r\n\" id=\"DejaVuSans-52\"/>\r\n       </defs>\r\n       <use xlink:href=\"#DejaVuSans-52\"/>\r\n       <use x=\"63.623047\" xlink:href=\"#DejaVuSans-46\"/>\r\n       <use x=\"95.410156\" xlink:href=\"#DejaVuSans-48\"/>\r\n      </g>\r\n     </g>\r\n    </g>\r\n    <g id=\"xtick_8\">\r\n     <g id=\"line2d_8\">\r\n      <g>\r\n       <use style=\"stroke:#000000;stroke-width:0.8;\" x=\"356.5\" xlink:href=\"#m0030f4cfab\" y=\"133.618125\"/>\r\n      </g>\r\n     </g>\r\n     <g id=\"text_8\">\r\n      <!-- 4.5 -->\r\n      <g transform=\"translate(348.548437 148.216562)scale(0.1 -0.1)\">\r\n       <use xlink:href=\"#DejaVuSans-52\"/>\r\n       <use x=\"63.623047\" xlink:href=\"#DejaVuSans-46\"/>\r\n       <use x=\"95.410156\" xlink:href=\"#DejaVuSans-53\"/>\r\n      </g>\r\n     </g>\r\n    </g>\r\n    <g id=\"xtick_9\">\r\n     <g id=\"line2d_9\">\r\n      <g>\r\n       <use style=\"stroke:#000000;stroke-width:0.8;\" x=\"403.128125\" xlink:href=\"#m0030f4cfab\" y=\"133.618125\"/>\r\n      </g>\r\n     </g>\r\n     <g id=\"text_9\">\r\n      <!-- 5.0 -->\r\n      <g transform=\"translate(395.176562 148.216562)scale(0.1 -0.1)\">\r\n       <use xlink:href=\"#DejaVuSans-53\"/>\r\n       <use x=\"63.623047\" xlink:href=\"#DejaVuSans-46\"/>\r\n       <use x=\"95.410156\" xlink:href=\"#DejaVuSans-48\"/>\r\n      </g>\r\n     </g>\r\n    </g>\r\n   </g>\r\n   <g id=\"matplotlib.axis_2\">\r\n    <g id=\"ytick_1\">\r\n     <g id=\"line2d_10\">\r\n      <defs>\r\n       <path d=\"M 0 0 \r\nL -3.5 0 \r\n\" id=\"m0b98b94b4d\" style=\"stroke:#000000;stroke-width:0.8;\"/>\r\n      </defs>\r\n      <g>\r\n       <use style=\"stroke:#000000;stroke-width:0.8;\" x=\"30.103125\" xlink:href=\"#m0b98b94b4d\" y=\"133.618125\"/>\r\n      </g>\r\n     </g>\r\n     <g id=\"text_10\">\r\n      <!-- 0.0 -->\r\n      <g transform=\"translate(7.2 137.417344)scale(0.1 -0.1)\">\r\n       <use xlink:href=\"#DejaVuSans-48\"/>\r\n       <use x=\"63.623047\" xlink:href=\"#DejaVuSans-46\"/>\r\n       <use x=\"95.410156\" xlink:href=\"#DejaVuSans-48\"/>\r\n      </g>\r\n     </g>\r\n    </g>\r\n    <g id=\"ytick_2\">\r\n     <g id=\"line2d_11\">\r\n      <g>\r\n       <use style=\"stroke:#000000;stroke-width:0.8;\" x=\"30.103125\" xlink:href=\"#m0b98b94b4d\" y=\"111.358125\"/>\r\n      </g>\r\n     </g>\r\n     <g id=\"text_11\">\r\n      <!-- 0.2 -->\r\n      <g transform=\"translate(7.2 115.157344)scale(0.1 -0.1)\">\r\n       <use xlink:href=\"#DejaVuSans-48\"/>\r\n       <use x=\"63.623047\" xlink:href=\"#DejaVuSans-46\"/>\r\n       <use x=\"95.410156\" xlink:href=\"#DejaVuSans-50\"/>\r\n      </g>\r\n     </g>\r\n    </g>\r\n    <g id=\"ytick_3\">\r\n     <g id=\"line2d_12\">\r\n      <g>\r\n       <use style=\"stroke:#000000;stroke-width:0.8;\" x=\"30.103125\" xlink:href=\"#m0b98b94b4d\" y=\"89.098125\"/>\r\n      </g>\r\n     </g>\r\n     <g id=\"text_12\">\r\n      <!-- 0.4 -->\r\n      <g transform=\"translate(7.2 92.897344)scale(0.1 -0.1)\">\r\n       <use xlink:href=\"#DejaVuSans-48\"/>\r\n       <use x=\"63.623047\" xlink:href=\"#DejaVuSans-46\"/>\r\n       <use x=\"95.410156\" xlink:href=\"#DejaVuSans-52\"/>\r\n      </g>\r\n     </g>\r\n    </g>\r\n    <g id=\"ytick_4\">\r\n     <g id=\"line2d_13\">\r\n      <g>\r\n       <use style=\"stroke:#000000;stroke-width:0.8;\" x=\"30.103125\" xlink:href=\"#m0b98b94b4d\" y=\"66.838125\"/>\r\n      </g>\r\n     </g>\r\n     <g id=\"text_13\">\r\n      <!-- 0.6 -->\r\n      <g transform=\"translate(7.2 70.637344)scale(0.1 -0.1)\">\r\n       <defs>\r\n        <path d=\"M 33.015625 40.375 \r\nQ 26.375 40.375 22.484375 35.828125 \r\nQ 18.609375 31.296875 18.609375 23.390625 \r\nQ 18.609375 15.53125 22.484375 10.953125 \r\nQ 26.375 6.390625 33.015625 6.390625 \r\nQ 39.65625 6.390625 43.53125 10.953125 \r\nQ 47.40625 15.53125 47.40625 23.390625 \r\nQ 47.40625 31.296875 43.53125 35.828125 \r\nQ 39.65625 40.375 33.015625 40.375 \r\nz\r\nM 52.59375 71.296875 \r\nL 52.59375 62.3125 \r\nQ 48.875 64.0625 45.09375 64.984375 \r\nQ 41.3125 65.921875 37.59375 65.921875 \r\nQ 27.828125 65.921875 22.671875 59.328125 \r\nQ 17.53125 52.734375 16.796875 39.40625 \r\nQ 19.671875 43.65625 24.015625 45.921875 \r\nQ 28.375 48.1875 33.59375 48.1875 \r\nQ 44.578125 48.1875 50.953125 41.515625 \r\nQ 57.328125 34.859375 57.328125 23.390625 \r\nQ 57.328125 12.15625 50.6875 5.359375 \r\nQ 44.046875 -1.421875 33.015625 -1.421875 \r\nQ 20.359375 -1.421875 13.671875 8.265625 \r\nQ 6.984375 17.96875 6.984375 36.375 \r\nQ 6.984375 53.65625 15.1875 63.9375 \r\nQ 23.390625 74.21875 37.203125 74.21875 \r\nQ 40.921875 74.21875 44.703125 73.484375 \r\nQ 48.484375 72.75 52.59375 71.296875 \r\nz\r\n\" id=\"DejaVuSans-54\"/>\r\n       </defs>\r\n       <use xlink:href=\"#DejaVuSans-48\"/>\r\n       <use x=\"63.623047\" xlink:href=\"#DejaVuSans-46\"/>\r\n       <use x=\"95.410156\" xlink:href=\"#DejaVuSans-54\"/>\r\n      </g>\r\n     </g>\r\n    </g>\r\n    <g id=\"ytick_5\">\r\n     <g id=\"line2d_14\">\r\n      <g>\r\n       <use style=\"stroke:#000000;stroke-width:0.8;\" x=\"30.103125\" xlink:href=\"#m0b98b94b4d\" y=\"44.578125\"/>\r\n      </g>\r\n     </g>\r\n     <g id=\"text_14\">\r\n      <!-- 0.8 -->\r\n      <g transform=\"translate(7.2 48.377344)scale(0.1 -0.1)\">\r\n       <defs>\r\n        <path d=\"M 31.78125 34.625 \r\nQ 24.75 34.625 20.71875 30.859375 \r\nQ 16.703125 27.09375 16.703125 20.515625 \r\nQ 16.703125 13.921875 20.71875 10.15625 \r\nQ 24.75 6.390625 31.78125 6.390625 \r\nQ 38.8125 6.390625 42.859375 10.171875 \r\nQ 46.921875 13.96875 46.921875 20.515625 \r\nQ 46.921875 27.09375 42.890625 30.859375 \r\nQ 38.875 34.625 31.78125 34.625 \r\nz\r\nM 21.921875 38.8125 \r\nQ 15.578125 40.375 12.03125 44.71875 \r\nQ 8.5 49.078125 8.5 55.328125 \r\nQ 8.5 64.0625 14.71875 69.140625 \r\nQ 20.953125 74.21875 31.78125 74.21875 \r\nQ 42.671875 74.21875 48.875 69.140625 \r\nQ 55.078125 64.0625 55.078125 55.328125 \r\nQ 55.078125 49.078125 51.53125 44.71875 \r\nQ 48 40.375 41.703125 38.8125 \r\nQ 48.828125 37.15625 52.796875 32.3125 \r\nQ 56.78125 27.484375 56.78125 20.515625 \r\nQ 56.78125 9.90625 50.3125 4.234375 \r\nQ 43.84375 -1.421875 31.78125 -1.421875 \r\nQ 19.734375 -1.421875 13.25 4.234375 \r\nQ 6.78125 9.90625 6.78125 20.515625 \r\nQ 6.78125 27.484375 10.78125 32.3125 \r\nQ 14.796875 37.15625 21.921875 38.8125 \r\nz\r\nM 18.3125 54.390625 \r\nQ 18.3125 48.734375 21.84375 45.5625 \r\nQ 25.390625 42.390625 31.78125 42.390625 \r\nQ 38.140625 42.390625 41.71875 45.5625 \r\nQ 45.3125 48.734375 45.3125 54.390625 \r\nQ 45.3125 60.0625 41.71875 63.234375 \r\nQ 38.140625 66.40625 31.78125 66.40625 \r\nQ 25.390625 66.40625 21.84375 63.234375 \r\nQ 18.3125 60.0625 18.3125 54.390625 \r\nz\r\n\" id=\"DejaVuSans-56\"/>\r\n       </defs>\r\n       <use xlink:href=\"#DejaVuSans-48\"/>\r\n       <use x=\"63.623047\" xlink:href=\"#DejaVuSans-46\"/>\r\n       <use x=\"95.410156\" xlink:href=\"#DejaVuSans-56\"/>\r\n      </g>\r\n     </g>\r\n    </g>\r\n    <g id=\"ytick_6\">\r\n     <g id=\"line2d_15\">\r\n      <g>\r\n       <use style=\"stroke:#000000;stroke-width:0.8;\" x=\"30.103125\" xlink:href=\"#m0b98b94b4d\" y=\"22.318125\"/>\r\n      </g>\r\n     </g>\r\n     <g id=\"text_15\">\r\n      <!-- 1.0 -->\r\n      <g transform=\"translate(7.2 26.117344)scale(0.1 -0.1)\">\r\n       <use xlink:href=\"#DejaVuSans-49\"/>\r\n       <use x=\"63.623047\" xlink:href=\"#DejaVuSans-46\"/>\r\n       <use x=\"95.410156\" xlink:href=\"#DejaVuSans-48\"/>\r\n      </g>\r\n     </g>\r\n    </g>\r\n   </g>\r\n   <g id=\"line2d_16\">\r\n    <path clip-path=\"url(#p1b1c1f2b4b)\" d=\"M 30.103125 41.476348 \r\nL 123.359375 28.542149 \r\nL 216.615625 25.929082 \r\nL 309.871875 24.780868 \r\nL 403.128125 23.786176 \r\n\" style=\"fill:none;stroke:#ff0000;stroke-linecap:square;stroke-width:1.5;\"/>\r\n   </g>\r\n   <g id=\"line2d_17\">\r\n    <defs>\r\n     <path d=\"M -3 3 \r\nL 3 -3 \r\nM -3 -3 \r\nL 3 3 \r\n\" id=\"m474fd7c947\" style=\"stroke:#1f77b4;\"/>\r\n    </defs>\r\n    <g clip-path=\"url(#p1b1c1f2b4b)\">\r\n     <use style=\"fill:#1f77b4;stroke:#1f77b4;\" x=\"30.103125\" xlink:href=\"#m474fd7c947\" y=\"44.754791\"/>\r\n     <use style=\"fill:#1f77b4;stroke:#1f77b4;\" x=\"123.359375\" xlink:href=\"#m474fd7c947\" y=\"33.523839\"/>\r\n     <use style=\"fill:#1f77b4;stroke:#1f77b4;\" x=\"216.615625\" xlink:href=\"#m474fd7c947\" y=\"32.791934\"/>\r\n     <use style=\"fill:#1f77b4;stroke:#1f77b4;\" x=\"309.871875\" xlink:href=\"#m474fd7c947\" y=\"30.242887\"/>\r\n     <use style=\"fill:#1f77b4;stroke:#1f77b4;\" x=\"403.128125\" xlink:href=\"#m474fd7c947\" y=\"28.829553\"/>\r\n    </g>\r\n   </g>\r\n   <g id=\"patch_3\">\r\n    <path d=\"M 30.103125 133.618125 \r\nL 30.103125 22.318125 \r\n\" style=\"fill:none;stroke:#000000;stroke-linecap:square;stroke-linejoin:miter;stroke-width:0.8;\"/>\r\n   </g>\r\n   <g id=\"patch_4\">\r\n    <path d=\"M 403.128125 133.618125 \r\nL 403.128125 22.318125 \r\n\" style=\"fill:none;stroke:#000000;stroke-linecap:square;stroke-linejoin:miter;stroke-width:0.8;\"/>\r\n   </g>\r\n   <g id=\"patch_5\">\r\n    <path d=\"M 30.103125 133.618125 \r\nL 403.128125 133.618125 \r\n\" style=\"fill:none;stroke:#000000;stroke-linecap:square;stroke-linejoin:miter;stroke-width:0.8;\"/>\r\n   </g>\r\n   <g id=\"patch_6\">\r\n    <path d=\"M 30.103125 22.318125 \r\nL 403.128125 22.318125 \r\n\" style=\"fill:none;stroke:#000000;stroke-linecap:square;stroke-linejoin:miter;stroke-width:0.8;\"/>\r\n   </g>\r\n   <g id=\"text_16\">\r\n    <!-- Accuracy -->\r\n    <g transform=\"translate(189.221875 16.318125)scale(0.12 -0.12)\">\r\n     <defs>\r\n      <path d=\"M 34.1875 63.1875 \r\nL 20.796875 26.90625 \r\nL 47.609375 26.90625 \r\nz\r\nM 28.609375 72.90625 \r\nL 39.796875 72.90625 \r\nL 67.578125 0 \r\nL 57.328125 0 \r\nL 50.6875 18.703125 \r\nL 17.828125 18.703125 \r\nL 11.1875 0 \r\nL 0.78125 0 \r\nz\r\n\" id=\"DejaVuSans-65\"/>\r\n      <path d=\"M 48.78125 52.59375 \r\nL 48.78125 44.1875 \r\nQ 44.96875 46.296875 41.140625 47.34375 \r\nQ 37.3125 48.390625 33.40625 48.390625 \r\nQ 24.65625 48.390625 19.8125 42.84375 \r\nQ 14.984375 37.3125 14.984375 27.296875 \r\nQ 14.984375 17.28125 19.8125 11.734375 \r\nQ 24.65625 6.203125 33.40625 6.203125 \r\nQ 37.3125 6.203125 41.140625 7.25 \r\nQ 44.96875 8.296875 48.78125 10.40625 \r\nL 48.78125 2.09375 \r\nQ 45.015625 0.34375 40.984375 -0.53125 \r\nQ 36.96875 -1.421875 32.421875 -1.421875 \r\nQ 20.0625 -1.421875 12.78125 6.34375 \r\nQ 5.515625 14.109375 5.515625 27.296875 \r\nQ 5.515625 40.671875 12.859375 48.328125 \r\nQ 20.21875 56 33.015625 56 \r\nQ 37.15625 56 41.109375 55.140625 \r\nQ 45.0625 54.296875 48.78125 52.59375 \r\nz\r\n\" id=\"DejaVuSans-99\"/>\r\n      <path d=\"M 8.5 21.578125 \r\nL 8.5 54.6875 \r\nL 17.484375 54.6875 \r\nL 17.484375 21.921875 \r\nQ 17.484375 14.15625 20.5 10.265625 \r\nQ 23.53125 6.390625 29.59375 6.390625 \r\nQ 36.859375 6.390625 41.078125 11.03125 \r\nQ 45.3125 15.671875 45.3125 23.6875 \r\nL 45.3125 54.6875 \r\nL 54.296875 54.6875 \r\nL 54.296875 0 \r\nL 45.3125 0 \r\nL 45.3125 8.40625 \r\nQ 42.046875 3.421875 37.71875 1 \r\nQ 33.40625 -1.421875 27.6875 -1.421875 \r\nQ 18.265625 -1.421875 13.375 4.4375 \r\nQ 8.5 10.296875 8.5 21.578125 \r\nz\r\nM 31.109375 56 \r\nz\r\n\" id=\"DejaVuSans-117\"/>\r\n      <path d=\"M 41.109375 46.296875 \r\nQ 39.59375 47.171875 37.8125 47.578125 \r\nQ 36.03125 48 33.890625 48 \r\nQ 26.265625 48 22.1875 43.046875 \r\nQ 18.109375 38.09375 18.109375 28.8125 \r\nL 18.109375 0 \r\nL 9.078125 0 \r\nL 9.078125 54.6875 \r\nL 18.109375 54.6875 \r\nL 18.109375 46.1875 \r\nQ 20.953125 51.171875 25.484375 53.578125 \r\nQ 30.03125 56 36.53125 56 \r\nQ 37.453125 56 38.578125 55.875 \r\nQ 39.703125 55.765625 41.0625 55.515625 \r\nz\r\n\" id=\"DejaVuSans-114\"/>\r\n      <path d=\"M 34.28125 27.484375 \r\nQ 23.390625 27.484375 19.1875 25 \r\nQ 14.984375 22.515625 14.984375 16.5 \r\nQ 14.984375 11.71875 18.140625 8.90625 \r\nQ 21.296875 6.109375 26.703125 6.109375 \r\nQ 34.1875 6.109375 38.703125 11.40625 \r\nQ 43.21875 16.703125 43.21875 25.484375 \r\nL 43.21875 27.484375 \r\nz\r\nM 52.203125 31.203125 \r\nL 52.203125 0 \r\nL 43.21875 0 \r\nL 43.21875 8.296875 \r\nQ 40.140625 3.328125 35.546875 0.953125 \r\nQ 30.953125 -1.421875 24.3125 -1.421875 \r\nQ 15.921875 -1.421875 10.953125 3.296875 \r\nQ 6 8.015625 6 15.921875 \r\nQ 6 25.140625 12.171875 29.828125 \r\nQ 18.359375 34.515625 30.609375 34.515625 \r\nL 43.21875 34.515625 \r\nL 43.21875 35.40625 \r\nQ 43.21875 41.609375 39.140625 45 \r\nQ 35.0625 48.390625 27.6875 48.390625 \r\nQ 23 48.390625 18.546875 47.265625 \r\nQ 14.109375 46.140625 10.015625 43.890625 \r\nL 10.015625 52.203125 \r\nQ 14.9375 54.109375 19.578125 55.046875 \r\nQ 24.21875 56 28.609375 56 \r\nQ 40.484375 56 46.34375 49.84375 \r\nQ 52.203125 43.703125 52.203125 31.203125 \r\nz\r\n\" id=\"DejaVuSans-97\"/>\r\n      <path d=\"M 32.171875 -5.078125 \r\nQ 28.375 -14.84375 24.75 -17.8125 \r\nQ 21.140625 -20.796875 15.09375 -20.796875 \r\nL 7.90625 -20.796875 \r\nL 7.90625 -13.28125 \r\nL 13.1875 -13.28125 \r\nQ 16.890625 -13.28125 18.9375 -11.515625 \r\nQ 21 -9.765625 23.484375 -3.21875 \r\nL 25.09375 0.875 \r\nL 2.984375 54.6875 \r\nL 12.5 54.6875 \r\nL 29.59375 11.921875 \r\nL 46.6875 54.6875 \r\nL 56.203125 54.6875 \r\nz\r\n\" id=\"DejaVuSans-121\"/>\r\n     </defs>\r\n     <use xlink:href=\"#DejaVuSans-65\"/>\r\n     <use x=\"66.658203\" xlink:href=\"#DejaVuSans-99\"/>\r\n     <use x=\"121.638672\" xlink:href=\"#DejaVuSans-99\"/>\r\n     <use x=\"176.619141\" xlink:href=\"#DejaVuSans-117\"/>\r\n     <use x=\"239.998047\" xlink:href=\"#DejaVuSans-114\"/>\r\n     <use x=\"281.111328\" xlink:href=\"#DejaVuSans-97\"/>\r\n     <use x=\"342.390625\" xlink:href=\"#DejaVuSans-99\"/>\r\n     <use x=\"397.371094\" xlink:href=\"#DejaVuSans-121\"/>\r\n    </g>\r\n   </g>\r\n   <g id=\"legend_1\">\r\n    <g id=\"patch_7\">\r\n     <path d=\"M 265.9125 128.618125 \r\nL 396.128125 128.618125 \r\nQ 398.128125 128.618125 398.128125 126.618125 \r\nL 398.128125 98.261875 \r\nQ 398.128125 96.261875 396.128125 96.261875 \r\nL 265.9125 96.261875 \r\nQ 263.9125 96.261875 263.9125 98.261875 \r\nL 263.9125 126.618125 \r\nQ 263.9125 128.618125 265.9125 128.618125 \r\nz\r\n\" style=\"fill:#ffffff;opacity:0.8;stroke:#cccccc;stroke-linejoin:miter;\"/>\r\n    </g>\r\n    <g id=\"line2d_18\">\r\n     <path d=\"M 267.9125 104.360312 \r\nL 287.9125 104.360312 \r\n\" style=\"fill:none;stroke:#ff0000;stroke-linecap:square;stroke-width:1.5;\"/>\r\n    </g>\r\n    <g id=\"line2d_19\"/>\r\n    <g id=\"text_17\">\r\n     <!-- Training Accuracy -->\r\n     <g transform=\"translate(295.9125 107.860312)scale(0.1 -0.1)\">\r\n      <defs>\r\n       <path d=\"M -0.296875 72.90625 \r\nL 61.375 72.90625 \r\nL 61.375 64.59375 \r\nL 35.5 64.59375 \r\nL 35.5 0 \r\nL 25.59375 0 \r\nL 25.59375 64.59375 \r\nL -0.296875 64.59375 \r\nz\r\n\" id=\"DejaVuSans-84\"/>\r\n       <path d=\"M 9.421875 54.6875 \r\nL 18.40625 54.6875 \r\nL 18.40625 0 \r\nL 9.421875 0 \r\nz\r\nM 9.421875 75.984375 \r\nL 18.40625 75.984375 \r\nL 18.40625 64.59375 \r\nL 9.421875 64.59375 \r\nz\r\n\" id=\"DejaVuSans-105\"/>\r\n       <path d=\"M 54.890625 33.015625 \r\nL 54.890625 0 \r\nL 45.90625 0 \r\nL 45.90625 32.71875 \r\nQ 45.90625 40.484375 42.875 44.328125 \r\nQ 39.84375 48.1875 33.796875 48.1875 \r\nQ 26.515625 48.1875 22.3125 43.546875 \r\nQ 18.109375 38.921875 18.109375 30.90625 \r\nL 18.109375 0 \r\nL 9.078125 0 \r\nL 9.078125 54.6875 \r\nL 18.109375 54.6875 \r\nL 18.109375 46.1875 \r\nQ 21.34375 51.125 25.703125 53.5625 \r\nQ 30.078125 56 35.796875 56 \r\nQ 45.21875 56 50.046875 50.171875 \r\nQ 54.890625 44.34375 54.890625 33.015625 \r\nz\r\n\" id=\"DejaVuSans-110\"/>\r\n       <path d=\"M 45.40625 27.984375 \r\nQ 45.40625 37.75 41.375 43.109375 \r\nQ 37.359375 48.484375 30.078125 48.484375 \r\nQ 22.859375 48.484375 18.828125 43.109375 \r\nQ 14.796875 37.75 14.796875 27.984375 \r\nQ 14.796875 18.265625 18.828125 12.890625 \r\nQ 22.859375 7.515625 30.078125 7.515625 \r\nQ 37.359375 7.515625 41.375 12.890625 \r\nQ 45.40625 18.265625 45.40625 27.984375 \r\nz\r\nM 54.390625 6.78125 \r\nQ 54.390625 -7.171875 48.1875 -13.984375 \r\nQ 42 -20.796875 29.203125 -20.796875 \r\nQ 24.46875 -20.796875 20.265625 -20.09375 \r\nQ 16.0625 -19.390625 12.109375 -17.921875 \r\nL 12.109375 -9.1875 \r\nQ 16.0625 -11.328125 19.921875 -12.34375 \r\nQ 23.78125 -13.375 27.78125 -13.375 \r\nQ 36.625 -13.375 41.015625 -8.765625 \r\nQ 45.40625 -4.15625 45.40625 5.171875 \r\nL 45.40625 9.625 \r\nQ 42.625 4.78125 38.28125 2.390625 \r\nQ 33.9375 0 27.875 0 \r\nQ 17.828125 0 11.671875 7.65625 \r\nQ 5.515625 15.328125 5.515625 27.984375 \r\nQ 5.515625 40.671875 11.671875 48.328125 \r\nQ 17.828125 56 27.875 56 \r\nQ 33.9375 56 38.28125 53.609375 \r\nQ 42.625 51.21875 45.40625 46.390625 \r\nL 45.40625 54.6875 \r\nL 54.390625 54.6875 \r\nz\r\n\" id=\"DejaVuSans-103\"/>\r\n       <path id=\"DejaVuSans-32\"/>\r\n      </defs>\r\n      <use xlink:href=\"#DejaVuSans-84\"/>\r\n      <use x=\"46.333984\" xlink:href=\"#DejaVuSans-114\"/>\r\n      <use x=\"87.447266\" xlink:href=\"#DejaVuSans-97\"/>\r\n      <use x=\"148.726562\" xlink:href=\"#DejaVuSans-105\"/>\r\n      <use x=\"176.509766\" xlink:href=\"#DejaVuSans-110\"/>\r\n      <use x=\"239.888672\" xlink:href=\"#DejaVuSans-105\"/>\r\n      <use x=\"267.671875\" xlink:href=\"#DejaVuSans-110\"/>\r\n      <use x=\"331.050781\" xlink:href=\"#DejaVuSans-103\"/>\r\n      <use x=\"394.527344\" xlink:href=\"#DejaVuSans-32\"/>\r\n      <use x=\"426.314453\" xlink:href=\"#DejaVuSans-65\"/>\r\n      <use x=\"492.972656\" xlink:href=\"#DejaVuSans-99\"/>\r\n      <use x=\"547.953125\" xlink:href=\"#DejaVuSans-99\"/>\r\n      <use x=\"602.933594\" xlink:href=\"#DejaVuSans-117\"/>\r\n      <use x=\"666.3125\" xlink:href=\"#DejaVuSans-114\"/>\r\n      <use x=\"707.425781\" xlink:href=\"#DejaVuSans-97\"/>\r\n      <use x=\"768.705078\" xlink:href=\"#DejaVuSans-99\"/>\r\n      <use x=\"823.685547\" xlink:href=\"#DejaVuSans-121\"/>\r\n     </g>\r\n    </g>\r\n    <g id=\"line2d_20\"/>\r\n    <g id=\"line2d_21\">\r\n     <g>\r\n      <use style=\"fill:#1f77b4;stroke:#1f77b4;\" x=\"277.9125\" xlink:href=\"#m474fd7c947\" y=\"119.038437\"/>\r\n     </g>\r\n    </g>\r\n    <g id=\"text_18\">\r\n     <!-- Validation Accuracy -->\r\n     <g transform=\"translate(295.9125 122.538437)scale(0.1 -0.1)\">\r\n      <defs>\r\n       <path d=\"M 28.609375 0 \r\nL 0.78125 72.90625 \r\nL 11.078125 72.90625 \r\nL 34.1875 11.53125 \r\nL 57.328125 72.90625 \r\nL 67.578125 72.90625 \r\nL 39.796875 0 \r\nz\r\n\" id=\"DejaVuSans-86\"/>\r\n       <path d=\"M 9.421875 75.984375 \r\nL 18.40625 75.984375 \r\nL 18.40625 0 \r\nL 9.421875 0 \r\nz\r\n\" id=\"DejaVuSans-108\"/>\r\n       <path d=\"M 45.40625 46.390625 \r\nL 45.40625 75.984375 \r\nL 54.390625 75.984375 \r\nL 54.390625 0 \r\nL 45.40625 0 \r\nL 45.40625 8.203125 \r\nQ 42.578125 3.328125 38.25 0.953125 \r\nQ 33.9375 -1.421875 27.875 -1.421875 \r\nQ 17.96875 -1.421875 11.734375 6.484375 \r\nQ 5.515625 14.40625 5.515625 27.296875 \r\nQ 5.515625 40.1875 11.734375 48.09375 \r\nQ 17.96875 56 27.875 56 \r\nQ 33.9375 56 38.25 53.625 \r\nQ 42.578125 51.265625 45.40625 46.390625 \r\nz\r\nM 14.796875 27.296875 \r\nQ 14.796875 17.390625 18.875 11.75 \r\nQ 22.953125 6.109375 30.078125 6.109375 \r\nQ 37.203125 6.109375 41.296875 11.75 \r\nQ 45.40625 17.390625 45.40625 27.296875 \r\nQ 45.40625 37.203125 41.296875 42.84375 \r\nQ 37.203125 48.484375 30.078125 48.484375 \r\nQ 22.953125 48.484375 18.875 42.84375 \r\nQ 14.796875 37.203125 14.796875 27.296875 \r\nz\r\n\" id=\"DejaVuSans-100\"/>\r\n       <path d=\"M 18.3125 70.21875 \r\nL 18.3125 54.6875 \r\nL 36.8125 54.6875 \r\nL 36.8125 47.703125 \r\nL 18.3125 47.703125 \r\nL 18.3125 18.015625 \r\nQ 18.3125 11.328125 20.140625 9.421875 \r\nQ 21.96875 7.515625 27.59375 7.515625 \r\nL 36.8125 7.515625 \r\nL 36.8125 0 \r\nL 27.59375 0 \r\nQ 17.1875 0 13.234375 3.875 \r\nQ 9.28125 7.765625 9.28125 18.015625 \r\nL 9.28125 47.703125 \r\nL 2.6875 47.703125 \r\nL 2.6875 54.6875 \r\nL 9.28125 54.6875 \r\nL 9.28125 70.21875 \r\nz\r\n\" id=\"DejaVuSans-116\"/>\r\n       <path d=\"M 30.609375 48.390625 \r\nQ 23.390625 48.390625 19.1875 42.75 \r\nQ 14.984375 37.109375 14.984375 27.296875 \r\nQ 14.984375 17.484375 19.15625 11.84375 \r\nQ 23.34375 6.203125 30.609375 6.203125 \r\nQ 37.796875 6.203125 41.984375 11.859375 \r\nQ 46.1875 17.53125 46.1875 27.296875 \r\nQ 46.1875 37.015625 41.984375 42.703125 \r\nQ 37.796875 48.390625 30.609375 48.390625 \r\nz\r\nM 30.609375 56 \r\nQ 42.328125 56 49.015625 48.375 \r\nQ 55.71875 40.765625 55.71875 27.296875 \r\nQ 55.71875 13.875 49.015625 6.21875 \r\nQ 42.328125 -1.421875 30.609375 -1.421875 \r\nQ 18.84375 -1.421875 12.171875 6.21875 \r\nQ 5.515625 13.875 5.515625 27.296875 \r\nQ 5.515625 40.765625 12.171875 48.375 \r\nQ 18.84375 56 30.609375 56 \r\nz\r\n\" id=\"DejaVuSans-111\"/>\r\n      </defs>\r\n      <use xlink:href=\"#DejaVuSans-86\"/>\r\n      <use x=\"60.658203\" xlink:href=\"#DejaVuSans-97\"/>\r\n      <use x=\"121.9375\" xlink:href=\"#DejaVuSans-108\"/>\r\n      <use x=\"149.720703\" xlink:href=\"#DejaVuSans-105\"/>\r\n      <use x=\"177.503906\" xlink:href=\"#DejaVuSans-100\"/>\r\n      <use x=\"240.980469\" xlink:href=\"#DejaVuSans-97\"/>\r\n      <use x=\"302.259766\" xlink:href=\"#DejaVuSans-116\"/>\r\n      <use x=\"341.46875\" xlink:href=\"#DejaVuSans-105\"/>\r\n      <use x=\"369.251953\" xlink:href=\"#DejaVuSans-111\"/>\r\n      <use x=\"430.433594\" xlink:href=\"#DejaVuSans-110\"/>\r\n      <use x=\"493.8125\" xlink:href=\"#DejaVuSans-32\"/>\r\n      <use x=\"525.599609\" xlink:href=\"#DejaVuSans-65\"/>\r\n      <use x=\"592.257812\" xlink:href=\"#DejaVuSans-99\"/>\r\n      <use x=\"647.238281\" xlink:href=\"#DejaVuSans-99\"/>\r\n      <use x=\"702.21875\" xlink:href=\"#DejaVuSans-117\"/>\r\n      <use x=\"765.597656\" xlink:href=\"#DejaVuSans-114\"/>\r\n      <use x=\"806.710938\" xlink:href=\"#DejaVuSans-97\"/>\r\n      <use x=\"867.990234\" xlink:href=\"#DejaVuSans-99\"/>\r\n      <use x=\"922.970703\" xlink:href=\"#DejaVuSans-121\"/>\r\n     </g>\r\n    </g>\r\n   </g>\r\n  </g>\r\n </g>\r\n <defs>\r\n  <clipPath id=\"p1b1c1f2b4b\">\r\n   <rect height=\"111.3\" width=\"373.025\" x=\"30.103125\" y=\"22.318125\"/>\r\n  </clipPath>\r\n </defs>\r\n</svg>\r\n",
      "image/png": "[encoded data removed]"
     },
     "metadata": {
      "needs_background": "light"
     }
    }
   ],
   "source": [
    "model_a.plot_performance()"
   ]
  },
  {
   "cell_type": "markdown",
   "metadata": {},
   "source": [
    "#### Model B\n",
    "This model uses a 5x5 convolution kernel for the first 2 convolution layers, and a 3x3 for the third convolution layer, with 2x2 maxpool filters, and includes dropout for both convolution and fully-connected layers (0.75 keep prob and 0.5 keep prob respectively)."
   ]
  },
  {
   "cell_type": "code",
   "execution_count": 22,
   "metadata": {},
   "outputs": [],
   "source": [
    "model_5x5_dropout = Model(name='5x5_dropout', conv_kernel=5)\n",
    "model_b = ModelExecutor(model_5x5_dropout, model_dir='./models')"
   ]
  },
  {
   "cell_type": "code",
   "execution_count": 290,
   "metadata": {},
   "outputs": [
    {
     "output_type": "stream",
     "name": "stdout",
     "text": [
      "Training...\n\n"
     ]
    },
    {
     "output_type": "error",
     "ename": "KeyboardInterrupt",
     "evalue": "",
     "traceback": [
      "\u001b[1;31m---------------------------------------------------------------------------\u001b[0m",
      "\u001b[1;31mKeyboardInterrupt\u001b[0m                         Traceback (most recent call last)",
      "\u001b[1;32m<ipython-input-290-8b62ab9d7182>\u001b[0m in \u001b[0;36m<module>\u001b[1;34m\u001b[0m\n\u001b[1;32m----> 1\u001b[1;33m \u001b[0mmodel_b\u001b[0m\u001b[1;33m.\u001b[0m\u001b[0mtrain\u001b[0m\u001b[1;33m(\u001b[0m\u001b[0mX_train_modified\u001b[0m\u001b[1;33m,\u001b[0m \u001b[0my_train_modified\u001b[0m\u001b[1;33m,\u001b[0m \u001b[0mX_valid_modified\u001b[0m\u001b[1;33m,\u001b[0m \u001b[0my_valid\u001b[0m\u001b[1;33m)\u001b[0m\u001b[1;33m\u001b[0m\u001b[0m\n\u001b[0m",
      "\u001b[1;32m<ipython-input-272-aa8e0cb17228>\u001b[0m in \u001b[0;36mtrain\u001b[1;34m(self, X_train, y_train, X_valid, y_valid, p_conv, p_fc)\u001b[0m\n\u001b[0;32m    117\u001b[0m                         \u001b[0mself\u001b[0m\u001b[1;33m.\u001b[0m\u001b[0my\u001b[0m\u001b[1;33m:\u001b[0m \u001b[0mbatch_y\u001b[0m\u001b[1;33m,\u001b[0m\u001b[1;33m\u001b[0m\u001b[0m\n\u001b[0;32m    118\u001b[0m                         \u001b[0mself\u001b[0m\u001b[1;33m.\u001b[0m\u001b[0mp_conv\u001b[0m\u001b[1;33m:\u001b[0m \u001b[0mp_conv\u001b[0m\u001b[1;33m,\u001b[0m\u001b[1;33m\u001b[0m\u001b[0m\n\u001b[1;32m--> 119\u001b[1;33m                         self.p_fc: p_fc})\n\u001b[0m\u001b[0;32m    120\u001b[0m \u001b[1;33m\u001b[0m\u001b[0m\n\u001b[0;32m    121\u001b[0m                 \u001b[1;31m# Calculate Training and Validation Accuracies\u001b[0m\u001b[1;33m\u001b[0m\u001b[1;33m\u001b[0m\u001b[0m\n",
      "\u001b[1;32m~\\anaconda3\\envs\\dl2\\lib\\site-packages\\tensorflow_core\\python\\client\\session.py\u001b[0m in \u001b[0;36mrun\u001b[1;34m(self, fetches, feed_dict, options, run_metadata)\u001b[0m\n\u001b[0;32m    954\u001b[0m     \u001b[1;32mtry\u001b[0m\u001b[1;33m:\u001b[0m\u001b[1;33m\u001b[0m\u001b[0m\n\u001b[0;32m    955\u001b[0m       result = self._run(None, fetches, feed_dict, options_ptr,\n\u001b[1;32m--> 956\u001b[1;33m                          run_metadata_ptr)\n\u001b[0m\u001b[0;32m    957\u001b[0m       \u001b[1;32mif\u001b[0m \u001b[0mrun_metadata\u001b[0m\u001b[1;33m:\u001b[0m\u001b[1;33m\u001b[0m\u001b[0m\n\u001b[0;32m    958\u001b[0m         \u001b[0mproto_data\u001b[0m \u001b[1;33m=\u001b[0m \u001b[0mtf_session\u001b[0m\u001b[1;33m.\u001b[0m\u001b[0mTF_GetBuffer\u001b[0m\u001b[1;33m(\u001b[0m\u001b[0mrun_metadata_ptr\u001b[0m\u001b[1;33m)\u001b[0m\u001b[1;33m\u001b[0m\u001b[0m\n",
      "\u001b[1;32m~\\anaconda3\\envs\\dl2\\lib\\site-packages\\tensorflow_core\\python\\client\\session.py\u001b[0m in \u001b[0;36m_run\u001b[1;34m(self, handle, fetches, feed_dict, options, run_metadata)\u001b[0m\n\u001b[0;32m   1178\u001b[0m     \u001b[1;32mif\u001b[0m \u001b[0mfinal_fetches\u001b[0m \u001b[1;32mor\u001b[0m \u001b[0mfinal_targets\u001b[0m \u001b[1;32mor\u001b[0m \u001b[1;33m(\u001b[0m\u001b[0mhandle\u001b[0m \u001b[1;32mand\u001b[0m \u001b[0mfeed_dict_tensor\u001b[0m\u001b[1;33m)\u001b[0m\u001b[1;33m:\u001b[0m\u001b[1;33m\u001b[0m\u001b[0m\n\u001b[0;32m   1179\u001b[0m       results = self._do_run(handle, final_targets, final_fetches,\n\u001b[1;32m-> 1180\u001b[1;33m                              feed_dict_tensor, options, run_metadata)\n\u001b[0m\u001b[0;32m   1181\u001b[0m     \u001b[1;32melse\u001b[0m\u001b[1;33m:\u001b[0m\u001b[1;33m\u001b[0m\u001b[0m\n\u001b[0;32m   1182\u001b[0m       \u001b[0mresults\u001b[0m \u001b[1;33m=\u001b[0m \u001b[1;33m[\u001b[0m\u001b[1;33m]\u001b[0m\u001b[1;33m\u001b[0m\u001b[0m\n",
      "\u001b[1;32m~\\anaconda3\\envs\\dl2\\lib\\site-packages\\tensorflow_core\\python\\client\\session.py\u001b[0m in \u001b[0;36m_do_run\u001b[1;34m(self, handle, target_list, fetch_list, feed_dict, options, run_metadata)\u001b[0m\n\u001b[0;32m   1357\u001b[0m     \u001b[1;32mif\u001b[0m \u001b[0mhandle\u001b[0m \u001b[1;32mis\u001b[0m \u001b[1;32mNone\u001b[0m\u001b[1;33m:\u001b[0m\u001b[1;33m\u001b[0m\u001b[0m\n\u001b[0;32m   1358\u001b[0m       return self._do_call(_run_fn, feeds, fetches, targets, options,\n\u001b[1;32m-> 1359\u001b[1;33m                            run_metadata)\n\u001b[0m\u001b[0;32m   1360\u001b[0m     \u001b[1;32melse\u001b[0m\u001b[1;33m:\u001b[0m\u001b[1;33m\u001b[0m\u001b[0m\n\u001b[0;32m   1361\u001b[0m       \u001b[1;32mreturn\u001b[0m \u001b[0mself\u001b[0m\u001b[1;33m.\u001b[0m\u001b[0m_do_call\u001b[0m\u001b[1;33m(\u001b[0m\u001b[0m_prun_fn\u001b[0m\u001b[1;33m,\u001b[0m \u001b[0mhandle\u001b[0m\u001b[1;33m,\u001b[0m \u001b[0mfeeds\u001b[0m\u001b[1;33m,\u001b[0m \u001b[0mfetches\u001b[0m\u001b[1;33m)\u001b[0m\u001b[1;33m\u001b[0m\u001b[0m\n",
      "\u001b[1;32m~\\anaconda3\\envs\\dl2\\lib\\site-packages\\tensorflow_core\\python\\client\\session.py\u001b[0m in \u001b[0;36m_do_call\u001b[1;34m(self, fn, *args)\u001b[0m\n\u001b[0;32m   1363\u001b[0m   \u001b[1;32mdef\u001b[0m \u001b[0m_do_call\u001b[0m\u001b[1;33m(\u001b[0m\u001b[0mself\u001b[0m\u001b[1;33m,\u001b[0m \u001b[0mfn\u001b[0m\u001b[1;33m,\u001b[0m \u001b[1;33m*\u001b[0m\u001b[0margs\u001b[0m\u001b[1;33m)\u001b[0m\u001b[1;33m:\u001b[0m\u001b[1;33m\u001b[0m\u001b[0m\n\u001b[0;32m   1364\u001b[0m     \u001b[1;32mtry\u001b[0m\u001b[1;33m:\u001b[0m\u001b[1;33m\u001b[0m\u001b[0m\n\u001b[1;32m-> 1365\u001b[1;33m       \u001b[1;32mreturn\u001b[0m \u001b[0mfn\u001b[0m\u001b[1;33m(\u001b[0m\u001b[1;33m*\u001b[0m\u001b[0margs\u001b[0m\u001b[1;33m)\u001b[0m\u001b[1;33m\u001b[0m\u001b[0m\n\u001b[0m\u001b[0;32m   1366\u001b[0m     \u001b[1;32mexcept\u001b[0m \u001b[0merrors\u001b[0m\u001b[1;33m.\u001b[0m\u001b[0mOpError\u001b[0m \u001b[1;32mas\u001b[0m \u001b[0me\u001b[0m\u001b[1;33m:\u001b[0m\u001b[1;33m\u001b[0m\u001b[0m\n\u001b[0;32m   1367\u001b[0m       \u001b[0mmessage\u001b[0m \u001b[1;33m=\u001b[0m \u001b[0mcompat\u001b[0m\u001b[1;33m.\u001b[0m\u001b[0mas_text\u001b[0m\u001b[1;33m(\u001b[0m\u001b[0me\u001b[0m\u001b[1;33m.\u001b[0m\u001b[0mmessage\u001b[0m\u001b[1;33m)\u001b[0m\u001b[1;33m\u001b[0m\u001b[0m\n",
      "\u001b[1;32m~\\anaconda3\\envs\\dl2\\lib\\site-packages\\tensorflow_core\\python\\client\\session.py\u001b[0m in \u001b[0;36m_run_fn\u001b[1;34m(feed_dict, fetch_list, target_list, options, run_metadata)\u001b[0m\n\u001b[0;32m   1348\u001b[0m       \u001b[0mself\u001b[0m\u001b[1;33m.\u001b[0m\u001b[0m_extend_graph\u001b[0m\u001b[1;33m(\u001b[0m\u001b[1;33m)\u001b[0m\u001b[1;33m\u001b[0m\u001b[0m\n\u001b[0;32m   1349\u001b[0m       return self._call_tf_sessionrun(options, feed_dict, fetch_list,\n\u001b[1;32m-> 1350\u001b[1;33m                                       target_list, run_metadata)\n\u001b[0m\u001b[0;32m   1351\u001b[0m \u001b[1;33m\u001b[0m\u001b[0m\n\u001b[0;32m   1352\u001b[0m     \u001b[1;32mdef\u001b[0m \u001b[0m_prun_fn\u001b[0m\u001b[1;33m(\u001b[0m\u001b[0mhandle\u001b[0m\u001b[1;33m,\u001b[0m \u001b[0mfeed_dict\u001b[0m\u001b[1;33m,\u001b[0m \u001b[0mfetch_list\u001b[0m\u001b[1;33m)\u001b[0m\u001b[1;33m:\u001b[0m\u001b[1;33m\u001b[0m\u001b[0m\n",
      "\u001b[1;32m~\\anaconda3\\envs\\dl2\\lib\\site-packages\\tensorflow_core\\python\\client\\session.py\u001b[0m in \u001b[0;36m_call_tf_sessionrun\u001b[1;34m(self, options, feed_dict, fetch_list, target_list, run_metadata)\u001b[0m\n\u001b[0;32m   1441\u001b[0m     return tf_session.TF_SessionRun_wrapper(self._session, options, feed_dict,\n\u001b[0;32m   1442\u001b[0m                                             \u001b[0mfetch_list\u001b[0m\u001b[1;33m,\u001b[0m \u001b[0mtarget_list\u001b[0m\u001b[1;33m,\u001b[0m\u001b[1;33m\u001b[0m\u001b[0m\n\u001b[1;32m-> 1443\u001b[1;33m                                             run_metadata)\n\u001b[0m\u001b[0;32m   1444\u001b[0m \u001b[1;33m\u001b[0m\u001b[0m\n\u001b[0;32m   1445\u001b[0m   \u001b[1;32mdef\u001b[0m \u001b[0m_call_tf_sessionprun\u001b[0m\u001b[1;33m(\u001b[0m\u001b[0mself\u001b[0m\u001b[1;33m,\u001b[0m \u001b[0mhandle\u001b[0m\u001b[1;33m,\u001b[0m \u001b[0mfeed_dict\u001b[0m\u001b[1;33m,\u001b[0m \u001b[0mfetch_list\u001b[0m\u001b[1;33m)\u001b[0m\u001b[1;33m:\u001b[0m\u001b[1;33m\u001b[0m\u001b[0m\n",
      "\u001b[1;31mKeyboardInterrupt\u001b[0m: "
     ]
    }
   ],
   "source": [
    "model_b.train(X_train_modified, y_train_modified, X_valid_modified, y_valid)"
   ]
  },
  {
   "cell_type": "code",
   "execution_count": null,
   "metadata": {},
   "outputs": [],
   "source": [
    "model_b.plot_performance()"
   ]
  },
  {
   "cell_type": "markdown",
   "metadata": {},
   "source": [
    "#### Model C\n",
    "This model uses a 3x3 convolution kernel for all convolution layers, with 2x2 maxpool filters, and includes dropout for both convolution and fully-connected layers (0.75 keep prob and 0.5 keep prob respectively)"
   ]
  },
  {
   "cell_type": "code",
   "execution_count": null,
   "metadata": {},
   "outputs": [],
   "source": [
    "model_3x3_dropout = Model(name='3x3_dropout')\n",
    "model_c = ModelExecutor(model_3x3_dropout, model_dir='./models')"
   ]
  },
  {
   "cell_type": "code",
   "execution_count": null,
   "metadata": {},
   "outputs": [],
   "source": [
    "model_c.train(X_train_modified, y_train_modified, X_valid_modified, y_valid)"
   ]
  },
  {
   "cell_type": "code",
   "execution_count": null,
   "metadata": {},
   "outputs": [],
   "source": [
    "model_c.plot_performance()"
   ]
  },
  {
   "cell_type": "markdown",
   "metadata": {},
   "source": [
    "#### Model D\n",
    "This model uses a 3x3 convolution kernel for all convolution layers, with 2x2 maxpool filters, and includes dropout for both convolution and fully-connected layers (0.75 keep prob and 0.5 keep prob respectively). This model is trained on the extended (augmented) dataset, using a learning rate of 0.0003, over 200 epochs."
   ]
  },
  {
   "cell_type": "code",
   "execution_count": 56,
   "metadata": {},
   "outputs": [],
   "source": [
    "model_3x3_test = Model(name='3x3_test')\n",
    "model_d = ModelExecutor(model_3x3_test, model_dir='./models', rate=0.0003, epochs=200)"
   ]
  },
  {
   "cell_type": "code",
   "execution_count": 24,
   "metadata": {},
   "outputs": [
    {
     "output_type": "stream",
     "name": "stdout",
     "text": [
      "Training...\n",
      "\n",
      "EPOCH 1 ...\n",
      "Validation Accuracy = 0.261\n",
      "\n",
      "EPOCH 2 ...\n",
      "Validation Accuracy = 0.600\n",
      "\n",
      "EPOCH 3 ...\n",
      "Validation Accuracy = 0.764\n",
      "\n",
      "EPOCH 4 ...\n",
      "Validation Accuracy = 0.838\n",
      "\n",
      "EPOCH 5 ...\n",
      "Validation Accuracy = 0.873\n",
      "\n",
      "EPOCH 6 ...\n",
      "Validation Accuracy = 0.892\n",
      "\n",
      "EPOCH 7 ...\n",
      "Validation Accuracy = 0.908\n",
      "\n",
      "EPOCH 8 ...\n",
      "Validation Accuracy = 0.916\n",
      "\n",
      "EPOCH 9 ...\n",
      "Validation Accuracy = 0.928\n",
      "\n",
      "EPOCH 10 ...\n",
      "Validation Accuracy = 0.943\n",
      "\n",
      "EPOCH 11 ...\n",
      "Validation Accuracy = 0.945\n",
      "\n",
      "EPOCH 12 ...\n",
      "Validation Accuracy = 0.952\n",
      "\n",
      "EPOCH 13 ...\n",
      "Validation Accuracy = 0.958\n",
      "\n",
      "EPOCH 14 ...\n",
      "Validation Accuracy = 0.959\n",
      "\n",
      "EPOCH 15 ...\n",
      "Validation Accuracy = 0.965\n",
      "\n",
      "EPOCH 16 ...\n",
      "Validation Accuracy = 0.959\n",
      "\n",
      "EPOCH 17 ...\n",
      "Validation Accuracy = 0.964\n",
      "\n",
      "EPOCH 18 ...\n",
      "Validation Accuracy = 0.966\n",
      "\n",
      "EPOCH 19 ...\n",
      "Validation Accuracy = 0.966\n",
      "\n",
      "EPOCH 20 ...\n",
      "Validation Accuracy = 0.966\n",
      "\n",
      "EPOCH 21 ...\n",
      "Validation Accuracy = 0.968\n",
      "\n",
      "EPOCH 22 ...\n",
      "Validation Accuracy = 0.969\n",
      "\n",
      "EPOCH 23 ...\n",
      "Validation Accuracy = 0.968\n",
      "\n",
      "EPOCH 24 ...\n",
      "Validation Accuracy = 0.970\n",
      "\n",
      "EPOCH 25 ...\n",
      "Validation Accuracy = 0.969\n",
      "\n",
      "EPOCH 26 ...\n",
      "Validation Accuracy = 0.970\n",
      "\n",
      "EPOCH 27 ...\n",
      "Validation Accuracy = 0.968\n",
      "\n",
      "EPOCH 28 ...\n",
      "Validation Accuracy = 0.970\n",
      "\n",
      "EPOCH 29 ...\n",
      "Validation Accuracy = 0.970\n",
      "\n",
      "EPOCH 30 ...\n",
      "Validation Accuracy = 0.970\n",
      "\n",
      "EPOCH 31 ...\n",
      "Validation Accuracy = 0.972\n",
      "\n",
      "EPOCH 32 ...\n",
      "Validation Accuracy = 0.969\n",
      "\n",
      "EPOCH 33 ...\n",
      "Validation Accuracy = 0.971\n",
      "\n",
      "EPOCH 34 ...\n",
      "Validation Accuracy = 0.973\n",
      "\n",
      "EPOCH 35 ...\n",
      "Validation Accuracy = 0.974\n",
      "\n",
      "EPOCH 36 ...\n",
      "Validation Accuracy = 0.975\n",
      "\n",
      "EPOCH 37 ...\n",
      "Validation Accuracy = 0.972\n",
      "\n",
      "EPOCH 38 ...\n",
      "Validation Accuracy = 0.971\n",
      "\n",
      "EPOCH 39 ...\n",
      "Validation Accuracy = 0.972\n",
      "\n",
      "EPOCH 40 ...\n",
      "Validation Accuracy = 0.971\n",
      "\n",
      "EPOCH 41 ...\n",
      "Validation Accuracy = 0.973\n",
      "\n",
      "EPOCH 42 ...\n",
      "Validation Accuracy = 0.972\n",
      "\n",
      "EPOCH 43 ...\n",
      "Validation Accuracy = 0.974\n",
      "\n",
      "EPOCH 44 ...\n",
      "Validation Accuracy = 0.974\n",
      "\n",
      "EPOCH 45 ...\n",
      "Validation Accuracy = 0.973\n",
      "\n",
      "EPOCH 46 ...\n",
      "Validation Accuracy = 0.973\n",
      "\n",
      "EPOCH 47 ...\n",
      "Validation Accuracy = 0.973\n",
      "\n",
      "EPOCH 48 ...\n",
      "Validation Accuracy = 0.976\n",
      "\n",
      "EPOCH 49 ...\n",
      "Validation Accuracy = 0.975\n",
      "\n",
      "EPOCH 50 ...\n",
      "Validation Accuracy = 0.975\n",
      "\n",
      "EPOCH 51 ...\n",
      "Validation Accuracy = 0.975\n",
      "\n",
      "EPOCH 52 ...\n",
      "Validation Accuracy = 0.977\n",
      "\n",
      "EPOCH 53 ...\n",
      "Validation Accuracy = 0.972\n",
      "\n",
      "EPOCH 54 ...\n",
      "Validation Accuracy = 0.975\n",
      "\n",
      "EPOCH 55 ...\n",
      "Validation Accuracy = 0.973\n",
      "\n",
      "EPOCH 56 ...\n",
      "Validation Accuracy = 0.976\n",
      "\n",
      "EPOCH 57 ...\n",
      "Validation Accuracy = 0.976\n",
      "\n",
      "EPOCH 58 ...\n",
      "Validation Accuracy = 0.975\n",
      "\n",
      "EPOCH 59 ...\n",
      "Validation Accuracy = 0.976\n",
      "\n",
      "EPOCH 60 ...\n",
      "Validation Accuracy = 0.975\n",
      "\n",
      "EPOCH 61 ...\n",
      "Validation Accuracy = 0.976\n",
      "\n",
      "EPOCH 62 ...\n",
      "Validation Accuracy = 0.975\n",
      "\n",
      "EPOCH 63 ...\n",
      "Validation Accuracy = 0.976\n",
      "\n",
      "EPOCH 64 ...\n",
      "Validation Accuracy = 0.976\n",
      "\n",
      "EPOCH 65 ...\n",
      "Validation Accuracy = 0.976\n",
      "\n",
      "EPOCH 66 ...\n",
      "Validation Accuracy = 0.976\n",
      "\n",
      "EPOCH 67 ...\n",
      "Validation Accuracy = 0.976\n",
      "\n",
      "EPOCH 68 ...\n",
      "Validation Accuracy = 0.975\n",
      "\n",
      "EPOCH 69 ...\n",
      "Validation Accuracy = 0.975\n",
      "\n",
      "EPOCH 70 ...\n",
      "Validation Accuracy = 0.976\n",
      "\n",
      "EPOCH 71 ...\n",
      "Validation Accuracy = 0.978\n",
      "\n",
      "EPOCH 72 ...\n",
      "Validation Accuracy = 0.976\n",
      "\n",
      "EPOCH 73 ...\n",
      "Validation Accuracy = 0.977\n",
      "\n",
      "EPOCH 74 ...\n",
      "Validation Accuracy = 0.977\n",
      "\n",
      "EPOCH 75 ...\n",
      "Validation Accuracy = 0.975\n",
      "\n",
      "EPOCH 76 ...\n",
      "Validation Accuracy = 0.976\n",
      "\n",
      "EPOCH 77 ...\n",
      "Validation Accuracy = 0.975\n",
      "\n",
      "EPOCH 78 ...\n",
      "Validation Accuracy = 0.977\n",
      "\n",
      "EPOCH 79 ...\n",
      "Validation Accuracy = 0.975\n",
      "\n",
      "EPOCH 80 ...\n",
      "Validation Accuracy = 0.977\n",
      "\n",
      "EPOCH 81 ...\n",
      "Validation Accuracy = 0.975\n",
      "\n",
      "EPOCH 82 ...\n",
      "Validation Accuracy = 0.976\n",
      "\n",
      "EPOCH 83 ...\n",
      "Validation Accuracy = 0.976\n",
      "\n",
      "EPOCH 84 ...\n",
      "Validation Accuracy = 0.976\n",
      "\n",
      "EPOCH 85 ...\n",
      "Validation Accuracy = 0.976\n",
      "\n",
      "EPOCH 86 ...\n",
      "Validation Accuracy = 0.975\n",
      "\n",
      "EPOCH 87 ...\n",
      "Validation Accuracy = 0.976\n",
      "\n",
      "EPOCH 88 ...\n",
      "Validation Accuracy = 0.976\n",
      "\n",
      "EPOCH 89 ...\n",
      "Validation Accuracy = 0.977\n",
      "\n",
      "EPOCH 90 ...\n",
      "Validation Accuracy = 0.978\n",
      "\n",
      "EPOCH 91 ...\n",
      "Validation Accuracy = 0.977\n",
      "\n",
      "EPOCH 92 ...\n",
      "Validation Accuracy = 0.978\n",
      "\n",
      "EPOCH 93 ...\n",
      "Validation Accuracy = 0.975\n",
      "\n",
      "EPOCH 94 ...\n",
      "Validation Accuracy = 0.974\n",
      "\n",
      "EPOCH 95 ...\n",
      "Validation Accuracy = 0.977\n",
      "\n",
      "EPOCH 96 ...\n",
      "Validation Accuracy = 0.977\n",
      "\n",
      "EPOCH 97 ...\n",
      "Validation Accuracy = 0.976\n",
      "\n",
      "EPOCH 98 ...\n",
      "Validation Accuracy = 0.976\n",
      "\n",
      "EPOCH 99 ...\n",
      "Validation Accuracy = 0.977\n",
      "\n",
      "EPOCH 100 ...\n",
      "Validation Accuracy = 0.976\n",
      "\n",
      "EPOCH 101 ...\n",
      "Validation Accuracy = 0.978\n",
      "\n",
      "EPOCH 102 ...\n",
      "Validation Accuracy = 0.978\n",
      "\n",
      "EPOCH 103 ...\n",
      "Validation Accuracy = 0.978\n",
      "\n",
      "EPOCH 104 ...\n",
      "Validation Accuracy = 0.977\n",
      "\n",
      "EPOCH 105 ...\n",
      "Validation Accuracy = 0.975\n",
      "\n",
      "EPOCH 106 ...\n",
      "Validation Accuracy = 0.977\n",
      "\n",
      "EPOCH 107 ...\n",
      "Validation Accuracy = 0.976\n",
      "\n",
      "EPOCH 108 ...\n",
      "Validation Accuracy = 0.977\n",
      "\n",
      "EPOCH 109 ...\n",
      "Validation Accuracy = 0.978\n",
      "\n",
      "EPOCH 110 ...\n",
      "Validation Accuracy = 0.978\n",
      "\n",
      "EPOCH 111 ...\n",
      "Validation Accuracy = 0.976\n",
      "\n",
      "EPOCH 112 ...\n",
      "Validation Accuracy = 0.977\n",
      "\n",
      "EPOCH 113 ...\n",
      "Validation Accuracy = 0.974\n",
      "\n",
      "EPOCH 114 ...\n",
      "Validation Accuracy = 0.976\n",
      "\n",
      "EPOCH 115 ...\n",
      "Validation Accuracy = 0.976\n",
      "\n",
      "EPOCH 116 ...\n",
      "Validation Accuracy = 0.977\n",
      "\n",
      "EPOCH 117 ...\n",
      "Validation Accuracy = 0.976\n",
      "\n",
      "EPOCH 118 ...\n",
      "Validation Accuracy = 0.975\n",
      "\n",
      "EPOCH 119 ...\n",
      "Validation Accuracy = 0.975\n",
      "\n",
      "EPOCH 120 ...\n",
      "Validation Accuracy = 0.978\n",
      "\n",
      "EPOCH 121 ...\n",
      "Validation Accuracy = 0.977\n",
      "\n",
      "EPOCH 122 ...\n",
      "Validation Accuracy = 0.977\n",
      "\n",
      "EPOCH 123 ...\n",
      "Validation Accuracy = 0.975\n",
      "\n",
      "EPOCH 124 ...\n",
      "Validation Accuracy = 0.978\n",
      "\n",
      "EPOCH 125 ...\n",
      "Validation Accuracy = 0.976\n",
      "\n",
      "EPOCH 126 ...\n",
      "Validation Accuracy = 0.978\n",
      "\n",
      "EPOCH 127 ...\n",
      "Validation Accuracy = 0.977\n",
      "\n",
      "EPOCH 128 ...\n",
      "Validation Accuracy = 0.977\n",
      "\n",
      "EPOCH 129 ...\n",
      "Validation Accuracy = 0.977\n",
      "\n",
      "EPOCH 130 ...\n",
      "Validation Accuracy = 0.976\n",
      "\n",
      "EPOCH 131 ...\n",
      "Validation Accuracy = 0.976\n",
      "\n",
      "EPOCH 132 ...\n",
      "Validation Accuracy = 0.976\n",
      "\n",
      "EPOCH 133 ...\n",
      "Validation Accuracy = 0.976\n",
      "\n",
      "EPOCH 134 ...\n",
      "Validation Accuracy = 0.973\n",
      "\n",
      "EPOCH 135 ...\n",
      "Validation Accuracy = 0.977\n",
      "\n",
      "EPOCH 136 ...\n",
      "Validation Accuracy = 0.975\n",
      "\n",
      "EPOCH 137 ...\n",
      "Validation Accuracy = 0.979\n",
      "\n",
      "EPOCH 138 ...\n",
      "Validation Accuracy = 0.977\n",
      "\n",
      "EPOCH 139 ...\n",
      "Validation Accuracy = 0.978\n",
      "\n",
      "EPOCH 140 ...\n",
      "Validation Accuracy = 0.977\n",
      "\n",
      "EPOCH 141 ...\n",
      "Validation Accuracy = 0.975\n",
      "\n",
      "EPOCH 142 ...\n",
      "Validation Accuracy = 0.977\n",
      "\n",
      "EPOCH 143 ...\n",
      "Validation Accuracy = 0.976\n",
      "\n",
      "EPOCH 144 ...\n",
      "Validation Accuracy = 0.977\n",
      "\n",
      "EPOCH 145 ...\n",
      "Validation Accuracy = 0.976\n",
      "\n",
      "EPOCH 146 ...\n",
      "Validation Accuracy = 0.976\n",
      "\n",
      "EPOCH 147 ...\n",
      "Validation Accuracy = 0.977\n",
      "\n",
      "EPOCH 148 ...\n",
      "Validation Accuracy = 0.975\n",
      "\n",
      "EPOCH 149 ...\n",
      "Validation Accuracy = 0.977\n",
      "\n",
      "EPOCH 150 ...\n",
      "Validation Accuracy = 0.976\n",
      "\n",
      "EPOCH 151 ...\n",
      "Validation Accuracy = 0.978\n",
      "\n",
      "EPOCH 152 ...\n",
      "Validation Accuracy = 0.976\n",
      "\n",
      "EPOCH 153 ...\n",
      "Validation Accuracy = 0.978\n",
      "\n",
      "EPOCH 154 ...\n",
      "Validation Accuracy = 0.977\n",
      "\n",
      "EPOCH 155 ...\n",
      "Validation Accuracy = 0.977\n",
      "\n",
      "EPOCH 156 ...\n",
      "Validation Accuracy = 0.976\n",
      "\n",
      "EPOCH 157 ...\n",
      "Validation Accuracy = 0.977\n",
      "\n",
      "EPOCH 158 ...\n",
      "Validation Accuracy = 0.977\n",
      "\n",
      "EPOCH 159 ...\n",
      "Validation Accuracy = 0.976\n",
      "\n",
      "EPOCH 160 ...\n",
      "Validation Accuracy = 0.977\n",
      "\n",
      "EPOCH 161 ...\n",
      "Validation Accuracy = 0.978\n",
      "\n",
      "EPOCH 162 ...\n",
      "Validation Accuracy = 0.978\n",
      "\n",
      "EPOCH 163 ...\n",
      "Validation Accuracy = 0.979\n",
      "\n",
      "EPOCH 164 ...\n",
      "Validation Accuracy = 0.977\n",
      "\n",
      "EPOCH 165 ...\n",
      "Validation Accuracy = 0.978\n",
      "\n",
      "EPOCH 166 ...\n",
      "Validation Accuracy = 0.979\n",
      "\n",
      "EPOCH 167 ...\n",
      "Validation Accuracy = 0.978\n",
      "\n",
      "EPOCH 168 ...\n",
      "Validation Accuracy = 0.978\n",
      "\n",
      "EPOCH 169 ...\n",
      "Validation Accuracy = 0.979\n",
      "\n",
      "EPOCH 170 ...\n",
      "Validation Accuracy = 0.975\n",
      "\n",
      "EPOCH 171 ...\n",
      "Validation Accuracy = 0.979\n",
      "\n",
      "EPOCH 172 ...\n",
      "Validation Accuracy = 0.977\n",
      "\n",
      "EPOCH 173 ...\n",
      "Validation Accuracy = 0.978\n",
      "\n",
      "EPOCH 174 ...\n",
      "Validation Accuracy = 0.977\n",
      "\n",
      "EPOCH 175 ...\n",
      "Validation Accuracy = 0.978\n",
      "\n",
      "EPOCH 176 ...\n",
      "Validation Accuracy = 0.977\n",
      "\n",
      "EPOCH 177 ...\n",
      "Validation Accuracy = 0.978\n",
      "\n",
      "EPOCH 178 ...\n",
      "Validation Accuracy = 0.978\n",
      "\n",
      "EPOCH 179 ...\n",
      "Validation Accuracy = 0.978\n",
      "\n",
      "EPOCH 180 ...\n",
      "Validation Accuracy = 0.978\n",
      "\n",
      "EPOCH 181 ...\n",
      "Validation Accuracy = 0.978\n",
      "\n",
      "EPOCH 182 ...\n",
      "Validation Accuracy = 0.979\n",
      "\n",
      "EPOCH 183 ...\n",
      "Validation Accuracy = 0.979\n",
      "\n",
      "EPOCH 184 ...\n",
      "Validation Accuracy = 0.978\n",
      "\n",
      "EPOCH 185 ...\n",
      "Validation Accuracy = 0.978\n",
      "\n",
      "EPOCH 186 ...\n",
      "Validation Accuracy = 0.977\n",
      "\n",
      "EPOCH 187 ...\n",
      "Validation Accuracy = 0.978\n",
      "\n",
      "EPOCH 188 ...\n",
      "Validation Accuracy = 0.977\n",
      "\n",
      "EPOCH 189 ...\n",
      "Validation Accuracy = 0.975\n",
      "\n",
      "EPOCH 190 ...\n",
      "Validation Accuracy = 0.977\n",
      "\n",
      "EPOCH 191 ...\n",
      "Validation Accuracy = 0.979\n",
      "\n",
      "EPOCH 192 ...\n",
      "Validation Accuracy = 0.977\n",
      "\n",
      "EPOCH 193 ...\n",
      "Validation Accuracy = 0.978\n",
      "\n",
      "EPOCH 194 ...\n",
      "Validation Accuracy = 0.977\n",
      "\n",
      "EPOCH 195 ...\n",
      "Validation Accuracy = 0.977\n",
      "\n",
      "EPOCH 196 ...\n",
      "Validation Accuracy = 0.977\n",
      "\n",
      "EPOCH 197 ...\n",
      "Validation Accuracy = 0.980\n",
      "\n",
      "EPOCH 198 ...\n",
      "Validation Accuracy = 0.976\n",
      "\n",
      "EPOCH 199 ...\n",
      "Validation Accuracy = 0.977\n",
      "\n",
      "EPOCH 200 ...\n",
      "Validation Accuracy = 0.977\n",
      "\n",
      "Model saved\n"
     ]
    }
   ],
   "source": [
    "model_d.train(X_train_extended, y_train_extended, X_valid_modified, y_valid)"
   ]
  },
  {
   "cell_type": "code",
   "execution_count": 25,
   "metadata": {},
   "outputs": [
    {
     "output_type": "display_data",
     "data": {
      "text/plain": "<Figure size 432x288 with 1 Axes>",
      "image/svg+xml": "<?xml version=\"1.0\" encoding=\"utf-8\" standalone=\"no\"?>\r\n<!DOCTYPE svg PUBLIC \"-//W3C//DTD SVG 1.1//EN\"\r\n  \"http://www.w3.org/Graphics/SVG/1.1/DTD/svg11.dtd\">\r\n<!-- Created with matplotlib (https://matplotlib.org/) -->\r\n<svg height=\"157.49625pt\" version=\"1.1\" viewBox=\"0 0 424.76875 157.49625\" width=\"424.76875pt\" xmlns=\"http://www.w3.org/2000/svg\" xmlns:xlink=\"http://www.w3.org/1999/xlink\">\r\n <metadata>\r\n  <rdf:RDF xmlns:cc=\"http://creativecommons.org/ns#\" xmlns:dc=\"http://purl.org/dc/elements/1.1/\" xmlns:rdf=\"http://www.w3.org/1999/02/22-rdf-syntax-ns#\">\r\n   <cc:Work>\r\n    <dc:type rdf:resource=\"http://purl.org/dc/dcmitype/StillImage\"/>\r\n    <dc:date>2020-12-29T17:36:52.146407</dc:date>\r\n    <dc:format>image/svg+xml</dc:format>\r\n    <dc:creator>\r\n     <cc:Agent>\r\n      <dc:title>Matplotlib v3.3.2, https://matplotlib.org/</dc:title>\r\n     </cc:Agent>\r\n    </dc:creator>\r\n   </cc:Work>\r\n  </rdf:RDF>\r\n </metadata>\r\n <defs>\r\n  <style type=\"text/css\">*{stroke-linecap:butt;stroke-linejoin:round;}</style>\r\n </defs>\r\n <g id=\"figure_1\">\r\n  <g id=\"patch_1\">\r\n   <path d=\"M 0 157.49625 \r\nL 424.76875 157.49625 \r\nL 424.76875 0 \r\nL 0 0 \r\nz\r\n\" style=\"fill:none;\"/>\r\n  </g>\r\n  <g id=\"axes_1\">\r\n   <g id=\"patch_2\">\r\n    <path d=\"M 20.5625 133.618125 \r\nL 408.025 133.618125 \r\nL 408.025 22.318125 \r\nL 20.5625 22.318125 \r\nz\r\n\" style=\"fill:#ffffff;\"/>\r\n   </g>\r\n   <g id=\"matplotlib.axis_1\">\r\n    <g id=\"xtick_1\">\r\n     <g id=\"line2d_1\">\r\n      <defs>\r\n       <path d=\"M 0 0 \r\nL 0 3.5 \r\n\" id=\"m3163d62259\" style=\"stroke:#000000;stroke-width:0.8;\"/>\r\n      </defs>\r\n      <g>\r\n       <use style=\"stroke:#000000;stroke-width:0.8;\" x=\"67.291646\" xlink:href=\"#m3163d62259\" y=\"133.618125\"/>\r\n      </g>\r\n     </g>\r\n     <g id=\"text_1\">\r\n      <!-- 25 -->\r\n      <g transform=\"translate(60.929146 148.216562)scale(0.1 -0.1)\">\r\n       <defs>\r\n        <path d=\"M 19.1875 8.296875 \r\nL 53.609375 8.296875 \r\nL 53.609375 0 \r\nL 7.328125 0 \r\nL 7.328125 8.296875 \r\nQ 12.9375 14.109375 22.625 23.890625 \r\nQ 32.328125 33.6875 34.8125 36.53125 \r\nQ 39.546875 41.84375 41.421875 45.53125 \r\nQ 43.3125 49.21875 43.3125 52.78125 \r\nQ 43.3125 58.59375 39.234375 62.25 \r\nQ 35.15625 65.921875 28.609375 65.921875 \r\nQ 23.96875 65.921875 18.8125 64.3125 \r\nQ 13.671875 62.703125 7.8125 59.421875 \r\nL 7.8125 69.390625 \r\nQ 13.765625 71.78125 18.9375 73 \r\nQ 24.125 74.21875 28.421875 74.21875 \r\nQ 39.75 74.21875 46.484375 68.546875 \r\nQ 53.21875 62.890625 53.21875 53.421875 \r\nQ 53.21875 48.921875 51.53125 44.890625 \r\nQ 49.859375 40.875 45.40625 35.40625 \r\nQ 44.1875 33.984375 37.640625 27.21875 \r\nQ 31.109375 20.453125 19.1875 8.296875 \r\nz\r\n\" id=\"DejaVuSans-50\"/>\r\n        <path d=\"M 10.796875 72.90625 \r\nL 49.515625 72.90625 \r\nL 49.515625 64.59375 \r\nL 19.828125 64.59375 \r\nL 19.828125 46.734375 \r\nQ 21.96875 47.46875 24.109375 47.828125 \r\nQ 26.265625 48.1875 28.421875 48.1875 \r\nQ 40.625 48.1875 47.75 41.5 \r\nQ 54.890625 34.8125 54.890625 23.390625 \r\nQ 54.890625 11.625 47.5625 5.09375 \r\nQ 40.234375 -1.421875 26.90625 -1.421875 \r\nQ 22.3125 -1.421875 17.546875 -0.640625 \r\nQ 12.796875 0.140625 7.71875 1.703125 \r\nL 7.71875 11.625 \r\nQ 12.109375 9.234375 16.796875 8.0625 \r\nQ 21.484375 6.890625 26.703125 6.890625 \r\nQ 35.15625 6.890625 40.078125 11.328125 \r\nQ 45.015625 15.765625 45.015625 23.390625 \r\nQ 45.015625 31 40.078125 35.4375 \r\nQ 35.15625 39.890625 26.703125 39.890625 \r\nQ 22.75 39.890625 18.8125 39.015625 \r\nQ 14.890625 38.140625 10.796875 36.28125 \r\nz\r\n\" id=\"DejaVuSans-53\"/>\r\n       </defs>\r\n       <use xlink:href=\"#DejaVuSans-50\"/>\r\n       <use x=\"63.623047\" xlink:href=\"#DejaVuSans-53\"/>\r\n      </g>\r\n     </g>\r\n    </g>\r\n    <g id=\"xtick_2\">\r\n     <g id=\"line2d_2\">\r\n      <g>\r\n       <use style=\"stroke:#000000;stroke-width:0.8;\" x=\"115.967839\" xlink:href=\"#m3163d62259\" y=\"133.618125\"/>\r\n      </g>\r\n     </g>\r\n     <g id=\"text_2\">\r\n      <!-- 50 -->\r\n      <g transform=\"translate(109.605339 148.216562)scale(0.1 -0.1)\">\r\n       <defs>\r\n        <path d=\"M 31.78125 66.40625 \r\nQ 24.171875 66.40625 20.328125 58.90625 \r\nQ 16.5 51.421875 16.5 36.375 \r\nQ 16.5 21.390625 20.328125 13.890625 \r\nQ 24.171875 6.390625 31.78125 6.390625 \r\nQ 39.453125 6.390625 43.28125 13.890625 \r\nQ 47.125 21.390625 47.125 36.375 \r\nQ 47.125 51.421875 43.28125 58.90625 \r\nQ 39.453125 66.40625 31.78125 66.40625 \r\nz\r\nM 31.78125 74.21875 \r\nQ 44.046875 74.21875 50.515625 64.515625 \r\nQ 56.984375 54.828125 56.984375 36.375 \r\nQ 56.984375 17.96875 50.515625 8.265625 \r\nQ 44.046875 -1.421875 31.78125 -1.421875 \r\nQ 19.53125 -1.421875 13.0625 8.265625 \r\nQ 6.59375 17.96875 6.59375 36.375 \r\nQ 6.59375 54.828125 13.0625 64.515625 \r\nQ 19.53125 74.21875 31.78125 74.21875 \r\nz\r\n\" id=\"DejaVuSans-48\"/>\r\n       </defs>\r\n       <use xlink:href=\"#DejaVuSans-53\"/>\r\n       <use x=\"63.623047\" xlink:href=\"#DejaVuSans-48\"/>\r\n      </g>\r\n     </g>\r\n    </g>\r\n    <g id=\"xtick_3\">\r\n     <g id=\"line2d_3\">\r\n      <g>\r\n       <use style=\"stroke:#000000;stroke-width:0.8;\" x=\"164.644033\" xlink:href=\"#m3163d62259\" y=\"133.618125\"/>\r\n      </g>\r\n     </g>\r\n     <g id=\"text_3\">\r\n      <!-- 75 -->\r\n      <g transform=\"translate(158.281533 148.216562)scale(0.1 -0.1)\">\r\n       <defs>\r\n        <path d=\"M 8.203125 72.90625 \r\nL 55.078125 72.90625 \r\nL 55.078125 68.703125 \r\nL 28.609375 0 \r\nL 18.3125 0 \r\nL 43.21875 64.59375 \r\nL 8.203125 64.59375 \r\nz\r\n\" id=\"DejaVuSans-55\"/>\r\n       </defs>\r\n       <use xlink:href=\"#DejaVuSans-55\"/>\r\n       <use x=\"63.623047\" xlink:href=\"#DejaVuSans-53\"/>\r\n      </g>\r\n     </g>\r\n    </g>\r\n    <g id=\"xtick_4\">\r\n     <g id=\"line2d_4\">\r\n      <g>\r\n       <use style=\"stroke:#000000;stroke-width:0.8;\" x=\"213.320226\" xlink:href=\"#m3163d62259\" y=\"133.618125\"/>\r\n      </g>\r\n     </g>\r\n     <g id=\"text_4\">\r\n      <!-- 100 -->\r\n      <g transform=\"translate(203.776476 148.216562)scale(0.1 -0.1)\">\r\n       <defs>\r\n        <path d=\"M 12.40625 8.296875 \r\nL 28.515625 8.296875 \r\nL 28.515625 63.921875 \r\nL 10.984375 60.40625 \r\nL 10.984375 69.390625 \r\nL 28.421875 72.90625 \r\nL 38.28125 72.90625 \r\nL 38.28125 8.296875 \r\nL 54.390625 8.296875 \r\nL 54.390625 0 \r\nL 12.40625 0 \r\nz\r\n\" id=\"DejaVuSans-49\"/>\r\n       </defs>\r\n       <use xlink:href=\"#DejaVuSans-49\"/>\r\n       <use x=\"63.623047\" xlink:href=\"#DejaVuSans-48\"/>\r\n       <use x=\"127.246094\" xlink:href=\"#DejaVuSans-48\"/>\r\n      </g>\r\n     </g>\r\n    </g>\r\n    <g id=\"xtick_5\">\r\n     <g id=\"line2d_5\">\r\n      <g>\r\n       <use style=\"stroke:#000000;stroke-width:0.8;\" x=\"261.99642\" xlink:href=\"#m3163d62259\" y=\"133.618125\"/>\r\n      </g>\r\n     </g>\r\n     <g id=\"text_5\">\r\n      <!-- 125 -->\r\n      <g transform=\"translate(252.45267 148.216562)scale(0.1 -0.1)\">\r\n       <use xlink:href=\"#DejaVuSans-49\"/>\r\n       <use x=\"63.623047\" xlink:href=\"#DejaVuSans-50\"/>\r\n       <use x=\"127.246094\" xlink:href=\"#DejaVuSans-53\"/>\r\n      </g>\r\n     </g>\r\n    </g>\r\n    <g id=\"xtick_6\">\r\n     <g id=\"line2d_6\">\r\n      <g>\r\n       <use style=\"stroke:#000000;stroke-width:0.8;\" x=\"310.672613\" xlink:href=\"#m3163d62259\" y=\"133.618125\"/>\r\n      </g>\r\n     </g>\r\n     <g id=\"text_6\">\r\n      <!-- 150 -->\r\n      <g transform=\"translate(301.128863 148.216562)scale(0.1 -0.1)\">\r\n       <use xlink:href=\"#DejaVuSans-49\"/>\r\n       <use x=\"63.623047\" xlink:href=\"#DejaVuSans-53\"/>\r\n       <use x=\"127.246094\" xlink:href=\"#DejaVuSans-48\"/>\r\n      </g>\r\n     </g>\r\n    </g>\r\n    <g id=\"xtick_7\">\r\n     <g id=\"line2d_7\">\r\n      <g>\r\n       <use style=\"stroke:#000000;stroke-width:0.8;\" x=\"359.348807\" xlink:href=\"#m3163d62259\" y=\"133.618125\"/>\r\n      </g>\r\n     </g>\r\n     <g id=\"text_7\">\r\n      <!-- 175 -->\r\n      <g transform=\"translate(349.805057 148.216562)scale(0.1 -0.1)\">\r\n       <use xlink:href=\"#DejaVuSans-49\"/>\r\n       <use x=\"63.623047\" xlink:href=\"#DejaVuSans-55\"/>\r\n       <use x=\"127.246094\" xlink:href=\"#DejaVuSans-53\"/>\r\n      </g>\r\n     </g>\r\n    </g>\r\n    <g id=\"xtick_8\">\r\n     <g id=\"line2d_8\">\r\n      <g>\r\n       <use style=\"stroke:#000000;stroke-width:0.8;\" x=\"408.025\" xlink:href=\"#m3163d62259\" y=\"133.618125\"/>\r\n      </g>\r\n     </g>\r\n     <g id=\"text_8\">\r\n      <!-- 200 -->\r\n      <g transform=\"translate(398.48125 148.216562)scale(0.1 -0.1)\">\r\n       <use xlink:href=\"#DejaVuSans-50\"/>\r\n       <use x=\"63.623047\" xlink:href=\"#DejaVuSans-48\"/>\r\n       <use x=\"127.246094\" xlink:href=\"#DejaVuSans-48\"/>\r\n      </g>\r\n     </g>\r\n    </g>\r\n   </g>\r\n   <g id=\"matplotlib.axis_2\">\r\n    <g id=\"ytick_1\">\r\n     <g id=\"line2d_9\">\r\n      <defs>\r\n       <path d=\"M 0 0 \r\nL -3.5 0 \r\n\" id=\"mb058a4807f\" style=\"stroke:#000000;stroke-width:0.8;\"/>\r\n      </defs>\r\n      <g>\r\n       <use style=\"stroke:#000000;stroke-width:0.8;\" x=\"20.5625\" xlink:href=\"#mb058a4807f\" y=\"128.563735\"/>\r\n      </g>\r\n     </g>\r\n     <g id=\"text_9\">\r\n      <!-- 0 -->\r\n      <g transform=\"translate(7.2 132.362953)scale(0.1 -0.1)\">\r\n       <use xlink:href=\"#DejaVuSans-48\"/>\r\n      </g>\r\n     </g>\r\n    </g>\r\n    <g id=\"ytick_2\">\r\n     <g id=\"line2d_10\">\r\n      <g>\r\n       <use style=\"stroke:#000000;stroke-width:0.8;\" x=\"20.5625\" xlink:href=\"#mb058a4807f\" y=\"95.382173\"/>\r\n      </g>\r\n     </g>\r\n     <g id=\"text_10\">\r\n      <!-- 1 -->\r\n      <g transform=\"translate(7.2 99.181392)scale(0.1 -0.1)\">\r\n       <use xlink:href=\"#DejaVuSans-49\"/>\r\n      </g>\r\n     </g>\r\n    </g>\r\n    <g id=\"ytick_3\">\r\n     <g id=\"line2d_11\">\r\n      <g>\r\n       <use style=\"stroke:#000000;stroke-width:0.8;\" x=\"20.5625\" xlink:href=\"#mb058a4807f\" y=\"62.200612\"/>\r\n      </g>\r\n     </g>\r\n     <g id=\"text_11\">\r\n      <!-- 2 -->\r\n      <g transform=\"translate(7.2 65.999831)scale(0.1 -0.1)\">\r\n       <use xlink:href=\"#DejaVuSans-50\"/>\r\n      </g>\r\n     </g>\r\n    </g>\r\n    <g id=\"ytick_4\">\r\n     <g id=\"line2d_12\">\r\n      <g>\r\n       <use style=\"stroke:#000000;stroke-width:0.8;\" x=\"20.5625\" xlink:href=\"#mb058a4807f\" y=\"29.01905\"/>\r\n      </g>\r\n     </g>\r\n     <g id=\"text_12\">\r\n      <!-- 3 -->\r\n      <g transform=\"translate(7.2 32.818269)scale(0.1 -0.1)\">\r\n       <defs>\r\n        <path d=\"M 40.578125 39.3125 \r\nQ 47.65625 37.796875 51.625 33 \r\nQ 55.609375 28.21875 55.609375 21.1875 \r\nQ 55.609375 10.40625 48.1875 4.484375 \r\nQ 40.765625 -1.421875 27.09375 -1.421875 \r\nQ 22.515625 -1.421875 17.65625 -0.515625 \r\nQ 12.796875 0.390625 7.625 2.203125 \r\nL 7.625 11.71875 \r\nQ 11.71875 9.328125 16.59375 8.109375 \r\nQ 21.484375 6.890625 26.8125 6.890625 \r\nQ 36.078125 6.890625 40.9375 10.546875 \r\nQ 45.796875 14.203125 45.796875 21.1875 \r\nQ 45.796875 27.640625 41.28125 31.265625 \r\nQ 36.765625 34.90625 28.71875 34.90625 \r\nL 20.21875 34.90625 \r\nL 20.21875 43.015625 \r\nL 29.109375 43.015625 \r\nQ 36.375 43.015625 40.234375 45.921875 \r\nQ 44.09375 48.828125 44.09375 54.296875 \r\nQ 44.09375 59.90625 40.109375 62.90625 \r\nQ 36.140625 65.921875 28.71875 65.921875 \r\nQ 24.65625 65.921875 20.015625 65.03125 \r\nQ 15.375 64.15625 9.8125 62.3125 \r\nL 9.8125 71.09375 \r\nQ 15.4375 72.65625 20.34375 73.4375 \r\nQ 25.25 74.21875 29.59375 74.21875 \r\nQ 40.828125 74.21875 47.359375 69.109375 \r\nQ 53.90625 64.015625 53.90625 55.328125 \r\nQ 53.90625 49.265625 50.4375 45.09375 \r\nQ 46.96875 40.921875 40.578125 39.3125 \r\nz\r\n\" id=\"DejaVuSans-51\"/>\r\n       </defs>\r\n       <use xlink:href=\"#DejaVuSans-51\"/>\r\n      </g>\r\n     </g>\r\n    </g>\r\n   </g>\r\n   <g id=\"line2d_13\">\r\n    <path clip-path=\"url(#p9a8a50ecdd)\" d=\"M 20.5625 29.486336 \r\nL 22.509548 71.175904 \r\nL 24.456595 92.955088 \r\nL 26.403643 104.058147 \r\nL 28.350691 109.983865 \r\nL 30.297739 113.599993 \r\nL 32.244786 115.715111 \r\nL 34.191834 117.417041 \r\nL 36.138882 118.436217 \r\nL 38.08593 119.614818 \r\nL 41.980025 120.80002 \r\nL 43.927073 121.434197 \r\nL 45.874121 121.706595 \r\nL 47.821168 122.173948 \r\nL 49.768216 122.316174 \r\nL 51.715264 122.831307 \r\nL 53.662312 123.109138 \r\nL 55.609359 123.201224 \r\nL 63.39755 124.107244 \r\nL 65.344598 124.214989 \r\nL 69.238693 124.572123 \r\nL 77.026884 125.173735 \r\nL 78.973932 125.251419 \r\nL 80.92098 125.449128 \r\nL 82.868028 125.366314 \r\nL 84.815075 125.674123 \r\nL 98.44441 126.333409 \r\nL 108.179648 126.718929 \r\nL 112.073744 126.850677 \r\nL 133.491269 127.462463 \r\nL 191.902701 128.245578 \r\nL 221.108417 128.376371 \r\nL 226.94956 128.419583 \r\nL 230.843656 128.436021 \r\nL 287.30804 128.524108 \r\nL 408.025 128.559034 \r\nL 408.025 128.559034 \r\n\" style=\"fill:none;stroke:#008000;stroke-linecap:square;stroke-width:1.5;\"/>\r\n   </g>\r\n   <g id=\"line2d_14\">\r\n    <defs>\r\n     <path d=\"M -3 3 \r\nL 3 -3 \r\nM -3 -3 \r\nL 3 3 \r\n\" id=\"mf8e50eec80\" style=\"stroke:#1f77b4;\"/>\r\n    </defs>\r\n    <g clip-path=\"url(#p9a8a50ecdd)\">\r\n     <use style=\"fill:#1f77b4;stroke:#1f77b4;\" x=\"20.5625\" xlink:href=\"#mf8e50eec80\" y=\"27.377216\"/>\r\n     <use style=\"fill:#1f77b4;stroke:#1f77b4;\" x=\"22.509548\" xlink:href=\"#mf8e50eec80\" y=\"70.65987\"/>\r\n     <use style=\"fill:#1f77b4;stroke:#1f77b4;\" x=\"24.456595\" xlink:href=\"#mf8e50eec80\" y=\"94.520949\"/>\r\n     <use style=\"fill:#1f77b4;stroke:#1f77b4;\" x=\"26.403643\" xlink:href=\"#mf8e50eec80\" y=\"105.874565\"/>\r\n     <use style=\"fill:#1f77b4;stroke:#1f77b4;\" x=\"28.350691\" xlink:href=\"#mf8e50eec80\" y=\"112.024752\"/>\r\n     <use style=\"fill:#1f77b4;stroke:#1f77b4;\" x=\"30.297739\" xlink:href=\"#mf8e50eec80\" y=\"115.593656\"/>\r\n     <use style=\"fill:#1f77b4;stroke:#1f77b4;\" x=\"32.244786\" xlink:href=\"#mf8e50eec80\" y=\"117.774234\"/>\r\n     <use style=\"fill:#1f77b4;stroke:#1f77b4;\" x=\"34.191834\" xlink:href=\"#mf8e50eec80\" y=\"119.229436\"/>\r\n     <use style=\"fill:#1f77b4;stroke:#1f77b4;\" x=\"36.138882\" xlink:href=\"#mf8e50eec80\" y=\"120.347157\"/>\r\n     <use style=\"fill:#1f77b4;stroke:#1f77b4;\" x=\"38.08593\" xlink:href=\"#mf8e50eec80\" y=\"121.665558\"/>\r\n     <use style=\"fill:#1f77b4;stroke:#1f77b4;\" x=\"40.032977\" xlink:href=\"#mf8e50eec80\" y=\"122.062351\"/>\r\n     <use style=\"fill:#1f77b4;stroke:#1f77b4;\" x=\"41.980025\" xlink:href=\"#mf8e50eec80\" y=\"122.755137\"/>\r\n     <use style=\"fill:#1f77b4;stroke:#1f77b4;\" x=\"43.927073\" xlink:href=\"#mf8e50eec80\" y=\"123.234191\"/>\r\n     <use style=\"fill:#1f77b4;stroke:#1f77b4;\" x=\"45.874121\" xlink:href=\"#mf8e50eec80\" y=\"123.649974\"/>\r\n     <use style=\"fill:#1f77b4;stroke:#1f77b4;\" x=\"47.821168\" xlink:href=\"#mf8e50eec80\" y=\"123.957746\"/>\r\n     <use style=\"fill:#1f77b4;stroke:#1f77b4;\" x=\"49.768216\" xlink:href=\"#mf8e50eec80\" y=\"123.897038\"/>\r\n     <use style=\"fill:#1f77b4;stroke:#1f77b4;\" x=\"51.715264\" xlink:href=\"#mf8e50eec80\" y=\"124.33962\"/>\r\n     <use style=\"fill:#1f77b4;stroke:#1f77b4;\" x=\"53.662312\" xlink:href=\"#mf8e50eec80\" y=\"124.352429\"/>\r\n     <use style=\"fill:#1f77b4;stroke:#1f77b4;\" x=\"55.609359\" xlink:href=\"#mf8e50eec80\" y=\"124.507919\"/>\r\n     <use style=\"fill:#1f77b4;stroke:#1f77b4;\" x=\"57.556407\" xlink:href=\"#mf8e50eec80\" y=\"124.461302\"/>\r\n     <use style=\"fill:#1f77b4;stroke:#1f77b4;\" x=\"59.503455\" xlink:href=\"#mf8e50eec80\" y=\"124.768447\"/>\r\n     <use style=\"fill:#1f77b4;stroke:#1f77b4;\" x=\"61.450503\" xlink:href=\"#mf8e50eec80\" y=\"124.758371\"/>\r\n     <use style=\"fill:#1f77b4;stroke:#1f77b4;\" x=\"63.39755\" xlink:href=\"#mf8e50eec80\" y=\"124.730576\"/>\r\n     <use style=\"fill:#1f77b4;stroke:#1f77b4;\" x=\"65.344598\" xlink:href=\"#mf8e50eec80\" y=\"124.981133\"/>\r\n     <use style=\"fill:#1f77b4;stroke:#1f77b4;\" x=\"67.291646\" xlink:href=\"#mf8e50eec80\" y=\"124.88943\"/>\r\n     <use style=\"fill:#1f77b4;stroke:#1f77b4;\" x=\"69.238693\" xlink:href=\"#mf8e50eec80\" y=\"124.8776\"/>\r\n     <use style=\"fill:#1f77b4;stroke:#1f77b4;\" x=\"71.185741\" xlink:href=\"#mf8e50eec80\" y=\"124.664734\"/>\r\n     <use style=\"fill:#1f77b4;stroke:#1f77b4;\" x=\"73.132789\" xlink:href=\"#mf8e50eec80\" y=\"124.806812\"/>\r\n     <use style=\"fill:#1f77b4;stroke:#1f77b4;\" x=\"75.079837\" xlink:href=\"#mf8e50eec80\" y=\"125.003993\"/>\r\n     <use style=\"fill:#1f77b4;stroke:#1f77b4;\" x=\"77.026884\" xlink:href=\"#mf8e50eec80\" y=\"124.766917\"/>\r\n     <use style=\"fill:#1f77b4;stroke:#1f77b4;\" x=\"78.973932\" xlink:href=\"#mf8e50eec80\" y=\"125.068876\"/>\r\n     <use style=\"fill:#1f77b4;stroke:#1f77b4;\" x=\"80.92098\" xlink:href=\"#mf8e50eec80\" y=\"124.933183\"/>\r\n     <use style=\"fill:#1f77b4;stroke:#1f77b4;\" x=\"82.868028\" xlink:href=\"#mf8e50eec80\" y=\"125.190896\"/>\r\n     <use style=\"fill:#1f77b4;stroke:#1f77b4;\" x=\"84.815075\" xlink:href=\"#mf8e50eec80\" y=\"125.366194\"/>\r\n     <use style=\"fill:#1f77b4;stroke:#1f77b4;\" x=\"86.762123\" xlink:href=\"#mf8e50eec80\" y=\"125.186868\"/>\r\n     <use style=\"fill:#1f77b4;stroke:#1f77b4;\" x=\"88.709171\" xlink:href=\"#mf8e50eec80\" y=\"125.320669\"/>\r\n     <use style=\"fill:#1f77b4;stroke:#1f77b4;\" x=\"90.656219\" xlink:href=\"#mf8e50eec80\" y=\"125.124787\"/>\r\n     <use style=\"fill:#1f77b4;stroke:#1f77b4;\" x=\"92.603266\" xlink:href=\"#mf8e50eec80\" y=\"125.048327\"/>\r\n     <use style=\"fill:#1f77b4;stroke:#1f77b4;\" x=\"94.550314\" xlink:href=\"#mf8e50eec80\" y=\"125.071096\"/>\r\n     <use style=\"fill:#1f77b4;stroke:#1f77b4;\" x=\"96.497362\" xlink:href=\"#mf8e50eec80\" y=\"124.922212\"/>\r\n     <use style=\"fill:#1f77b4;stroke:#1f77b4;\" x=\"98.44441\" xlink:href=\"#mf8e50eec80\" y=\"125.142521\"/>\r\n     <use style=\"fill:#1f77b4;stroke:#1f77b4;\" x=\"100.391457\" xlink:href=\"#mf8e50eec80\" y=\"124.789597\"/>\r\n     <use style=\"fill:#1f77b4;stroke:#1f77b4;\" x=\"102.338505\" xlink:href=\"#mf8e50eec80\" y=\"124.827814\"/>\r\n     <use style=\"fill:#1f77b4;stroke:#1f77b4;\" x=\"104.285553\" xlink:href=\"#mf8e50eec80\" y=\"125.553128\"/>\r\n     <use style=\"fill:#1f77b4;stroke:#1f77b4;\" x=\"106.232601\" xlink:href=\"#mf8e50eec80\" y=\"125.091345\"/>\r\n     <use style=\"fill:#1f77b4;stroke:#1f77b4;\" x=\"108.179648\" xlink:href=\"#mf8e50eec80\" y=\"125.018523\"/>\r\n     <use style=\"fill:#1f77b4;stroke:#1f77b4;\" x=\"110.126696\" xlink:href=\"#mf8e50eec80\" y=\"124.513247\"/>\r\n     <use style=\"fill:#1f77b4;stroke:#1f77b4;\" x=\"112.073744\" xlink:href=\"#mf8e50eec80\" y=\"125.41389\"/>\r\n     <use style=\"fill:#1f77b4;stroke:#1f77b4;\" x=\"114.020791\" xlink:href=\"#mf8e50eec80\" y=\"124.940202\"/>\r\n     <use style=\"fill:#1f77b4;stroke:#1f77b4;\" x=\"115.967839\" xlink:href=\"#mf8e50eec80\" y=\"125.206592\"/>\r\n     <use style=\"fill:#1f77b4;stroke:#1f77b4;\" x=\"117.914887\" xlink:href=\"#mf8e50eec80\" y=\"125.416374\"/>\r\n     <use style=\"fill:#1f77b4;stroke:#1f77b4;\" x=\"119.861935\" xlink:href=\"#mf8e50eec80\" y=\"125.26165\"/>\r\n     <use style=\"fill:#1f77b4;stroke:#1f77b4;\" x=\"121.808982\" xlink:href=\"#mf8e50eec80\" y=\"124.668449\"/>\r\n     <use style=\"fill:#1f77b4;stroke:#1f77b4;\" x=\"123.75603\" xlink:href=\"#mf8e50eec80\" y=\"125.160279\"/>\r\n     <use style=\"fill:#1f77b4;stroke:#1f77b4;\" x=\"125.703078\" xlink:href=\"#mf8e50eec80\" y=\"124.627088\"/>\r\n     <use style=\"fill:#1f77b4;stroke:#1f77b4;\" x=\"127.650126\" xlink:href=\"#mf8e50eec80\" y=\"125.255117\"/>\r\n     <use style=\"fill:#1f77b4;stroke:#1f77b4;\" x=\"129.597173\" xlink:href=\"#mf8e50eec80\" y=\"124.93712\"/>\r\n     <use style=\"fill:#1f77b4;stroke:#1f77b4;\" x=\"131.544221\" xlink:href=\"#mf8e50eec80\" y=\"124.613259\"/>\r\n     <use style=\"fill:#1f77b4;stroke:#1f77b4;\" x=\"133.491269\" xlink:href=\"#mf8e50eec80\" y=\"125.089201\"/>\r\n     <use style=\"fill:#1f77b4;stroke:#1f77b4;\" x=\"135.438317\" xlink:href=\"#mf8e50eec80\" y=\"124.671244\"/>\r\n     <use style=\"fill:#1f77b4;stroke:#1f77b4;\" x=\"137.385364\" xlink:href=\"#mf8e50eec80\" y=\"125.147643\"/>\r\n     <use style=\"fill:#1f77b4;stroke:#1f77b4;\" x=\"139.332412\" xlink:href=\"#mf8e50eec80\" y=\"124.577534\"/>\r\n     <use style=\"fill:#1f77b4;stroke:#1f77b4;\" x=\"141.27946\" xlink:href=\"#mf8e50eec80\" y=\"124.917396\"/>\r\n     <use style=\"fill:#1f77b4;stroke:#1f77b4;\" x=\"143.226508\" xlink:href=\"#mf8e50eec80\" y=\"125.103803\"/>\r\n     <use style=\"fill:#1f77b4;stroke:#1f77b4;\" x=\"145.173555\" xlink:href=\"#mf8e50eec80\" y=\"124.980697\"/>\r\n     <use style=\"fill:#1f77b4;stroke:#1f77b4;\" x=\"147.120603\" xlink:href=\"#mf8e50eec80\" y=\"124.370802\"/>\r\n     <use style=\"fill:#1f77b4;stroke:#1f77b4;\" x=\"149.067651\" xlink:href=\"#mf8e50eec80\" y=\"124.807279\"/>\r\n     <use style=\"fill:#1f77b4;stroke:#1f77b4;\" x=\"151.014698\" xlink:href=\"#mf8e50eec80\" y=\"124.48496\"/>\r\n     <use style=\"fill:#1f77b4;stroke:#1f77b4;\" x=\"152.961746\" xlink:href=\"#mf8e50eec80\" y=\"124.099334\"/>\r\n     <use style=\"fill:#1f77b4;stroke:#1f77b4;\" x=\"154.908794\" xlink:href=\"#mf8e50eec80\" y=\"124.798857\"/>\r\n     <use style=\"fill:#1f77b4;stroke:#1f77b4;\" x=\"156.855842\" xlink:href=\"#mf8e50eec80\" y=\"124.98224\"/>\r\n     <use style=\"fill:#1f77b4;stroke:#1f77b4;\" x=\"158.802889\" xlink:href=\"#mf8e50eec80\" y=\"124.529872\"/>\r\n     <use style=\"fill:#1f77b4;stroke:#1f77b4;\" x=\"160.749937\" xlink:href=\"#mf8e50eec80\" y=\"124.36601\"/>\r\n     <use style=\"fill:#1f77b4;stroke:#1f77b4;\" x=\"162.696985\" xlink:href=\"#mf8e50eec80\" y=\"125.239044\"/>\r\n     <use style=\"fill:#1f77b4;stroke:#1f77b4;\" x=\"164.644033\" xlink:href=\"#mf8e50eec80\" y=\"124.572253\"/>\r\n     <use style=\"fill:#1f77b4;stroke:#1f77b4;\" x=\"166.59108\" xlink:href=\"#mf8e50eec80\" y=\"124.381071\"/>\r\n     <use style=\"fill:#1f77b4;stroke:#1f77b4;\" x=\"168.538128\" xlink:href=\"#mf8e50eec80\" y=\"124.180331\"/>\r\n     <use style=\"fill:#1f77b4;stroke:#1f77b4;\" x=\"170.485176\" xlink:href=\"#mf8e50eec80\" y=\"125.106645\"/>\r\n     <use style=\"fill:#1f77b4;stroke:#1f77b4;\" x=\"172.432224\" xlink:href=\"#mf8e50eec80\" y=\"124.41773\"/>\r\n     <use style=\"fill:#1f77b4;stroke:#1f77b4;\" x=\"174.379271\" xlink:href=\"#mf8e50eec80\" y=\"124.800395\"/>\r\n     <use style=\"fill:#1f77b4;stroke:#1f77b4;\" x=\"176.326319\" xlink:href=\"#mf8e50eec80\" y=\"124.151031\"/>\r\n     <use style=\"fill:#1f77b4;stroke:#1f77b4;\" x=\"178.273367\" xlink:href=\"#mf8e50eec80\" y=\"124.88937\"/>\r\n     <use style=\"fill:#1f77b4;stroke:#1f77b4;\" x=\"180.220415\" xlink:href=\"#mf8e50eec80\" y=\"124.703596\"/>\r\n     <use style=\"fill:#1f77b4;stroke:#1f77b4;\" x=\"182.167462\" xlink:href=\"#mf8e50eec80\" y=\"124.117643\"/>\r\n     <use style=\"fill:#1f77b4;stroke:#1f77b4;\" x=\"184.11451\" xlink:href=\"#mf8e50eec80\" y=\"123.863684\"/>\r\n     <use style=\"fill:#1f77b4;stroke:#1f77b4;\" x=\"186.061558\" xlink:href=\"#mf8e50eec80\" y=\"123.709165\"/>\r\n     <use style=\"fill:#1f77b4;stroke:#1f77b4;\" x=\"188.008606\" xlink:href=\"#mf8e50eec80\" y=\"124.371847\"/>\r\n     <use style=\"fill:#1f77b4;stroke:#1f77b4;\" x=\"189.955653\" xlink:href=\"#mf8e50eec80\" y=\"124.889888\"/>\r\n     <use style=\"fill:#1f77b4;stroke:#1f77b4;\" x=\"191.902701\" xlink:href=\"#mf8e50eec80\" y=\"124.396859\"/>\r\n     <use style=\"fill:#1f77b4;stroke:#1f77b4;\" x=\"193.849749\" xlink:href=\"#mf8e50eec80\" y=\"124.55612\"/>\r\n     <use style=\"fill:#1f77b4;stroke:#1f77b4;\" x=\"195.796796\" xlink:href=\"#mf8e50eec80\" y=\"124.485337\"/>\r\n     <use style=\"fill:#1f77b4;stroke:#1f77b4;\" x=\"197.743844\" xlink:href=\"#mf8e50eec80\" y=\"123.829311\"/>\r\n     <use style=\"fill:#1f77b4;stroke:#1f77b4;\" x=\"199.690892\" xlink:href=\"#mf8e50eec80\" y=\"124.020142\"/>\r\n     <use style=\"fill:#1f77b4;stroke:#1f77b4;\" x=\"201.63794\" xlink:href=\"#mf8e50eec80\" y=\"123.844288\"/>\r\n     <use style=\"fill:#1f77b4;stroke:#1f77b4;\" x=\"203.584987\" xlink:href=\"#mf8e50eec80\" y=\"124.336244\"/>\r\n     <use style=\"fill:#1f77b4;stroke:#1f77b4;\" x=\"205.532035\" xlink:href=\"#mf8e50eec80\" y=\"124.247214\"/>\r\n     <use style=\"fill:#1f77b4;stroke:#1f77b4;\" x=\"207.479083\" xlink:href=\"#mf8e50eec80\" y=\"123.901048\"/>\r\n     <use style=\"fill:#1f77b4;stroke:#1f77b4;\" x=\"209.426131\" xlink:href=\"#mf8e50eec80\" y=\"124.349099\"/>\r\n     <use style=\"fill:#1f77b4;stroke:#1f77b4;\" x=\"211.373178\" xlink:href=\"#mf8e50eec80\" y=\"124.311797\"/>\r\n     <use style=\"fill:#1f77b4;stroke:#1f77b4;\" x=\"213.320226\" xlink:href=\"#mf8e50eec80\" y=\"124.304661\"/>\r\n     <use style=\"fill:#1f77b4;stroke:#1f77b4;\" x=\"215.267274\" xlink:href=\"#mf8e50eec80\" y=\"124.784708\"/>\r\n     <use style=\"fill:#1f77b4;stroke:#1f77b4;\" x=\"217.214322\" xlink:href=\"#mf8e50eec80\" y=\"124.223997\"/>\r\n     <use style=\"fill:#1f77b4;stroke:#1f77b4;\" x=\"219.161369\" xlink:href=\"#mf8e50eec80\" y=\"124.063518\"/>\r\n     <use style=\"fill:#1f77b4;stroke:#1f77b4;\" x=\"221.108417\" xlink:href=\"#mf8e50eec80\" y=\"123.932568\"/>\r\n     <use style=\"fill:#1f77b4;stroke:#1f77b4;\" x=\"223.055465\" xlink:href=\"#mf8e50eec80\" y=\"122.770001\"/>\r\n     <use style=\"fill:#1f77b4;stroke:#1f77b4;\" x=\"225.002513\" xlink:href=\"#mf8e50eec80\" y=\"123.468709\"/>\r\n     <use style=\"fill:#1f77b4;stroke:#1f77b4;\" x=\"226.94956\" xlink:href=\"#mf8e50eec80\" y=\"123.870276\"/>\r\n     <use style=\"fill:#1f77b4;stroke:#1f77b4;\" x=\"228.896608\" xlink:href=\"#mf8e50eec80\" y=\"123.438637\"/>\r\n     <use style=\"fill:#1f77b4;stroke:#1f77b4;\" x=\"230.843656\" xlink:href=\"#mf8e50eec80\" y=\"123.622564\"/>\r\n     <use style=\"fill:#1f77b4;stroke:#1f77b4;\" x=\"232.790704\" xlink:href=\"#mf8e50eec80\" y=\"123.729557\"/>\r\n     <use style=\"fill:#1f77b4;stroke:#1f77b4;\" x=\"234.737751\" xlink:href=\"#mf8e50eec80\" y=\"123.344431\"/>\r\n     <use style=\"fill:#1f77b4;stroke:#1f77b4;\" x=\"236.684799\" xlink:href=\"#mf8e50eec80\" y=\"123.026164\"/>\r\n     <use style=\"fill:#1f77b4;stroke:#1f77b4;\" x=\"238.631847\" xlink:href=\"#mf8e50eec80\" y=\"122.88932\"/>\r\n     <use style=\"fill:#1f77b4;stroke:#1f77b4;\" x=\"240.578894\" xlink:href=\"#mf8e50eec80\" y=\"123.318423\"/>\r\n     <use style=\"fill:#1f77b4;stroke:#1f77b4;\" x=\"242.525942\" xlink:href=\"#mf8e50eec80\" y=\"123.433377\"/>\r\n     <use style=\"fill:#1f77b4;stroke:#1f77b4;\" x=\"244.47299\" xlink:href=\"#mf8e50eec80\" y=\"122.967879\"/>\r\n     <use style=\"fill:#1f77b4;stroke:#1f77b4;\" x=\"246.420038\" xlink:href=\"#mf8e50eec80\" y=\"123.807341\"/>\r\n     <use style=\"fill:#1f77b4;stroke:#1f77b4;\" x=\"248.367085\" xlink:href=\"#mf8e50eec80\" y=\"123.354955\"/>\r\n     <use style=\"fill:#1f77b4;stroke:#1f77b4;\" x=\"250.314133\" xlink:href=\"#mf8e50eec80\" y=\"123.552006\"/>\r\n     <use style=\"fill:#1f77b4;stroke:#1f77b4;\" x=\"252.261181\" xlink:href=\"#mf8e50eec80\" y=\"124.016024\"/>\r\n     <use style=\"fill:#1f77b4;stroke:#1f77b4;\" x=\"254.208229\" xlink:href=\"#mf8e50eec80\" y=\"123.738757\"/>\r\n     <use style=\"fill:#1f77b4;stroke:#1f77b4;\" x=\"256.155276\" xlink:href=\"#mf8e50eec80\" y=\"123.398837\"/>\r\n     <use style=\"fill:#1f77b4;stroke:#1f77b4;\" x=\"258.102324\" xlink:href=\"#mf8e50eec80\" y=\"123.389558\"/>\r\n     <use style=\"fill:#1f77b4;stroke:#1f77b4;\" x=\"260.049372\" xlink:href=\"#mf8e50eec80\" y=\"124.009741\"/>\r\n     <use style=\"fill:#1f77b4;stroke:#1f77b4;\" x=\"261.99642\" xlink:href=\"#mf8e50eec80\" y=\"123.675351\"/>\r\n     <use style=\"fill:#1f77b4;stroke:#1f77b4;\" x=\"263.943467\" xlink:href=\"#mf8e50eec80\" y=\"123.699681\"/>\r\n     <use style=\"fill:#1f77b4;stroke:#1f77b4;\" x=\"265.890515\" xlink:href=\"#mf8e50eec80\" y=\"123.314124\"/>\r\n     <use style=\"fill:#1f77b4;stroke:#1f77b4;\" x=\"267.837563\" xlink:href=\"#mf8e50eec80\" y=\"123.380713\"/>\r\n     <use style=\"fill:#1f77b4;stroke:#1f77b4;\" x=\"269.784611\" xlink:href=\"#mf8e50eec80\" y=\"123.036288\"/>\r\n     <use style=\"fill:#1f77b4;stroke:#1f77b4;\" x=\"271.731658\" xlink:href=\"#mf8e50eec80\" y=\"123.39469\"/>\r\n     <use style=\"fill:#1f77b4;stroke:#1f77b4;\" x=\"273.678706\" xlink:href=\"#mf8e50eec80\" y=\"123.74178\"/>\r\n     <use style=\"fill:#1f77b4;stroke:#1f77b4;\" x=\"275.625754\" xlink:href=\"#mf8e50eec80\" y=\"122.763616\"/>\r\n     <use style=\"fill:#1f77b4;stroke:#1f77b4;\" x=\"277.572802\" xlink:href=\"#mf8e50eec80\" y=\"123.667335\"/>\r\n     <use style=\"fill:#1f77b4;stroke:#1f77b4;\" x=\"279.519849\" xlink:href=\"#mf8e50eec80\" y=\"122.667904\"/>\r\n     <use style=\"fill:#1f77b4;stroke:#1f77b4;\" x=\"281.466897\" xlink:href=\"#mf8e50eec80\" y=\"122.84472\"/>\r\n     <use style=\"fill:#1f77b4;stroke:#1f77b4;\" x=\"283.413945\" xlink:href=\"#mf8e50eec80\" y=\"123.549045\"/>\r\n     <use style=\"fill:#1f77b4;stroke:#1f77b4;\" x=\"285.360992\" xlink:href=\"#mf8e50eec80\" y=\"124.269476\"/>\r\n     <use style=\"fill:#1f77b4;stroke:#1f77b4;\" x=\"287.30804\" xlink:href=\"#mf8e50eec80\" y=\"123.143866\"/>\r\n     <use style=\"fill:#1f77b4;stroke:#1f77b4;\" x=\"289.255088\" xlink:href=\"#mf8e50eec80\" y=\"124.292775\"/>\r\n     <use style=\"fill:#1f77b4;stroke:#1f77b4;\" x=\"291.202136\" xlink:href=\"#mf8e50eec80\" y=\"123.787661\"/>\r\n     <use style=\"fill:#1f77b4;stroke:#1f77b4;\" x=\"293.149183\" xlink:href=\"#mf8e50eec80\" y=\"123.118068\"/>\r\n     <use style=\"fill:#1f77b4;stroke:#1f77b4;\" x=\"295.096231\" xlink:href=\"#mf8e50eec80\" y=\"122.622671\"/>\r\n     <use style=\"fill:#1f77b4;stroke:#1f77b4;\" x=\"297.043279\" xlink:href=\"#mf8e50eec80\" y=\"123.23719\"/>\r\n     <use style=\"fill:#1f77b4;stroke:#1f77b4;\" x=\"298.990327\" xlink:href=\"#mf8e50eec80\" y=\"123.834625\"/>\r\n     <use style=\"fill:#1f77b4;stroke:#1f77b4;\" x=\"300.937374\" xlink:href=\"#mf8e50eec80\" y=\"123.940866\"/>\r\n     <use style=\"fill:#1f77b4;stroke:#1f77b4;\" x=\"302.884422\" xlink:href=\"#mf8e50eec80\" y=\"123.887375\"/>\r\n     <use style=\"fill:#1f77b4;stroke:#1f77b4;\" x=\"304.83147\" xlink:href=\"#mf8e50eec80\" y=\"123.851706\"/>\r\n     <use style=\"fill:#1f77b4;stroke:#1f77b4;\" x=\"306.778518\" xlink:href=\"#mf8e50eec80\" y=\"123.385338\"/>\r\n     <use style=\"fill:#1f77b4;stroke:#1f77b4;\" x=\"308.725565\" xlink:href=\"#mf8e50eec80\" y=\"123.922403\"/>\r\n     <use style=\"fill:#1f77b4;stroke:#1f77b4;\" x=\"310.672613\" xlink:href=\"#mf8e50eec80\" y=\"122.413631\"/>\r\n     <use style=\"fill:#1f77b4;stroke:#1f77b4;\" x=\"312.619661\" xlink:href=\"#mf8e50eec80\" y=\"123.583299\"/>\r\n     <use style=\"fill:#1f77b4;stroke:#1f77b4;\" x=\"314.566709\" xlink:href=\"#mf8e50eec80\" y=\"121.467049\"/>\r\n     <use style=\"fill:#1f77b4;stroke:#1f77b4;\" x=\"316.513756\" xlink:href=\"#mf8e50eec80\" y=\"123.134419\"/>\r\n     <use style=\"fill:#1f77b4;stroke:#1f77b4;\" x=\"318.460804\" xlink:href=\"#mf8e50eec80\" y=\"123.438212\"/>\r\n     <use style=\"fill:#1f77b4;stroke:#1f77b4;\" x=\"320.407852\" xlink:href=\"#mf8e50eec80\" y=\"122.648067\"/>\r\n     <use style=\"fill:#1f77b4;stroke:#1f77b4;\" x=\"322.354899\" xlink:href=\"#mf8e50eec80\" y=\"123.373948\"/>\r\n     <use style=\"fill:#1f77b4;stroke:#1f77b4;\" x=\"324.301947\" xlink:href=\"#mf8e50eec80\" y=\"124.305093\"/>\r\n     <use style=\"fill:#1f77b4;stroke:#1f77b4;\" x=\"326.248995\" xlink:href=\"#mf8e50eec80\" y=\"123.121762\"/>\r\n     <use style=\"fill:#1f77b4;stroke:#1f77b4;\" x=\"328.196043\" xlink:href=\"#mf8e50eec80\" y=\"122.697045\"/>\r\n     <use style=\"fill:#1f77b4;stroke:#1f77b4;\" x=\"330.14309\" xlink:href=\"#mf8e50eec80\" y=\"122.819154\"/>\r\n     <use style=\"fill:#1f77b4;stroke:#1f77b4;\" x=\"332.090138\" xlink:href=\"#mf8e50eec80\" y=\"123.582517\"/>\r\n     <use style=\"fill:#1f77b4;stroke:#1f77b4;\" x=\"334.037186\" xlink:href=\"#mf8e50eec80\" y=\"122.783258\"/>\r\n     <use style=\"fill:#1f77b4;stroke:#1f77b4;\" x=\"335.984234\" xlink:href=\"#mf8e50eec80\" y=\"122.830732\"/>\r\n     <use style=\"fill:#1f77b4;stroke:#1f77b4;\" x=\"337.931281\" xlink:href=\"#mf8e50eec80\" y=\"123.384859\"/>\r\n     <use style=\"fill:#1f77b4;stroke:#1f77b4;\" x=\"339.878329\" xlink:href=\"#mf8e50eec80\" y=\"122.538005\"/>\r\n     <use style=\"fill:#1f77b4;stroke:#1f77b4;\" x=\"341.825377\" xlink:href=\"#mf8e50eec80\" y=\"123.771622\"/>\r\n     <use style=\"fill:#1f77b4;stroke:#1f77b4;\" x=\"343.772425\" xlink:href=\"#mf8e50eec80\" y=\"123.105052\"/>\r\n     <use style=\"fill:#1f77b4;stroke:#1f77b4;\" x=\"345.719472\" xlink:href=\"#mf8e50eec80\" y=\"122.522511\"/>\r\n     <use style=\"fill:#1f77b4;stroke:#1f77b4;\" x=\"347.66652\" xlink:href=\"#mf8e50eec80\" y=\"123.796051\"/>\r\n     <use style=\"fill:#1f77b4;stroke:#1f77b4;\" x=\"349.613568\" xlink:href=\"#mf8e50eec80\" y=\"121.897438\"/>\r\n     <use style=\"fill:#1f77b4;stroke:#1f77b4;\" x=\"351.560616\" xlink:href=\"#mf8e50eec80\" y=\"123.687046\"/>\r\n     <use style=\"fill:#1f77b4;stroke:#1f77b4;\" x=\"353.507663\" xlink:href=\"#mf8e50eec80\" y=\"123.411946\"/>\r\n     <use style=\"fill:#1f77b4;stroke:#1f77b4;\" x=\"355.454711\" xlink:href=\"#mf8e50eec80\" y=\"122.006673\"/>\r\n     <use style=\"fill:#1f77b4;stroke:#1f77b4;\" x=\"357.401759\" xlink:href=\"#mf8e50eec80\" y=\"122.648545\"/>\r\n     <use style=\"fill:#1f77b4;stroke:#1f77b4;\" x=\"359.348807\" xlink:href=\"#mf8e50eec80\" y=\"122.809846\"/>\r\n     <use style=\"fill:#1f77b4;stroke:#1f77b4;\" x=\"361.295854\" xlink:href=\"#mf8e50eec80\" y=\"123.029999\"/>\r\n     <use style=\"fill:#1f77b4;stroke:#1f77b4;\" x=\"363.242902\" xlink:href=\"#mf8e50eec80\" y=\"123.032604\"/>\r\n     <use style=\"fill:#1f77b4;stroke:#1f77b4;\" x=\"365.18995\" xlink:href=\"#mf8e50eec80\" y=\"122.397864\"/>\r\n     <use style=\"fill:#1f77b4;stroke:#1f77b4;\" x=\"367.136997\" xlink:href=\"#mf8e50eec80\" y=\"122.065964\"/>\r\n     <use style=\"fill:#1f77b4;stroke:#1f77b4;\" x=\"369.084045\" xlink:href=\"#mf8e50eec80\" y=\"123.724053\"/>\r\n     <use style=\"fill:#1f77b4;stroke:#1f77b4;\" x=\"371.031093\" xlink:href=\"#mf8e50eec80\" y=\"122.162976\"/>\r\n     <use style=\"fill:#1f77b4;stroke:#1f77b4;\" x=\"372.978141\" xlink:href=\"#mf8e50eec80\" y=\"123.556552\"/>\r\n     <use style=\"fill:#1f77b4;stroke:#1f77b4;\" x=\"374.925188\" xlink:href=\"#mf8e50eec80\" y=\"124.000008\"/>\r\n     <use style=\"fill:#1f77b4;stroke:#1f77b4;\" x=\"376.872236\" xlink:href=\"#mf8e50eec80\" y=\"122.303732\"/>\r\n     <use style=\"fill:#1f77b4;stroke:#1f77b4;\" x=\"378.819284\" xlink:href=\"#mf8e50eec80\" y=\"123.418968\"/>\r\n     <use style=\"fill:#1f77b4;stroke:#1f77b4;\" x=\"380.766332\" xlink:href=\"#mf8e50eec80\" y=\"121.987326\"/>\r\n     <use style=\"fill:#1f77b4;stroke:#1f77b4;\" x=\"382.713379\" xlink:href=\"#mf8e50eec80\" y=\"122.623001\"/>\r\n     <use style=\"fill:#1f77b4;stroke:#1f77b4;\" x=\"384.660427\" xlink:href=\"#mf8e50eec80\" y=\"122.501728\"/>\r\n     <use style=\"fill:#1f77b4;stroke:#1f77b4;\" x=\"386.607475\" xlink:href=\"#mf8e50eec80\" y=\"122.732507\"/>\r\n     <use style=\"fill:#1f77b4;stroke:#1f77b4;\" x=\"388.554523\" xlink:href=\"#mf8e50eec80\" y=\"122.33402\"/>\r\n     <use style=\"fill:#1f77b4;stroke:#1f77b4;\" x=\"390.50157\" xlink:href=\"#mf8e50eec80\" y=\"124.089906\"/>\r\n     <use style=\"fill:#1f77b4;stroke:#1f77b4;\" x=\"392.448618\" xlink:href=\"#mf8e50eec80\" y=\"122.795297\"/>\r\n     <use style=\"fill:#1f77b4;stroke:#1f77b4;\" x=\"394.395666\" xlink:href=\"#mf8e50eec80\" y=\"122.571083\"/>\r\n     <use style=\"fill:#1f77b4;stroke:#1f77b4;\" x=\"396.342714\" xlink:href=\"#mf8e50eec80\" y=\"122.632002\"/>\r\n     <use style=\"fill:#1f77b4;stroke:#1f77b4;\" x=\"398.289761\" xlink:href=\"#mf8e50eec80\" y=\"122.228979\"/>\r\n     <use style=\"fill:#1f77b4;stroke:#1f77b4;\" x=\"400.236809\" xlink:href=\"#mf8e50eec80\" y=\"121.623413\"/>\r\n     <use style=\"fill:#1f77b4;stroke:#1f77b4;\" x=\"402.183857\" xlink:href=\"#mf8e50eec80\" y=\"124.123391\"/>\r\n     <use style=\"fill:#1f77b4;stroke:#1f77b4;\" x=\"404.130905\" xlink:href=\"#mf8e50eec80\" y=\"122.242768\"/>\r\n     <use style=\"fill:#1f77b4;stroke:#1f77b4;\" x=\"406.077952\" xlink:href=\"#mf8e50eec80\" y=\"122.009432\"/>\r\n     <use style=\"fill:#1f77b4;stroke:#1f77b4;\" x=\"408.025\" xlink:href=\"#mf8e50eec80\" y=\"121.960879\"/>\r\n    </g>\r\n   </g>\r\n   <g id=\"patch_3\">\r\n    <path d=\"M 20.5625 133.618125 \r\nL 20.5625 22.318125 \r\n\" style=\"fill:none;stroke:#000000;stroke-linecap:square;stroke-linejoin:miter;stroke-width:0.8;\"/>\r\n   </g>\r\n   <g id=\"patch_4\">\r\n    <path d=\"M 408.025 133.618125 \r\nL 408.025 22.318125 \r\n\" style=\"fill:none;stroke:#000000;stroke-linecap:square;stroke-linejoin:miter;stroke-width:0.8;\"/>\r\n   </g>\r\n   <g id=\"patch_5\">\r\n    <path d=\"M 20.5625 133.618125 \r\nL 408.025 133.618125 \r\n\" style=\"fill:none;stroke:#000000;stroke-linecap:square;stroke-linejoin:miter;stroke-width:0.8;\"/>\r\n   </g>\r\n   <g id=\"patch_6\">\r\n    <path d=\"M 20.5625 22.318125 \r\nL 408.025 22.318125 \r\n\" style=\"fill:none;stroke:#000000;stroke-linecap:square;stroke-linejoin:miter;stroke-width:0.8;\"/>\r\n   </g>\r\n   <g id=\"text_13\">\r\n    <!-- Loss -->\r\n    <g transform=\"translate(201.133125 16.318125)scale(0.12 -0.12)\">\r\n     <defs>\r\n      <path d=\"M 9.8125 72.90625 \r\nL 19.671875 72.90625 \r\nL 19.671875 8.296875 \r\nL 55.171875 8.296875 \r\nL 55.171875 0 \r\nL 9.8125 0 \r\nz\r\n\" id=\"DejaVuSans-76\"/>\r\n      <path d=\"M 30.609375 48.390625 \r\nQ 23.390625 48.390625 19.1875 42.75 \r\nQ 14.984375 37.109375 14.984375 27.296875 \r\nQ 14.984375 17.484375 19.15625 11.84375 \r\nQ 23.34375 6.203125 30.609375 6.203125 \r\nQ 37.796875 6.203125 41.984375 11.859375 \r\nQ 46.1875 17.53125 46.1875 27.296875 \r\nQ 46.1875 37.015625 41.984375 42.703125 \r\nQ 37.796875 48.390625 30.609375 48.390625 \r\nz\r\nM 30.609375 56 \r\nQ 42.328125 56 49.015625 48.375 \r\nQ 55.71875 40.765625 55.71875 27.296875 \r\nQ 55.71875 13.875 49.015625 6.21875 \r\nQ 42.328125 -1.421875 30.609375 -1.421875 \r\nQ 18.84375 -1.421875 12.171875 6.21875 \r\nQ 5.515625 13.875 5.515625 27.296875 \r\nQ 5.515625 40.765625 12.171875 48.375 \r\nQ 18.84375 56 30.609375 56 \r\nz\r\n\" id=\"DejaVuSans-111\"/>\r\n      <path d=\"M 44.28125 53.078125 \r\nL 44.28125 44.578125 \r\nQ 40.484375 46.53125 36.375 47.5 \r\nQ 32.28125 48.484375 27.875 48.484375 \r\nQ 21.1875 48.484375 17.84375 46.4375 \r\nQ 14.5 44.390625 14.5 40.28125 \r\nQ 14.5 37.15625 16.890625 35.375 \r\nQ 19.28125 33.59375 26.515625 31.984375 \r\nL 29.59375 31.296875 \r\nQ 39.15625 29.25 43.1875 25.515625 \r\nQ 47.21875 21.78125 47.21875 15.09375 \r\nQ 47.21875 7.46875 41.1875 3.015625 \r\nQ 35.15625 -1.421875 24.609375 -1.421875 \r\nQ 20.21875 -1.421875 15.453125 -0.5625 \r\nQ 10.6875 0.296875 5.421875 2 \r\nL 5.421875 11.28125 \r\nQ 10.40625 8.6875 15.234375 7.390625 \r\nQ 20.0625 6.109375 24.8125 6.109375 \r\nQ 31.15625 6.109375 34.5625 8.28125 \r\nQ 37.984375 10.453125 37.984375 14.40625 \r\nQ 37.984375 18.0625 35.515625 20.015625 \r\nQ 33.0625 21.96875 24.703125 23.78125 \r\nL 21.578125 24.515625 \r\nQ 13.234375 26.265625 9.515625 29.90625 \r\nQ 5.8125 33.546875 5.8125 39.890625 \r\nQ 5.8125 47.609375 11.28125 51.796875 \r\nQ 16.75 56 26.8125 56 \r\nQ 31.78125 56 36.171875 55.265625 \r\nQ 40.578125 54.546875 44.28125 53.078125 \r\nz\r\n\" id=\"DejaVuSans-115\"/>\r\n     </defs>\r\n     <use xlink:href=\"#DejaVuSans-76\"/>\r\n     <use x=\"53.962891\" xlink:href=\"#DejaVuSans-111\"/>\r\n     <use x=\"115.144531\" xlink:href=\"#DejaVuSans-115\"/>\r\n     <use x=\"167.244141\" xlink:href=\"#DejaVuSans-115\"/>\r\n    </g>\r\n   </g>\r\n   <g id=\"legend_1\">\r\n    <g id=\"patch_7\">\r\n     <path d=\"M 294.53125 128.618125 \r\nL 401.025 128.618125 \r\nQ 403.025 128.618125 403.025 126.618125 \r\nL 403.025 98.261875 \r\nQ 403.025 96.261875 401.025 96.261875 \r\nL 294.53125 96.261875 \r\nQ 292.53125 96.261875 292.53125 98.261875 \r\nL 292.53125 126.618125 \r\nQ 292.53125 128.618125 294.53125 128.618125 \r\nz\r\n\" style=\"fill:#ffffff;opacity:0.8;stroke:#cccccc;stroke-linejoin:miter;\"/>\r\n    </g>\r\n    <g id=\"line2d_15\">\r\n     <path d=\"M 296.53125 104.360312 \r\nL 316.53125 104.360312 \r\n\" style=\"fill:none;stroke:#008000;stroke-linecap:square;stroke-width:1.5;\"/>\r\n    </g>\r\n    <g id=\"line2d_16\"/>\r\n    <g id=\"text_14\">\r\n     <!-- Training Loss -->\r\n     <g transform=\"translate(324.53125 107.860312)scale(0.1 -0.1)\">\r\n      <defs>\r\n       <path d=\"M -0.296875 72.90625 \r\nL 61.375 72.90625 \r\nL 61.375 64.59375 \r\nL 35.5 64.59375 \r\nL 35.5 0 \r\nL 25.59375 0 \r\nL 25.59375 64.59375 \r\nL -0.296875 64.59375 \r\nz\r\n\" id=\"DejaVuSans-84\"/>\r\n       <path d=\"M 41.109375 46.296875 \r\nQ 39.59375 47.171875 37.8125 47.578125 \r\nQ 36.03125 48 33.890625 48 \r\nQ 26.265625 48 22.1875 43.046875 \r\nQ 18.109375 38.09375 18.109375 28.8125 \r\nL 18.109375 0 \r\nL 9.078125 0 \r\nL 9.078125 54.6875 \r\nL 18.109375 54.6875 \r\nL 18.109375 46.1875 \r\nQ 20.953125 51.171875 25.484375 53.578125 \r\nQ 30.03125 56 36.53125 56 \r\nQ 37.453125 56 38.578125 55.875 \r\nQ 39.703125 55.765625 41.0625 55.515625 \r\nz\r\n\" id=\"DejaVuSans-114\"/>\r\n       <path d=\"M 34.28125 27.484375 \r\nQ 23.390625 27.484375 19.1875 25 \r\nQ 14.984375 22.515625 14.984375 16.5 \r\nQ 14.984375 11.71875 18.140625 8.90625 \r\nQ 21.296875 6.109375 26.703125 6.109375 \r\nQ 34.1875 6.109375 38.703125 11.40625 \r\nQ 43.21875 16.703125 43.21875 25.484375 \r\nL 43.21875 27.484375 \r\nz\r\nM 52.203125 31.203125 \r\nL 52.203125 0 \r\nL 43.21875 0 \r\nL 43.21875 8.296875 \r\nQ 40.140625 3.328125 35.546875 0.953125 \r\nQ 30.953125 -1.421875 24.3125 -1.421875 \r\nQ 15.921875 -1.421875 10.953125 3.296875 \r\nQ 6 8.015625 6 15.921875 \r\nQ 6 25.140625 12.171875 29.828125 \r\nQ 18.359375 34.515625 30.609375 34.515625 \r\nL 43.21875 34.515625 \r\nL 43.21875 35.40625 \r\nQ 43.21875 41.609375 39.140625 45 \r\nQ 35.0625 48.390625 27.6875 48.390625 \r\nQ 23 48.390625 18.546875 47.265625 \r\nQ 14.109375 46.140625 10.015625 43.890625 \r\nL 10.015625 52.203125 \r\nQ 14.9375 54.109375 19.578125 55.046875 \r\nQ 24.21875 56 28.609375 56 \r\nQ 40.484375 56 46.34375 49.84375 \r\nQ 52.203125 43.703125 52.203125 31.203125 \r\nz\r\n\" id=\"DejaVuSans-97\"/>\r\n       <path d=\"M 9.421875 54.6875 \r\nL 18.40625 54.6875 \r\nL 18.40625 0 \r\nL 9.421875 0 \r\nz\r\nM 9.421875 75.984375 \r\nL 18.40625 75.984375 \r\nL 18.40625 64.59375 \r\nL 9.421875 64.59375 \r\nz\r\n\" id=\"DejaVuSans-105\"/>\r\n       <path d=\"M 54.890625 33.015625 \r\nL 54.890625 0 \r\nL 45.90625 0 \r\nL 45.90625 32.71875 \r\nQ 45.90625 40.484375 42.875 44.328125 \r\nQ 39.84375 48.1875 33.796875 48.1875 \r\nQ 26.515625 48.1875 22.3125 43.546875 \r\nQ 18.109375 38.921875 18.109375 30.90625 \r\nL 18.109375 0 \r\nL 9.078125 0 \r\nL 9.078125 54.6875 \r\nL 18.109375 54.6875 \r\nL 18.109375 46.1875 \r\nQ 21.34375 51.125 25.703125 53.5625 \r\nQ 30.078125 56 35.796875 56 \r\nQ 45.21875 56 50.046875 50.171875 \r\nQ 54.890625 44.34375 54.890625 33.015625 \r\nz\r\n\" id=\"DejaVuSans-110\"/>\r\n       <path d=\"M 45.40625 27.984375 \r\nQ 45.40625 37.75 41.375 43.109375 \r\nQ 37.359375 48.484375 30.078125 48.484375 \r\nQ 22.859375 48.484375 18.828125 43.109375 \r\nQ 14.796875 37.75 14.796875 27.984375 \r\nQ 14.796875 18.265625 18.828125 12.890625 \r\nQ 22.859375 7.515625 30.078125 7.515625 \r\nQ 37.359375 7.515625 41.375 12.890625 \r\nQ 45.40625 18.265625 45.40625 27.984375 \r\nz\r\nM 54.390625 6.78125 \r\nQ 54.390625 -7.171875 48.1875 -13.984375 \r\nQ 42 -20.796875 29.203125 -20.796875 \r\nQ 24.46875 -20.796875 20.265625 -20.09375 \r\nQ 16.0625 -19.390625 12.109375 -17.921875 \r\nL 12.109375 -9.1875 \r\nQ 16.0625 -11.328125 19.921875 -12.34375 \r\nQ 23.78125 -13.375 27.78125 -13.375 \r\nQ 36.625 -13.375 41.015625 -8.765625 \r\nQ 45.40625 -4.15625 45.40625 5.171875 \r\nL 45.40625 9.625 \r\nQ 42.625 4.78125 38.28125 2.390625 \r\nQ 33.9375 0 27.875 0 \r\nQ 17.828125 0 11.671875 7.65625 \r\nQ 5.515625 15.328125 5.515625 27.984375 \r\nQ 5.515625 40.671875 11.671875 48.328125 \r\nQ 17.828125 56 27.875 56 \r\nQ 33.9375 56 38.28125 53.609375 \r\nQ 42.625 51.21875 45.40625 46.390625 \r\nL 45.40625 54.6875 \r\nL 54.390625 54.6875 \r\nz\r\n\" id=\"DejaVuSans-103\"/>\r\n       <path id=\"DejaVuSans-32\"/>\r\n      </defs>\r\n      <use xlink:href=\"#DejaVuSans-84\"/>\r\n      <use x=\"46.333984\" xlink:href=\"#DejaVuSans-114\"/>\r\n      <use x=\"87.447266\" xlink:href=\"#DejaVuSans-97\"/>\r\n      <use x=\"148.726562\" xlink:href=\"#DejaVuSans-105\"/>\r\n      <use x=\"176.509766\" xlink:href=\"#DejaVuSans-110\"/>\r\n      <use x=\"239.888672\" xlink:href=\"#DejaVuSans-105\"/>\r\n      <use x=\"267.671875\" xlink:href=\"#DejaVuSans-110\"/>\r\n      <use x=\"331.050781\" xlink:href=\"#DejaVuSans-103\"/>\r\n      <use x=\"394.527344\" xlink:href=\"#DejaVuSans-32\"/>\r\n      <use x=\"426.314453\" xlink:href=\"#DejaVuSans-76\"/>\r\n      <use x=\"480.277344\" xlink:href=\"#DejaVuSans-111\"/>\r\n      <use x=\"541.458984\" xlink:href=\"#DejaVuSans-115\"/>\r\n      <use x=\"593.558594\" xlink:href=\"#DejaVuSans-115\"/>\r\n     </g>\r\n    </g>\r\n    <g id=\"line2d_17\"/>\r\n    <g id=\"line2d_18\">\r\n     <g>\r\n      <use style=\"fill:#1f77b4;stroke:#1f77b4;\" x=\"306.53125\" xlink:href=\"#mf8e50eec80\" y=\"119.038437\"/>\r\n     </g>\r\n    </g>\r\n    <g id=\"text_15\">\r\n     <!-- Validation Loss -->\r\n     <g transform=\"translate(324.53125 122.538437)scale(0.1 -0.1)\">\r\n      <defs>\r\n       <path d=\"M 28.609375 0 \r\nL 0.78125 72.90625 \r\nL 11.078125 72.90625 \r\nL 34.1875 11.53125 \r\nL 57.328125 72.90625 \r\nL 67.578125 72.90625 \r\nL 39.796875 0 \r\nz\r\n\" id=\"DejaVuSans-86\"/>\r\n       <path d=\"M 9.421875 75.984375 \r\nL 18.40625 75.984375 \r\nL 18.40625 0 \r\nL 9.421875 0 \r\nz\r\n\" id=\"DejaVuSans-108\"/>\r\n       <path d=\"M 45.40625 46.390625 \r\nL 45.40625 75.984375 \r\nL 54.390625 75.984375 \r\nL 54.390625 0 \r\nL 45.40625 0 \r\nL 45.40625 8.203125 \r\nQ 42.578125 3.328125 38.25 0.953125 \r\nQ 33.9375 -1.421875 27.875 -1.421875 \r\nQ 17.96875 -1.421875 11.734375 6.484375 \r\nQ 5.515625 14.40625 5.515625 27.296875 \r\nQ 5.515625 40.1875 11.734375 48.09375 \r\nQ 17.96875 56 27.875 56 \r\nQ 33.9375 56 38.25 53.625 \r\nQ 42.578125 51.265625 45.40625 46.390625 \r\nz\r\nM 14.796875 27.296875 \r\nQ 14.796875 17.390625 18.875 11.75 \r\nQ 22.953125 6.109375 30.078125 6.109375 \r\nQ 37.203125 6.109375 41.296875 11.75 \r\nQ 45.40625 17.390625 45.40625 27.296875 \r\nQ 45.40625 37.203125 41.296875 42.84375 \r\nQ 37.203125 48.484375 30.078125 48.484375 \r\nQ 22.953125 48.484375 18.875 42.84375 \r\nQ 14.796875 37.203125 14.796875 27.296875 \r\nz\r\n\" id=\"DejaVuSans-100\"/>\r\n       <path d=\"M 18.3125 70.21875 \r\nL 18.3125 54.6875 \r\nL 36.8125 54.6875 \r\nL 36.8125 47.703125 \r\nL 18.3125 47.703125 \r\nL 18.3125 18.015625 \r\nQ 18.3125 11.328125 20.140625 9.421875 \r\nQ 21.96875 7.515625 27.59375 7.515625 \r\nL 36.8125 7.515625 \r\nL 36.8125 0 \r\nL 27.59375 0 \r\nQ 17.1875 0 13.234375 3.875 \r\nQ 9.28125 7.765625 9.28125 18.015625 \r\nL 9.28125 47.703125 \r\nL 2.6875 47.703125 \r\nL 2.6875 54.6875 \r\nL 9.28125 54.6875 \r\nL 9.28125 70.21875 \r\nz\r\n\" id=\"DejaVuSans-116\"/>\r\n      </defs>\r\n      <use xlink:href=\"#DejaVuSans-86\"/>\r\n      <use x=\"60.658203\" xlink:href=\"#DejaVuSans-97\"/>\r\n      <use x=\"121.9375\" xlink:href=\"#DejaVuSans-108\"/>\r\n      <use x=\"149.720703\" xlink:href=\"#DejaVuSans-105\"/>\r\n      <use x=\"177.503906\" xlink:href=\"#DejaVuSans-100\"/>\r\n      <use x=\"240.980469\" xlink:href=\"#DejaVuSans-97\"/>\r\n      <use x=\"302.259766\" xlink:href=\"#DejaVuSans-116\"/>\r\n      <use x=\"341.46875\" xlink:href=\"#DejaVuSans-105\"/>\r\n      <use x=\"369.251953\" xlink:href=\"#DejaVuSans-111\"/>\r\n      <use x=\"430.433594\" xlink:href=\"#DejaVuSans-110\"/>\r\n      <use x=\"493.8125\" xlink:href=\"#DejaVuSans-32\"/>\r\n      <use x=\"525.599609\" xlink:href=\"#DejaVuSans-76\"/>\r\n      <use x=\"579.5625\" xlink:href=\"#DejaVuSans-111\"/>\r\n      <use x=\"640.744141\" xlink:href=\"#DejaVuSans-115\"/>\r\n      <use x=\"692.84375\" xlink:href=\"#DejaVuSans-115\"/>\r\n     </g>\r\n    </g>\r\n   </g>\r\n  </g>\r\n </g>\r\n <defs>\r\n  <clipPath id=\"p9a8a50ecdd\">\r\n   <rect height=\"111.3\" width=\"387.4625\" x=\"20.5625\" y=\"22.318125\"/>\r\n  </clipPath>\r\n </defs>\r\n</svg>\r\n",
      "image/png": "[encoded data removed]"
     },
     "metadata": {
      "needs_background": "light"
     }
    },
    {
     "output_type": "display_data",
     "data": {
      "text/plain": "<Figure size 432x288 with 1 Axes>",
      "image/svg+xml": "<?xml version=\"1.0\" encoding=\"utf-8\" standalone=\"no\"?>\r\n<!DOCTYPE svg PUBLIC \"-//W3C//DTD SVG 1.1//EN\"\r\n  \"http://www.w3.org/Graphics/SVG/1.1/DTD/svg11.dtd\">\r\n<!-- Created with matplotlib (https://matplotlib.org/) -->\r\n<svg height=\"157.49625pt\" version=\"1.1\" viewBox=\"0 0 418.309375 157.49625\" width=\"418.309375pt\" xmlns=\"http://www.w3.org/2000/svg\" xmlns:xlink=\"http://www.w3.org/1999/xlink\">\r\n <metadata>\r\n  <rdf:RDF xmlns:cc=\"http://creativecommons.org/ns#\" xmlns:dc=\"http://purl.org/dc/elements/1.1/\" xmlns:rdf=\"http://www.w3.org/1999/02/22-rdf-syntax-ns#\">\r\n   <cc:Work>\r\n    <dc:type rdf:resource=\"http://purl.org/dc/dcmitype/StillImage\"/>\r\n    <dc:date>2020-12-29T17:36:52.282410</dc:date>\r\n    <dc:format>image/svg+xml</dc:format>\r\n    <dc:creator>\r\n     <cc:Agent>\r\n      <dc:title>Matplotlib v3.3.2, https://matplotlib.org/</dc:title>\r\n     </cc:Agent>\r\n    </dc:creator>\r\n   </cc:Work>\r\n  </rdf:RDF>\r\n </metadata>\r\n <defs>\r\n  <style type=\"text/css\">*{stroke-linecap:butt;stroke-linejoin:round;}</style>\r\n </defs>\r\n <g id=\"figure_1\">\r\n  <g id=\"patch_1\">\r\n   <path d=\"M 0 157.49625 \r\nL 418.309375 157.49625 \r\nL 418.309375 0 \r\nL 0 0 \r\nz\r\n\" style=\"fill:none;\"/>\r\n  </g>\r\n  <g id=\"axes_1\">\r\n   <g id=\"patch_2\">\r\n    <path d=\"M 30.103125 133.618125 \r\nL 401.565625 133.618125 \r\nL 401.565625 22.318125 \r\nL 30.103125 22.318125 \r\nz\r\n\" style=\"fill:#ffffff;\"/>\r\n   </g>\r\n   <g id=\"matplotlib.axis_1\">\r\n    <g id=\"xtick_1\">\r\n     <g id=\"line2d_1\">\r\n      <defs>\r\n       <path d=\"M 0 0 \r\nL 0 3.5 \r\n\" id=\"m440597ff7d\" style=\"stroke:#000000;stroke-width:0.8;\"/>\r\n      </defs>\r\n      <g>\r\n       <use style=\"stroke:#000000;stroke-width:0.8;\" x=\"74.902622\" xlink:href=\"#m440597ff7d\" y=\"133.618125\"/>\r\n      </g>\r\n     </g>\r\n     <g id=\"text_1\">\r\n      <!-- 25 -->\r\n      <g transform=\"translate(68.540122 148.216562)scale(0.1 -0.1)\">\r\n       <defs>\r\n        <path d=\"M 19.1875 8.296875 \r\nL 53.609375 8.296875 \r\nL 53.609375 0 \r\nL 7.328125 0 \r\nL 7.328125 8.296875 \r\nQ 12.9375 14.109375 22.625 23.890625 \r\nQ 32.328125 33.6875 34.8125 36.53125 \r\nQ 39.546875 41.84375 41.421875 45.53125 \r\nQ 43.3125 49.21875 43.3125 52.78125 \r\nQ 43.3125 58.59375 39.234375 62.25 \r\nQ 35.15625 65.921875 28.609375 65.921875 \r\nQ 23.96875 65.921875 18.8125 64.3125 \r\nQ 13.671875 62.703125 7.8125 59.421875 \r\nL 7.8125 69.390625 \r\nQ 13.765625 71.78125 18.9375 73 \r\nQ 24.125 74.21875 28.421875 74.21875 \r\nQ 39.75 74.21875 46.484375 68.546875 \r\nQ 53.21875 62.890625 53.21875 53.421875 \r\nQ 53.21875 48.921875 51.53125 44.890625 \r\nQ 49.859375 40.875 45.40625 35.40625 \r\nQ 44.1875 33.984375 37.640625 27.21875 \r\nQ 31.109375 20.453125 19.1875 8.296875 \r\nz\r\n\" id=\"DejaVuSans-50\"/>\r\n        <path d=\"M 10.796875 72.90625 \r\nL 49.515625 72.90625 \r\nL 49.515625 64.59375 \r\nL 19.828125 64.59375 \r\nL 19.828125 46.734375 \r\nQ 21.96875 47.46875 24.109375 47.828125 \r\nQ 26.265625 48.1875 28.421875 48.1875 \r\nQ 40.625 48.1875 47.75 41.5 \r\nQ 54.890625 34.8125 54.890625 23.390625 \r\nQ 54.890625 11.625 47.5625 5.09375 \r\nQ 40.234375 -1.421875 26.90625 -1.421875 \r\nQ 22.3125 -1.421875 17.546875 -0.640625 \r\nQ 12.796875 0.140625 7.71875 1.703125 \r\nL 7.71875 11.625 \r\nQ 12.109375 9.234375 16.796875 8.0625 \r\nQ 21.484375 6.890625 26.703125 6.890625 \r\nQ 35.15625 6.890625 40.078125 11.328125 \r\nQ 45.015625 15.765625 45.015625 23.390625 \r\nQ 45.015625 31 40.078125 35.4375 \r\nQ 35.15625 39.890625 26.703125 39.890625 \r\nQ 22.75 39.890625 18.8125 39.015625 \r\nQ 14.890625 38.140625 10.796875 36.28125 \r\nz\r\n\" id=\"DejaVuSans-53\"/>\r\n       </defs>\r\n       <use xlink:href=\"#DejaVuSans-50\"/>\r\n       <use x=\"63.623047\" xlink:href=\"#DejaVuSans-53\"/>\r\n      </g>\r\n     </g>\r\n    </g>\r\n    <g id=\"xtick_2\">\r\n     <g id=\"line2d_2\">\r\n      <g>\r\n       <use style=\"stroke:#000000;stroke-width:0.8;\" x=\"121.568766\" xlink:href=\"#m440597ff7d\" y=\"133.618125\"/>\r\n      </g>\r\n     </g>\r\n     <g id=\"text_2\">\r\n      <!-- 50 -->\r\n      <g transform=\"translate(115.206266 148.216562)scale(0.1 -0.1)\">\r\n       <defs>\r\n        <path d=\"M 31.78125 66.40625 \r\nQ 24.171875 66.40625 20.328125 58.90625 \r\nQ 16.5 51.421875 16.5 36.375 \r\nQ 16.5 21.390625 20.328125 13.890625 \r\nQ 24.171875 6.390625 31.78125 6.390625 \r\nQ 39.453125 6.390625 43.28125 13.890625 \r\nQ 47.125 21.390625 47.125 36.375 \r\nQ 47.125 51.421875 43.28125 58.90625 \r\nQ 39.453125 66.40625 31.78125 66.40625 \r\nz\r\nM 31.78125 74.21875 \r\nQ 44.046875 74.21875 50.515625 64.515625 \r\nQ 56.984375 54.828125 56.984375 36.375 \r\nQ 56.984375 17.96875 50.515625 8.265625 \r\nQ 44.046875 -1.421875 31.78125 -1.421875 \r\nQ 19.53125 -1.421875 13.0625 8.265625 \r\nQ 6.59375 17.96875 6.59375 36.375 \r\nQ 6.59375 54.828125 13.0625 64.515625 \r\nQ 19.53125 74.21875 31.78125 74.21875 \r\nz\r\n\" id=\"DejaVuSans-48\"/>\r\n       </defs>\r\n       <use xlink:href=\"#DejaVuSans-53\"/>\r\n       <use x=\"63.623047\" xlink:href=\"#DejaVuSans-48\"/>\r\n      </g>\r\n     </g>\r\n    </g>\r\n    <g id=\"xtick_3\">\r\n     <g id=\"line2d_3\">\r\n      <g>\r\n       <use style=\"stroke:#000000;stroke-width:0.8;\" x=\"168.234909\" xlink:href=\"#m440597ff7d\" y=\"133.618125\"/>\r\n      </g>\r\n     </g>\r\n     <g id=\"text_3\">\r\n      <!-- 75 -->\r\n      <g transform=\"translate(161.872409 148.216562)scale(0.1 -0.1)\">\r\n       <defs>\r\n        <path d=\"M 8.203125 72.90625 \r\nL 55.078125 72.90625 \r\nL 55.078125 68.703125 \r\nL 28.609375 0 \r\nL 18.3125 0 \r\nL 43.21875 64.59375 \r\nL 8.203125 64.59375 \r\nz\r\n\" id=\"DejaVuSans-55\"/>\r\n       </defs>\r\n       <use xlink:href=\"#DejaVuSans-55\"/>\r\n       <use x=\"63.623047\" xlink:href=\"#DejaVuSans-53\"/>\r\n      </g>\r\n     </g>\r\n    </g>\r\n    <g id=\"xtick_4\">\r\n     <g id=\"line2d_4\">\r\n      <g>\r\n       <use style=\"stroke:#000000;stroke-width:0.8;\" x=\"214.901052\" xlink:href=\"#m440597ff7d\" y=\"133.618125\"/>\r\n      </g>\r\n     </g>\r\n     <g id=\"text_4\">\r\n      <!-- 100 -->\r\n      <g transform=\"translate(205.357302 148.216562)scale(0.1 -0.1)\">\r\n       <defs>\r\n        <path d=\"M 12.40625 8.296875 \r\nL 28.515625 8.296875 \r\nL 28.515625 63.921875 \r\nL 10.984375 60.40625 \r\nL 10.984375 69.390625 \r\nL 28.421875 72.90625 \r\nL 38.28125 72.90625 \r\nL 38.28125 8.296875 \r\nL 54.390625 8.296875 \r\nL 54.390625 0 \r\nL 12.40625 0 \r\nz\r\n\" id=\"DejaVuSans-49\"/>\r\n       </defs>\r\n       <use xlink:href=\"#DejaVuSans-49\"/>\r\n       <use x=\"63.623047\" xlink:href=\"#DejaVuSans-48\"/>\r\n       <use x=\"127.246094\" xlink:href=\"#DejaVuSans-48\"/>\r\n      </g>\r\n     </g>\r\n    </g>\r\n    <g id=\"xtick_5\">\r\n     <g id=\"line2d_5\">\r\n      <g>\r\n       <use style=\"stroke:#000000;stroke-width:0.8;\" x=\"261.567195\" xlink:href=\"#m440597ff7d\" y=\"133.618125\"/>\r\n      </g>\r\n     </g>\r\n     <g id=\"text_5\">\r\n      <!-- 125 -->\r\n      <g transform=\"translate(252.023445 148.216562)scale(0.1 -0.1)\">\r\n       <use xlink:href=\"#DejaVuSans-49\"/>\r\n       <use x=\"63.623047\" xlink:href=\"#DejaVuSans-50\"/>\r\n       <use x=\"127.246094\" xlink:href=\"#DejaVuSans-53\"/>\r\n      </g>\r\n     </g>\r\n    </g>\r\n    <g id=\"xtick_6\">\r\n     <g id=\"line2d_6\">\r\n      <g>\r\n       <use style=\"stroke:#000000;stroke-width:0.8;\" x=\"308.233339\" xlink:href=\"#m440597ff7d\" y=\"133.618125\"/>\r\n      </g>\r\n     </g>\r\n     <g id=\"text_6\">\r\n      <!-- 150 -->\r\n      <g transform=\"translate(298.689589 148.216562)scale(0.1 -0.1)\">\r\n       <use xlink:href=\"#DejaVuSans-49\"/>\r\n       <use x=\"63.623047\" xlink:href=\"#DejaVuSans-53\"/>\r\n       <use x=\"127.246094\" xlink:href=\"#DejaVuSans-48\"/>\r\n      </g>\r\n     </g>\r\n    </g>\r\n    <g id=\"xtick_7\">\r\n     <g id=\"line2d_7\">\r\n      <g>\r\n       <use style=\"stroke:#000000;stroke-width:0.8;\" x=\"354.899482\" xlink:href=\"#m440597ff7d\" y=\"133.618125\"/>\r\n      </g>\r\n     </g>\r\n     <g id=\"text_7\">\r\n      <!-- 175 -->\r\n      <g transform=\"translate(345.355732 148.216562)scale(0.1 -0.1)\">\r\n       <use xlink:href=\"#DejaVuSans-49\"/>\r\n       <use x=\"63.623047\" xlink:href=\"#DejaVuSans-55\"/>\r\n       <use x=\"127.246094\" xlink:href=\"#DejaVuSans-53\"/>\r\n      </g>\r\n     </g>\r\n    </g>\r\n    <g id=\"xtick_8\">\r\n     <g id=\"line2d_8\">\r\n      <g>\r\n       <use style=\"stroke:#000000;stroke-width:0.8;\" x=\"401.565625\" xlink:href=\"#m440597ff7d\" y=\"133.618125\"/>\r\n      </g>\r\n     </g>\r\n     <g id=\"text_8\">\r\n      <!-- 200 -->\r\n      <g transform=\"translate(392.021875 148.216562)scale(0.1 -0.1)\">\r\n       <use xlink:href=\"#DejaVuSans-50\"/>\r\n       <use x=\"63.623047\" xlink:href=\"#DejaVuSans-48\"/>\r\n       <use x=\"127.246094\" xlink:href=\"#DejaVuSans-48\"/>\r\n      </g>\r\n     </g>\r\n    </g>\r\n   </g>\r\n   <g id=\"matplotlib.axis_2\">\r\n    <g id=\"ytick_1\">\r\n     <g id=\"line2d_9\">\r\n      <defs>\r\n       <path d=\"M 0 0 \r\nL -3.5 0 \r\n\" id=\"m8e312bb410\" style=\"stroke:#000000;stroke-width:0.8;\"/>\r\n      </defs>\r\n      <g>\r\n       <use style=\"stroke:#000000;stroke-width:0.8;\" x=\"30.103125\" xlink:href=\"#m8e312bb410\" y=\"133.618125\"/>\r\n      </g>\r\n     </g>\r\n     <g id=\"text_9\">\r\n      <!-- 0.0 -->\r\n      <g transform=\"translate(7.2 137.417344)scale(0.1 -0.1)\">\r\n       <defs>\r\n        <path d=\"M 10.6875 12.40625 \r\nL 21 12.40625 \r\nL 21 0 \r\nL 10.6875 0 \r\nz\r\n\" id=\"DejaVuSans-46\"/>\r\n       </defs>\r\n       <use xlink:href=\"#DejaVuSans-48\"/>\r\n       <use x=\"63.623047\" xlink:href=\"#DejaVuSans-46\"/>\r\n       <use x=\"95.410156\" xlink:href=\"#DejaVuSans-48\"/>\r\n      </g>\r\n     </g>\r\n    </g>\r\n    <g id=\"ytick_2\">\r\n     <g id=\"line2d_10\">\r\n      <g>\r\n       <use style=\"stroke:#000000;stroke-width:0.8;\" x=\"30.103125\" xlink:href=\"#m8e312bb410\" y=\"111.358125\"/>\r\n      </g>\r\n     </g>\r\n     <g id=\"text_10\">\r\n      <!-- 0.2 -->\r\n      <g transform=\"translate(7.2 115.157344)scale(0.1 -0.1)\">\r\n       <use xlink:href=\"#DejaVuSans-48\"/>\r\n       <use x=\"63.623047\" xlink:href=\"#DejaVuSans-46\"/>\r\n       <use x=\"95.410156\" xlink:href=\"#DejaVuSans-50\"/>\r\n      </g>\r\n     </g>\r\n    </g>\r\n    <g id=\"ytick_3\">\r\n     <g id=\"line2d_11\">\r\n      <g>\r\n       <use style=\"stroke:#000000;stroke-width:0.8;\" x=\"30.103125\" xlink:href=\"#m8e312bb410\" y=\"89.098125\"/>\r\n      </g>\r\n     </g>\r\n     <g id=\"text_11\">\r\n      <!-- 0.4 -->\r\n      <g transform=\"translate(7.2 92.897344)scale(0.1 -0.1)\">\r\n       <defs>\r\n        <path d=\"M 37.796875 64.3125 \r\nL 12.890625 25.390625 \r\nL 37.796875 25.390625 \r\nz\r\nM 35.203125 72.90625 \r\nL 47.609375 72.90625 \r\nL 47.609375 25.390625 \r\nL 58.015625 25.390625 \r\nL 58.015625 17.1875 \r\nL 47.609375 17.1875 \r\nL 47.609375 0 \r\nL 37.796875 0 \r\nL 37.796875 17.1875 \r\nL 4.890625 17.1875 \r\nL 4.890625 26.703125 \r\nz\r\n\" id=\"DejaVuSans-52\"/>\r\n       </defs>\r\n       <use xlink:href=\"#DejaVuSans-48\"/>\r\n       <use x=\"63.623047\" xlink:href=\"#DejaVuSans-46\"/>\r\n       <use x=\"95.410156\" xlink:href=\"#DejaVuSans-52\"/>\r\n      </g>\r\n     </g>\r\n    </g>\r\n    <g id=\"ytick_4\">\r\n     <g id=\"line2d_12\">\r\n      <g>\r\n       <use style=\"stroke:#000000;stroke-width:0.8;\" x=\"30.103125\" xlink:href=\"#m8e312bb410\" y=\"66.838125\"/>\r\n      </g>\r\n     </g>\r\n     <g id=\"text_12\">\r\n      <!-- 0.6 -->\r\n      <g transform=\"translate(7.2 70.637344)scale(0.1 -0.1)\">\r\n       <defs>\r\n        <path d=\"M 33.015625 40.375 \r\nQ 26.375 40.375 22.484375 35.828125 \r\nQ 18.609375 31.296875 18.609375 23.390625 \r\nQ 18.609375 15.53125 22.484375 10.953125 \r\nQ 26.375 6.390625 33.015625 6.390625 \r\nQ 39.65625 6.390625 43.53125 10.953125 \r\nQ 47.40625 15.53125 47.40625 23.390625 \r\nQ 47.40625 31.296875 43.53125 35.828125 \r\nQ 39.65625 40.375 33.015625 40.375 \r\nz\r\nM 52.59375 71.296875 \r\nL 52.59375 62.3125 \r\nQ 48.875 64.0625 45.09375 64.984375 \r\nQ 41.3125 65.921875 37.59375 65.921875 \r\nQ 27.828125 65.921875 22.671875 59.328125 \r\nQ 17.53125 52.734375 16.796875 39.40625 \r\nQ 19.671875 43.65625 24.015625 45.921875 \r\nQ 28.375 48.1875 33.59375 48.1875 \r\nQ 44.578125 48.1875 50.953125 41.515625 \r\nQ 57.328125 34.859375 57.328125 23.390625 \r\nQ 57.328125 12.15625 50.6875 5.359375 \r\nQ 44.046875 -1.421875 33.015625 -1.421875 \r\nQ 20.359375 -1.421875 13.671875 8.265625 \r\nQ 6.984375 17.96875 6.984375 36.375 \r\nQ 6.984375 53.65625 15.1875 63.9375 \r\nQ 23.390625 74.21875 37.203125 74.21875 \r\nQ 40.921875 74.21875 44.703125 73.484375 \r\nQ 48.484375 72.75 52.59375 71.296875 \r\nz\r\n\" id=\"DejaVuSans-54\"/>\r\n       </defs>\r\n       <use xlink:href=\"#DejaVuSans-48\"/>\r\n       <use x=\"63.623047\" xlink:href=\"#DejaVuSans-46\"/>\r\n       <use x=\"95.410156\" xlink:href=\"#DejaVuSans-54\"/>\r\n      </g>\r\n     </g>\r\n    </g>\r\n    <g id=\"ytick_5\">\r\n     <g id=\"line2d_13\">\r\n      <g>\r\n       <use style=\"stroke:#000000;stroke-width:0.8;\" x=\"30.103125\" xlink:href=\"#m8e312bb410\" y=\"44.578125\"/>\r\n      </g>\r\n     </g>\r\n     <g id=\"text_13\">\r\n      <!-- 0.8 -->\r\n      <g transform=\"translate(7.2 48.377344)scale(0.1 -0.1)\">\r\n       <defs>\r\n        <path d=\"M 31.78125 34.625 \r\nQ 24.75 34.625 20.71875 30.859375 \r\nQ 16.703125 27.09375 16.703125 20.515625 \r\nQ 16.703125 13.921875 20.71875 10.15625 \r\nQ 24.75 6.390625 31.78125 6.390625 \r\nQ 38.8125 6.390625 42.859375 10.171875 \r\nQ 46.921875 13.96875 46.921875 20.515625 \r\nQ 46.921875 27.09375 42.890625 30.859375 \r\nQ 38.875 34.625 31.78125 34.625 \r\nz\r\nM 21.921875 38.8125 \r\nQ 15.578125 40.375 12.03125 44.71875 \r\nQ 8.5 49.078125 8.5 55.328125 \r\nQ 8.5 64.0625 14.71875 69.140625 \r\nQ 20.953125 74.21875 31.78125 74.21875 \r\nQ 42.671875 74.21875 48.875 69.140625 \r\nQ 55.078125 64.0625 55.078125 55.328125 \r\nQ 55.078125 49.078125 51.53125 44.71875 \r\nQ 48 40.375 41.703125 38.8125 \r\nQ 48.828125 37.15625 52.796875 32.3125 \r\nQ 56.78125 27.484375 56.78125 20.515625 \r\nQ 56.78125 9.90625 50.3125 4.234375 \r\nQ 43.84375 -1.421875 31.78125 -1.421875 \r\nQ 19.734375 -1.421875 13.25 4.234375 \r\nQ 6.78125 9.90625 6.78125 20.515625 \r\nQ 6.78125 27.484375 10.78125 32.3125 \r\nQ 14.796875 37.15625 21.921875 38.8125 \r\nz\r\nM 18.3125 54.390625 \r\nQ 18.3125 48.734375 21.84375 45.5625 \r\nQ 25.390625 42.390625 31.78125 42.390625 \r\nQ 38.140625 42.390625 41.71875 45.5625 \r\nQ 45.3125 48.734375 45.3125 54.390625 \r\nQ 45.3125 60.0625 41.71875 63.234375 \r\nQ 38.140625 66.40625 31.78125 66.40625 \r\nQ 25.390625 66.40625 21.84375 63.234375 \r\nQ 18.3125 60.0625 18.3125 54.390625 \r\nz\r\n\" id=\"DejaVuSans-56\"/>\r\n       </defs>\r\n       <use xlink:href=\"#DejaVuSans-48\"/>\r\n       <use x=\"63.623047\" xlink:href=\"#DejaVuSans-46\"/>\r\n       <use x=\"95.410156\" xlink:href=\"#DejaVuSans-56\"/>\r\n      </g>\r\n     </g>\r\n    </g>\r\n    <g id=\"ytick_6\">\r\n     <g id=\"line2d_14\">\r\n      <g>\r\n       <use style=\"stroke:#000000;stroke-width:0.8;\" x=\"30.103125\" xlink:href=\"#m8e312bb410\" y=\"22.318125\"/>\r\n      </g>\r\n     </g>\r\n     <g id=\"text_14\">\r\n      <!-- 1.0 -->\r\n      <g transform=\"translate(7.2 26.117344)scale(0.1 -0.1)\">\r\n       <use xlink:href=\"#DejaVuSans-49\"/>\r\n       <use x=\"63.623047\" xlink:href=\"#DejaVuSans-46\"/>\r\n       <use x=\"95.410156\" xlink:href=\"#DejaVuSans-48\"/>\r\n      </g>\r\n     </g>\r\n    </g>\r\n   </g>\r\n   <g id=\"line2d_15\">\r\n    <path clip-path=\"url(#pe7f0dac7ea)\" d=\"M 30.103125 101.849713 \r\nL 31.969771 67.047811 \r\nL 33.836416 50.901497 \r\nL 35.703062 42.260648 \r\nL 37.569708 38.024694 \r\nL 39.436354 35.16263 \r\nL 41.302999 33.353965 \r\nL 43.169645 32.057092 \r\nL 46.902937 29.90806 \r\nL 48.769582 29.540364 \r\nL 50.636228 28.812426 \r\nL 52.502874 28.409949 \r\nL 54.369519 28.258398 \r\nL 56.236165 27.79381 \r\nL 58.102811 27.709339 \r\nL 59.969457 27.244751 \r\nL 73.035977 26.213712 \r\nL 76.769268 25.860923 \r\nL 78.635914 25.908127 \r\nL 82.369205 25.453476 \r\nL 84.235851 25.562791 \r\nL 86.102497 25.284535 \r\nL 87.969143 25.1305 \r\nL 89.835788 25.10814 \r\nL 93.56908 24.767773 \r\nL 97.302371 24.516846 \r\nL 99.169017 24.596348 \r\nL 101.035663 24.377718 \r\nL 106.6356 24.303185 \r\nL 112.235537 23.95288 \r\nL 114.102183 23.920583 \r\nL 115.968829 23.75661 \r\nL 127.168703 23.510652 \r\nL 129.035349 23.374008 \r\nL 130.901994 23.438603 \r\nL 155.168389 22.879606 \r\nL 160.768326 22.770291 \r\nL 239.167447 22.355391 \r\nL 250.367321 22.365329 \r\nL 255.967258 22.333032 \r\nL 267.167133 22.325578 \r\nL 295.166818 22.318125 \r\nL 401.565625 22.318125 \r\nL 401.565625 22.318125 \r\n\" style=\"fill:none;stroke:#ff0000;stroke-linecap:square;stroke-width:1.5;\"/>\r\n   </g>\r\n   <g id=\"line2d_16\">\r\n    <defs>\r\n     <path d=\"M -3 3 \r\nL 3 -3 \r\nM -3 -3 \r\nL 3 3 \r\n\" id=\"m8844499b46\" style=\"stroke:#1f77b4;\"/>\r\n    </defs>\r\n    <g clip-path=\"url(#pe7f0dac7ea)\">\r\n     <use style=\"fill:#1f77b4;stroke:#1f77b4;\" x=\"30.103125\" xlink:href=\"#m8844499b46\" y=\"104.518601\"/>\r\n     <use style=\"fill:#1f77b4;stroke:#1f77b4;\" x=\"31.969771\" xlink:href=\"#m8844499b46\" y=\"66.888601\"/>\r\n     <use style=\"fill:#1f77b4;stroke:#1f77b4;\" x=\"33.836416\" xlink:href=\"#m8844499b46\" y=\"48.565744\"/>\r\n     <use style=\"fill:#1f77b4;stroke:#1f77b4;\" x=\"35.703062\" xlink:href=\"#m8844499b46\" y=\"40.338125\"/>\r\n     <use style=\"fill:#1f77b4;stroke:#1f77b4;\" x=\"37.569708\" xlink:href=\"#m8844499b46\" y=\"36.400982\"/>\r\n     <use style=\"fill:#1f77b4;stroke:#1f77b4;\" x=\"39.436354\" xlink:href=\"#m8844499b46\" y=\"34.356696\"/>\r\n     <use style=\"fill:#1f77b4;stroke:#1f77b4;\" x=\"41.302999\" xlink:href=\"#m8844499b46\" y=\"32.59003\"/>\r\n     <use style=\"fill:#1f77b4;stroke:#1f77b4;\" x=\"43.169645\" xlink:href=\"#m8844499b46\" y=\"31.706696\"/>\r\n     <use style=\"fill:#1f77b4;stroke:#1f77b4;\" x=\"45.036291\" xlink:href=\"#m8844499b46\" y=\"30.343839\"/>\r\n     <use style=\"fill:#1f77b4;stroke:#1f77b4;\" x=\"46.902937\" xlink:href=\"#m8844499b46\" y=\"28.678125\"/>\r\n     <use style=\"fill:#1f77b4;stroke:#1f77b4;\" x=\"48.769582\" xlink:href=\"#m8844499b46\" y=\"28.47622\"/>\r\n     <use style=\"fill:#1f77b4;stroke:#1f77b4;\" x=\"50.636228\" xlink:href=\"#m8844499b46\" y=\"27.618125\"/>\r\n     <use style=\"fill:#1f77b4;stroke:#1f77b4;\" x=\"52.502874\" xlink:href=\"#m8844499b46\" y=\"26.961935\"/>\r\n     <use style=\"fill:#1f77b4;stroke:#1f77b4;\" x=\"54.369519\" xlink:href=\"#m8844499b46\" y=\"26.860982\"/>\r\n     <use style=\"fill:#1f77b4;stroke:#1f77b4;\" x=\"56.236165\" xlink:href=\"#m8844499b46\" y=\"26.179554\"/>\r\n     <use style=\"fill:#1f77b4;stroke:#1f77b4;\" x=\"58.102811\" xlink:href=\"#m8844499b46\" y=\"26.860982\"/>\r\n     <use style=\"fill:#1f77b4;stroke:#1f77b4;\" x=\"59.969457\" xlink:href=\"#m8844499b46\" y=\"26.305744\"/>\r\n     <use style=\"fill:#1f77b4;stroke:#1f77b4;\" x=\"61.836102\" xlink:href=\"#m8844499b46\" y=\"26.129077\"/>\r\n     <use style=\"fill:#1f77b4;stroke:#1f77b4;\" x=\"63.702748\" xlink:href=\"#m8844499b46\" y=\"26.053363\"/>\r\n     <use style=\"fill:#1f77b4;stroke:#1f77b4;\" x=\"65.569394\" xlink:href=\"#m8844499b46\" y=\"26.053363\"/>\r\n     <use style=\"fill:#1f77b4;stroke:#1f77b4;\" x=\"67.43604\" xlink:href=\"#m8844499b46\" y=\"25.927173\"/>\r\n     <use style=\"fill:#1f77b4;stroke:#1f77b4;\" x=\"69.302685\" xlink:href=\"#m8844499b46\" y=\"25.725268\"/>\r\n     <use style=\"fill:#1f77b4;stroke:#1f77b4;\" x=\"71.169331\" xlink:href=\"#m8844499b46\" y=\"25.851458\"/>\r\n     <use style=\"fill:#1f77b4;stroke:#1f77b4;\" x=\"73.035977\" xlink:href=\"#m8844499b46\" y=\"25.70003\"/>\r\n     <use style=\"fill:#1f77b4;stroke:#1f77b4;\" x=\"74.902622\" xlink:href=\"#m8844499b46\" y=\"25.725268\"/>\r\n     <use style=\"fill:#1f77b4;stroke:#1f77b4;\" x=\"76.769268\" xlink:href=\"#m8844499b46\" y=\"25.674791\"/>\r\n     <use style=\"fill:#1f77b4;stroke:#1f77b4;\" x=\"78.635914\" xlink:href=\"#m8844499b46\" y=\"25.82622\"/>\r\n     <use style=\"fill:#1f77b4;stroke:#1f77b4;\" x=\"80.50256\" xlink:href=\"#m8844499b46\" y=\"25.624315\"/>\r\n     <use style=\"fill:#1f77b4;stroke:#1f77b4;\" x=\"82.369205\" xlink:href=\"#m8844499b46\" y=\"25.674792\"/>\r\n     <use style=\"fill:#1f77b4;stroke:#1f77b4;\" x=\"84.235851\" xlink:href=\"#m8844499b46\" y=\"25.674792\"/>\r\n     <use style=\"fill:#1f77b4;stroke:#1f77b4;\" x=\"86.102497\" xlink:href=\"#m8844499b46\" y=\"25.397172\"/>\r\n     <use style=\"fill:#1f77b4;stroke:#1f77b4;\" x=\"87.969143\" xlink:href=\"#m8844499b46\" y=\"25.775744\"/>\r\n     <use style=\"fill:#1f77b4;stroke:#1f77b4;\" x=\"89.835788\" xlink:href=\"#m8844499b46\" y=\"25.498125\"/>\r\n     <use style=\"fill:#1f77b4;stroke:#1f77b4;\" x=\"91.702434\" xlink:href=\"#m8844499b46\" y=\"25.371935\"/>\r\n     <use style=\"fill:#1f77b4;stroke:#1f77b4;\" x=\"93.56908\" xlink:href=\"#m8844499b46\" y=\"25.195268\"/>\r\n     <use style=\"fill:#1f77b4;stroke:#1f77b4;\" x=\"95.435726\" xlink:href=\"#m8844499b46\" y=\"25.144792\"/>\r\n     <use style=\"fill:#1f77b4;stroke:#1f77b4;\" x=\"97.302371\" xlink:href=\"#m8844499b46\" y=\"25.472887\"/>\r\n     <use style=\"fill:#1f77b4;stroke:#1f77b4;\" x=\"99.169017\" xlink:href=\"#m8844499b46\" y=\"25.599077\"/>\r\n     <use style=\"fill:#1f77b4;stroke:#1f77b4;\" x=\"101.035663\" xlink:href=\"#m8844499b46\" y=\"25.397173\"/>\r\n     <use style=\"fill:#1f77b4;stroke:#1f77b4;\" x=\"102.902308\" xlink:href=\"#m8844499b46\" y=\"25.548601\"/>\r\n     <use style=\"fill:#1f77b4;stroke:#1f77b4;\" x=\"104.768954\" xlink:href=\"#m8844499b46\" y=\"25.346696\"/>\r\n     <use style=\"fill:#1f77b4;stroke:#1f77b4;\" x=\"106.6356\" xlink:href=\"#m8844499b46\" y=\"25.422411\"/>\r\n     <use style=\"fill:#1f77b4;stroke:#1f77b4;\" x=\"108.502246\" xlink:href=\"#m8844499b46\" y=\"25.220506\"/>\r\n     <use style=\"fill:#1f77b4;stroke:#1f77b4;\" x=\"110.368891\" xlink:href=\"#m8844499b46\" y=\"25.17003\"/>\r\n     <use style=\"fill:#1f77b4;stroke:#1f77b4;\" x=\"112.235537\" xlink:href=\"#m8844499b46\" y=\"25.371935\"/>\r\n     <use style=\"fill:#1f77b4;stroke:#1f77b4;\" x=\"114.102183\" xlink:href=\"#m8844499b46\" y=\"25.346696\"/>\r\n     <use style=\"fill:#1f77b4;stroke:#1f77b4;\" x=\"115.968829\" xlink:href=\"#m8844499b46\" y=\"25.346696\"/>\r\n     <use style=\"fill:#1f77b4;stroke:#1f77b4;\" x=\"117.835474\" xlink:href=\"#m8844499b46\" y=\"25.043839\"/>\r\n     <use style=\"fill:#1f77b4;stroke:#1f77b4;\" x=\"119.70212\" xlink:href=\"#m8844499b46\" y=\"25.144792\"/>\r\n     <use style=\"fill:#1f77b4;stroke:#1f77b4;\" x=\"121.568766\" xlink:href=\"#m8844499b46\" y=\"25.069077\"/>\r\n     <use style=\"fill:#1f77b4;stroke:#1f77b4;\" x=\"123.435411\" xlink:href=\"#m8844499b46\" y=\"25.094315\"/>\r\n     <use style=\"fill:#1f77b4;stroke:#1f77b4;\" x=\"125.302057\" xlink:href=\"#m8844499b46\" y=\"24.841935\"/>\r\n     <use style=\"fill:#1f77b4;stroke:#1f77b4;\" x=\"127.168703\" xlink:href=\"#m8844499b46\" y=\"25.422411\"/>\r\n     <use style=\"fill:#1f77b4;stroke:#1f77b4;\" x=\"129.035349\" xlink:href=\"#m8844499b46\" y=\"25.094315\"/>\r\n     <use style=\"fill:#1f77b4;stroke:#1f77b4;\" x=\"130.901994\" xlink:href=\"#m8844499b46\" y=\"25.29622\"/>\r\n     <use style=\"fill:#1f77b4;stroke:#1f77b4;\" x=\"132.76864\" xlink:href=\"#m8844499b46\" y=\"24.968125\"/>\r\n     <use style=\"fill:#1f77b4;stroke:#1f77b4;\" x=\"134.635286\" xlink:href=\"#m8844499b46\" y=\"24.993363\"/>\r\n     <use style=\"fill:#1f77b4;stroke:#1f77b4;\" x=\"136.501932\" xlink:href=\"#m8844499b46\" y=\"25.119554\"/>\r\n     <use style=\"fill:#1f77b4;stroke:#1f77b4;\" x=\"138.368577\" xlink:href=\"#m8844499b46\" y=\"25.043839\"/>\r\n     <use style=\"fill:#1f77b4;stroke:#1f77b4;\" x=\"140.235223\" xlink:href=\"#m8844499b46\" y=\"25.144792\"/>\r\n     <use style=\"fill:#1f77b4;stroke:#1f77b4;\" x=\"142.101869\" xlink:href=\"#m8844499b46\" y=\"24.942887\"/>\r\n     <use style=\"fill:#1f77b4;stroke:#1f77b4;\" x=\"143.968514\" xlink:href=\"#m8844499b46\" y=\"25.144792\"/>\r\n     <use style=\"fill:#1f77b4;stroke:#1f77b4;\" x=\"145.83516\" xlink:href=\"#m8844499b46\" y=\"25.043839\"/>\r\n     <use style=\"fill:#1f77b4;stroke:#1f77b4;\" x=\"147.701806\" xlink:href=\"#m8844499b46\" y=\"24.942887\"/>\r\n     <use style=\"fill:#1f77b4;stroke:#1f77b4;\" x=\"149.568452\" xlink:href=\"#m8844499b46\" y=\"25.043839\"/>\r\n     <use style=\"fill:#1f77b4;stroke:#1f77b4;\" x=\"151.435097\" xlink:href=\"#m8844499b46\" y=\"24.968125\"/>\r\n     <use style=\"fill:#1f77b4;stroke:#1f77b4;\" x=\"153.301743\" xlink:href=\"#m8844499b46\" y=\"24.968125\"/>\r\n     <use style=\"fill:#1f77b4;stroke:#1f77b4;\" x=\"155.168389\" xlink:href=\"#m8844499b46\" y=\"25.144792\"/>\r\n     <use style=\"fill:#1f77b4;stroke:#1f77b4;\" x=\"157.035035\" xlink:href=\"#m8844499b46\" y=\"25.144792\"/>\r\n     <use style=\"fill:#1f77b4;stroke:#1f77b4;\" x=\"158.90168\" xlink:href=\"#m8844499b46\" y=\"25.018601\"/>\r\n     <use style=\"fill:#1f77b4;stroke:#1f77b4;\" x=\"160.768326\" xlink:href=\"#m8844499b46\" y=\"24.816696\"/>\r\n     <use style=\"fill:#1f77b4;stroke:#1f77b4;\" x=\"162.634972\" xlink:href=\"#m8844499b46\" y=\"24.993363\"/>\r\n     <use style=\"fill:#1f77b4;stroke:#1f77b4;\" x=\"164.501617\" xlink:href=\"#m8844499b46\" y=\"24.892411\"/>\r\n     <use style=\"fill:#1f77b4;stroke:#1f77b4;\" x=\"166.368263\" xlink:href=\"#m8844499b46\" y=\"24.917649\"/>\r\n     <use style=\"fill:#1f77b4;stroke:#1f77b4;\" x=\"168.234909\" xlink:href=\"#m8844499b46\" y=\"25.094315\"/>\r\n     <use style=\"fill:#1f77b4;stroke:#1f77b4;\" x=\"170.101555\" xlink:href=\"#m8844499b46\" y=\"25.018601\"/>\r\n     <use style=\"fill:#1f77b4;stroke:#1f77b4;\" x=\"171.9682\" xlink:href=\"#m8844499b46\" y=\"25.119554\"/>\r\n     <use style=\"fill:#1f77b4;stroke:#1f77b4;\" x=\"173.834846\" xlink:href=\"#m8844499b46\" y=\"24.867173\"/>\r\n     <use style=\"fill:#1f77b4;stroke:#1f77b4;\" x=\"175.701492\" xlink:href=\"#m8844499b46\" y=\"25.119554\"/>\r\n     <use style=\"fill:#1f77b4;stroke:#1f77b4;\" x=\"177.568138\" xlink:href=\"#m8844499b46\" y=\"24.867173\"/>\r\n     <use style=\"fill:#1f77b4;stroke:#1f77b4;\" x=\"179.434783\" xlink:href=\"#m8844499b46\" y=\"25.144792\"/>\r\n     <use style=\"fill:#1f77b4;stroke:#1f77b4;\" x=\"181.301429\" xlink:href=\"#m8844499b46\" y=\"24.993363\"/>\r\n     <use style=\"fill:#1f77b4;stroke:#1f77b4;\" x=\"183.168075\" xlink:href=\"#m8844499b46\" y=\"25.043839\"/>\r\n     <use style=\"fill:#1f77b4;stroke:#1f77b4;\" x=\"185.03472\" xlink:href=\"#m8844499b46\" y=\"25.018601\"/>\r\n     <use style=\"fill:#1f77b4;stroke:#1f77b4;\" x=\"186.901366\" xlink:href=\"#m8844499b46\" y=\"25.018601\"/>\r\n     <use style=\"fill:#1f77b4;stroke:#1f77b4;\" x=\"188.768012\" xlink:href=\"#m8844499b46\" y=\"25.119554\"/>\r\n     <use style=\"fill:#1f77b4;stroke:#1f77b4;\" x=\"190.634658\" xlink:href=\"#m8844499b46\" y=\"24.993363\"/>\r\n     <use style=\"fill:#1f77b4;stroke:#1f77b4;\" x=\"192.501303\" xlink:href=\"#m8844499b46\" y=\"25.043839\"/>\r\n     <use style=\"fill:#1f77b4;stroke:#1f77b4;\" x=\"194.367949\" xlink:href=\"#m8844499b46\" y=\"24.867172\"/>\r\n     <use style=\"fill:#1f77b4;stroke:#1f77b4;\" x=\"196.234595\" xlink:href=\"#m8844499b46\" y=\"24.715744\"/>\r\n     <use style=\"fill:#1f77b4;stroke:#1f77b4;\" x=\"198.101241\" xlink:href=\"#m8844499b46\" y=\"24.917649\"/>\r\n     <use style=\"fill:#1f77b4;stroke:#1f77b4;\" x=\"199.967886\" xlink:href=\"#m8844499b46\" y=\"24.816696\"/>\r\n     <use style=\"fill:#1f77b4;stroke:#1f77b4;\" x=\"201.834532\" xlink:href=\"#m8844499b46\" y=\"25.119554\"/>\r\n     <use style=\"fill:#1f77b4;stroke:#1f77b4;\" x=\"203.701178\" xlink:href=\"#m8844499b46\" y=\"25.195268\"/>\r\n     <use style=\"fill:#1f77b4;stroke:#1f77b4;\" x=\"205.567823\" xlink:href=\"#m8844499b46\" y=\"24.917649\"/>\r\n     <use style=\"fill:#1f77b4;stroke:#1f77b4;\" x=\"207.434469\" xlink:href=\"#m8844499b46\" y=\"24.917649\"/>\r\n     <use style=\"fill:#1f77b4;stroke:#1f77b4;\" x=\"209.301115\" xlink:href=\"#m8844499b46\" y=\"25.018601\"/>\r\n     <use style=\"fill:#1f77b4;stroke:#1f77b4;\" x=\"211.167761\" xlink:href=\"#m8844499b46\" y=\"24.968125\"/>\r\n     <use style=\"fill:#1f77b4;stroke:#1f77b4;\" x=\"213.034406\" xlink:href=\"#m8844499b46\" y=\"24.841935\"/>\r\n     <use style=\"fill:#1f77b4;stroke:#1f77b4;\" x=\"214.901052\" xlink:href=\"#m8844499b46\" y=\"24.993363\"/>\r\n     <use style=\"fill:#1f77b4;stroke:#1f77b4;\" x=\"216.767698\" xlink:href=\"#m8844499b46\" y=\"24.816696\"/>\r\n     <use style=\"fill:#1f77b4;stroke:#1f77b4;\" x=\"218.634344\" xlink:href=\"#m8844499b46\" y=\"24.816696\"/>\r\n     <use style=\"fill:#1f77b4;stroke:#1f77b4;\" x=\"220.500989\" xlink:href=\"#m8844499b46\" y=\"24.816696\"/>\r\n     <use style=\"fill:#1f77b4;stroke:#1f77b4;\" x=\"222.367635\" xlink:href=\"#m8844499b46\" y=\"24.917649\"/>\r\n     <use style=\"fill:#1f77b4;stroke:#1f77b4;\" x=\"224.234281\" xlink:href=\"#m8844499b46\" y=\"25.119554\"/>\r\n     <use style=\"fill:#1f77b4;stroke:#1f77b4;\" x=\"226.100927\" xlink:href=\"#m8844499b46\" y=\"24.841935\"/>\r\n     <use style=\"fill:#1f77b4;stroke:#1f77b4;\" x=\"227.967572\" xlink:href=\"#m8844499b46\" y=\"24.942887\"/>\r\n     <use style=\"fill:#1f77b4;stroke:#1f77b4;\" x=\"229.834218\" xlink:href=\"#m8844499b46\" y=\"24.841935\"/>\r\n     <use style=\"fill:#1f77b4;stroke:#1f77b4;\" x=\"231.700864\" xlink:href=\"#m8844499b46\" y=\"24.791458\"/>\r\n     <use style=\"fill:#1f77b4;stroke:#1f77b4;\" x=\"233.567509\" xlink:href=\"#m8844499b46\" y=\"24.740982\"/>\r\n     <use style=\"fill:#1f77b4;stroke:#1f77b4;\" x=\"235.434155\" xlink:href=\"#m8844499b46\" y=\"24.993363\"/>\r\n     <use style=\"fill:#1f77b4;stroke:#1f77b4;\" x=\"237.300801\" xlink:href=\"#m8844499b46\" y=\"24.917649\"/>\r\n     <use style=\"fill:#1f77b4;stroke:#1f77b4;\" x=\"239.167447\" xlink:href=\"#m8844499b46\" y=\"25.220506\"/>\r\n     <use style=\"fill:#1f77b4;stroke:#1f77b4;\" x=\"241.034092\" xlink:href=\"#m8844499b46\" y=\"25.043839\"/>\r\n     <use style=\"fill:#1f77b4;stroke:#1f77b4;\" x=\"242.900738\" xlink:href=\"#m8844499b46\" y=\"25.018601\"/>\r\n     <use style=\"fill:#1f77b4;stroke:#1f77b4;\" x=\"244.767384\" xlink:href=\"#m8844499b46\" y=\"24.892411\"/>\r\n     <use style=\"fill:#1f77b4;stroke:#1f77b4;\" x=\"246.63403\" xlink:href=\"#m8844499b46\" y=\"24.993363\"/>\r\n     <use style=\"fill:#1f77b4;stroke:#1f77b4;\" x=\"248.500675\" xlink:href=\"#m8844499b46\" y=\"25.094315\"/>\r\n     <use style=\"fill:#1f77b4;stroke:#1f77b4;\" x=\"250.367321\" xlink:href=\"#m8844499b46\" y=\"25.119554\"/>\r\n     <use style=\"fill:#1f77b4;stroke:#1f77b4;\" x=\"252.233967\" xlink:href=\"#m8844499b46\" y=\"24.791458\"/>\r\n     <use style=\"fill:#1f77b4;stroke:#1f77b4;\" x=\"254.100612\" xlink:href=\"#m8844499b46\" y=\"24.841935\"/>\r\n     <use style=\"fill:#1f77b4;stroke:#1f77b4;\" x=\"255.967258\" xlink:href=\"#m8844499b46\" y=\"24.841935\"/>\r\n     <use style=\"fill:#1f77b4;stroke:#1f77b4;\" x=\"257.833904\" xlink:href=\"#m8844499b46\" y=\"25.094315\"/>\r\n     <use style=\"fill:#1f77b4;stroke:#1f77b4;\" x=\"259.70055\" xlink:href=\"#m8844499b46\" y=\"24.816696\"/>\r\n     <use style=\"fill:#1f77b4;stroke:#1f77b4;\" x=\"261.567195\" xlink:href=\"#m8844499b46\" y=\"25.018601\"/>\r\n     <use style=\"fill:#1f77b4;stroke:#1f77b4;\" x=\"263.433841\" xlink:href=\"#m8844499b46\" y=\"24.76622\"/>\r\n     <use style=\"fill:#1f77b4;stroke:#1f77b4;\" x=\"265.300487\" xlink:href=\"#m8844499b46\" y=\"24.917649\"/>\r\n     <use style=\"fill:#1f77b4;stroke:#1f77b4;\" x=\"267.167133\" xlink:href=\"#m8844499b46\" y=\"24.867173\"/>\r\n     <use style=\"fill:#1f77b4;stroke:#1f77b4;\" x=\"269.033778\" xlink:href=\"#m8844499b46\" y=\"24.917649\"/>\r\n     <use style=\"fill:#1f77b4;stroke:#1f77b4;\" x=\"270.900424\" xlink:href=\"#m8844499b46\" y=\"24.968125\"/>\r\n     <use style=\"fill:#1f77b4;stroke:#1f77b4;\" x=\"272.76707\" xlink:href=\"#m8844499b46\" y=\"24.942887\"/>\r\n     <use style=\"fill:#1f77b4;stroke:#1f77b4;\" x=\"274.633715\" xlink:href=\"#m8844499b46\" y=\"24.993363\"/>\r\n     <use style=\"fill:#1f77b4;stroke:#1f77b4;\" x=\"276.500361\" xlink:href=\"#m8844499b46\" y=\"25.043839\"/>\r\n     <use style=\"fill:#1f77b4;stroke:#1f77b4;\" x=\"278.367007\" xlink:href=\"#m8844499b46\" y=\"25.270982\"/>\r\n     <use style=\"fill:#1f77b4;stroke:#1f77b4;\" x=\"280.233653\" xlink:href=\"#m8844499b46\" y=\"24.892411\"/>\r\n     <use style=\"fill:#1f77b4;stroke:#1f77b4;\" x=\"282.100298\" xlink:href=\"#m8844499b46\" y=\"25.094316\"/>\r\n     <use style=\"fill:#1f77b4;stroke:#1f77b4;\" x=\"283.966944\" xlink:href=\"#m8844499b46\" y=\"24.690506\"/>\r\n     <use style=\"fill:#1f77b4;stroke:#1f77b4;\" x=\"285.83359\" xlink:href=\"#m8844499b46\" y=\"24.917649\"/>\r\n     <use style=\"fill:#1f77b4;stroke:#1f77b4;\" x=\"287.700236\" xlink:href=\"#m8844499b46\" y=\"24.715744\"/>\r\n     <use style=\"fill:#1f77b4;stroke:#1f77b4;\" x=\"289.566881\" xlink:href=\"#m8844499b46\" y=\"24.867173\"/>\r\n     <use style=\"fill:#1f77b4;stroke:#1f77b4;\" x=\"291.433527\" xlink:href=\"#m8844499b46\" y=\"25.144792\"/>\r\n     <use style=\"fill:#1f77b4;stroke:#1f77b4;\" x=\"293.300173\" xlink:href=\"#m8844499b46\" y=\"24.867173\"/>\r\n     <use style=\"fill:#1f77b4;stroke:#1f77b4;\" x=\"295.166818\" xlink:href=\"#m8844499b46\" y=\"24.942887\"/>\r\n     <use style=\"fill:#1f77b4;stroke:#1f77b4;\" x=\"297.033464\" xlink:href=\"#m8844499b46\" y=\"24.892411\"/>\r\n     <use style=\"fill:#1f77b4;stroke:#1f77b4;\" x=\"298.90011\" xlink:href=\"#m8844499b46\" y=\"24.993363\"/>\r\n     <use style=\"fill:#1f77b4;stroke:#1f77b4;\" x=\"300.766756\" xlink:href=\"#m8844499b46\" y=\"25.043839\"/>\r\n     <use style=\"fill:#1f77b4;stroke:#1f77b4;\" x=\"302.633401\" xlink:href=\"#m8844499b46\" y=\"24.841934\"/>\r\n     <use style=\"fill:#1f77b4;stroke:#1f77b4;\" x=\"304.500047\" xlink:href=\"#m8844499b46\" y=\"25.069077\"/>\r\n     <use style=\"fill:#1f77b4;stroke:#1f77b4;\" x=\"306.366693\" xlink:href=\"#m8844499b46\" y=\"24.892411\"/>\r\n     <use style=\"fill:#1f77b4;stroke:#1f77b4;\" x=\"308.233339\" xlink:href=\"#m8844499b46\" y=\"25.018601\"/>\r\n     <use style=\"fill:#1f77b4;stroke:#1f77b4;\" x=\"310.099984\" xlink:href=\"#m8844499b46\" y=\"24.76622\"/>\r\n     <use style=\"fill:#1f77b4;stroke:#1f77b4;\" x=\"311.96663\" xlink:href=\"#m8844499b46\" y=\"25.043839\"/>\r\n     <use style=\"fill:#1f77b4;stroke:#1f77b4;\" x=\"313.833276\" xlink:href=\"#m8844499b46\" y=\"24.816696\"/>\r\n     <use style=\"fill:#1f77b4;stroke:#1f77b4;\" x=\"315.699921\" xlink:href=\"#m8844499b46\" y=\"24.89241\"/>\r\n     <use style=\"fill:#1f77b4;stroke:#1f77b4;\" x=\"317.566567\" xlink:href=\"#m8844499b46\" y=\"24.89241\"/>\r\n     <use style=\"fill:#1f77b4;stroke:#1f77b4;\" x=\"319.433213\" xlink:href=\"#m8844499b46\" y=\"25.043839\"/>\r\n     <use style=\"fill:#1f77b4;stroke:#1f77b4;\" x=\"321.299859\" xlink:href=\"#m8844499b46\" y=\"24.841935\"/>\r\n     <use style=\"fill:#1f77b4;stroke:#1f77b4;\" x=\"323.166504\" xlink:href=\"#m8844499b46\" y=\"24.867172\"/>\r\n     <use style=\"fill:#1f77b4;stroke:#1f77b4;\" x=\"325.03315\" xlink:href=\"#m8844499b46\" y=\"24.942887\"/>\r\n     <use style=\"fill:#1f77b4;stroke:#1f77b4;\" x=\"326.899796\" xlink:href=\"#m8844499b46\" y=\"24.841934\"/>\r\n     <use style=\"fill:#1f77b4;stroke:#1f77b4;\" x=\"328.766442\" xlink:href=\"#m8844499b46\" y=\"24.791458\"/>\r\n     <use style=\"fill:#1f77b4;stroke:#1f77b4;\" x=\"330.633087\" xlink:href=\"#m8844499b46\" y=\"24.76622\"/>\r\n     <use style=\"fill:#1f77b4;stroke:#1f77b4;\" x=\"332.499733\" xlink:href=\"#m8844499b46\" y=\"24.665268\"/>\r\n     <use style=\"fill:#1f77b4;stroke:#1f77b4;\" x=\"334.366379\" xlink:href=\"#m8844499b46\" y=\"24.867173\"/>\r\n     <use style=\"fill:#1f77b4;stroke:#1f77b4;\" x=\"336.233024\" xlink:href=\"#m8844499b46\" y=\"24.791458\"/>\r\n     <use style=\"fill:#1f77b4;stroke:#1f77b4;\" x=\"338.09967\" xlink:href=\"#m8844499b46\" y=\"24.690506\"/>\r\n     <use style=\"fill:#1f77b4;stroke:#1f77b4;\" x=\"339.966316\" xlink:href=\"#m8844499b46\" y=\"24.715744\"/>\r\n     <use style=\"fill:#1f77b4;stroke:#1f77b4;\" x=\"341.832962\" xlink:href=\"#m8844499b46\" y=\"24.715744\"/>\r\n     <use style=\"fill:#1f77b4;stroke:#1f77b4;\" x=\"343.699607\" xlink:href=\"#m8844499b46\" y=\"24.64003\"/>\r\n     <use style=\"fill:#1f77b4;stroke:#1f77b4;\" x=\"345.566253\" xlink:href=\"#m8844499b46\" y=\"25.094315\"/>\r\n     <use style=\"fill:#1f77b4;stroke:#1f77b4;\" x=\"347.432899\" xlink:href=\"#m8844499b46\" y=\"24.64003\"/>\r\n     <use style=\"fill:#1f77b4;stroke:#1f77b4;\" x=\"349.299545\" xlink:href=\"#m8844499b46\" y=\"24.841935\"/>\r\n     <use style=\"fill:#1f77b4;stroke:#1f77b4;\" x=\"351.16619\" xlink:href=\"#m8844499b46\" y=\"24.791458\"/>\r\n     <use style=\"fill:#1f77b4;stroke:#1f77b4;\" x=\"353.032836\" xlink:href=\"#m8844499b46\" y=\"24.892411\"/>\r\n     <use style=\"fill:#1f77b4;stroke:#1f77b4;\" x=\"354.899482\" xlink:href=\"#m8844499b46\" y=\"24.76622\"/>\r\n     <use style=\"fill:#1f77b4;stroke:#1f77b4;\" x=\"356.766128\" xlink:href=\"#m8844499b46\" y=\"24.867173\"/>\r\n     <use style=\"fill:#1f77b4;stroke:#1f77b4;\" x=\"358.632773\" xlink:href=\"#m8844499b46\" y=\"24.76622\"/>\r\n     <use style=\"fill:#1f77b4;stroke:#1f77b4;\" x=\"360.499419\" xlink:href=\"#m8844499b46\" y=\"24.76622\"/>\r\n     <use style=\"fill:#1f77b4;stroke:#1f77b4;\" x=\"362.366065\" xlink:href=\"#m8844499b46\" y=\"24.791458\"/>\r\n     <use style=\"fill:#1f77b4;stroke:#1f77b4;\" x=\"364.23271\" xlink:href=\"#m8844499b46\" y=\"24.740982\"/>\r\n     <use style=\"fill:#1f77b4;stroke:#1f77b4;\" x=\"366.099356\" xlink:href=\"#m8844499b46\" y=\"24.791458\"/>\r\n     <use style=\"fill:#1f77b4;stroke:#1f77b4;\" x=\"367.966002\" xlink:href=\"#m8844499b46\" y=\"24.690506\"/>\r\n     <use style=\"fill:#1f77b4;stroke:#1f77b4;\" x=\"369.832648\" xlink:href=\"#m8844499b46\" y=\"24.614792\"/>\r\n     <use style=\"fill:#1f77b4;stroke:#1f77b4;\" x=\"371.699293\" xlink:href=\"#m8844499b46\" y=\"24.715744\"/>\r\n     <use style=\"fill:#1f77b4;stroke:#1f77b4;\" x=\"373.565939\" xlink:href=\"#m8844499b46\" y=\"24.816696\"/>\r\n     <use style=\"fill:#1f77b4;stroke:#1f77b4;\" x=\"375.432585\" xlink:href=\"#m8844499b46\" y=\"24.841934\"/>\r\n     <use style=\"fill:#1f77b4;stroke:#1f77b4;\" x=\"377.299231\" xlink:href=\"#m8844499b46\" y=\"24.740982\"/>\r\n     <use style=\"fill:#1f77b4;stroke:#1f77b4;\" x=\"379.165876\" xlink:href=\"#m8844499b46\" y=\"24.892411\"/>\r\n     <use style=\"fill:#1f77b4;stroke:#1f77b4;\" x=\"381.032522\" xlink:href=\"#m8844499b46\" y=\"25.119553\"/>\r\n     <use style=\"fill:#1f77b4;stroke:#1f77b4;\" x=\"382.899168\" xlink:href=\"#m8844499b46\" y=\"24.917649\"/>\r\n     <use style=\"fill:#1f77b4;stroke:#1f77b4;\" x=\"384.765813\" xlink:href=\"#m8844499b46\" y=\"24.690506\"/>\r\n     <use style=\"fill:#1f77b4;stroke:#1f77b4;\" x=\"386.632459\" xlink:href=\"#m8844499b46\" y=\"24.841935\"/>\r\n     <use style=\"fill:#1f77b4;stroke:#1f77b4;\" x=\"388.499105\" xlink:href=\"#m8844499b46\" y=\"24.816696\"/>\r\n     <use style=\"fill:#1f77b4;stroke:#1f77b4;\" x=\"390.365751\" xlink:href=\"#m8844499b46\" y=\"24.841935\"/>\r\n     <use style=\"fill:#1f77b4;stroke:#1f77b4;\" x=\"392.232396\" xlink:href=\"#m8844499b46\" y=\"24.892411\"/>\r\n     <use style=\"fill:#1f77b4;stroke:#1f77b4;\" x=\"394.099042\" xlink:href=\"#m8844499b46\" y=\"24.917649\"/>\r\n     <use style=\"fill:#1f77b4;stroke:#1f77b4;\" x=\"395.965688\" xlink:href=\"#m8844499b46\" y=\"24.513839\"/>\r\n     <use style=\"fill:#1f77b4;stroke:#1f77b4;\" x=\"397.832334\" xlink:href=\"#m8844499b46\" y=\"24.968125\"/>\r\n     <use style=\"fill:#1f77b4;stroke:#1f77b4;\" x=\"399.698979\" xlink:href=\"#m8844499b46\" y=\"24.892411\"/>\r\n     <use style=\"fill:#1f77b4;stroke:#1f77b4;\" x=\"401.565625\" xlink:href=\"#m8844499b46\" y=\"24.89241\"/>\r\n    </g>\r\n   </g>\r\n   <g id=\"patch_3\">\r\n    <path d=\"M 30.103125 133.618125 \r\nL 30.103125 22.318125 \r\n\" style=\"fill:none;stroke:#000000;stroke-linecap:square;stroke-linejoin:miter;stroke-width:0.8;\"/>\r\n   </g>\r\n   <g id=\"patch_4\">\r\n    <path d=\"M 401.565625 133.618125 \r\nL 401.565625 22.318125 \r\n\" style=\"fill:none;stroke:#000000;stroke-linecap:square;stroke-linejoin:miter;stroke-width:0.8;\"/>\r\n   </g>\r\n   <g id=\"patch_5\">\r\n    <path d=\"M 30.103125 133.618125 \r\nL 401.565625 133.618125 \r\n\" style=\"fill:none;stroke:#000000;stroke-linecap:square;stroke-linejoin:miter;stroke-width:0.8;\"/>\r\n   </g>\r\n   <g id=\"patch_6\">\r\n    <path d=\"M 30.103125 22.318125 \r\nL 401.565625 22.318125 \r\n\" style=\"fill:none;stroke:#000000;stroke-linecap:square;stroke-linejoin:miter;stroke-width:0.8;\"/>\r\n   </g>\r\n   <g id=\"text_15\">\r\n    <!-- Accuracy -->\r\n    <g transform=\"translate(188.440625 16.318125)scale(0.12 -0.12)\">\r\n     <defs>\r\n      <path d=\"M 34.1875 63.1875 \r\nL 20.796875 26.90625 \r\nL 47.609375 26.90625 \r\nz\r\nM 28.609375 72.90625 \r\nL 39.796875 72.90625 \r\nL 67.578125 0 \r\nL 57.328125 0 \r\nL 50.6875 18.703125 \r\nL 17.828125 18.703125 \r\nL 11.1875 0 \r\nL 0.78125 0 \r\nz\r\n\" id=\"DejaVuSans-65\"/>\r\n      <path d=\"M 48.78125 52.59375 \r\nL 48.78125 44.1875 \r\nQ 44.96875 46.296875 41.140625 47.34375 \r\nQ 37.3125 48.390625 33.40625 48.390625 \r\nQ 24.65625 48.390625 19.8125 42.84375 \r\nQ 14.984375 37.3125 14.984375 27.296875 \r\nQ 14.984375 17.28125 19.8125 11.734375 \r\nQ 24.65625 6.203125 33.40625 6.203125 \r\nQ 37.3125 6.203125 41.140625 7.25 \r\nQ 44.96875 8.296875 48.78125 10.40625 \r\nL 48.78125 2.09375 \r\nQ 45.015625 0.34375 40.984375 -0.53125 \r\nQ 36.96875 -1.421875 32.421875 -1.421875 \r\nQ 20.0625 -1.421875 12.78125 6.34375 \r\nQ 5.515625 14.109375 5.515625 27.296875 \r\nQ 5.515625 40.671875 12.859375 48.328125 \r\nQ 20.21875 56 33.015625 56 \r\nQ 37.15625 56 41.109375 55.140625 \r\nQ 45.0625 54.296875 48.78125 52.59375 \r\nz\r\n\" id=\"DejaVuSans-99\"/>\r\n      <path d=\"M 8.5 21.578125 \r\nL 8.5 54.6875 \r\nL 17.484375 54.6875 \r\nL 17.484375 21.921875 \r\nQ 17.484375 14.15625 20.5 10.265625 \r\nQ 23.53125 6.390625 29.59375 6.390625 \r\nQ 36.859375 6.390625 41.078125 11.03125 \r\nQ 45.3125 15.671875 45.3125 23.6875 \r\nL 45.3125 54.6875 \r\nL 54.296875 54.6875 \r\nL 54.296875 0 \r\nL 45.3125 0 \r\nL 45.3125 8.40625 \r\nQ 42.046875 3.421875 37.71875 1 \r\nQ 33.40625 -1.421875 27.6875 -1.421875 \r\nQ 18.265625 -1.421875 13.375 4.4375 \r\nQ 8.5 10.296875 8.5 21.578125 \r\nz\r\nM 31.109375 56 \r\nz\r\n\" id=\"DejaVuSans-117\"/>\r\n      <path d=\"M 41.109375 46.296875 \r\nQ 39.59375 47.171875 37.8125 47.578125 \r\nQ 36.03125 48 33.890625 48 \r\nQ 26.265625 48 22.1875 43.046875 \r\nQ 18.109375 38.09375 18.109375 28.8125 \r\nL 18.109375 0 \r\nL 9.078125 0 \r\nL 9.078125 54.6875 \r\nL 18.109375 54.6875 \r\nL 18.109375 46.1875 \r\nQ 20.953125 51.171875 25.484375 53.578125 \r\nQ 30.03125 56 36.53125 56 \r\nQ 37.453125 56 38.578125 55.875 \r\nQ 39.703125 55.765625 41.0625 55.515625 \r\nz\r\n\" id=\"DejaVuSans-114\"/>\r\n      <path d=\"M 34.28125 27.484375 \r\nQ 23.390625 27.484375 19.1875 25 \r\nQ 14.984375 22.515625 14.984375 16.5 \r\nQ 14.984375 11.71875 18.140625 8.90625 \r\nQ 21.296875 6.109375 26.703125 6.109375 \r\nQ 34.1875 6.109375 38.703125 11.40625 \r\nQ 43.21875 16.703125 43.21875 25.484375 \r\nL 43.21875 27.484375 \r\nz\r\nM 52.203125 31.203125 \r\nL 52.203125 0 \r\nL 43.21875 0 \r\nL 43.21875 8.296875 \r\nQ 40.140625 3.328125 35.546875 0.953125 \r\nQ 30.953125 -1.421875 24.3125 -1.421875 \r\nQ 15.921875 -1.421875 10.953125 3.296875 \r\nQ 6 8.015625 6 15.921875 \r\nQ 6 25.140625 12.171875 29.828125 \r\nQ 18.359375 34.515625 30.609375 34.515625 \r\nL 43.21875 34.515625 \r\nL 43.21875 35.40625 \r\nQ 43.21875 41.609375 39.140625 45 \r\nQ 35.0625 48.390625 27.6875 48.390625 \r\nQ 23 48.390625 18.546875 47.265625 \r\nQ 14.109375 46.140625 10.015625 43.890625 \r\nL 10.015625 52.203125 \r\nQ 14.9375 54.109375 19.578125 55.046875 \r\nQ 24.21875 56 28.609375 56 \r\nQ 40.484375 56 46.34375 49.84375 \r\nQ 52.203125 43.703125 52.203125 31.203125 \r\nz\r\n\" id=\"DejaVuSans-97\"/>\r\n      <path d=\"M 32.171875 -5.078125 \r\nQ 28.375 -14.84375 24.75 -17.8125 \r\nQ 21.140625 -20.796875 15.09375 -20.796875 \r\nL 7.90625 -20.796875 \r\nL 7.90625 -13.28125 \r\nL 13.1875 -13.28125 \r\nQ 16.890625 -13.28125 18.9375 -11.515625 \r\nQ 21 -9.765625 23.484375 -3.21875 \r\nL 25.09375 0.875 \r\nL 2.984375 54.6875 \r\nL 12.5 54.6875 \r\nL 29.59375 11.921875 \r\nL 46.6875 54.6875 \r\nL 56.203125 54.6875 \r\nz\r\n\" id=\"DejaVuSans-121\"/>\r\n     </defs>\r\n     <use xlink:href=\"#DejaVuSans-65\"/>\r\n     <use x=\"66.658203\" xlink:href=\"#DejaVuSans-99\"/>\r\n     <use x=\"121.638672\" xlink:href=\"#DejaVuSans-99\"/>\r\n     <use x=\"176.619141\" xlink:href=\"#DejaVuSans-117\"/>\r\n     <use x=\"239.998047\" xlink:href=\"#DejaVuSans-114\"/>\r\n     <use x=\"281.111328\" xlink:href=\"#DejaVuSans-97\"/>\r\n     <use x=\"342.390625\" xlink:href=\"#DejaVuSans-99\"/>\r\n     <use x=\"397.371094\" xlink:href=\"#DejaVuSans-121\"/>\r\n    </g>\r\n   </g>\r\n   <g id=\"legend_1\">\r\n    <g id=\"patch_7\">\r\n     <path d=\"M 264.35 128.618125 \r\nL 394.565625 128.618125 \r\nQ 396.565625 128.618125 396.565625 126.618125 \r\nL 396.565625 98.261875 \r\nQ 396.565625 96.261875 394.565625 96.261875 \r\nL 264.35 96.261875 \r\nQ 262.35 96.261875 262.35 98.261875 \r\nL 262.35 126.618125 \r\nQ 262.35 128.618125 264.35 128.618125 \r\nz\r\n\" style=\"fill:#ffffff;opacity:0.8;stroke:#cccccc;stroke-linejoin:miter;\"/>\r\n    </g>\r\n    <g id=\"line2d_17\">\r\n     <path d=\"M 266.35 104.360312 \r\nL 286.35 104.360312 \r\n\" style=\"fill:none;stroke:#ff0000;stroke-linecap:square;stroke-width:1.5;\"/>\r\n    </g>\r\n    <g id=\"line2d_18\"/>\r\n    <g id=\"text_16\">\r\n     <!-- Training Accuracy -->\r\n     <g transform=\"translate(294.35 107.860312)scale(0.1 -0.1)\">\r\n      <defs>\r\n       <path d=\"M -0.296875 72.90625 \r\nL 61.375 72.90625 \r\nL 61.375 64.59375 \r\nL 35.5 64.59375 \r\nL 35.5 0 \r\nL 25.59375 0 \r\nL 25.59375 64.59375 \r\nL -0.296875 64.59375 \r\nz\r\n\" id=\"DejaVuSans-84\"/>\r\n       <path d=\"M 9.421875 54.6875 \r\nL 18.40625 54.6875 \r\nL 18.40625 0 \r\nL 9.421875 0 \r\nz\r\nM 9.421875 75.984375 \r\nL 18.40625 75.984375 \r\nL 18.40625 64.59375 \r\nL 9.421875 64.59375 \r\nz\r\n\" id=\"DejaVuSans-105\"/>\r\n       <path d=\"M 54.890625 33.015625 \r\nL 54.890625 0 \r\nL 45.90625 0 \r\nL 45.90625 32.71875 \r\nQ 45.90625 40.484375 42.875 44.328125 \r\nQ 39.84375 48.1875 33.796875 48.1875 \r\nQ 26.515625 48.1875 22.3125 43.546875 \r\nQ 18.109375 38.921875 18.109375 30.90625 \r\nL 18.109375 0 \r\nL 9.078125 0 \r\nL 9.078125 54.6875 \r\nL 18.109375 54.6875 \r\nL 18.109375 46.1875 \r\nQ 21.34375 51.125 25.703125 53.5625 \r\nQ 30.078125 56 35.796875 56 \r\nQ 45.21875 56 50.046875 50.171875 \r\nQ 54.890625 44.34375 54.890625 33.015625 \r\nz\r\n\" id=\"DejaVuSans-110\"/>\r\n       <path d=\"M 45.40625 27.984375 \r\nQ 45.40625 37.75 41.375 43.109375 \r\nQ 37.359375 48.484375 30.078125 48.484375 \r\nQ 22.859375 48.484375 18.828125 43.109375 \r\nQ 14.796875 37.75 14.796875 27.984375 \r\nQ 14.796875 18.265625 18.828125 12.890625 \r\nQ 22.859375 7.515625 30.078125 7.515625 \r\nQ 37.359375 7.515625 41.375 12.890625 \r\nQ 45.40625 18.265625 45.40625 27.984375 \r\nz\r\nM 54.390625 6.78125 \r\nQ 54.390625 -7.171875 48.1875 -13.984375 \r\nQ 42 -20.796875 29.203125 -20.796875 \r\nQ 24.46875 -20.796875 20.265625 -20.09375 \r\nQ 16.0625 -19.390625 12.109375 -17.921875 \r\nL 12.109375 -9.1875 \r\nQ 16.0625 -11.328125 19.921875 -12.34375 \r\nQ 23.78125 -13.375 27.78125 -13.375 \r\nQ 36.625 -13.375 41.015625 -8.765625 \r\nQ 45.40625 -4.15625 45.40625 5.171875 \r\nL 45.40625 9.625 \r\nQ 42.625 4.78125 38.28125 2.390625 \r\nQ 33.9375 0 27.875 0 \r\nQ 17.828125 0 11.671875 7.65625 \r\nQ 5.515625 15.328125 5.515625 27.984375 \r\nQ 5.515625 40.671875 11.671875 48.328125 \r\nQ 17.828125 56 27.875 56 \r\nQ 33.9375 56 38.28125 53.609375 \r\nQ 42.625 51.21875 45.40625 46.390625 \r\nL 45.40625 54.6875 \r\nL 54.390625 54.6875 \r\nz\r\n\" id=\"DejaVuSans-103\"/>\r\n       <path id=\"DejaVuSans-32\"/>\r\n      </defs>\r\n      <use xlink:href=\"#DejaVuSans-84\"/>\r\n      <use x=\"46.333984\" xlink:href=\"#DejaVuSans-114\"/>\r\n      <use x=\"87.447266\" xlink:href=\"#DejaVuSans-97\"/>\r\n      <use x=\"148.726562\" xlink:href=\"#DejaVuSans-105\"/>\r\n      <use x=\"176.509766\" xlink:href=\"#DejaVuSans-110\"/>\r\n      <use x=\"239.888672\" xlink:href=\"#DejaVuSans-105\"/>\r\n      <use x=\"267.671875\" xlink:href=\"#DejaVuSans-110\"/>\r\n      <use x=\"331.050781\" xlink:href=\"#DejaVuSans-103\"/>\r\n      <use x=\"394.527344\" xlink:href=\"#DejaVuSans-32\"/>\r\n      <use x=\"426.314453\" xlink:href=\"#DejaVuSans-65\"/>\r\n      <use x=\"492.972656\" xlink:href=\"#DejaVuSans-99\"/>\r\n      <use x=\"547.953125\" xlink:href=\"#DejaVuSans-99\"/>\r\n      <use x=\"602.933594\" xlink:href=\"#DejaVuSans-117\"/>\r\n      <use x=\"666.3125\" xlink:href=\"#DejaVuSans-114\"/>\r\n      <use x=\"707.425781\" xlink:href=\"#DejaVuSans-97\"/>\r\n      <use x=\"768.705078\" xlink:href=\"#DejaVuSans-99\"/>\r\n      <use x=\"823.685547\" xlink:href=\"#DejaVuSans-121\"/>\r\n     </g>\r\n    </g>\r\n    <g id=\"line2d_19\"/>\r\n    <g id=\"line2d_20\">\r\n     <g>\r\n      <use style=\"fill:#1f77b4;stroke:#1f77b4;\" x=\"276.35\" xlink:href=\"#m8844499b46\" y=\"119.038437\"/>\r\n     </g>\r\n    </g>\r\n    <g id=\"text_17\">\r\n     <!-- Validation Accuracy -->\r\n     <g transform=\"translate(294.35 122.538437)scale(0.1 -0.1)\">\r\n      <defs>\r\n       <path d=\"M 28.609375 0 \r\nL 0.78125 72.90625 \r\nL 11.078125 72.90625 \r\nL 34.1875 11.53125 \r\nL 57.328125 72.90625 \r\nL 67.578125 72.90625 \r\nL 39.796875 0 \r\nz\r\n\" id=\"DejaVuSans-86\"/>\r\n       <path d=\"M 9.421875 75.984375 \r\nL 18.40625 75.984375 \r\nL 18.40625 0 \r\nL 9.421875 0 \r\nz\r\n\" id=\"DejaVuSans-108\"/>\r\n       <path d=\"M 45.40625 46.390625 \r\nL 45.40625 75.984375 \r\nL 54.390625 75.984375 \r\nL 54.390625 0 \r\nL 45.40625 0 \r\nL 45.40625 8.203125 \r\nQ 42.578125 3.328125 38.25 0.953125 \r\nQ 33.9375 -1.421875 27.875 -1.421875 \r\nQ 17.96875 -1.421875 11.734375 6.484375 \r\nQ 5.515625 14.40625 5.515625 27.296875 \r\nQ 5.515625 40.1875 11.734375 48.09375 \r\nQ 17.96875 56 27.875 56 \r\nQ 33.9375 56 38.25 53.625 \r\nQ 42.578125 51.265625 45.40625 46.390625 \r\nz\r\nM 14.796875 27.296875 \r\nQ 14.796875 17.390625 18.875 11.75 \r\nQ 22.953125 6.109375 30.078125 6.109375 \r\nQ 37.203125 6.109375 41.296875 11.75 \r\nQ 45.40625 17.390625 45.40625 27.296875 \r\nQ 45.40625 37.203125 41.296875 42.84375 \r\nQ 37.203125 48.484375 30.078125 48.484375 \r\nQ 22.953125 48.484375 18.875 42.84375 \r\nQ 14.796875 37.203125 14.796875 27.296875 \r\nz\r\n\" id=\"DejaVuSans-100\"/>\r\n       <path d=\"M 18.3125 70.21875 \r\nL 18.3125 54.6875 \r\nL 36.8125 54.6875 \r\nL 36.8125 47.703125 \r\nL 18.3125 47.703125 \r\nL 18.3125 18.015625 \r\nQ 18.3125 11.328125 20.140625 9.421875 \r\nQ 21.96875 7.515625 27.59375 7.515625 \r\nL 36.8125 7.515625 \r\nL 36.8125 0 \r\nL 27.59375 0 \r\nQ 17.1875 0 13.234375 3.875 \r\nQ 9.28125 7.765625 9.28125 18.015625 \r\nL 9.28125 47.703125 \r\nL 2.6875 47.703125 \r\nL 2.6875 54.6875 \r\nL 9.28125 54.6875 \r\nL 9.28125 70.21875 \r\nz\r\n\" id=\"DejaVuSans-116\"/>\r\n       <path d=\"M 30.609375 48.390625 \r\nQ 23.390625 48.390625 19.1875 42.75 \r\nQ 14.984375 37.109375 14.984375 27.296875 \r\nQ 14.984375 17.484375 19.15625 11.84375 \r\nQ 23.34375 6.203125 30.609375 6.203125 \r\nQ 37.796875 6.203125 41.984375 11.859375 \r\nQ 46.1875 17.53125 46.1875 27.296875 \r\nQ 46.1875 37.015625 41.984375 42.703125 \r\nQ 37.796875 48.390625 30.609375 48.390625 \r\nz\r\nM 30.609375 56 \r\nQ 42.328125 56 49.015625 48.375 \r\nQ 55.71875 40.765625 55.71875 27.296875 \r\nQ 55.71875 13.875 49.015625 6.21875 \r\nQ 42.328125 -1.421875 30.609375 -1.421875 \r\nQ 18.84375 -1.421875 12.171875 6.21875 \r\nQ 5.515625 13.875 5.515625 27.296875 \r\nQ 5.515625 40.765625 12.171875 48.375 \r\nQ 18.84375 56 30.609375 56 \r\nz\r\n\" id=\"DejaVuSans-111\"/>\r\n      </defs>\r\n      <use xlink:href=\"#DejaVuSans-86\"/>\r\n      <use x=\"60.658203\" xlink:href=\"#DejaVuSans-97\"/>\r\n      <use x=\"121.9375\" xlink:href=\"#DejaVuSans-108\"/>\r\n      <use x=\"149.720703\" xlink:href=\"#DejaVuSans-105\"/>\r\n      <use x=\"177.503906\" xlink:href=\"#DejaVuSans-100\"/>\r\n      <use x=\"240.980469\" xlink:href=\"#DejaVuSans-97\"/>\r\n      <use x=\"302.259766\" xlink:href=\"#DejaVuSans-116\"/>\r\n      <use x=\"341.46875\" xlink:href=\"#DejaVuSans-105\"/>\r\n      <use x=\"369.251953\" xlink:href=\"#DejaVuSans-111\"/>\r\n      <use x=\"430.433594\" xlink:href=\"#DejaVuSans-110\"/>\r\n      <use x=\"493.8125\" xlink:href=\"#DejaVuSans-32\"/>\r\n      <use x=\"525.599609\" xlink:href=\"#DejaVuSans-65\"/>\r\n      <use x=\"592.257812\" xlink:href=\"#DejaVuSans-99\"/>\r\n      <use x=\"647.238281\" xlink:href=\"#DejaVuSans-99\"/>\r\n      <use x=\"702.21875\" xlink:href=\"#DejaVuSans-117\"/>\r\n      <use x=\"765.597656\" xlink:href=\"#DejaVuSans-114\"/>\r\n      <use x=\"806.710938\" xlink:href=\"#DejaVuSans-97\"/>\r\n      <use x=\"867.990234\" xlink:href=\"#DejaVuSans-99\"/>\r\n      <use x=\"922.970703\" xlink:href=\"#DejaVuSans-121\"/>\r\n     </g>\r\n    </g>\r\n   </g>\r\n  </g>\r\n </g>\r\n <defs>\r\n  <clipPath id=\"pe7f0dac7ea\">\r\n   <rect height=\"111.3\" width=\"371.4625\" x=\"30.103125\" y=\"22.318125\"/>\r\n  </clipPath>\r\n </defs>\r\n</svg>\r\n",
      "image/png": "[encoded data removed]"
     },
     "metadata": {
      "needs_background": "light"
     }
    }
   ],
   "source": [
    "model_d.plot_performance()"
   ]
  },
  {
   "cell_type": "markdown",
   "metadata": {},
   "source": [
    "## Testing the Model\n",
    "The model with the best performance (accuracy and overfitting) is used to perform the test against the test set.\n",
    "\n",
    "_**Model D** is selected as the model with the best performance._"
   ]
  },
  {
   "cell_type": "code",
   "execution_count": 57,
   "metadata": {},
   "outputs": [
    {
     "output_type": "stream",
     "name": "stdout",
     "text": [
      "INFO:tensorflow:Restoring parameters from ./models/lenet3x3_test\n"
     ]
    },
    {
     "output_type": "execute_result",
     "data": {
      "text/plain": [
       "(0.14915418589247284, 0.9722090269305455)"
      ]
     },
     "metadata": {},
     "execution_count": 57
    }
   ],
   "source": [
    "model_d.run_eval(X_test_modified, y_test)"
   ]
  },
  {
   "cell_type": "markdown",
   "metadata": {},
   "source": [
    "Model D performance on the training set:\n",
    "\n",
    "- **Loss:** 0.1492\n",
    "\n",
    "- **Accuracy**: 97.22%\n",
    "\n",
    "The accuracy of this model is 4.22% above the 93% required for this project, and approximately 0.48% below the validation test accuracy. Thus the model will be accepted as the final model."
   ]
  },
  {
   "cell_type": "markdown",
   "metadata": {},
   "source": []
  },
  {
   "cell_type": "markdown",
   "metadata": {},
   "source": [
    "---\n",
    "\n",
    "## Step 3: Test a Model on New Images\n",
    "\n",
    "To give yourself more insight into how your model is working, download at least five pictures of German traffic signs from the web and use your model to predict the traffic sign type.\n",
    "\n",
    "You may find `signnames.csv` useful as it contains mappings from the class id (integer) to the actual sign name."
   ]
  },
  {
   "cell_type": "markdown",
   "metadata": {},
   "source": [
    "### Load and Output the Images"
   ]
  },
  {
   "cell_type": "code",
   "execution_count": 46,
   "metadata": {},
   "outputs": [],
   "source": [
    "import matplotlib.image as mpimg\n",
    "import glob"
   ]
  },
  {
   "cell_type": "code",
   "execution_count": 22,
   "metadata": {
    "collapsed": true
   },
   "outputs": [],
   "source": [
    "### Load the images and plot them here.\n",
    "### Feel free to use as many code cells as needed."
   ]
  },
  {
   "cell_type": "code",
   "execution_count": 50,
   "metadata": {},
   "outputs": [],
   "source": [
    "images = glob.glob('data/extra_images/*.jpg')"
   ]
  },
  {
   "cell_type": "code",
   "execution_count": 51,
   "metadata": {},
   "outputs": [
    {
     "output_type": "execute_result",
     "data": {
      "text/plain": [
       "['data/extra_images\\\\100kmh.jpg',\n",
       " 'data/extra_images\\\\30kmh.jpg',\n",
       " 'data/extra_images\\\\50kmh.jpg',\n",
       " 'data/extra_images\\\\children_crossing.jpg',\n",
       " 'data/extra_images\\\\dangerous_curve_to_right.jpg',\n",
       " 'data/extra_images\\\\slippery_road.jpg']"
      ]
     },
     "metadata": {},
     "execution_count": 51
    }
   ],
   "source": [
    "images"
   ]
  },
  {
   "cell_type": "code",
   "execution_count": 91,
   "metadata": {},
   "outputs": [],
   "source": [
    "# Corresponding labels\n",
    "y_extra = np.array([7, 1, 2, 28, 20, 23])"
   ]
  },
  {
   "cell_type": "code",
   "execution_count": 52,
   "metadata": {},
   "outputs": [],
   "source": [
    "extra_images = []\n",
    "for image in images:\n",
    "    img = mpimg.imread(image)\n",
    "    extra_images.append(img)\n",
    "extra_images = np.array(extra_images)"
   ]
  },
  {
   "cell_type": "code",
   "execution_count": 53,
   "metadata": {},
   "outputs": [],
   "source": [
    "extra_images_modified = extra_images.copy()"
   ]
  },
  {
   "cell_type": "code",
   "execution_count": 54,
   "metadata": {},
   "outputs": [],
   "source": [
    "extra_images_modified = preprocess_images(extra_images_modified)"
   ]
  },
  {
   "cell_type": "markdown",
   "metadata": {},
   "source": [
    "### Predict the Sign Type for Each Image"
   ]
  },
  {
   "cell_type": "code",
   "execution_count": 68,
   "metadata": {
    "collapsed": true
   },
   "outputs": [
    {
     "output_type": "stream",
     "name": "stdout",
     "text": [
      "INFO:tensorflow:Restoring parameters from ./models/lenet3x3_test\n"
     ]
    }
   ],
   "source": [
    "### Run the predictions here and use the model to output the prediction for each image.\n",
    "### Make sure to pre-process the images with the same pre-processing pipeline used earlier.\n",
    "### Feel free to use as many code cells as needed.\n",
    "logits = model_d.run(extra_images_modified)"
   ]
  },
  {
   "cell_type": "code",
   "execution_count": 242,
   "metadata": {},
   "outputs": [
    {
     "output_type": "stream",
     "name": "stdout",
     "text": [
      "INFO:tensorflow:Restoring parameters from ./models/lenet3x3_test\n"
     ]
    }
   ],
   "source": [
    "tf.reset_default_graph()\n",
    "saver = tf.train.import_meta_graph('./models/lenet3x3_test.meta')\n",
    "with tf.Session() as sess:\n",
    "    saver.restore(sess, './models/lenet3x3_test')\n",
    "    graph = tf.get_default_graph()\n",
    "    with graph.name_scope('3x3_test') as scope:\n",
    "        x = graph.get_tensor_by_name(scope+'x:0')\n",
    "        op = graph.get_tensor_by_name(scope+'logits:0')\n",
    "        logits = sess.run(op, feed_dict={x:[extra_images_modified[2]]})"
   ]
  },
  {
   "cell_type": "code",
   "execution_count": 93,
   "metadata": {},
   "outputs": [],
   "source": [
    "# with tf.Session() as sess:  \n",
    "#     print(tf.argmax(logits[0], 1).eval(session=sess)) \n",
    "#     print(tf.argmax(logits, 1).eval(session=sess).shape) \n",
    "    # one_hot_y = tf.one_hot(y_train, 43)\n",
    "    # print(tf.argmax(one_hot_y,1).eval(session=sess).shape)"
   ]
  },
  {
   "source": [
    "#### Predictions on a Separate Dataset"
   ],
   "cell_type": "markdown",
   "metadata": {}
  },
  {
   "cell_type": "code",
   "execution_count": 105,
   "metadata": {},
   "outputs": [
    {
     "output_type": "stream",
     "name": "stdout",
     "text": [
      "Correct: [ 1 20 23]\nIncorrect:[ 7  2 28]\n"
     ]
    }
   ],
   "source": [
    "correct = y_extra[(np.argmax(logits[0],1) == y_extra)]\n",
    "incorrect = y_extra[(np.argmax(logits[0],1) != y_extra)]\n",
    "print('Correct: {}\\nIncorrect:{}'.format(correct, incorrect))"
   ]
  },
  {
   "cell_type": "code",
   "execution_count": 92,
   "metadata": {},
   "outputs": [
    {
     "output_type": "stream",
     "name": "stdout",
     "text": [
      "INFO:tensorflow:Restoring parameters from ./models/lenet3x3_test\n"
     ]
    },
    {
     "output_type": "execute_result",
     "data": {
      "text/plain": [
       "(3.0657906532287598, 0.5)"
      ]
     },
     "metadata": {},
     "execution_count": 92
    }
   ],
   "source": [
    "model_d.run_eval(extra_images_modified, y_extra)"
   ]
  },
  {
   "source": [
    "The performance of the model on the new dataset is rather low - at 50% prediction accuracy. However, it is noted that the model **did not predict the correct sign** for:\n",
    "\n",
    "| Index       | Description |\n",
    "| ----------- | ----------- |\n",
    "| 2           | Speed limit (50km/h)  |\n",
    "| 7           | Speed limit (100km/h) |\n",
    "| 28          | Children crossing     |\n",
    "\n",
    "\n",
    "Furthermore, it predicted the **correct** signs for:\n",
    "\n",
    "| Index       | Description |\n",
    "| ----------- | ----------- |\n",
    "| 1           | Speed limit (30km/h)          |\n",
    "| 20          | Dangerous curve to the right) |\n",
    "| 23          | Slippery road                 |\n",
    "\n",
    "It is noted that the distribution of the dataset did not appear to affect the model's accuracy, since presence for the signs in both correctly and incorrectly predicted results are about the same.\n",
    "\n",
    "However, the images themselves may be the reason for incorrect predictions, since the crop of the image is notably different for the index 1 (half-cropped sign) and index 7 (wide crop, where sign is only a small part of the frame). Since the training datset mostly has well-cropped images, the model seems to display weakness when subjected to different crops. It may be useful to augment the images to produce more obscure crops, and train the model on that as well.\n"
   ],
   "cell_type": "markdown",
   "metadata": {}
  },
  {
   "cell_type": "markdown",
   "metadata": {},
   "source": [
    "### Analyze Performance"
   ]
  },
  {
   "cell_type": "code",
   "execution_count": null,
   "metadata": {
    "collapsed": true
   },
   "outputs": [],
   "source": [
    "### Calculate the accuracy for these 5 new images. \n",
    "### For example, if the model predicted 1 out of 5 signs correctly, it's 20% accurate on these new images."
   ]
  },
  {
   "cell_type": "markdown",
   "metadata": {},
   "source": [
    "### Output Top 5 Softmax Probabilities For Each Image Found on the Web"
   ]
  },
  {
   "cell_type": "markdown",
   "metadata": {},
   "source": [
    "For each of the new images, print out the model's softmax probabilities to show the **certainty** of the model's predictions (limit the output to the top 5 probabilities for each image). [`tf.nn.top_k`](https://www.tensorflow.org/versions/r0.12/api_docs/python/nn.html#top_k) could prove helpful here. \n",
    "\n",
    "The example below demonstrates how tf.nn.top_k can be used to find the top k predictions for each image.\n",
    "\n",
    "`tf.nn.top_k` will return the values and indices (class ids) of the top k predictions. So if k=3, for each sign, it'll return the 3 largest probabilities (out of a possible 43) and the correspoding class ids.\n",
    "\n",
    "Take this numpy array as an example. The values in the array represent predictions. The array contains softmax probabilities for five candidate images with six possible classes. `tf.nn.top_k` is used to choose the three classes with the highest probability:\n",
    "\n",
    "```\n",
    "# (5, 6) array\n",
    "a = np.array([[ 0.24879643,  0.07032244,  0.12641572,  0.34763842,  0.07893497,\n",
    "         0.12789202],\n",
    "       [ 0.28086119,  0.27569815,  0.08594638,  0.0178669 ,  0.18063401,\n",
    "         0.15899337],\n",
    "       [ 0.26076848,  0.23664738,  0.08020603,  0.07001922,  0.1134371 ,\n",
    "         0.23892179],\n",
    "       [ 0.11943333,  0.29198961,  0.02605103,  0.26234032,  0.1351348 ,\n",
    "         0.16505091],\n",
    "       [ 0.09561176,  0.34396535,  0.0643941 ,  0.16240774,  0.24206137,\n",
    "         0.09155967]])\n",
    "```\n",
    "\n",
    "Running it through `sess.run(tf.nn.top_k(tf.constant(a), k=3))` produces:\n",
    "\n",
    "```\n",
    "TopKV2(values=array([[ 0.34763842,  0.24879643,  0.12789202],\n",
    "       [ 0.28086119,  0.27569815,  0.18063401],\n",
    "       [ 0.26076848,  0.23892179,  0.23664738],\n",
    "       [ 0.29198961,  0.26234032,  0.16505091],\n",
    "       [ 0.34396535,  0.24206137,  0.16240774]]), indices=array([[3, 0, 5],\n",
    "       [0, 1, 4],\n",
    "       [0, 5, 1],\n",
    "       [1, 3, 5],\n",
    "       [1, 4, 3]], dtype=int32))\n",
    "```\n",
    "\n",
    "Looking just at the first row we get `[ 0.34763842,  0.24879643,  0.12789202]`, you can confirm these are the 3 largest probabilities in `a`. You'll also notice `[3, 0, 5]` are the corresponding indices."
   ]
  },
  {
   "cell_type": "code",
   "execution_count": null,
   "metadata": {
    "collapsed": true
   },
   "outputs": [],
   "source": [
    "### Print out the top five softmax probabilities for the predictions on the German traffic sign images found on the web. \n",
    "### Feel free to use as many code cells as needed."
   ]
  },
  {
   "cell_type": "markdown",
   "metadata": {},
   "source": [
    "### Project Writeup\n",
    "\n",
    "Once you have completed the code implementation, document your results in a project writeup using this [template](https://github.com/udacity/CarND-Traffic-Sign-Classifier-Project/blob/master/writeup_template.md) as a guide. The writeup can be in a markdown or pdf file. "
   ]
  },
  {
   "cell_type": "markdown",
   "metadata": {},
   "source": [
    "> **Note**: Once you have completed all of the code implementations and successfully answered each question above, you may finalize your work by exporting the iPython Notebook as an HTML document. You can do this by using the menu above and navigating to  \\n\",\n",
    "    \"**File -> Download as -> HTML (.html)**. Include the finished document along with this notebook as your submission."
   ]
  },
  {
   "cell_type": "markdown",
   "metadata": {},
   "source": [
    "---\n",
    "\n",
    "## Step 4 (Optional): Visualize the Neural Network's State with Test Images\n",
    "\n",
    " This Section is not required to complete but acts as an additional excersise for understaning the output of a neural network's weights. While neural networks can be a great learning device they are often referred to as a black box. We can understand what the weights of a neural network look like better by plotting their feature maps. After successfully training your neural network you can see what it's feature maps look like by plotting the output of the network's weight layers in response to a test stimuli image. From these plotted feature maps, it's possible to see what characteristics of an image the network finds interesting. For a sign, maybe the inner network feature maps react with high activation to the sign's boundary outline or to the contrast in the sign's painted symbol.\n",
    "\n",
    " Provided for you below is the function code that allows you to get the visualization output of any tensorflow weight layer you want. The inputs to the function should be a stimuli image, one used during training or a new one you provided, and then the tensorflow variable name that represents the layer's state during the training process, for instance if you wanted to see what the [LeNet lab's](https://classroom.udacity.com/nanodegrees/nd013/parts/fbf77062-5703-404e-b60c-95b78b2f3f9e/modules/6df7ae49-c61c-4bb2-a23e-6527e69209ec/lessons/601ae704-1035-4287-8b11-e2c2716217ad/concepts/d4aca031-508f-4e0b-b493-e7b706120f81) feature maps looked like for it's second convolutional layer you could enter conv2 as the tf_activation variable.\n",
    "\n",
    "For an example of what feature map outputs look like, check out NVIDIA's results in their paper [End-to-End Deep Learning for Self-Driving Cars](https://devblogs.nvidia.com/parallelforall/deep-learning-self-driving-cars/) in the section Visualization of internal CNN State. NVIDIA was able to show that their network's inner weights had high activations to road boundary lines by comparing feature maps from an image with a clear path to one without. Try experimenting with a similar test to show that your trained network's weights are looking for interesting features, whether it's looking at differences in feature maps from images with or without a sign, or even what feature maps look like in a trained network vs a completely untrained one on the same sign image.\n",
    "\n",
    "<figure>\n",
    " <img src=\"visualize_cnn.png\" width=\"380\" alt=\"Combined Image\" />\n",
    " <figcaption>\n",
    " <p></p> \n",
    " <p style=\"text-align: center;\"> Your output should look something like this (above)</p> \n",
    " </figcaption>\n",
    "</figure>\n",
    " <p></p> \n"
   ]
  },
  {
   "cell_type": "code",
   "execution_count": null,
   "metadata": {
    "collapsed": true
   },
   "outputs": [],
   "source": [
    "### Visualize your network's feature maps here.\n",
    "### Feel free to use as many code cells as needed.\n",
    "\n",
    "# image_input: the test image being fed into the network to produce the feature maps\n",
    "# tf_activation: should be a tf variable name used during your training procedure that represents the calculated state of a specific weight layer\n",
    "# activation_min/max: can be used to view the activation contrast in more detail, by default matplot sets min and max to the actual min and max values of the output\n",
    "# plt_num: used to plot out multiple different weight feature map sets on the same block, just extend the plt number for each new feature map entry\n",
    "\n",
    "def outputFeatureMap(image_input, tf_activation, activation_min=-1, activation_max=-1 ,plt_num=1):\n",
    "    # Here make sure to preprocess your image_input in a way your network expects\n",
    "    # with size, normalization, ect if needed\n",
    "    # image_input =\n",
    "    # Note: x should be the same name as your network's tensorflow data placeholder variable\n",
    "    # If you get an error tf_activation is not defined it may be having trouble accessing the variable from inside a function\n",
    "    activation = tf_activation.eval(session=sess,feed_dict={x : image_input})\n",
    "    featuremaps = activation.shape[3]\n",
    "    plt.figure(plt_num, figsize=(15,15))\n",
    "    for featuremap in range(featuremaps):\n",
    "        plt.subplot(6,8, featuremap+1) # sets the number of feature maps to show on each row and column\n",
    "        plt.title('FeatureMap ' + str(featuremap)) # displays the feature map number\n",
    "        if activation_min != -1 & activation_max != -1:\n",
    "            plt.imshow(activation[0,:,:, featuremap], interpolation=\"nearest\", vmin =activation_min, vmax=activation_max, cmap=\"gray\")\n",
    "        elif activation_max != -1:\n",
    "            plt.imshow(activation[0,:,:, featuremap], interpolation=\"nearest\", vmax=activation_max, cmap=\"gray\")\n",
    "        elif activation_min !=-1:\n",
    "            plt.imshow(activation[0,:,:, featuremap], interpolation=\"nearest\", vmin=activation_min, cmap=\"gray\")\n",
    "        else:\n",
    "            plt.imshow(activation[0,:,:, featuremap], interpolation=\"nearest\", cmap=\"gray\")"
   ]
  }
 ],
 "metadata": {
  "anaconda-cloud": {},
  "kernelspec": {
   "display_name": "Python 3",
   "language": "python",
   "name": "python3"
  },
  "language_info": {
   "codemirror_mode": {
    "name": "ipython",
    "version": 3
   },
   "file_extension": ".py",
   "mimetype": "text/x-python",
   "name": "python",
   "nbconvert_exporter": "python",
   "pygments_lexer": "ipython3",
   "version": "3.7.0-final"
  }
 },
 "nbformat": 4,
 "nbformat_minor": 1
}